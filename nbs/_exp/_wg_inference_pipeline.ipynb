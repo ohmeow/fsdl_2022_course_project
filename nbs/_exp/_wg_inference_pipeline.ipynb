{
 "cells": [
  {
   "cell_type": "code",
   "execution_count": 1,
   "metadata": {},
   "outputs": [],
   "source": [
    "%reload_ext autoreload\n",
    "%autoreload 2"
   ]
  },
  {
   "cell_type": "code",
   "execution_count": 2,
   "metadata": {},
   "outputs": [],
   "source": [
    "import gc\n",
    "from pathlib import Path\n",
    "\n",
    "import torch\n",
    "\n",
    "from course_copilot import transcription, topic_segmentation, summarization"
   ]
  },
  {
   "cell_type": "markdown",
   "metadata": {},
   "source": [
    "## Configuration"
   ]
  },
  {
   "cell_type": "code",
   "execution_count": 3,
   "metadata": {},
   "outputs": [],
   "source": [
    "youtube_id = \"Jsz4E2iNXUA\"\n",
    "device = \"cuda\"\n",
    "\n",
    "audio_files_fpath = Path(\"../../transcription/audio_files\")\n",
    "transcription_fpath = Path(\"../../transcription/transcriptions\")\n",
    "whisper_models_fpath = Path(\"../../transcription/models\")\n",
    "\n",
    "whisper_model = \"base\"\n",
    "topic_segmentation_learner_fpath = \"../../models/topic_segmentation_deberta_v3_small.pkl\"\n",
    "headline_summarization_learner_fpath = \"../../models/{exported_learner.pkl}\"\n",
    "content_summarization_learner_fpath = \"../../models/{exported_learner.pkl}\""
   ]
  },
  {
   "cell_type": "markdown",
   "metadata": {},
   "source": [
    "## Transcription"
   ]
  },
  {
   "cell_type": "code",
   "execution_count": 4,
   "metadata": {},
   "outputs": [
    {
     "data": {
      "text/html": [
       "<div>\n",
       "<style scoped>\n",
       "    .dataframe tbody tr th:only-of-type {\n",
       "        vertical-align: middle;\n",
       "    }\n",
       "\n",
       "    .dataframe tbody tr th {\n",
       "        vertical-align: top;\n",
       "    }\n",
       "\n",
       "    .dataframe thead th {\n",
       "        text-align: right;\n",
       "    }\n",
       "</style>\n",
       "<table border=\"1\" class=\"dataframe\">\n",
       "  <thead>\n",
       "    <tr style=\"text-align: right;\">\n",
       "      <th></th>\n",
       "      <th>timestamp</th>\n",
       "      <th>transcript</th>\n",
       "    </tr>\n",
       "  </thead>\n",
       "  <tbody>\n",
       "    <tr>\n",
       "      <th>0</th>\n",
       "      <td>00:00:00.000</td>\n",
       "      <td>Let me make sure everything is as it should be.</td>\n",
       "    </tr>\n",
       "    <tr>\n",
       "      <th>1</th>\n",
       "      <td>00:00:03.560</td>\n",
       "      <td>I'm always fascinated by the fact that people are waiting.</td>\n",
       "    </tr>\n",
       "    <tr>\n",
       "      <th>2</th>\n",
       "      <td>00:00:06.720</td>\n",
       "      <td>It's like it's it's so surprising that people are like on here</td>\n",
       "    </tr>\n",
       "    <tr>\n",
       "      <th>3</th>\n",
       "      <td>00:00:12.700</td>\n",
       "      <td>sometimes early for you.</td>\n",
       "    </tr>\n",
       "    <tr>\n",
       "      <th>4</th>\n",
       "      <td>00:00:14.120</td>\n",
       "      <td>It makes sense for my session.</td>\n",
       "    </tr>\n",
       "  </tbody>\n",
       "</table>\n",
       "</div>"
      ],
      "text/plain": [
       "      timestamp  \\\n",
       "0  00:00:00.000   \n",
       "1  00:00:03.560   \n",
       "2  00:00:06.720   \n",
       "3  00:00:12.700   \n",
       "4  00:00:14.120   \n",
       "\n",
       "                                                       transcript  \n",
       "0                 Let me make sure everything is as it should be.  \n",
       "1      I'm always fascinated by the fact that people are waiting.  \n",
       "2  It's like it's it's so surprising that people are like on here  \n",
       "3                                        sometimes early for you.  \n",
       "4                                  It makes sense for my session.  "
      ]
     },
     "execution_count": 4,
     "metadata": {},
     "output_type": "execute_result"
    }
   ],
   "source": [
    "audio_fpath = transcription.fetch_youtube_audio(youtube_id, audio_files_fpath=audio_files_fpath)\n",
    "\n",
    "transcription_fpath = transcription.fetch_transcription(\n",
    "    audio_fpath=audio_fpath,\n",
    "    transcription_fpath=transcription_fpath,\n",
    "    model_fpath=whisper_models_fpath,\n",
    "    model_checkptoint=whisper_model,\n",
    "    device=device,\n",
    ")\n",
    "\n",
    "transcription_df = transcription.transcription_to_df(transcription_fpath)\n",
    "transcription_df.head()"
   ]
  },
  {
   "cell_type": "markdown",
   "metadata": {},
   "source": [
    "## Topic Segmentation"
   ]
  },
  {
   "cell_type": "code",
   "execution_count": 5,
   "metadata": {},
   "outputs": [
    {
     "name": "stdout",
     "output_type": "stream",
     "text": [
      "[0, 11, 16, 21, 25, 37, 40, 44, 56, 89]\n"
     ]
    },
    {
     "data": {
      "text/html": [
       "<div>\n",
       "<style scoped>\n",
       "    .dataframe tbody tr th:only-of-type {\n",
       "        vertical-align: middle;\n",
       "    }\n",
       "\n",
       "    .dataframe tbody tr th {\n",
       "        vertical-align: top;\n",
       "    }\n",
       "\n",
       "    .dataframe thead th {\n",
       "        text-align: right;\n",
       "    }\n",
       "</style>\n",
       "<table border=\"1\" class=\"dataframe\">\n",
       "  <thead>\n",
       "    <tr style=\"text-align: right;\">\n",
       "      <th></th>\n",
       "      <th>timestamp</th>\n",
       "      <th>transcript</th>\n",
       "      <th>depth_score</th>\n",
       "      <th>threshold</th>\n",
       "      <th>pred_start</th>\n",
       "    </tr>\n",
       "  </thead>\n",
       "  <tbody>\n",
       "    <tr>\n",
       "      <th>0</th>\n",
       "      <td>00:00:00.000</td>\n",
       "      <td>Let me make sure everything is as it should be.</td>\n",
       "      <td>0.006972</td>\n",
       "      <td>0.014812</td>\n",
       "      <td>True</td>\n",
       "    </tr>\n",
       "    <tr>\n",
       "      <th>1</th>\n",
       "      <td>00:00:03.560</td>\n",
       "      <td>I'm always fascinated by the fact that people are waiting.</td>\n",
       "      <td>0.004309</td>\n",
       "      <td>0.014812</td>\n",
       "      <td>False</td>\n",
       "    </tr>\n",
       "    <tr>\n",
       "      <th>2</th>\n",
       "      <td>00:00:06.720</td>\n",
       "      <td>It's like it's it's so surprising that people are like on here</td>\n",
       "      <td>0.000000</td>\n",
       "      <td>0.014812</td>\n",
       "      <td>False</td>\n",
       "    </tr>\n",
       "    <tr>\n",
       "      <th>3</th>\n",
       "      <td>00:00:12.700</td>\n",
       "      <td>sometimes early for you.</td>\n",
       "      <td>0.003844</td>\n",
       "      <td>0.014812</td>\n",
       "      <td>False</td>\n",
       "    </tr>\n",
       "    <tr>\n",
       "      <th>4</th>\n",
       "      <td>00:00:14.120</td>\n",
       "      <td>It makes sense for my session.</td>\n",
       "      <td>0.005018</td>\n",
       "      <td>0.014812</td>\n",
       "      <td>False</td>\n",
       "    </tr>\n",
       "  </tbody>\n",
       "</table>\n",
       "</div>"
      ],
      "text/plain": [
       "      timestamp  \\\n",
       "0  00:00:00.000   \n",
       "1  00:00:03.560   \n",
       "2  00:00:06.720   \n",
       "3  00:00:12.700   \n",
       "4  00:00:14.120   \n",
       "\n",
       "                                                       transcript  \\\n",
       "0                 Let me make sure everything is as it should be.   \n",
       "1      I'm always fascinated by the fact that people are waiting.   \n",
       "2  It's like it's it's so surprising that people are like on here   \n",
       "3                                        sometimes early for you.   \n",
       "4                                  It makes sense for my session.   \n",
       "\n",
       "   depth_score  threshold  pred_start  \n",
       "0     0.006972   0.014812        True  \n",
       "1     0.004309   0.014812       False  \n",
       "2     0.000000   0.014812       False  \n",
       "3     0.003844   0.014812       False  \n",
       "4     0.005018   0.014812       False  "
      ]
     },
     "execution_count": 5,
     "metadata": {},
     "output_type": "execute_result"
    }
   ],
   "source": [
    "topic_segmentation_trainer = topic_segmentation.TopicSegmentationModelTrainer(\n",
    "    experiment_name=\"deberta_v3_small\", train_config=topic_segmentation.TopicSegmentationConfig\n",
    ")\n",
    "# results_df, train_df, val_idxs = trainer.train()\n",
    "inf_learn = topic_segmentation_trainer.load_learner_or_model(\n",
    "    model_learner_fpath=topic_segmentation_learner_fpath, device=device\n",
    ")\n",
    "\n",
    "topic_seg_preds_df, pred_topic_idxs = topic_segmentation_trainer.get_preds(inf_learn, transcription_df.copy())\n",
    "\n",
    "# cleanup resources\n",
    "del inf_learn\n",
    "torch.cuda.empty_cache()\n",
    "gc.collect()\n",
    "\n",
    "# shows final results\n",
    "print(pred_topic_idxs[:10])\n",
    "topic_seg_preds_df.head()"
   ]
  },
  {
   "cell_type": "markdown",
   "metadata": {},
   "source": [
    "## Summarization"
   ]
  },
  {
   "cell_type": "code",
   "execution_count": 6,
   "metadata": {},
   "outputs": [
    {
     "data": {
      "text/html": [
       "<div>\n",
       "<style scoped>\n",
       "    .dataframe tbody tr th:only-of-type {\n",
       "        vertical-align: middle;\n",
       "    }\n",
       "\n",
       "    .dataframe tbody tr th {\n",
       "        vertical-align: top;\n",
       "    }\n",
       "\n",
       "    .dataframe thead th {\n",
       "        text-align: right;\n",
       "    }\n",
       "</style>\n",
       "<table border=\"1\" class=\"dataframe\">\n",
       "  <thead>\n",
       "    <tr style=\"text-align: right;\">\n",
       "      <th></th>\n",
       "      <th>topic_num</th>\n",
       "      <th>timestamp</th>\n",
       "      <th>transcript</th>\n",
       "    </tr>\n",
       "  </thead>\n",
       "  <tbody>\n",
       "    <tr>\n",
       "      <th>0</th>\n",
       "      <td>0</td>\n",
       "      <td>00:00:00.000</td>\n",
       "      <td>Let me make sure everything is as it should be. I'm always fascinated by the fact that people are waiting. It's like it's it's so surprising that people are like on here sometimes early for you. It makes sense for my session. I'm like why are people joining? Awesome. I believe we live. Welcome back. Everyone wait is back. He wasn't well.</td>\n",
       "    </tr>\n",
       "    <tr>\n",
       "      <th>1</th>\n",
       "      <td>1</td>\n",
       "      <td>00:00:27.800</td>\n",
       "      <td>Last week. Now he's in awesome health. So that's I was happy to hear that. And I hope you are as well because he'll be teaching us how to translate stuff and how to summarize models.</td>\n",
       "    </tr>\n",
       "    <tr>\n",
       "      <th>2</th>\n",
       "      <td>2</td>\n",
       "      <td>00:00:39.120</td>\n",
       "      <td>If I can learn this from him, I'll take his model and deploy it on my podcast and give you all summaries that you have been asking for. And I haven't easily produced. So I'm excited to learn that from me then that over to you. Well, guess what I just tried sharing my screen.</td>\n",
       "    </tr>\n",
       "    <tr>\n",
       "      <th>3</th>\n",
       "      <td>3</td>\n",
       "      <td>00:00:54.680</td>\n",
       "      <td>And it says Chrome has lost permissions to sharing our screen recording. So let me fix that real quick. And Sonia, I'm going to let you keep talking about whatever you want to talk about why I do the apologies.</td>\n",
       "    </tr>\n",
       "    <tr>\n",
       "      <th>4</th>\n",
       "      <td>4</td>\n",
       "      <td>00:01:10.560</td>\n",
       "      <td>No problem. It happens with updates sometimes. Right? Yeah. Of course, I didn't check. I just assumed we'd all be good to go and we're not. So see here. Has anyone done the homework or if it had any blog posts in the meantime? Matthew, great to see you. All right. We'll get started in a minute or two while we figure this out. Anyone who joined the previous session, this is better than getting zoom-bound.</td>\n",
       "    </tr>\n",
       "  </tbody>\n",
       "</table>\n",
       "</div>"
      ],
      "text/plain": [
       "   topic_num     timestamp  \\\n",
       "0          0  00:00:00.000   \n",
       "1          1  00:00:27.800   \n",
       "2          2  00:00:39.120   \n",
       "3          3  00:00:54.680   \n",
       "4          4  00:01:10.560   \n",
       "\n",
       "                                                                                                                                                                                                                                                                                                                                                                                                                transcript  \n",
       "0                                                                      Let me make sure everything is as it should be. I'm always fascinated by the fact that people are waiting. It's like it's it's so surprising that people are like on here sometimes early for you. It makes sense for my session. I'm like why are people joining? Awesome. I believe we live. Welcome back. Everyone wait is back. He wasn't well.  \n",
       "1                                                                                                                                                                                                                                   Last week. Now he's in awesome health. So that's I was happy to hear that. And I hope you are as well because he'll be teaching us how to translate stuff and how to summarize models.  \n",
       "2                                                                                                                                      If I can learn this from him, I'll take his model and deploy it on my podcast and give you all summaries that you have been asking for. And I haven't easily produced. So I'm excited to learn that from me then that over to you. Well, guess what I just tried sharing my screen.  \n",
       "3                                                                                                                                                                                                       And it says Chrome has lost permissions to sharing our screen recording. So let me fix that real quick. And Sonia, I'm going to let you keep talking about whatever you want to talk about why I do the apologies.  \n",
       "4  No problem. It happens with updates sometimes. Right? Yeah. Of course, I didn't check. I just assumed we'd all be good to go and we're not. So see here. Has anyone done the homework or if it had any blog posts in the meantime? Matthew, great to see you. All right. We'll get started in a minute or two while we figure this out. Anyone who joined the previous session, this is better than getting zoom-bound.  "
      ]
     },
     "execution_count": 6,
     "metadata": {},
     "output_type": "execute_result"
    }
   ],
   "source": [
    "summarization_inf_df = topic_seg_preds_df.copy()\n",
    "\n",
    "summarization_inf_df[\"topic_num\"] = -1\n",
    "n_topics = len(pred_topic_idxs)\n",
    "\n",
    "for i, seg_idx in enumerate(pred_topic_idxs):\n",
    "    end_idx = pred_topic_idxs[i + 1] if i + 1 <= (n_topics - 1) else None\n",
    "    summarization_inf_df.loc[seg_idx:end_idx, \"topic_num\"] = i\n",
    "\n",
    "summarization_inf_df = summarization_inf_df.groupby(by=\"topic_num\").agg(list).reset_index()\n",
    "summarization_inf_df[\"transcript\"] = summarization_inf_df[\"transcript\"].apply(\n",
    "    lambda v: \" \".join([str(seq) for seq in v])\n",
    ")\n",
    "summarization_inf_df.timestamp = summarization_inf_df.timestamp.apply(lambda v: v[0])\n",
    "summarization_inf_df.drop(columns=[\"depth_score\", \"threshold\", \"pred_start\"], inplace=True)\n",
    "\n",
    "summarization_inf_df.head()"
   ]
  },
  {
   "cell_type": "code",
   "execution_count": 7,
   "metadata": {},
   "outputs": [],
   "source": [
    "# TODO: Kurian to add his magic here after he adds his models to /models ..."
   ]
  },
  {
   "cell_type": "code",
   "execution_count": null,
   "metadata": {},
   "outputs": [],
   "source": []
  }
 ],
 "metadata": {
  "kernelspec": {
   "display_name": "Python 3.9.13 ('fsdl_2022_course_project')",
   "language": "python",
   "name": "python3"
  },
  "language_info": {
   "codemirror_mode": {
    "name": "ipython",
    "version": 3
   },
   "file_extension": ".py",
   "mimetype": "text/x-python",
   "name": "python",
   "nbconvert_exporter": "python",
   "pygments_lexer": "ipython3",
   "version": "3.9.13"
  },
  "orig_nbformat": 4,
  "vscode": {
   "interpreter": {
    "hash": "4c27d0eb0116998fc328b5a00abe6956c11e30aa3cb3ca27ff0ca511f067786d"
   }
  }
 },
 "nbformat": 4,
 "nbformat_minor": 2
}
