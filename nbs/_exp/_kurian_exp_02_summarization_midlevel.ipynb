{
 "cells": [
  {
   "cell_type": "markdown",
   "metadata": {},
   "source": [
    "# Building a summarization model\n",
    "\n",
    "**Objective:**\n",
    "\n",
    "To create a summarization model which is able to provide summaries in a sentence. It should at maximum provide\n",
    "summaries of 6 words"
   ]
  },
  {
   "cell_type": "code",
   "execution_count": 1,
   "metadata": {},
   "outputs": [
    {
     "name": "stderr",
     "output_type": "stream",
     "text": [
      "/home/team_007/mambaforge/lib/python3.10/site-packages/tqdm/auto.py:22: TqdmWarning: IProgress not found. Please update jupyter and ipywidgets. See https://ipywidgets.readthedocs.io/en/stable/user_install.html\n",
      "  from .autonotebook import tqdm as notebook_tqdm\n"
     ]
    }
   ],
   "source": [
    "import datetime\n",
    "import inspect\n",
    "import os\n",
    "import warnings\n",
    "\n",
    "import pandas as pd\n",
    "import nltk\n",
    "import torch\n",
    "import wandb\n",
    "\n",
    "# from blurr.text.data.all import *\n",
    "# from blurr.text.modeling.all import *\n",
    "from blurr.text.data.seq2seq.core import Seq2SeqBatchTokenizeTransform, Seq2SeqTextBlock, default_text_gen_kwargs\n",
    "from blurr.text.modeling.core import BaseModelCallback, BaseModelWrapper\n",
    "from blurr.text.modeling.seq2seq.core import Seq2SeqMetricsCallback, blurr_seq2seq_splitter\n",
    "from blurr.text.utils import get_hf_objects\n",
    "from fastai.data.block import DataBlock, ColReader, ItemGetter, ColSplitter, RandomSplitter\n",
    "from fastai.callback.wandb import WandbCallback\n",
    "from fastai.imports import *\n",
    "from fastai.learner import *\n",
    "from fastai.losses import CrossEntropyLossFlat\n",
    "from fastai.optimizer import Adam\n",
    "from fastai.torch_core import *\n",
    "from fastai.torch_imports import *\n",
    "from fastcore.all import *\n",
    "from transformers import BartForConditionalGeneration"
   ]
  },
  {
   "cell_type": "code",
   "execution_count": 2,
   "metadata": {},
   "outputs": [
    {
     "name": "stderr",
     "output_type": "stream",
     "text": [
      "Failed to detect the name of this notebook, you can set it manually with the WANDB_NOTEBOOK_NAME environment variable to enable code saving.\n",
      "\u001b[34m\u001b[1mwandb\u001b[0m: Currently logged in as: \u001b[33mhello34\u001b[0m. Use \u001b[1m`wandb login --relogin`\u001b[0m to force relogin\n",
      "[nltk_data] Downloading package punkt to /home/team_007/nltk_data...\n",
      "[nltk_data]   Package punkt is already up-to-date!\n"
     ]
    },
    {
     "data": {
      "text/plain": [
       "True"
      ]
     },
     "execution_count": 2,
     "metadata": {},
     "output_type": "execute_result"
    }
   ],
   "source": [
    "wandb.login()\n",
    "nltk.download(\"punkt\")"
   ]
  },
  {
   "cell_type": "code",
   "execution_count": 3,
   "metadata": {},
   "outputs": [],
   "source": [
    "# silence all the HF warnings\n",
    "warnings.simplefilter(\"ignore\")\n",
    "os.environ[\"TOKENIZERS_PARALLELISM\"] = \"false\""
   ]
  },
  {
   "cell_type": "markdown",
   "metadata": {},
   "source": [
    "## Grab our topics and transcripts"
   ]
  },
  {
   "cell_type": "code",
   "execution_count": 4,
   "metadata": {},
   "outputs": [],
   "source": [
    "sheets_d = pd.read_excel(\n",
    "    \"../../data/raw/fsdl_2022_project_transcripts.xlsx\",\n",
    "    sheet_name=[\"lesson_topics\", \"lesson_transcripts\"],\n",
    "    engine=\"openpyxl\",\n",
    ")\n",
    "topics_df, transcripts_df = [v for k, v in sheets_d.items()]\n",
    "\n",
    "topics_df.drop(columns=\"video_url\", inplace=True)\n",
    "transcripts_df.drop(columns=\"video_url\", inplace=True)\n",
    "\n",
    "topics_df[\"timestamp\"] = topics_df[\"timestamp\"].astype(str)\n",
    "transcripts_df[\"timestamp\"] = transcripts_df[\"timestamp\"].astype(str)"
   ]
  },
  {
   "cell_type": "code",
   "execution_count": 5,
   "metadata": {},
   "outputs": [
    {
     "name": "stdout",
     "output_type": "stream",
     "text": [
      "25283\n"
     ]
    },
    {
     "data": {
      "text/html": [
       "<div>\n",
       "<style scoped>\n",
       "    .dataframe tbody tr th:only-of-type {\n",
       "        vertical-align: middle;\n",
       "    }\n",
       "\n",
       "    .dataframe tbody tr th {\n",
       "        vertical-align: top;\n",
       "    }\n",
       "\n",
       "    .dataframe thead th {\n",
       "        text-align: right;\n",
       "    }\n",
       "</style>\n",
       "<table border=\"1\" class=\"dataframe\">\n",
       "  <thead>\n",
       "    <tr style=\"text-align: right;\">\n",
       "      <th></th>\n",
       "      <th>course_title</th>\n",
       "      <th>lesson_num</th>\n",
       "      <th>timestamp</th>\n",
       "      <th>transcript</th>\n",
       "    </tr>\n",
       "  </thead>\n",
       "  <tbody>\n",
       "    <tr>\n",
       "      <th>0</th>\n",
       "      <td>fast.ai 2022 - Part 1</td>\n",
       "      <td>2</td>\n",
       "      <td>00:00:00</td>\n",
       "      <td>Hi everybody. Welcome to lesson two. Thanks for coming back… slight change of environment here,</td>\n",
       "    </tr>\n",
       "    <tr>\n",
       "      <th>1</th>\n",
       "      <td>fast.ai 2022 - Part 1</td>\n",
       "      <td>2</td>\n",
       "      <td>00:00:08</td>\n",
       "      <td>we had a bit of an “administrative issue” at our university — somebody booked our room — so I'm</td>\n",
       "    </tr>\n",
       "    <tr>\n",
       "      <th>2</th>\n",
       "      <td>fast.ai 2022 - Part 1</td>\n",
       "      <td>2</td>\n",
       "      <td>00:00:14</td>\n",
       "      <td>doing this from the study at home. so sorry about the lack of decorations behind me.</td>\n",
       "    </tr>\n",
       "    <tr>\n",
       "      <th>3</th>\n",
       "      <td>fast.ai 2022 - Part 1</td>\n",
       "      <td>2</td>\n",
       "      <td>00:00:25</td>\n",
       "      <td>I'm actually really really pumped about this lesson. It feels like going back to what things</td>\n",
       "    </tr>\n",
       "    <tr>\n",
       "      <th>4</th>\n",
       "      <td>fast.ai 2022 - Part 1</td>\n",
       "      <td>2</td>\n",
       "      <td>00:00:32</td>\n",
       "      <td>were like in the very early days, because we're doing some really new, really cool stuff, which…</td>\n",
       "    </tr>\n",
       "  </tbody>\n",
       "</table>\n",
       "</div>"
      ],
      "text/plain": [
       "            course_title lesson_num timestamp  \\\n",
       "0  fast.ai 2022 - Part 1          2  00:00:00   \n",
       "1  fast.ai 2022 - Part 1          2  00:00:08   \n",
       "2  fast.ai 2022 - Part 1          2  00:00:14   \n",
       "3  fast.ai 2022 - Part 1          2  00:00:25   \n",
       "4  fast.ai 2022 - Part 1          2  00:00:32   \n",
       "\n",
       "                                                                                         transcript  \n",
       "0   Hi everybody. Welcome to lesson two. Thanks for coming back… slight change of environment here,  \n",
       "1   we had a bit of an “administrative issue” at our university — somebody booked our room — so I'm  \n",
       "2              doing this from the study at home. so sorry about the lack of decorations behind me.  \n",
       "3      I'm actually really really pumped about this lesson. It feels like going back to what things  \n",
       "4  were like in the very early days, because we're doing some really new, really cool stuff, which…  "
      ]
     },
     "execution_count": 5,
     "metadata": {},
     "output_type": "execute_result"
    }
   ],
   "source": [
    "print(len(transcripts_df))\n",
    "\n",
    "transcripts_df.head()"
   ]
  },
  {
   "cell_type": "markdown",
   "metadata": {},
   "source": [
    "## Define a utility function for converting durations to total_seconds"
   ]
  },
  {
   "cell_type": "code",
   "execution_count": 6,
   "metadata": {},
   "outputs": [],
   "source": [
    "def convert_duration_to_seconds(v):\n",
    "    hrs, mins, secs = v.split(\":\")\n",
    "    return (60 * 60 * int(hrs)) + (60 * int(mins)) + int(secs)"
   ]
  },
  {
   "cell_type": "markdown",
   "metadata": {},
   "source": [
    "## Define the start/end boundaries (in seconds) for each topic in each lesson"
   ]
  },
  {
   "cell_type": "code",
   "execution_count": 7,
   "metadata": {},
   "outputs": [],
   "source": [
    "topics_df[\"start_seconds\"] = topics_df[\"timestamp\"].apply(convert_duration_to_seconds)\n",
    "topics_df[\"end_seconds\"] = topics_df.groupby(by=[\"course_title\", \"lesson_num\"])[\"start_seconds\"].shift(\n",
    "    -1, fill_value=100000\n",
    ")"
   ]
  },
  {
   "cell_type": "markdown",
   "metadata": {},
   "source": [
    "## Define the total number of elapsed seconds at each timestamp in the transcripts dataset"
   ]
  },
  {
   "cell_type": "code",
   "execution_count": 8,
   "metadata": {},
   "outputs": [],
   "source": [
    "transcripts_df[\"elapsed_seconds\"] = transcripts_df[\"timestamp\"].apply(convert_duration_to_seconds)"
   ]
  },
  {
   "cell_type": "markdown",
   "metadata": {},
   "source": [
    "## Build our training data.  \n",
    "\n",
    "This should be usable for both segmentation and summarization tasks"
   ]
  },
  {
   "cell_type": "code",
   "execution_count": 9,
   "metadata": {},
   "outputs": [
    {
     "data": {
      "text/plain": [
       "467129"
      ]
     },
     "execution_count": 9,
     "metadata": {},
     "output_type": "execute_result"
    }
   ],
   "source": [
    "merged_df = topics_df[[\"course_title\", \"lesson_num\", \"topic\", \"start_seconds\", \"end_seconds\"]].merge(\n",
    "    transcripts_df, on=[\"course_title\", \"lesson_num\"]\n",
    ")\n",
    "len(merged_df)"
   ]
  },
  {
   "cell_type": "markdown",
   "metadata": {},
   "source": [
    "Keep only the merged records where the transcript lies inbetween the start/end of the topic"
   ]
  },
  {
   "cell_type": "code",
   "execution_count": 10,
   "metadata": {},
   "outputs": [],
   "source": [
    "merged_df = merged_df[\n",
    "    (merged_df.elapsed_seconds >= merged_df.start_seconds) & (merged_df.elapsed_seconds < merged_df.end_seconds)\n",
    "]"
   ]
  },
  {
   "cell_type": "markdown",
   "metadata": {},
   "source": [
    "For both segmentation and summarization tasks, we'll need to group the transcripts by course + lesson + topic"
   ]
  },
  {
   "cell_type": "code",
   "execution_count": 11,
   "metadata": {},
   "outputs": [],
   "source": [
    "train_df = (\n",
    "    merged_df[[\"course_title\", \"lesson_num\", \"topic\", \"transcript\", \"start_seconds\"]]\n",
    "    .groupby(by=[\"course_title\", \"lesson_num\", \"start_seconds\", \"topic\"])\n",
    "    .agg(list)\n",
    "    .reset_index()\n",
    ")\n",
    "\n",
    "train_df.sort_values(by=[\"course_title\", \"lesson_num\", \"start_seconds\"], inplace=True)"
   ]
  },
  {
   "cell_type": "code",
   "execution_count": 12,
   "metadata": {},
   "outputs": [
    {
     "data": {
      "text/html": [
       "<div>\n",
       "<style scoped>\n",
       "    .dataframe tbody tr th:only-of-type {\n",
       "        vertical-align: middle;\n",
       "    }\n",
       "\n",
       "    .dataframe tbody tr th {\n",
       "        vertical-align: top;\n",
       "    }\n",
       "\n",
       "    .dataframe thead th {\n",
       "        text-align: right;\n",
       "    }\n",
       "</style>\n",
       "<table border=\"1\" class=\"dataframe\">\n",
       "  <thead>\n",
       "    <tr style=\"text-align: right;\">\n",
       "      <th></th>\n",
       "      <th>course_title</th>\n",
       "      <th>lesson_num</th>\n",
       "      <th>start_seconds</th>\n",
       "      <th>topic</th>\n",
       "      <th>transcript</th>\n",
       "    </tr>\n",
       "  </thead>\n",
       "  <tbody>\n",
       "    <tr>\n",
       "      <th>0</th>\n",
       "      <td>C-Squared Podcast</td>\n",
       "      <td>1</td>\n",
       "      <td>0</td>\n",
       "      <td>Intro</td>\n",
       "      <td>[[Music] welcome everybody to episode one of a, chess themed podcast with myself christian kirilla and i'm fighting on caruana so what's up, christian well not so much fabi uh it's first of all great um to finally start a, podcast the chess podcast i know that um there's a lot of podcasts out there but, i wanted to bring our own tune to the mix and i think uh yeah i'm, excited about that so that's uh the first thing how about yourself fabian well i'm back in the states after it's, been a while at your home it's good to be here it's my first time in uh visiting here and uh, yeah it's been a...</td>\n",
       "    </tr>\n",
       "    <tr>\n",
       "      <th>1</th>\n",
       "      <td>C-Squared Podcast</td>\n",
       "      <td>1</td>\n",
       "      <td>137</td>\n",
       "      <td>Candidates 2018</td>\n",
       "      <td>[camps look like in general yeah well you mentioned the 2018 cycle uh where we worked together we started with the, training before the candidates and for me it's interesting because i've i've played a lot of these, candidates tournaments and i'm always doing it a bit differently trying different things trying to improve it but sometimes it goes, less or more successfully you never know what will work out i think what we did in 2018 not just for the candidates but, also for the world championship because i qualified for that i think what we did then was extremely successful, um we we arran...</td>\n",
       "    </tr>\n",
       "    <tr>\n",
       "      <th>2</th>\n",
       "      <td>C-Squared Podcast</td>\n",
       "      <td>1</td>\n",
       "      <td>464</td>\n",
       "      <td>Candidates training</td>\n",
       "      <td>[going in the candidates like how was the experience yeah i think the preparation was pretty serious it, included a bunch of uh camps and preparation devoted to players as i assume i think everyone has the same, sort of general approach which is to think about their openings their strategy look at the opponents try to, get in shape make sure that you're not you know rusty or blundering things or hallucinating, variations uh but there's a lot of nerves and i i felt a lot of nerves before the tournament and i think possibly i, you know overworked over trained a bit because it was yeah it was...</td>\n",
       "    </tr>\n",
       "    <tr>\n",
       "      <th>3</th>\n",
       "      <td>C-Squared Podcast</td>\n",
       "      <td>1</td>\n",
       "      <td>610</td>\n",
       "      <td>Playing for 2nd place</td>\n",
       "      <td>[were you just like focused on grabbing first well i was only focused on first, but of course there were always these thoughts that well maybe second is enough but you can't play for second, like let's say once i had achieved plus three in the tournament and john was plus four and i tried to go and go into like full, like risk reverse mode which is still difficult to do but let's say i had gone that mode and, and achieved it and like finished second with like plus three and john got plus five uh, and then like magnus says well i'm going to play right then you also feel kind of stupid you k...</td>\n",
       "    </tr>\n",
       "    <tr>\n",
       "      <th>4</th>\n",
       "      <td>C-Squared Podcast</td>\n",
       "      <td>1</td>\n",
       "      <td>916</td>\n",
       "      <td>Magnus' WC decision</td>\n",
       "      <td>[know you can't uh you can't tell him you have to do something i i guess let me rephrase that, fair to let you guys play the tournament first and then tell you the decision, well i think he said it in a strange way which was that i'll play against alireza, which to me is strange because if you don't want to play world championship match i fully understand you know but did he say that did he actually name him, yeah that's kind of what he said um yeah he more he like he didn't say definitively like i won't play against, anyone but he was like i probably won't play unless it's frozen right an...</td>\n",
       "    </tr>\n",
       "  </tbody>\n",
       "</table>\n",
       "</div>"
      ],
      "text/plain": [
       "        course_title lesson_num  start_seconds                  topic  \\\n",
       "0  C-Squared Podcast          1              0                  Intro   \n",
       "1  C-Squared Podcast          1            137        Candidates 2018   \n",
       "2  C-Squared Podcast          1            464    Candidates training   \n",
       "3  C-Squared Podcast          1            610  Playing for 2nd place   \n",
       "4  C-Squared Podcast          1            916    Magnus' WC decision   \n",
       "\n",
       "                                                                                                                                                                                                                                                                                                                                                                                                                                                                                                                                                                                                                transcript  \n",
       "0  [[Music] welcome everybody to episode one of a, chess themed podcast with myself christian kirilla and i'm fighting on caruana so what's up, christian well not so much fabi uh it's first of all great um to finally start a, podcast the chess podcast i know that um there's a lot of podcasts out there but, i wanted to bring our own tune to the mix and i think uh yeah i'm, excited about that so that's uh the first thing how about yourself fabian well i'm back in the states after it's, been a while at your home it's good to be here it's my first time in uh visiting here and uh, yeah it's been a...  \n",
       "1  [camps look like in general yeah well you mentioned the 2018 cycle uh where we worked together we started with the, training before the candidates and for me it's interesting because i've i've played a lot of these, candidates tournaments and i'm always doing it a bit differently trying different things trying to improve it but sometimes it goes, less or more successfully you never know what will work out i think what we did in 2018 not just for the candidates but, also for the world championship because i qualified for that i think what we did then was extremely successful, um we we arran...  \n",
       "2  [going in the candidates like how was the experience yeah i think the preparation was pretty serious it, included a bunch of uh camps and preparation devoted to players as i assume i think everyone has the same, sort of general approach which is to think about their openings their strategy look at the opponents try to, get in shape make sure that you're not you know rusty or blundering things or hallucinating, variations uh but there's a lot of nerves and i i felt a lot of nerves before the tournament and i think possibly i, you know overworked over trained a bit because it was yeah it was...  \n",
       "3  [were you just like focused on grabbing first well i was only focused on first, but of course there were always these thoughts that well maybe second is enough but you can't play for second, like let's say once i had achieved plus three in the tournament and john was plus four and i tried to go and go into like full, like risk reverse mode which is still difficult to do but let's say i had gone that mode and, and achieved it and like finished second with like plus three and john got plus five uh, and then like magnus says well i'm going to play right then you also feel kind of stupid you k...  \n",
       "4  [know you can't uh you can't tell him you have to do something i i guess let me rephrase that, fair to let you guys play the tournament first and then tell you the decision, well i think he said it in a strange way which was that i'll play against alireza, which to me is strange because if you don't want to play world championship match i fully understand you know but did he say that did he actually name him, yeah that's kind of what he said um yeah he more he like he didn't say definitively like i won't play against, anyone but he was like i probably won't play unless it's frozen right an...  "
      ]
     },
     "execution_count": 12,
     "metadata": {},
     "output_type": "execute_result"
    }
   ],
   "source": [
    "train_df.head()"
   ]
  },
  {
   "cell_type": "markdown",
   "metadata": {},
   "source": [
    "## Build summarization training set"
   ]
  },
  {
   "cell_type": "code",
   "execution_count": 13,
   "metadata": {},
   "outputs": [],
   "source": [
    "summarization_train_df = train_df.copy()"
   ]
  },
  {
   "cell_type": "code",
   "execution_count": 14,
   "metadata": {},
   "outputs": [],
   "source": [
    "summarization_train_df[\"transcript\"] = summarization_train_df[\"transcript\"].apply(\n",
    "    lambda v: \" \".join([str(seq) for seq in v])\n",
    ")"
   ]
  },
  {
   "cell_type": "code",
   "execution_count": 15,
   "metadata": {},
   "outputs": [
    {
     "data": {
      "text/html": [
       "<div>\n",
       "<style scoped>\n",
       "    .dataframe tbody tr th:only-of-type {\n",
       "        vertical-align: middle;\n",
       "    }\n",
       "\n",
       "    .dataframe tbody tr th {\n",
       "        vertical-align: top;\n",
       "    }\n",
       "\n",
       "    .dataframe thead th {\n",
       "        text-align: right;\n",
       "    }\n",
       "</style>\n",
       "<table border=\"1\" class=\"dataframe\">\n",
       "  <thead>\n",
       "    <tr style=\"text-align: right;\">\n",
       "      <th></th>\n",
       "      <th>course_title</th>\n",
       "      <th>lesson_num</th>\n",
       "      <th>start_seconds</th>\n",
       "      <th>topic</th>\n",
       "      <th>transcript</th>\n",
       "    </tr>\n",
       "  </thead>\n",
       "  <tbody>\n",
       "    <tr>\n",
       "      <th>0</th>\n",
       "      <td>C-Squared Podcast</td>\n",
       "      <td>1</td>\n",
       "      <td>0</td>\n",
       "      <td>Intro</td>\n",
       "      <td>[Music] welcome everybody to episode one of a chess themed podcast with myself christian kirilla and i'm fighting on caruana so what's up christian well not so much fabi uh it's first of all great um to finally start a podcast the chess podcast i know that um there's a lot of podcasts out there but i wanted to bring our own tune to the mix and i think uh yeah i'm excited about that so that's uh the first thing how about yourself fabian well i'm back in the states after it's been a while at your home it's good to be here it's my first time in uh visiting here and uh yeah it's been an intere...</td>\n",
       "    </tr>\n",
       "    <tr>\n",
       "      <th>1</th>\n",
       "      <td>C-Squared Podcast</td>\n",
       "      <td>1</td>\n",
       "      <td>137</td>\n",
       "      <td>Candidates 2018</td>\n",
       "      <td>camps look like in general yeah well you mentioned the 2018 cycle uh where we worked together we started with the training before the candidates and for me it's interesting because i've i've played a lot of these candidates tournaments and i'm always doing it a bit differently trying different things trying to improve it but sometimes it goes less or more successfully you never know what will work out i think what we did in 2018 not just for the candidates but also for the world championship because i qualified for that i think what we did then was extremely successful um we we arranged it...</td>\n",
       "    </tr>\n",
       "    <tr>\n",
       "      <th>2</th>\n",
       "      <td>C-Squared Podcast</td>\n",
       "      <td>1</td>\n",
       "      <td>464</td>\n",
       "      <td>Candidates training</td>\n",
       "      <td>going in the candidates like how was the experience yeah i think the preparation was pretty serious it included a bunch of uh camps and preparation devoted to players as i assume i think everyone has the same sort of general approach which is to think about their openings their strategy look at the opponents try to get in shape make sure that you're not you know rusty or blundering things or hallucinating variations uh but there's a lot of nerves and i i felt a lot of nerves before the tournament and i think possibly i you know overworked over trained a bit because it was yeah it was like ...</td>\n",
       "    </tr>\n",
       "    <tr>\n",
       "      <th>3</th>\n",
       "      <td>C-Squared Podcast</td>\n",
       "      <td>1</td>\n",
       "      <td>610</td>\n",
       "      <td>Playing for 2nd place</td>\n",
       "      <td>were you just like focused on grabbing first well i was only focused on first but of course there were always these thoughts that well maybe second is enough but you can't play for second like let's say once i had achieved plus three in the tournament and john was plus four and i tried to go and go into like full like risk reverse mode which is still difficult to do but let's say i had gone that mode and and achieved it and like finished second with like plus three and john got plus five uh and then like magnus says well i'm going to play right then you also feel kind of stupid you know li...</td>\n",
       "    </tr>\n",
       "    <tr>\n",
       "      <th>4</th>\n",
       "      <td>C-Squared Podcast</td>\n",
       "      <td>1</td>\n",
       "      <td>916</td>\n",
       "      <td>Magnus' WC decision</td>\n",
       "      <td>know you can't uh you can't tell him you have to do something i i guess let me rephrase that fair to let you guys play the tournament first and then tell you the decision well i think he said it in a strange way which was that i'll play against alireza which to me is strange because if you don't want to play world championship match i fully understand you know but did he say that did he actually name him yeah that's kind of what he said um yeah he more he like he didn't say definitively like i won't play against anyone but he was like i probably won't play unless it's frozen right and yeah...</td>\n",
       "    </tr>\n",
       "  </tbody>\n",
       "</table>\n",
       "</div>"
      ],
      "text/plain": [
       "        course_title lesson_num  start_seconds                  topic  \\\n",
       "0  C-Squared Podcast          1              0                  Intro   \n",
       "1  C-Squared Podcast          1            137        Candidates 2018   \n",
       "2  C-Squared Podcast          1            464    Candidates training   \n",
       "3  C-Squared Podcast          1            610  Playing for 2nd place   \n",
       "4  C-Squared Podcast          1            916    Magnus' WC decision   \n",
       "\n",
       "                                                                                                                                                                                                                                                                                                                                                                                                                                                                                                                                                                                                                transcript  \n",
       "0  [Music] welcome everybody to episode one of a chess themed podcast with myself christian kirilla and i'm fighting on caruana so what's up christian well not so much fabi uh it's first of all great um to finally start a podcast the chess podcast i know that um there's a lot of podcasts out there but i wanted to bring our own tune to the mix and i think uh yeah i'm excited about that so that's uh the first thing how about yourself fabian well i'm back in the states after it's been a while at your home it's good to be here it's my first time in uh visiting here and uh yeah it's been an intere...  \n",
       "1  camps look like in general yeah well you mentioned the 2018 cycle uh where we worked together we started with the training before the candidates and for me it's interesting because i've i've played a lot of these candidates tournaments and i'm always doing it a bit differently trying different things trying to improve it but sometimes it goes less or more successfully you never know what will work out i think what we did in 2018 not just for the candidates but also for the world championship because i qualified for that i think what we did then was extremely successful um we we arranged it...  \n",
       "2  going in the candidates like how was the experience yeah i think the preparation was pretty serious it included a bunch of uh camps and preparation devoted to players as i assume i think everyone has the same sort of general approach which is to think about their openings their strategy look at the opponents try to get in shape make sure that you're not you know rusty or blundering things or hallucinating variations uh but there's a lot of nerves and i i felt a lot of nerves before the tournament and i think possibly i you know overworked over trained a bit because it was yeah it was like ...  \n",
       "3  were you just like focused on grabbing first well i was only focused on first but of course there were always these thoughts that well maybe second is enough but you can't play for second like let's say once i had achieved plus three in the tournament and john was plus four and i tried to go and go into like full like risk reverse mode which is still difficult to do but let's say i had gone that mode and and achieved it and like finished second with like plus three and john got plus five uh and then like magnus says well i'm going to play right then you also feel kind of stupid you know li...  \n",
       "4  know you can't uh you can't tell him you have to do something i i guess let me rephrase that fair to let you guys play the tournament first and then tell you the decision well i think he said it in a strange way which was that i'll play against alireza which to me is strange because if you don't want to play world championship match i fully understand you know but did he say that did he actually name him yeah that's kind of what he said um yeah he more he like he didn't say definitively like i won't play against anyone but he was like i probably won't play unless it's frozen right and yeah...  "
      ]
     },
     "execution_count": 15,
     "metadata": {},
     "output_type": "execute_result"
    }
   ],
   "source": [
    "summarization_train_df.head()"
   ]
  },
  {
   "cell_type": "markdown",
   "metadata": {},
   "source": [
    "## Blurr learner for training summarization model"
   ]
  },
  {
   "cell_type": "code",
   "execution_count": 16,
   "metadata": {},
   "outputs": [
    {
     "name": "stdout",
     "output_type": "stream",
     "text": [
      "Using GPU #0: Tesla V100-SXM2-16GB\n"
     ]
    }
   ],
   "source": [
    "print(f\"Using GPU #{torch.cuda.current_device()}: {torch.cuda.get_device_name()}\")"
   ]
  },
  {
   "cell_type": "code",
   "execution_count": 17,
   "metadata": {},
   "outputs": [
    {
     "data": {
      "text/plain": [
       "('bart',\n",
       " transformers.models.bart.configuration_bart.BartConfig,\n",
       " transformers.models.bart.tokenization_bart_fast.BartTokenizerFast,\n",
       " transformers.models.bart.modeling_bart.BartForConditionalGeneration)"
      ]
     },
     "execution_count": 17,
     "metadata": {},
     "output_type": "execute_result"
    }
   ],
   "source": [
    "pretrained_model_name = \"sshleifer/distilbart-cnn-6-6\"\n",
    "hf_arch, hf_config, hf_tokenizer, hf_model = get_hf_objects(\n",
    "    pretrained_model_name, model_cls=BartForConditionalGeneration\n",
    ")\n",
    "\n",
    "hf_arch, type(hf_config), type(hf_tokenizer), type(hf_model)"
   ]
  },
  {
   "cell_type": "code",
   "execution_count": 18,
   "metadata": {},
   "outputs": [
    {
     "data": {
      "text/plain": [
       "BartConfig {\n",
       "  \"_name_or_path\": \"sshleifer/distilbart-cnn-6-6\",\n",
       "  \"_num_labels\": 3,\n",
       "  \"activation_dropout\": 0.0,\n",
       "  \"activation_function\": \"gelu\",\n",
       "  \"add_bias_logits\": false,\n",
       "  \"add_final_layer_norm\": false,\n",
       "  \"architectures\": [\n",
       "    \"BartForConditionalGeneration\"\n",
       "  ],\n",
       "  \"attention_dropout\": 0.0,\n",
       "  \"bos_token_id\": 0,\n",
       "  \"classif_dropout\": 0.0,\n",
       "  \"classifier_dropout\": 0.0,\n",
       "  \"d_model\": 1024,\n",
       "  \"decoder_attention_heads\": 16,\n",
       "  \"decoder_ffn_dim\": 4096,\n",
       "  \"decoder_layerdrop\": 0.0,\n",
       "  \"decoder_layers\": 6,\n",
       "  \"decoder_start_token_id\": 2,\n",
       "  \"dropout\": 0.1,\n",
       "  \"early_stopping\": true,\n",
       "  \"encoder_attention_heads\": 16,\n",
       "  \"encoder_ffn_dim\": 4096,\n",
       "  \"encoder_layerdrop\": 0.0,\n",
       "  \"encoder_layers\": 6,\n",
       "  \"eos_token_id\": 2,\n",
       "  \"extra_pos_embeddings\": 2,\n",
       "  \"force_bos_token_to_be_generated\": true,\n",
       "  \"forced_bos_token_id\": 0,\n",
       "  \"forced_eos_token_id\": 2,\n",
       "  \"gradient_checkpointing\": false,\n",
       "  \"id2label\": {\n",
       "    \"0\": \"LABEL_0\",\n",
       "    \"1\": \"LABEL_1\",\n",
       "    \"2\": \"LABEL_2\"\n",
       "  },\n",
       "  \"init_std\": 0.02,\n",
       "  \"is_encoder_decoder\": true,\n",
       "  \"label2id\": {\n",
       "    \"LABEL_0\": 0,\n",
       "    \"LABEL_1\": 1,\n",
       "    \"LABEL_2\": 2\n",
       "  },\n",
       "  \"length_penalty\": 2.0,\n",
       "  \"max_length\": 142,\n",
       "  \"max_position_embeddings\": 1024,\n",
       "  \"min_length\": 56,\n",
       "  \"model_type\": \"bart\",\n",
       "  \"no_repeat_ngram_size\": 3,\n",
       "  \"normalize_before\": false,\n",
       "  \"normalize_embedding\": true,\n",
       "  \"num_beams\": 4,\n",
       "  \"num_hidden_layers\": 6,\n",
       "  \"output_past\": true,\n",
       "  \"pad_token_id\": 1,\n",
       "  \"prefix\": \" \",\n",
       "  \"replacing_rate\": 0,\n",
       "  \"scale_embedding\": false,\n",
       "  \"static_position_embeddings\": false,\n",
       "  \"student_decoder_layers\": null,\n",
       "  \"student_encoder_layers\": null,\n",
       "  \"task_specific_params\": {\n",
       "    \"summarization\": {\n",
       "      \"early_stopping\": true,\n",
       "      \"length_penalty\": 2.0,\n",
       "      \"max_length\": 142,\n",
       "      \"min_length\": 56,\n",
       "      \"no_repeat_ngram_size\": 3,\n",
       "      \"num_beams\": 4\n",
       "    }\n",
       "  },\n",
       "  \"transformers_version\": \"4.22.1\",\n",
       "  \"use_cache\": true,\n",
       "  \"vocab_size\": 50264\n",
       "}"
      ]
     },
     "execution_count": 18,
     "metadata": {},
     "output_type": "execute_result"
    }
   ],
   "source": [
    "hf_config"
   ]
  },
  {
   "cell_type": "code",
   "execution_count": 19,
   "metadata": {},
   "outputs": [
    {
     "data": {
      "text/plain": [
       "{'early_stopping': True,\n",
       " 'length_penalty': 2.0,\n",
       " 'max_length': 5,\n",
       " 'min_length': 2,\n",
       " 'no_repeat_ngram_size': 3,\n",
       " 'num_beams': 4}"
      ]
     },
     "execution_count": 19,
     "metadata": {},
     "output_type": "execute_result"
    }
   ],
   "source": [
    "text_gen_kwargs = {}\n",
    "if hf_arch in [\"bart\", \"t5\"]:\n",
    "    text_gen_kwargs = {\n",
    "        **hf_config.task_specific_params[\"summarization\"],\n",
    "        **{\"max_length\": 5, \"min_length\": 2, \"num_beams\": 4},\n",
    "    }\n",
    "\n",
    "# not all \"summarization\" parameters are for the model.generate method ... remove them here\n",
    "generate_func_args = list(inspect.signature(hf_model.generate).parameters.keys())\n",
    "for k in text_gen_kwargs.copy():\n",
    "    if k not in generate_func_args:\n",
    "        del text_gen_kwargs[k]\n",
    "\n",
    "text_gen_kwargs"
   ]
  },
  {
   "cell_type": "code",
   "execution_count": 20,
   "metadata": {},
   "outputs": [],
   "source": [
    "tok_kwargs = {}\n",
    "if hf_arch == \"mbart\":\n",
    "    tok_kwargs[\"src_lang\"], tok_kwargs[\"tgt_lang\"] = \"en_XX\", \"en_XX\""
   ]
  },
  {
   "cell_type": "code",
   "execution_count": 21,
   "metadata": {},
   "outputs": [],
   "source": [
    "batch_tokenize_tfm = Seq2SeqBatchTokenizeTransform(\n",
    "    hf_arch,\n",
    "    hf_config,\n",
    "    hf_tokenizer,\n",
    "    hf_model,\n",
    "    max_length=256,\n",
    "    max_target_length=130,\n",
    "    tok_kwargs=tok_kwargs,\n",
    "    text_gen_kwargs=text_gen_kwargs,\n",
    ")\n",
    "\n",
    "blocks = (Seq2SeqTextBlock(batch_tokenize_tfm=batch_tokenize_tfm), noop)\n",
    "\n",
    "dblock = DataBlock(blocks=blocks, get_x=ColReader(\"transcript\"), get_y=ColReader(\"topic\"), splitter=RandomSplitter())"
   ]
  },
  {
   "cell_type": "code",
   "execution_count": 23,
   "metadata": {},
   "outputs": [
    {
     "data": {
      "text/plain": [
       "(2, torch.Size([16, 256]), torch.Size([16, 13]))"
      ]
     },
     "execution_count": 23,
     "metadata": {},
     "output_type": "execute_result"
    }
   ],
   "source": [
    "dls = dblock.dataloaders(summarization_train_df, bs=16)\n",
    "b = dls.one_batch()\n",
    "len(b), b[0][\"input_ids\"].shape, b[1].shape"
   ]
  },
  {
   "cell_type": "code",
   "execution_count": 24,
   "metadata": {},
   "outputs": [
    {
     "data": {
      "text/html": [
       "<table border=\"1\" class=\"dataframe\">\n",
       "  <thead>\n",
       "    <tr style=\"text-align: right;\">\n",
       "      <th></th>\n",
       "      <th>text</th>\n",
       "      <th>target</th>\n",
       "    </tr>\n",
       "  </thead>\n",
       "  <tbody>\n",
       "    <tr>\n",
       "      <th>0</th>\n",
       "      <td>&lt;s&gt; hey everybody we're getting ready to start here everyone's click in on putting my shirt on here oh my dress shirt I was always wearing clothes ok and 3 2 1 boom mics on everything we're ready to go welcome ladies and gentlemen back to my studio here in Vancouver Canada my name is Michael Markowski I'm gonna be showing you how to do some drawing today I'm super excited because I think today we're really going to learn a lot about how to take all these different techniques we've been doing over the past three classes so far put them together to make some new drawings that are gonna really excite us and you're I think you're really gonna be surprised by how much you already know I mean based on just what we've learned so far so we're gonna put it all together and to create some new artworks let me see I'm just gonna turn this light on here okay so let me see what are the little housekeeping things I want to get cleared away right at the beginning if you have any drawings you'd like for me to see and to critique and to give you feedback on please send them to my Instagram to my Twitter or Facebook and if you do so please in the comments say tell me where it is so that I can kind of take&lt;/s&gt;</td>\n",
       "      <td>:52:09 Shading a Sphere</td>\n",
       "    </tr>\n",
       "    <tr>\n",
       "      <th>1</th>\n",
       "      <td>&lt;s&gt; depending on your subject it can be easy or difficult to get the expression you desire to tell the story or to capture the true essence of that person all right let's jump into lightroom now and i'm going to share some photos showing how i've used these compositional rules and techniques all right so this first image of our daughter is not a strong image when it comes to some of the composition techniques we've talked about but the expression is the main compositional technique used by capturing her mood at this point in time during the photo shoot later on in the photo shoot about 20 minutes later she was having enough and she was done so expressions are a great way to tell a story based on the subjects that you're photographing this next image i captured with a mamiya rgb67 about 18 or 19 years ago and although i do have the rule of thirds being applied in here with the couple in the center it's not a very strong composition based on the rule of thirds by itself instead these leading lines on this wall bring us into the image and direct us directly to the couple so i believe the leading lines in this image are the strongest composition technique used in this particular image our next image again not a strong composition really not using the rule of thirds instead we have another great expression&lt;/s&gt;</td>\n",
       "      <td>50+ Composition Examples</td>\n",
       "    </tr>\n",
       "    <tr>\n",
       "      <th>2</th>\n",
       "      <td>&lt;s&gt; learning and i think this is in many ways the the most intriguing one because up to maybe three years ago unsupervised learning was i would say a pure research thing and nobody would really be putting it into practice and then as of about two and a half years ago things started working so well that it pretty much immediately became practice so deep supervised learning the kind of more default way of doing machine learning it works uh but it requires a lot of annotated data you need data where you know what the input is and the corresponding output and so the question is can we get around it can we learn from data that's not all labeled or even you know random other data and the answer is yes and there are two main approaches deep semi-supervised learning and deep unsupervised learning which are already being put into practice today so what is semi-supervised learning the semi kind of stands for it's half supervised half unsupervised and so we'll still have a classification problem and in this toy example each data point will belong to one of two possible classes the yellow class or the blue class and you get to see all the data points and if you look at the shape of how the data points are laid out you might say hey even if i don't know for most of&lt;/s&gt;</td>\n",
       "      <td>Unsupervised Learning</td>\n",
       "    </tr>\n",
       "    <tr>\n",
       "      <th>3</th>\n",
       "      <td>&lt;s&gt; all right next category of tests that we're going to talk about are integration tests between your training system and your prediction system so these are tests that are meant to to evaluate how good a job your training system did at producing a new model that performs well when it's placed in the context of your prediction system so really what these tests are trying to do is they're trying to make sure that the new model the train is like ready to go in production and so this is going to be the bulk of i think what is unique about testing machine learning systems how do you go about doing this we'll go into more details about some of these things but at high level you want to evaluate your model on all of the metrics all the data sets and all the slices of data that you care about and you want to compare that performance that evaluation between your old model and your baseline models and then you want to try to understand the performance envelope of your model which at a high level means you want to understand where your model is going to perform well and where it's not going to perform well what types of data might cause your model not perform well and operationally when do you want to run these tests you want to run these tests whenever you have a new candidate model like a new model&lt;/s&gt;</td>\n",
       "      <td>Evaluation Tests</td>\n",
       "    </tr>\n",
       "    <tr>\n",
       "      <th>4</th>\n",
       "      <td>&lt;s&gt; and the next thing that you're going to do is you're going to go and implement that model and debug your implementation all right so the steps we're going to cover here are first you need to get your model to run it all which sounds easy but it's not always as easy as it sounds then you're going to over fit a single batch of data and once you can overfit a single batch of data then we're going to compare the results of your model to some known result all right so to just give you a quick preview of some of the stuff that we're going to cover here i think in my experience these are five of the most common bugs that tend to come up when you're implementing a deep learning model so one really common one is you have the wrong shapes for your tensors so you know you you're trying to add something that's like three by four together with something that's like three by five usually you're you're like usually this will fail loudly which makes it relatively easy to debug but it's also possible for it to fail silently particularly in tensorflow where you'll have kind of accidental broadcasting when you have shapes that are undefined and so this can be a silent source of bugs it can be very very painful to to find pre&lt;/s&gt;</td>\n",
       "      <td>Implement and Debug</td>\n",
       "    </tr>\n",
       "  </tbody>\n",
       "</table>"
      ],
      "text/plain": [
       "<IPython.core.display.HTML object>"
      ]
     },
     "metadata": {},
     "output_type": "display_data"
    }
   ],
   "source": [
    "dls.show_batch(dataloaders=dls, max_n=5)"
   ]
  },
  {
   "cell_type": "code",
   "execution_count": 25,
   "metadata": {},
   "outputs": [],
   "source": [
    "seq2seq_metrics = {\n",
    "    \"rouge\": {\n",
    "        \"compute_kwargs\": {\"rouge_types\": [\"rouge1\", \"rouge2\", \"rougeL\", \"rougeLsum\"], \"use_stemmer\": True},\n",
    "        \"returns\": [\"rouge1\", \"rouge2\", \"rougeL\", \"rougeLsum\"],\n",
    "    },\n",
    "    \"bertscore\": {\"compute_kwargs\": {\"lang\": \"en\"}, \"returns\": [\"precision\", \"recall\", \"f1\"]},\n",
    "}"
   ]
  },
  {
   "cell_type": "code",
   "execution_count": 26,
   "metadata": {},
   "outputs": [],
   "source": [
    "model = BaseModelWrapper(hf_model)\n",
    "learn_cbs = [BaseModelCallback]\n",
    "fit_cbs = [Seq2SeqMetricsCallback(custom_metrics=seq2seq_metrics)]"
   ]
  },
  {
   "cell_type": "code",
   "execution_count": 27,
   "metadata": {},
   "outputs": [],
   "source": [
    "# WandbCallback??"
   ]
  },
  {
   "cell_type": "code",
   "execution_count": 28,
   "metadata": {},
   "outputs": [],
   "source": [
    "learn = Learner(\n",
    "    dls,\n",
    "    model,\n",
    "    opt_func=partial(Adam),\n",
    "    loss_func=CrossEntropyLossFlat(),\n",
    "    cbs=learn_cbs,\n",
    "    splitter=partial(blurr_seq2seq_splitter, arch=hf_arch),\n",
    ")\n",
    "\n",
    "# learn = learn.to_native_fp16() #.to_fp16()\n",
    "learn.freeze()"
   ]
  },
  {
   "cell_type": "code",
   "execution_count": 29,
   "metadata": {},
   "outputs": [
    {
     "data": {
      "text/html": [
       "\n",
       "<style>\n",
       "    /* Turns off some styling */\n",
       "    progress {\n",
       "        /* gets rid of default border in Firefox and Opera. */\n",
       "        border: none;\n",
       "        /* Needs to be in here for Safari polyfill so background images work as expected. */\n",
       "        background-size: auto;\n",
       "    }\n",
       "    progress:not([value]), progress:not([value])::-webkit-progress-bar {\n",
       "        background: repeating-linear-gradient(45deg, #7e7e7e, #7e7e7e 10px, #5c5c5c 10px, #5c5c5c 20px);\n",
       "    }\n",
       "    .progress-bar-interrupted, .progress-bar-interrupted::-webkit-progress-bar {\n",
       "        background: #F44336;\n",
       "    }\n",
       "</style>\n"
      ],
      "text/plain": [
       "<IPython.core.display.HTML object>"
      ]
     },
     "metadata": {},
     "output_type": "display_data"
    },
    {
     "data": {
      "text/html": [],
      "text/plain": [
       "<IPython.core.display.HTML object>"
      ]
     },
     "metadata": {},
     "output_type": "display_data"
    },
    {
     "data": {
      "text/plain": [
       "BaseModelWrapper (Input shape: 16 x 256)\n",
       "============================================================================\n",
       "Layer (type)         Output Shape         Param #    Trainable \n",
       "============================================================================\n",
       "                     16 x 13 x 1024      \n",
       "Embedding                                 51470336   False     \n",
       "Embedding                                 51470336   False     \n",
       "____________________________________________________________________________\n",
       "                     16 x 256 x 1024     \n",
       "BartLearnedPositionalEmbedding                      1050624    False     \n",
       "Linear                                    1049600    False     \n",
       "Linear                                    1049600    False     \n",
       "Linear                                    1049600    False     \n",
       "Linear                                    1049600    False     \n",
       "LayerNorm                                 2048       True      \n",
       "GELUActivation                                                 \n",
       "____________________________________________________________________________\n",
       "                     16 x 256 x 4096     \n",
       "Linear                                    4198400    False     \n",
       "____________________________________________________________________________\n",
       "                     16 x 256 x 1024     \n",
       "Linear                                    4195328    False     \n",
       "LayerNorm                                 2048       True      \n",
       "Linear                                    1049600    False     \n",
       "Linear                                    1049600    False     \n",
       "Linear                                    1049600    False     \n",
       "Linear                                    1049600    False     \n",
       "LayerNorm                                 2048       True      \n",
       "GELUActivation                                                 \n",
       "____________________________________________________________________________\n",
       "                     16 x 256 x 4096     \n",
       "Linear                                    4198400    False     \n",
       "____________________________________________________________________________\n",
       "                     16 x 256 x 1024     \n",
       "Linear                                    4195328    False     \n",
       "LayerNorm                                 2048       True      \n",
       "Linear                                    1049600    False     \n",
       "Linear                                    1049600    False     \n",
       "Linear                                    1049600    False     \n",
       "Linear                                    1049600    False     \n",
       "LayerNorm                                 2048       True      \n",
       "GELUActivation                                                 \n",
       "____________________________________________________________________________\n",
       "                     16 x 256 x 4096     \n",
       "Linear                                    4198400    False     \n",
       "____________________________________________________________________________\n",
       "                     16 x 256 x 1024     \n",
       "Linear                                    4195328    False     \n",
       "LayerNorm                                 2048       True      \n",
       "Linear                                    1049600    False     \n",
       "Linear                                    1049600    False     \n",
       "Linear                                    1049600    False     \n",
       "Linear                                    1049600    False     \n",
       "LayerNorm                                 2048       True      \n",
       "GELUActivation                                                 \n",
       "____________________________________________________________________________\n",
       "                     16 x 256 x 4096     \n",
       "Linear                                    4198400    False     \n",
       "____________________________________________________________________________\n",
       "                     16 x 256 x 1024     \n",
       "Linear                                    4195328    False     \n",
       "LayerNorm                                 2048       True      \n",
       "Linear                                    1049600    False     \n",
       "Linear                                    1049600    False     \n",
       "Linear                                    1049600    False     \n",
       "Linear                                    1049600    False     \n",
       "LayerNorm                                 2048       True      \n",
       "GELUActivation                                                 \n",
       "____________________________________________________________________________\n",
       "                     16 x 256 x 4096     \n",
       "Linear                                    4198400    False     \n",
       "____________________________________________________________________________\n",
       "                     16 x 256 x 1024     \n",
       "Linear                                    4195328    False     \n",
       "LayerNorm                                 2048       True      \n",
       "Linear                                    1049600    False     \n",
       "Linear                                    1049600    False     \n",
       "Linear                                    1049600    False     \n",
       "Linear                                    1049600    False     \n",
       "LayerNorm                                 2048       True      \n",
       "GELUActivation                                                 \n",
       "____________________________________________________________________________\n",
       "                     16 x 256 x 4096     \n",
       "Linear                                    4198400    False     \n",
       "____________________________________________________________________________\n",
       "                     16 x 256 x 1024     \n",
       "Linear                                    4195328    False     \n",
       "LayerNorm                                 2048       True      \n",
       "LayerNorm                                 2048       True      \n",
       "____________________________________________________________________________\n",
       "                     16 x 13 x 1024      \n",
       "Embedding                                 51470336   False     \n",
       "BartLearnedPositionalEmbedding                      1050624    False     \n",
       "Linear                                    1049600    True      \n",
       "Linear                                    1049600    True      \n",
       "Linear                                    1049600    True      \n",
       "Linear                                    1049600    True      \n",
       "GELUActivation                                                 \n",
       "LayerNorm                                 2048       True      \n",
       "Linear                                    1049600    True      \n",
       "Linear                                    1049600    True      \n",
       "Linear                                    1049600    True      \n",
       "Linear                                    1049600    True      \n",
       "LayerNorm                                 2048       True      \n",
       "____________________________________________________________________________\n",
       "                     16 x 13 x 4096      \n",
       "Linear                                    4198400    True      \n",
       "____________________________________________________________________________\n",
       "                     16 x 13 x 1024      \n",
       "Linear                                    4195328    True      \n",
       "LayerNorm                                 2048       True      \n",
       "Linear                                    1049600    True      \n",
       "Linear                                    1049600    True      \n",
       "Linear                                    1049600    True      \n",
       "Linear                                    1049600    True      \n",
       "GELUActivation                                                 \n",
       "LayerNorm                                 2048       True      \n",
       "Linear                                    1049600    True      \n",
       "Linear                                    1049600    True      \n",
       "Linear                                    1049600    True      \n",
       "Linear                                    1049600    True      \n",
       "LayerNorm                                 2048       True      \n",
       "____________________________________________________________________________\n",
       "                     16 x 13 x 4096      \n",
       "Linear                                    4198400    True      \n",
       "____________________________________________________________________________\n",
       "                     16 x 13 x 1024      \n",
       "Linear                                    4195328    True      \n",
       "LayerNorm                                 2048       True      \n",
       "Linear                                    1049600    True      \n",
       "Linear                                    1049600    True      \n",
       "Linear                                    1049600    True      \n",
       "Linear                                    1049600    True      \n",
       "GELUActivation                                                 \n",
       "LayerNorm                                 2048       True      \n",
       "Linear                                    1049600    True      \n",
       "Linear                                    1049600    True      \n",
       "Linear                                    1049600    True      \n",
       "Linear                                    1049600    True      \n",
       "LayerNorm                                 2048       True      \n",
       "____________________________________________________________________________\n",
       "                     16 x 13 x 4096      \n",
       "Linear                                    4198400    True      \n",
       "____________________________________________________________________________\n",
       "                     16 x 13 x 1024      \n",
       "Linear                                    4195328    True      \n",
       "LayerNorm                                 2048       True      \n",
       "Linear                                    1049600    True      \n",
       "Linear                                    1049600    True      \n",
       "Linear                                    1049600    True      \n",
       "Linear                                    1049600    True      \n",
       "GELUActivation                                                 \n",
       "LayerNorm                                 2048       True      \n",
       "Linear                                    1049600    True      \n",
       "Linear                                    1049600    True      \n",
       "Linear                                    1049600    True      \n",
       "Linear                                    1049600    True      \n",
       "LayerNorm                                 2048       True      \n",
       "____________________________________________________________________________\n",
       "                     16 x 13 x 4096      \n",
       "Linear                                    4198400    True      \n",
       "____________________________________________________________________________\n",
       "                     16 x 13 x 1024      \n",
       "Linear                                    4195328    True      \n",
       "LayerNorm                                 2048       True      \n",
       "Linear                                    1049600    True      \n",
       "Linear                                    1049600    True      \n",
       "Linear                                    1049600    True      \n",
       "Linear                                    1049600    True      \n",
       "GELUActivation                                                 \n",
       "LayerNorm                                 2048       True      \n",
       "Linear                                    1049600    True      \n",
       "Linear                                    1049600    True      \n",
       "Linear                                    1049600    True      \n",
       "Linear                                    1049600    True      \n",
       "LayerNorm                                 2048       True      \n",
       "____________________________________________________________________________\n",
       "                     16 x 13 x 4096      \n",
       "Linear                                    4198400    True      \n",
       "____________________________________________________________________________\n",
       "                     16 x 13 x 1024      \n",
       "Linear                                    4195328    True      \n",
       "LayerNorm                                 2048       True      \n",
       "Linear                                    1049600    True      \n",
       "Linear                                    1049600    True      \n",
       "Linear                                    1049600    True      \n",
       "Linear                                    1049600    True      \n",
       "GELUActivation                                                 \n",
       "LayerNorm                                 2048       True      \n",
       "Linear                                    1049600    True      \n",
       "Linear                                    1049600    True      \n",
       "Linear                                    1049600    True      \n",
       "Linear                                    1049600    True      \n",
       "LayerNorm                                 2048       True      \n",
       "____________________________________________________________________________\n",
       "                     16 x 13 x 4096      \n",
       "Linear                                    4198400    True      \n",
       "____________________________________________________________________________\n",
       "                     16 x 13 x 1024      \n",
       "Linear                                    4195328    True      \n",
       "LayerNorm                                 2048       True      \n",
       "LayerNorm                                 2048       True      \n",
       "____________________________________________________________________________\n",
       "                     16 x 13 x 50264     \n",
       "Linear                                    51470336   False     \n",
       "____________________________________________________________________________\n",
       "\n",
       "Total params: 384,344,064\n",
       "Total trainable params: 100,808,704\n",
       "Total non-trainable params: 283,535,360\n",
       "\n",
       "Optimizer used: functools.partial(<function Adam at 0x7f0528197640>)\n",
       "Loss function: FlattenedLoss of CrossEntropyLoss()\n",
       "\n",
       "Model frozen up to parameter group #2\n",
       "\n",
       "Callbacks:\n",
       "  - TrainEvalCallback\n",
       "  - BaseModelCallback\n",
       "  - CastToTensor\n",
       "  - Recorder\n",
       "  - ProgressCallback"
      ]
     },
     "execution_count": 29,
     "metadata": {},
     "output_type": "execute_result"
    }
   ],
   "source": [
    "learn.summary()"
   ]
  },
  {
   "cell_type": "code",
   "execution_count": 30,
   "metadata": {},
   "outputs": [],
   "source": [
    "# wandb.init(project=\"fsdl_summarization\", job_type=\"training\")"
   ]
  },
  {
   "cell_type": "code",
   "execution_count": 31,
   "metadata": {},
   "outputs": [
    {
     "data": {
      "text/html": [
       "\n",
       "<style>\n",
       "    /* Turns off some styling */\n",
       "    progress {\n",
       "        /* gets rid of default border in Firefox and Opera. */\n",
       "        border: none;\n",
       "        /* Needs to be in here for Safari polyfill so background images work as expected. */\n",
       "        background-size: auto;\n",
       "    }\n",
       "    progress:not([value]), progress:not([value])::-webkit-progress-bar {\n",
       "        background: repeating-linear-gradient(45deg, #7e7e7e, #7e7e7e 10px, #5c5c5c 10px, #5c5c5c 20px);\n",
       "    }\n",
       "    .progress-bar-interrupted, .progress-bar-interrupted::-webkit-progress-bar {\n",
       "        background: #F44336;\n",
       "    }\n",
       "</style>\n"
      ],
      "text/plain": [
       "<IPython.core.display.HTML object>"
      ]
     },
     "metadata": {},
     "output_type": "display_data"
    },
    {
     "data": {
      "text/html": [
       "<table border=\"1\" class=\"dataframe\">\n",
       "  <thead>\n",
       "    <tr style=\"text-align: left;\">\n",
       "      <th>epoch</th>\n",
       "      <th>train_loss</th>\n",
       "      <th>valid_loss</th>\n",
       "      <th>rouge1</th>\n",
       "      <th>rouge2</th>\n",
       "      <th>rougeL</th>\n",
       "      <th>rougeLsum</th>\n",
       "      <th>bertscore_precision</th>\n",
       "      <th>bertscore_recall</th>\n",
       "      <th>bertscore_f1</th>\n",
       "      <th>time</th>\n",
       "    </tr>\n",
       "  </thead>\n",
       "  <tbody>\n",
       "    <tr>\n",
       "      <td>0</td>\n",
       "      <td>4.586969</td>\n",
       "      <td>4.154446</td>\n",
       "      <td>0.001528</td>\n",
       "      <td>0.000000</td>\n",
       "      <td>0.001528</td>\n",
       "      <td>0.001528</td>\n",
       "      <td>0.057278</td>\n",
       "      <td>0.056005</td>\n",
       "      <td>0.056621</td>\n",
       "      <td>00:15</td>\n",
       "    </tr>\n",
       "  </tbody>\n",
       "</table>"
      ],
      "text/plain": [
       "<IPython.core.display.HTML object>"
      ]
     },
     "metadata": {},
     "output_type": "display_data"
    },
    {
     "name": "stderr",
     "output_type": "stream",
     "text": [
      "Warning: Empty candidate sentence detected; setting raw BERTscores to 0.\n",
      "Warning: Empty candidate sentence detected; setting raw BERTscores to 0.\n"
     ]
    }
   ],
   "source": [
    "learn.fit_one_cycle(1, lr_max=1e-5, cbs=fit_cbs)"
   ]
  },
  {
   "cell_type": "markdown",
   "metadata": {},
   "source": [
    "## Predictions and taking look at results"
   ]
  },
  {
   "cell_type": "code",
   "execution_count": 32,
   "metadata": {},
   "outputs": [
    {
     "data": {
      "text/html": [
       "\n",
       "<style>\n",
       "    /* Turns off some styling */\n",
       "    progress {\n",
       "        /* gets rid of default border in Firefox and Opera. */\n",
       "        border: none;\n",
       "        /* Needs to be in here for Safari polyfill so background images work as expected. */\n",
       "        background-size: auto;\n",
       "    }\n",
       "    progress:not([value]), progress:not([value])::-webkit-progress-bar {\n",
       "        background: repeating-linear-gradient(45deg, #7e7e7e, #7e7e7e 10px, #5c5c5c 10px, #5c5c5c 20px);\n",
       "    }\n",
       "    .progress-bar-interrupted, .progress-bar-interrupted::-webkit-progress-bar {\n",
       "        background: #F44336;\n",
       "    }\n",
       "</style>\n"
      ],
      "text/plain": [
       "<IPython.core.display.HTML object>"
      ]
     },
     "metadata": {},
     "output_type": "display_data"
    },
    {
     "data": {
      "text/html": [],
      "text/plain": [
       "<IPython.core.display.HTML object>"
      ]
     },
     "metadata": {},
     "output_type": "display_data"
    },
    {
     "data": {
      "text/html": [
       "<table border=\"1\" class=\"dataframe\">\n",
       "  <thead>\n",
       "    <tr style=\"text-align: right;\">\n",
       "      <th></th>\n",
       "      <th>text</th>\n",
       "      <th>target</th>\n",
       "      <th>prediction</th>\n",
       "    </tr>\n",
       "  </thead>\n",
       "  <tbody>\n",
       "    <tr>\n",
       "      <th>0</th>\n",
       "      <td>little bit bigger you know obviously a super famous artwork and and this is not that he wasn't the first person to illustrate perspective or he wasn't the first person to illustrate this particular biblical scene but he was amongst the first to use perspective to draw it and or to paint it and so previous to this we had medieval painting right which was very kind of stilted and and the space was kind of weirdly ill-defined it looked a lot like children's drawings but just like really really refined children's drawings where everything is a little bit awkward so what is kind of special about this and why it's Malay Nardo's Last Supper is important is that this was painted let me see if we there's a well it was painted in a room and kind of high up in a room on a wall and if you stood all the way back at the far end of the room it created the illusion that this whole scene was happening on that far wall like the the walls and the ceiling and the room that you were physically standing in appeared to continue into the painting and then off into the distance so it was this optical illusion you know you you you would look at it and say well I know that's a flat wall but it seems to kind of go further the painting</td>\n",
       "      <td>Shading a Cylinder 4 Different Ways</td>\n",
       "      <td>[ Malay, , , , , , , , ,  Lucas, , , , , , ]</td>\n",
       "    </tr>\n",
       "  </tbody>\n",
       "</table>"
      ],
      "text/plain": [
       "<IPython.core.display.HTML object>"
      ]
     },
     "metadata": {},
     "output_type": "display_data"
    }
   ],
   "source": [
    "learn.show_results(learner=learn)"
   ]
  },
  {
   "cell_type": "code",
   "execution_count": 33,
   "metadata": {},
   "outputs": [],
   "source": [
    "test_article = \"\"\"hey everybody welcome back this week we're going to talk about something a little bit different than we do most weeks most weeks we talk about specific\n",
    "technical aspects of building machine learning powered products but this week we're going to focus on some of the\n",
    "organizational things that you need to do in order to work together on ml-powered products as part of an\n",
    "interdisciplinary team so the the reality of building ml Power Products is that building any product well is really\n",
    "difficult you have to figure out how to hire grade people you need to be able to manage those people and get the best out\n",
    "of them you need to make sure that your team is all working together towards a shared goal you need to make good\n",
    "long-term technical choices manage technical debt over time you need to make sure that you're managing\n",
    "expectations not just of your own team but also of leadership of your organization and you need to be able to make sure\n",
    "that you're working well within the confines of the requirements of the rest of the org that you're understanding\n",
    "those requirements well and communicating back to your progress to the rest of the organization against those requirements\n",
    "but machine learning adds even more additional complexity to this machine learning Talent tends to be very scarce\n",
    "and expensive to attract machine learning teams are not just a\n",
    "single role but today they tend to be pretty interdisciplinary which makes managing them an even bigger challenge\n",
    "machine learning projects often have unclear timelines and there's a high\n",
    "degree of uncertainty to those timelines machine learning itself is moving super fast and machine learning as we've\n",
    "covered before you can think of as like the high interest credit card of technical debt so keeping up with making\n",
    "good long-term decisions and not incurring too much technical debt is especially difficult in ml unlike\n",
    "traditional software ml is so new that in most organizations leadership tends not to be that well educated in it they\n",
    "might not understand some of the core differences between ML and other technology that you're working with machine learning products tend to fail\n",
    "in ways that are really hard for Lay people to understand and so that makes it very difficult to help the rest of\n",
    "the stakeholders in your organization understand what they could really expect from the technology that you're building\n",
    "and what is realistic for us to achieve so throughout the rest rest of this lecture we're going to kind of touch on\n",
    "some of these themes and cover different aspects of this problem of working together to build ml Power Products as\n",
    "an organization so here are the pieces that we're going to cover we're going to talk about different roles that are involved in building ml products we're\n",
    "going to talk about some of the unique aspects involved in hiring ml Talent\n",
    "we're going to talk about organization of teams and how the ml team tends to fit into the rest of the org and some of\n",
    "the pros and cons of different ways of setting that up we'll talk about managing ml teams and\n",
    "ml product management and then lastly we'll talk about some of the design considerations for how to design a\n",
    "product that is well suited to having a good ml model that backs it so let's dive in and talk about rules the most\n",
    "common ml rules that you might hear of are things like ml product manager ml\n",
    "\"\"\""
   ]
  },
  {
   "cell_type": "code",
   "execution_count": 34,
   "metadata": {},
   "outputs": [
    {
     "data": {
      "text/plain": [
       "[{'summary_texts': [\" This week we're going to talk about some of the unique aspects of building machine learning powered products . The reality of building any product well is reallydifficult you have to figure out how to hire grade people you need to manage those people and get the best out of them .\",\n",
       "   \" This week we're going to talk about some of the unique aspects of building machine learning powered products . The reality of building any product well is reallydifficult you have to figure out how to hire grade people you need to manage those people and get the best out of those people .\",\n",
       "   \" This week we're going to talk about some of the unique aspects of building machine learning powered products . The reality of building any product well is reallydifficult you have to figure out how to hire grade people you need to manage those people and get the best out of them.\"]}]"
      ]
     },
     "execution_count": 34,
     "metadata": {},
     "output_type": "execute_result"
    }
   ],
   "source": [
    "learn.blurr_generate(test_article, num_return_sequences=3, key=\"summary_texts\")"
   ]
  },
  {
   "cell_type": "code",
   "execution_count": null,
   "metadata": {},
   "outputs": [],
   "source": []
  }
 ],
 "metadata": {
  "kernelspec": {
   "display_name": "Python 3 (ipykernel)",
   "language": "python",
   "name": "python3"
  },
  "language_info": {
   "codemirror_mode": {
    "name": "ipython",
    "version": 3
   },
   "file_extension": ".py",
   "mimetype": "text/x-python",
   "name": "python",
   "nbconvert_exporter": "python",
   "pygments_lexer": "ipython3",
   "version": "3.10.6"
  },
  "vscode": {
   "interpreter": {
    "hash": "4c27d0eb0116998fc328b5a00abe6956c11e30aa3cb3ca27ff0ca511f067786d"
   }
  }
 },
 "nbformat": 4,
 "nbformat_minor": 2
}
