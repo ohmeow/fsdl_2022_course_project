{
 "cells": [
  {
   "cell_type": "markdown",
   "id": "9a010eeb",
   "metadata": {},
   "source": [
    "# Summarization Inference Pipeline"
   ]
  },
  {
   "cell_type": "markdown",
   "id": "42837e95",
   "metadata": {},
   "source": [
    "**Dependencies**\n",
    "\n",
    "1. ohmeow-blurr\n",
    "2.fast.ai\n",
    "\n",
    "[Full dependencies of project](https://github.com/ohmeow/fsdl_2022_course_project/blob/master/requirements.txt)"
   ]
  },
  {
   "cell_type": "code",
   "execution_count": 1,
   "id": "4ee4c365",
   "metadata": {},
   "outputs": [
    {
     "name": "stderr",
     "output_type": "stream",
     "text": [
      "/home/team_007/mambaforge/lib/python3.10/site-packages/tqdm/auto.py:22: TqdmWarning: IProgress not found. Please update jupyter and ipywidgets. See https://ipywidgets.readthedocs.io/en/stable/user_install.html\n",
      "  from .autonotebook import tqdm as notebook_tqdm\n"
     ]
    }
   ],
   "source": [
    "from course_copilot import summarization"
   ]
  },
  {
   "cell_type": "code",
   "execution_count": 2,
   "id": "8646eff8",
   "metadata": {},
   "outputs": [
    {
     "data": {
      "text/plain": [
       "course_copilot.summarization.HeadlineSummarizationConfig"
      ]
     },
     "execution_count": 2,
     "metadata": {},
     "output_type": "execute_result"
    }
   ],
   "source": [
    "train_config = summarization.HeadlineSummarizationConfig\n",
    "train_config"
   ]
  },
  {
   "cell_type": "code",
   "execution_count": 3,
   "id": "1b168adf",
   "metadata": {},
   "outputs": [],
   "source": [
    "test_article = \"\"\"hey everybody welcome back this week we're going to talk about something a little bit different than we do most weeks most weeks we talk about specific\n",
    "technical aspects of building machine learning powered products but this week we're going to focus on some of the\n",
    "organizational things that you need to do in order to work together on ml-powered products as part of an\n",
    "interdisciplinary team so the the reality of building ml Power Products is that building any product well is really\n",
    "difficult you have to figure out how to hire grade people you need to be able to manage those people and get the best out\n",
    "of them you need to make sure that your team is all working together towards a shared goal you need to make good\n",
    "long-term technical choices manage technical debt over time you need to make sure that you're managing\n",
    "expectations not just of your own team but also of leadership of your organization and you need to be able to make sure\n",
    "that you're working well within the confines of the requirements of the rest of the org that you're understanding\n",
    "those requirements well and communicating back to your progress to the rest of the organization against those requirements\n",
    "but machine learning adds even more additional complexity to this machine learning Talent tends to be very scarce\n",
    "and expensive to attract machine learning teams are not just a\n",
    "single role but today they tend to be pretty interdisciplinary which makes managing them an even bigger challenge\n",
    "machine learning projects often have unclear timelines and there's a high\n",
    "degree of uncertainty to those timelines machine learning itself is moving super fast and machine learning as we've\n",
    "covered before you can think of as like the high interest credit card of technical debt so keeping up with making\n",
    "good long-term decisions and not incurring too much technical debt is especially difficult in ml unlike\n",
    "traditional software ml is so new that in most organizations leadership tends not to be that well educated in it they\n",
    "might not understand some of the core differences between ML and other technology that you're working with machine learning products tend to fail\n",
    "in ways that are really hard for Lay people to understand and so that makes it very difficult to help the rest of\n",
    "the stakeholders in your organization understand what they could really expect from the technology that you're building\n",
    "and what is realistic for us to achieve so throughout the rest rest of this lecture we're going to kind of touch on\n",
    "some of these themes and cover different aspects of this problem of working together to build ml Power Products as\n",
    "an organization so here are the pieces that we're going to cover we're going to talk about different roles that are involved in building ml products we're\n",
    "going to talk about some of the unique aspects involved in hiring ml Talent\n",
    "we're going to talk about organization of teams and how the ml team tends to fit into the rest of the org and some of\n",
    "the pros and cons of different ways of setting that up we'll talk about managing ml teams and\n",
    "ml product management and then lastly we'll talk about some of the design considerations for how to design a\n",
    "product that is well suited to having a good ml model that backs it so let's dive in and talk about rules the most\n",
    "common ml rules that you might hear of are things like ml product manager ml\n",
    "\"\"\""
   ]
  },
  {
   "cell_type": "code",
   "execution_count": 4,
   "id": "ec38c88f",
   "metadata": {},
   "outputs": [],
   "source": [
    "trainer = summarization.SummarizationModelTrainer(\n",
    "    task=\"inference\",\n",
    "    experiment_name=\"headline_summarization\",\n",
    "    train_config=train_config,\n",
    "    data_path=\"../../data\",\n",
    "    model_output_path=\"../../models\",\n",
    "    log_output_path=\"../../logs\",\n",
    "    log_preds=False,\n",
    "    log_n_preds=2,\n",
    "    use_wandb=False,\n",
    ")"
   ]
  },
  {
   "cell_type": "code",
   "execution_count": 5,
   "id": "68e8358f",
   "metadata": {},
   "outputs": [],
   "source": [
    "inf_learn = trainer.load_learner_or_model(\"../../models/headline_summarization.pkl\", device=\"cpu\")"
   ]
  },
  {
   "cell_type": "code",
   "execution_count": 6,
   "id": "7baf3357",
   "metadata": {},
   "outputs": [
    {
     "data": {
      "text/plain": [
       "[{'summary_texts': 'Interdisciplinary teams'}]"
      ]
     },
     "execution_count": 6,
     "metadata": {},
     "output_type": "execute_result"
    }
   ],
   "source": [
    "trainer.get_preds(inf_learn, test_article, max_target_length=5, gen_algo=\"greedy\")"
   ]
  },
  {
   "cell_type": "code",
   "execution_count": 7,
   "id": "00d03f71",
   "metadata": {},
   "outputs": [],
   "source": [
    "def get_headline_summzrization(text):\n",
    "    trainer = summarization.SummarizationModelTrainer(\n",
    "        task=\"inference\",\n",
    "        experiment_name=\"headline_summarization\",\n",
    "        train_config=train_config,\n",
    "        data_path=\"../../data\",\n",
    "        model_output_path=\"../../models\",\n",
    "        log_output_path=\"../../logs\",\n",
    "        log_preds=False,\n",
    "        log_n_preds=2,\n",
    "        use_wandb=False,\n",
    "    )\n",
    "    inf_learn = trainer.load_learner_or_model(\"../../models/headline_summarization.pkl\", device=\"cpu\")\n",
    "    summary_response = trainer.get_preds(inf_learn, text, max_target_length=5, gen_algo=\"greedy\")\n",
    "    return summary_response[0][\"summary_texts\"]"
   ]
  },
  {
   "cell_type": "code",
   "execution_count": 8,
   "id": "fd089b27",
   "metadata": {},
   "outputs": [
    {
     "data": {
      "text/plain": [
       "'Interdisciplinary teams'"
      ]
     },
     "execution_count": 8,
     "metadata": {},
     "output_type": "execute_result"
    }
   ],
   "source": [
    "get_headline_summzrization(test_article)"
   ]
  },
  {
   "cell_type": "code",
   "execution_count": null,
   "id": "4bd0148e",
   "metadata": {},
   "outputs": [],
   "source": []
  }
 ],
 "metadata": {
  "kernelspec": {
   "display_name": "Python 3.9.13 ('fsdl_2022_course_project')",
   "language": "python",
   "name": "python3"
  },
  "language_info": {
   "codemirror_mode": {
    "name": "ipython",
    "version": 3
   },
   "file_extension": ".py",
   "mimetype": "text/x-python",
   "name": "python",
   "nbconvert_exporter": "python",
   "pygments_lexer": "ipython3",
   "version": "3.9.13"
  },
  "vscode": {
   "interpreter": {
    "hash": "4c27d0eb0116998fc328b5a00abe6956c11e30aa3cb3ca27ff0ca511f067786d"
   }
  }
 },
 "nbformat": 4,
 "nbformat_minor": 5
}
