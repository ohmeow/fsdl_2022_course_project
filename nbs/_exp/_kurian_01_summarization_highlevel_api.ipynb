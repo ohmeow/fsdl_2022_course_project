{
 "cells": [
  {
   "cell_type": "code",
   "execution_count": 29,
   "metadata": {},
   "outputs": [],
   "source": [
    "import datetime\n",
    "import os\n",
    "import warnings\n",
    "\n",
    "import pandas as pd\n",
    "import matplotlib.pyplot as plt\n",
    "import nltk\n",
    "import torch\n",
    "\n",
    "from blurr.text.data.all import *\n",
    "from blurr.text.modeling.all import *\n",
    "from fastai.data.block import RandomSplitter\n",
    "from fastai.learner import load_learner\n",
    "from transformers import BartForConditionalGeneration\n",
    "\n",
    "# silence all the HF warnings\n",
    "warnings.simplefilter(\"ignore\")\n",
    "os.environ[\"TOKENIZERS_PARALLELISM\"] = \"false\""
   ]
  },
  {
   "cell_type": "code",
   "execution_count": 2,
   "metadata": {},
   "outputs": [
    {
     "name": "stderr",
     "output_type": "stream",
     "text": [
      "[nltk_data] Downloading package punkt to /home/team_007/nltk_data...\n",
      "[nltk_data]   Package punkt is already up-to-date!\n"
     ]
    },
    {
     "data": {
      "text/plain": [
       "True"
      ]
     },
     "execution_count": 2,
     "metadata": {},
     "output_type": "execute_result"
    }
   ],
   "source": [
    "nltk.download(\"punkt\")"
   ]
  },
  {
   "cell_type": "markdown",
   "metadata": {},
   "source": [
    "## Grab our topics and transcripts"
   ]
  },
  {
   "cell_type": "code",
   "execution_count": 3,
   "metadata": {},
   "outputs": [],
   "source": [
    "sheets_d = pd.read_excel(\n",
    "    \"../../data/raw/fsdl_2022_project_transcripts.xlsx\",\n",
    "    sheet_name=[\"lesson_topics\", \"lesson_transcripts\"],\n",
    "    engine=\"openpyxl\",\n",
    ")\n",
    "topics_df, transcripts_df = [v for k, v in sheets_d.items()]\n",
    "\n",
    "topics_df.drop(columns=\"video_url\", inplace=True)\n",
    "transcripts_df.drop(columns=\"video_url\", inplace=True)\n",
    "\n",
    "topics_df[\"timestamp\"] = topics_df[\"timestamp\"].astype(str)\n",
    "transcripts_df[\"timestamp\"] = transcripts_df[\"timestamp\"].astype(str)"
   ]
  },
  {
   "cell_type": "markdown",
   "metadata": {},
   "source": [
    "## Define a utility function for converting durations to total_seconds"
   ]
  },
  {
   "cell_type": "code",
   "execution_count": 4,
   "metadata": {},
   "outputs": [],
   "source": [
    "def convert_duration_to_seconds(v):\n",
    "    hrs, mins, secs = v.split(\":\")\n",
    "    return (60 * 60 * int(hrs)) + (60 * int(mins)) + int(secs)"
   ]
  },
  {
   "cell_type": "markdown",
   "metadata": {},
   "source": [
    "## Define the start/end boundaries (in seconds) for each topic in each lesson"
   ]
  },
  {
   "cell_type": "code",
   "execution_count": 5,
   "metadata": {},
   "outputs": [],
   "source": [
    "topics_df[\"start_seconds\"] = topics_df[\"timestamp\"].apply(convert_duration_to_seconds)\n",
    "topics_df[\"end_seconds\"] = topics_df.groupby(by=[\"course_title\", \"lesson_num\"])[\"start_seconds\"].shift(\n",
    "    -1, fill_value=100000\n",
    ")"
   ]
  },
  {
   "cell_type": "markdown",
   "metadata": {},
   "source": [
    "## Define the total number of elapsed seconds at each timestamp in the transcripts dataset"
   ]
  },
  {
   "cell_type": "code",
   "execution_count": 6,
   "metadata": {},
   "outputs": [],
   "source": [
    "transcripts_df[\"elapsed_seconds\"] = transcripts_df[\"timestamp\"].apply(convert_duration_to_seconds)"
   ]
  },
  {
   "cell_type": "code",
   "execution_count": 7,
   "metadata": {},
   "outputs": [
    {
     "data": {
      "text/html": [
       "<div>\n",
       "<style scoped>\n",
       "    .dataframe tbody tr th:only-of-type {\n",
       "        vertical-align: middle;\n",
       "    }\n",
       "\n",
       "    .dataframe tbody tr th {\n",
       "        vertical-align: top;\n",
       "    }\n",
       "\n",
       "    .dataframe thead th {\n",
       "        text-align: right;\n",
       "    }\n",
       "</style>\n",
       "<table border=\"1\" class=\"dataframe\">\n",
       "  <thead>\n",
       "    <tr style=\"text-align: right;\">\n",
       "      <th></th>\n",
       "      <th>course_title</th>\n",
       "      <th>lesson_num</th>\n",
       "      <th>timestamp</th>\n",
       "      <th>transcript</th>\n",
       "      <th>elapsed_seconds</th>\n",
       "    </tr>\n",
       "  </thead>\n",
       "  <tbody>\n",
       "    <tr>\n",
       "      <th>0</th>\n",
       "      <td>fast.ai 2022 - Part 1</td>\n",
       "      <td>2</td>\n",
       "      <td>00:00:00</td>\n",
       "      <td>Hi everybody. Welcome to lesson two. Thanks for coming back… slight change of environment here,</td>\n",
       "      <td>0</td>\n",
       "    </tr>\n",
       "    <tr>\n",
       "      <th>1</th>\n",
       "      <td>fast.ai 2022 - Part 1</td>\n",
       "      <td>2</td>\n",
       "      <td>00:00:08</td>\n",
       "      <td>we had a bit of an “administrative issue” at our university — somebody booked our room — so I'm</td>\n",
       "      <td>8</td>\n",
       "    </tr>\n",
       "    <tr>\n",
       "      <th>2</th>\n",
       "      <td>fast.ai 2022 - Part 1</td>\n",
       "      <td>2</td>\n",
       "      <td>00:00:14</td>\n",
       "      <td>doing this from the study at home. so sorry about the lack of decorations behind me.</td>\n",
       "      <td>14</td>\n",
       "    </tr>\n",
       "    <tr>\n",
       "      <th>3</th>\n",
       "      <td>fast.ai 2022 - Part 1</td>\n",
       "      <td>2</td>\n",
       "      <td>00:00:25</td>\n",
       "      <td>I'm actually really really pumped about this lesson. It feels like going back to what things</td>\n",
       "      <td>25</td>\n",
       "    </tr>\n",
       "    <tr>\n",
       "      <th>4</th>\n",
       "      <td>fast.ai 2022 - Part 1</td>\n",
       "      <td>2</td>\n",
       "      <td>00:00:32</td>\n",
       "      <td>were like in the very early days, because we're doing some really new, really cool stuff, which…</td>\n",
       "      <td>32</td>\n",
       "    </tr>\n",
       "  </tbody>\n",
       "</table>\n",
       "</div>"
      ],
      "text/plain": [
       "            course_title lesson_num timestamp  \\\n",
       "0  fast.ai 2022 - Part 1          2  00:00:00   \n",
       "1  fast.ai 2022 - Part 1          2  00:00:08   \n",
       "2  fast.ai 2022 - Part 1          2  00:00:14   \n",
       "3  fast.ai 2022 - Part 1          2  00:00:25   \n",
       "4  fast.ai 2022 - Part 1          2  00:00:32   \n",
       "\n",
       "                                                                                         transcript  \\\n",
       "0   Hi everybody. Welcome to lesson two. Thanks for coming back… slight change of environment here,   \n",
       "1   we had a bit of an “administrative issue” at our university — somebody booked our room — so I'm   \n",
       "2              doing this from the study at home. so sorry about the lack of decorations behind me.   \n",
       "3      I'm actually really really pumped about this lesson. It feels like going back to what things   \n",
       "4  were like in the very early days, because we're doing some really new, really cool stuff, which…   \n",
       "\n",
       "   elapsed_seconds  \n",
       "0                0  \n",
       "1                8  \n",
       "2               14  \n",
       "3               25  \n",
       "4               32  "
      ]
     },
     "execution_count": 7,
     "metadata": {},
     "output_type": "execute_result"
    }
   ],
   "source": [
    "transcripts_df.head()"
   ]
  },
  {
   "cell_type": "markdown",
   "metadata": {},
   "source": [
    "## Build our training data.  \n",
    "\n",
    "This should be usable for both segmentation and summarization tasks"
   ]
  },
  {
   "cell_type": "code",
   "execution_count": 8,
   "metadata": {},
   "outputs": [
    {
     "data": {
      "text/plain": [
       "467129"
      ]
     },
     "execution_count": 8,
     "metadata": {},
     "output_type": "execute_result"
    }
   ],
   "source": [
    "merged_df = topics_df[[\"course_title\", \"lesson_num\", \"topic\", \"start_seconds\", \"end_seconds\"]].merge(\n",
    "    transcripts_df, on=[\"course_title\", \"lesson_num\"]\n",
    ")\n",
    "len(merged_df)"
   ]
  },
  {
   "cell_type": "markdown",
   "metadata": {},
   "source": [
    "Keep only the merged records where the transcript lies inbetween the start/end of the topic"
   ]
  },
  {
   "cell_type": "code",
   "execution_count": 9,
   "metadata": {},
   "outputs": [],
   "source": [
    "merged_df = merged_df[\n",
    "    (merged_df.elapsed_seconds >= merged_df.start_seconds) & (merged_df.elapsed_seconds < merged_df.end_seconds)\n",
    "]"
   ]
  },
  {
   "cell_type": "code",
   "execution_count": 10,
   "metadata": {},
   "outputs": [
    {
     "data": {
      "text/html": [
       "<div>\n",
       "<style scoped>\n",
       "    .dataframe tbody tr th:only-of-type {\n",
       "        vertical-align: middle;\n",
       "    }\n",
       "\n",
       "    .dataframe tbody tr th {\n",
       "        vertical-align: top;\n",
       "    }\n",
       "\n",
       "    .dataframe thead th {\n",
       "        text-align: right;\n",
       "    }\n",
       "</style>\n",
       "<table border=\"1\" class=\"dataframe\">\n",
       "  <thead>\n",
       "    <tr style=\"text-align: right;\">\n",
       "      <th></th>\n",
       "      <th>course_title</th>\n",
       "      <th>lesson_num</th>\n",
       "      <th>topic</th>\n",
       "      <th>start_seconds</th>\n",
       "      <th>end_seconds</th>\n",
       "      <th>timestamp</th>\n",
       "      <th>transcript</th>\n",
       "      <th>elapsed_seconds</th>\n",
       "    </tr>\n",
       "  </thead>\n",
       "  <tbody>\n",
       "    <tr>\n",
       "      <th>0</th>\n",
       "      <td>fast.ai 2022 - Part 1</td>\n",
       "      <td>2</td>\n",
       "      <td>Introduction</td>\n",
       "      <td>0</td>\n",
       "      <td>55</td>\n",
       "      <td>00:00:00</td>\n",
       "      <td>Hi everybody. Welcome to lesson two. Thanks for coming back… slight change of environment here,</td>\n",
       "      <td>0</td>\n",
       "    </tr>\n",
       "    <tr>\n",
       "      <th>1</th>\n",
       "      <td>fast.ai 2022 - Part 1</td>\n",
       "      <td>2</td>\n",
       "      <td>Introduction</td>\n",
       "      <td>0</td>\n",
       "      <td>55</td>\n",
       "      <td>00:00:08</td>\n",
       "      <td>we had a bit of an “administrative issue” at our university — somebody booked our room — so I'm</td>\n",
       "      <td>8</td>\n",
       "    </tr>\n",
       "    <tr>\n",
       "      <th>2</th>\n",
       "      <td>fast.ai 2022 - Part 1</td>\n",
       "      <td>2</td>\n",
       "      <td>Introduction</td>\n",
       "      <td>0</td>\n",
       "      <td>55</td>\n",
       "      <td>00:00:14</td>\n",
       "      <td>doing this from the study at home. so sorry about the lack of decorations behind me.</td>\n",
       "      <td>14</td>\n",
       "    </tr>\n",
       "    <tr>\n",
       "      <th>3</th>\n",
       "      <td>fast.ai 2022 - Part 1</td>\n",
       "      <td>2</td>\n",
       "      <td>Introduction</td>\n",
       "      <td>0</td>\n",
       "      <td>55</td>\n",
       "      <td>00:00:25</td>\n",
       "      <td>I'm actually really really pumped about this lesson. It feels like going back to what things</td>\n",
       "      <td>25</td>\n",
       "    </tr>\n",
       "    <tr>\n",
       "      <th>4</th>\n",
       "      <td>fast.ai 2022 - Part 1</td>\n",
       "      <td>2</td>\n",
       "      <td>Introduction</td>\n",
       "      <td>0</td>\n",
       "      <td>55</td>\n",
       "      <td>00:00:32</td>\n",
       "      <td>were like in the very early days, because we're doing some really new, really cool stuff, which…</td>\n",
       "      <td>32</td>\n",
       "    </tr>\n",
       "  </tbody>\n",
       "</table>\n",
       "</div>"
      ],
      "text/plain": [
       "            course_title lesson_num         topic  start_seconds  end_seconds  \\\n",
       "0  fast.ai 2022 - Part 1          2  Introduction              0           55   \n",
       "1  fast.ai 2022 - Part 1          2  Introduction              0           55   \n",
       "2  fast.ai 2022 - Part 1          2  Introduction              0           55   \n",
       "3  fast.ai 2022 - Part 1          2  Introduction              0           55   \n",
       "4  fast.ai 2022 - Part 1          2  Introduction              0           55   \n",
       "\n",
       "  timestamp  \\\n",
       "0  00:00:00   \n",
       "1  00:00:08   \n",
       "2  00:00:14   \n",
       "3  00:00:25   \n",
       "4  00:00:32   \n",
       "\n",
       "                                                                                         transcript  \\\n",
       "0   Hi everybody. Welcome to lesson two. Thanks for coming back… slight change of environment here,   \n",
       "1   we had a bit of an “administrative issue” at our university — somebody booked our room — so I'm   \n",
       "2              doing this from the study at home. so sorry about the lack of decorations behind me.   \n",
       "3      I'm actually really really pumped about this lesson. It feels like going back to what things   \n",
       "4  were like in the very early days, because we're doing some really new, really cool stuff, which…   \n",
       "\n",
       "   elapsed_seconds  \n",
       "0                0  \n",
       "1                8  \n",
       "2               14  \n",
       "3               25  \n",
       "4               32  "
      ]
     },
     "execution_count": 10,
     "metadata": {},
     "output_type": "execute_result"
    }
   ],
   "source": [
    "merged_df.head()"
   ]
  },
  {
   "cell_type": "markdown",
   "metadata": {},
   "source": [
    "For both segmentation and summarization tasks, we'll need to group the transcripts by course + lesson + topic"
   ]
  },
  {
   "cell_type": "code",
   "execution_count": 11,
   "metadata": {},
   "outputs": [],
   "source": [
    "train_df = (\n",
    "    merged_df[[\"course_title\", \"lesson_num\", \"topic\", \"transcript\", \"start_seconds\"]]\n",
    "    .groupby(by=[\"course_title\", \"lesson_num\", \"start_seconds\", \"topic\"])\n",
    "    .agg(list)\n",
    "    .reset_index()\n",
    ")\n",
    "\n",
    "train_df.sort_values(by=[\"course_title\", \"lesson_num\", \"start_seconds\"], inplace=True)"
   ]
  },
  {
   "cell_type": "code",
   "execution_count": 12,
   "metadata": {},
   "outputs": [
    {
     "data": {
      "text/html": [
       "<div>\n",
       "<style scoped>\n",
       "    .dataframe tbody tr th:only-of-type {\n",
       "        vertical-align: middle;\n",
       "    }\n",
       "\n",
       "    .dataframe tbody tr th {\n",
       "        vertical-align: top;\n",
       "    }\n",
       "\n",
       "    .dataframe thead th {\n",
       "        text-align: right;\n",
       "    }\n",
       "</style>\n",
       "<table border=\"1\" class=\"dataframe\">\n",
       "  <thead>\n",
       "    <tr style=\"text-align: right;\">\n",
       "      <th></th>\n",
       "      <th>course_title</th>\n",
       "      <th>lesson_num</th>\n",
       "      <th>start_seconds</th>\n",
       "      <th>topic</th>\n",
       "      <th>transcript</th>\n",
       "    </tr>\n",
       "  </thead>\n",
       "  <tbody>\n",
       "    <tr>\n",
       "      <th>0</th>\n",
       "      <td>C-Squared Podcast</td>\n",
       "      <td>1</td>\n",
       "      <td>0</td>\n",
       "      <td>Intro</td>\n",
       "      <td>[[Music] welcome everybody to episode one of a, chess themed podcast with myself christian kirilla and i'm fighting on caruana so what's up, christian well not so much fabi uh it's first of all great um to finally start a, podcast the chess podcast i know that um there's a lot of podcasts out there but, i wanted to bring our own tune to the mix and i think uh yeah i'm, excited about that so that's uh the first thing how about yourself fabian well i'm back in the states after it's, been a while at your home it's good to be here it's my first time in uh visiting here and uh, yeah it's been a...</td>\n",
       "    </tr>\n",
       "    <tr>\n",
       "      <th>1</th>\n",
       "      <td>C-Squared Podcast</td>\n",
       "      <td>1</td>\n",
       "      <td>137</td>\n",
       "      <td>Candidates 2018</td>\n",
       "      <td>[camps look like in general yeah well you mentioned the 2018 cycle uh where we worked together we started with the, training before the candidates and for me it's interesting because i've i've played a lot of these, candidates tournaments and i'm always doing it a bit differently trying different things trying to improve it but sometimes it goes, less or more successfully you never know what will work out i think what we did in 2018 not just for the candidates but, also for the world championship because i qualified for that i think what we did then was extremely successful, um we we arran...</td>\n",
       "    </tr>\n",
       "    <tr>\n",
       "      <th>2</th>\n",
       "      <td>C-Squared Podcast</td>\n",
       "      <td>1</td>\n",
       "      <td>464</td>\n",
       "      <td>Candidates training</td>\n",
       "      <td>[going in the candidates like how was the experience yeah i think the preparation was pretty serious it, included a bunch of uh camps and preparation devoted to players as i assume i think everyone has the same, sort of general approach which is to think about their openings their strategy look at the opponents try to, get in shape make sure that you're not you know rusty or blundering things or hallucinating, variations uh but there's a lot of nerves and i i felt a lot of nerves before the tournament and i think possibly i, you know overworked over trained a bit because it was yeah it was...</td>\n",
       "    </tr>\n",
       "    <tr>\n",
       "      <th>3</th>\n",
       "      <td>C-Squared Podcast</td>\n",
       "      <td>1</td>\n",
       "      <td>610</td>\n",
       "      <td>Playing for 2nd place</td>\n",
       "      <td>[were you just like focused on grabbing first well i was only focused on first, but of course there were always these thoughts that well maybe second is enough but you can't play for second, like let's say once i had achieved plus three in the tournament and john was plus four and i tried to go and go into like full, like risk reverse mode which is still difficult to do but let's say i had gone that mode and, and achieved it and like finished second with like plus three and john got plus five uh, and then like magnus says well i'm going to play right then you also feel kind of stupid you k...</td>\n",
       "    </tr>\n",
       "    <tr>\n",
       "      <th>4</th>\n",
       "      <td>C-Squared Podcast</td>\n",
       "      <td>1</td>\n",
       "      <td>916</td>\n",
       "      <td>Magnus' WC decision</td>\n",
       "      <td>[know you can't uh you can't tell him you have to do something i i guess let me rephrase that, fair to let you guys play the tournament first and then tell you the decision, well i think he said it in a strange way which was that i'll play against alireza, which to me is strange because if you don't want to play world championship match i fully understand you know but did he say that did he actually name him, yeah that's kind of what he said um yeah he more he like he didn't say definitively like i won't play against, anyone but he was like i probably won't play unless it's frozen right an...</td>\n",
       "    </tr>\n",
       "  </tbody>\n",
       "</table>\n",
       "</div>"
      ],
      "text/plain": [
       "        course_title lesson_num  start_seconds                  topic  \\\n",
       "0  C-Squared Podcast          1              0                  Intro   \n",
       "1  C-Squared Podcast          1            137        Candidates 2018   \n",
       "2  C-Squared Podcast          1            464    Candidates training   \n",
       "3  C-Squared Podcast          1            610  Playing for 2nd place   \n",
       "4  C-Squared Podcast          1            916    Magnus' WC decision   \n",
       "\n",
       "                                                                                                                                                                                                                                                                                                                                                                                                                                                                                                                                                                                                                transcript  \n",
       "0  [[Music] welcome everybody to episode one of a, chess themed podcast with myself christian kirilla and i'm fighting on caruana so what's up, christian well not so much fabi uh it's first of all great um to finally start a, podcast the chess podcast i know that um there's a lot of podcasts out there but, i wanted to bring our own tune to the mix and i think uh yeah i'm, excited about that so that's uh the first thing how about yourself fabian well i'm back in the states after it's, been a while at your home it's good to be here it's my first time in uh visiting here and uh, yeah it's been a...  \n",
       "1  [camps look like in general yeah well you mentioned the 2018 cycle uh where we worked together we started with the, training before the candidates and for me it's interesting because i've i've played a lot of these, candidates tournaments and i'm always doing it a bit differently trying different things trying to improve it but sometimes it goes, less or more successfully you never know what will work out i think what we did in 2018 not just for the candidates but, also for the world championship because i qualified for that i think what we did then was extremely successful, um we we arran...  \n",
       "2  [going in the candidates like how was the experience yeah i think the preparation was pretty serious it, included a bunch of uh camps and preparation devoted to players as i assume i think everyone has the same, sort of general approach which is to think about their openings their strategy look at the opponents try to, get in shape make sure that you're not you know rusty or blundering things or hallucinating, variations uh but there's a lot of nerves and i i felt a lot of nerves before the tournament and i think possibly i, you know overworked over trained a bit because it was yeah it was...  \n",
       "3  [were you just like focused on grabbing first well i was only focused on first, but of course there were always these thoughts that well maybe second is enough but you can't play for second, like let's say once i had achieved plus three in the tournament and john was plus four and i tried to go and go into like full, like risk reverse mode which is still difficult to do but let's say i had gone that mode and, and achieved it and like finished second with like plus three and john got plus five uh, and then like magnus says well i'm going to play right then you also feel kind of stupid you k...  \n",
       "4  [know you can't uh you can't tell him you have to do something i i guess let me rephrase that, fair to let you guys play the tournament first and then tell you the decision, well i think he said it in a strange way which was that i'll play against alireza, which to me is strange because if you don't want to play world championship match i fully understand you know but did he say that did he actually name him, yeah that's kind of what he said um yeah he more he like he didn't say definitively like i won't play against, anyone but he was like i probably won't play unless it's frozen right an...  "
      ]
     },
     "execution_count": 12,
     "metadata": {},
     "output_type": "execute_result"
    }
   ],
   "source": [
    "train_df.head()"
   ]
  },
  {
   "cell_type": "markdown",
   "metadata": {},
   "source": [
    "## Build summarization training set"
   ]
  },
  {
   "cell_type": "code",
   "execution_count": 13,
   "metadata": {},
   "outputs": [],
   "source": [
    "summarization_train_df = train_df.copy()"
   ]
  },
  {
   "cell_type": "code",
   "execution_count": 14,
   "metadata": {},
   "outputs": [],
   "source": [
    "summarization_train_df[\"transcript\"] = summarization_train_df[\"transcript\"].apply(\n",
    "    lambda v: \" \".join([str(seq) for seq in v])\n",
    ")"
   ]
  },
  {
   "cell_type": "code",
   "execution_count": 15,
   "metadata": {},
   "outputs": [
    {
     "data": {
      "text/html": [
       "<div>\n",
       "<style scoped>\n",
       "    .dataframe tbody tr th:only-of-type {\n",
       "        vertical-align: middle;\n",
       "    }\n",
       "\n",
       "    .dataframe tbody tr th {\n",
       "        vertical-align: top;\n",
       "    }\n",
       "\n",
       "    .dataframe thead th {\n",
       "        text-align: right;\n",
       "    }\n",
       "</style>\n",
       "<table border=\"1\" class=\"dataframe\">\n",
       "  <thead>\n",
       "    <tr style=\"text-align: right;\">\n",
       "      <th></th>\n",
       "      <th>course_title</th>\n",
       "      <th>lesson_num</th>\n",
       "      <th>start_seconds</th>\n",
       "      <th>topic</th>\n",
       "      <th>transcript</th>\n",
       "    </tr>\n",
       "  </thead>\n",
       "  <tbody>\n",
       "    <tr>\n",
       "      <th>0</th>\n",
       "      <td>C-Squared Podcast</td>\n",
       "      <td>1</td>\n",
       "      <td>0</td>\n",
       "      <td>Intro</td>\n",
       "      <td>[Music] welcome everybody to episode one of a chess themed podcast with myself christian kirilla and i'm fighting on caruana so what's up christian well not so much fabi uh it's first of all great um to finally start a podcast the chess podcast i know that um there's a lot of podcasts out there but i wanted to bring our own tune to the mix and i think uh yeah i'm excited about that so that's uh the first thing how about yourself fabian well i'm back in the states after it's been a while at your home it's good to be here it's my first time in uh visiting here and uh yeah it's been an intere...</td>\n",
       "    </tr>\n",
       "    <tr>\n",
       "      <th>1</th>\n",
       "      <td>C-Squared Podcast</td>\n",
       "      <td>1</td>\n",
       "      <td>137</td>\n",
       "      <td>Candidates 2018</td>\n",
       "      <td>camps look like in general yeah well you mentioned the 2018 cycle uh where we worked together we started with the training before the candidates and for me it's interesting because i've i've played a lot of these candidates tournaments and i'm always doing it a bit differently trying different things trying to improve it but sometimes it goes less or more successfully you never know what will work out i think what we did in 2018 not just for the candidates but also for the world championship because i qualified for that i think what we did then was extremely successful um we we arranged it...</td>\n",
       "    </tr>\n",
       "    <tr>\n",
       "      <th>2</th>\n",
       "      <td>C-Squared Podcast</td>\n",
       "      <td>1</td>\n",
       "      <td>464</td>\n",
       "      <td>Candidates training</td>\n",
       "      <td>going in the candidates like how was the experience yeah i think the preparation was pretty serious it included a bunch of uh camps and preparation devoted to players as i assume i think everyone has the same sort of general approach which is to think about their openings their strategy look at the opponents try to get in shape make sure that you're not you know rusty or blundering things or hallucinating variations uh but there's a lot of nerves and i i felt a lot of nerves before the tournament and i think possibly i you know overworked over trained a bit because it was yeah it was like ...</td>\n",
       "    </tr>\n",
       "    <tr>\n",
       "      <th>3</th>\n",
       "      <td>C-Squared Podcast</td>\n",
       "      <td>1</td>\n",
       "      <td>610</td>\n",
       "      <td>Playing for 2nd place</td>\n",
       "      <td>were you just like focused on grabbing first well i was only focused on first but of course there were always these thoughts that well maybe second is enough but you can't play for second like let's say once i had achieved plus three in the tournament and john was plus four and i tried to go and go into like full like risk reverse mode which is still difficult to do but let's say i had gone that mode and and achieved it and like finished second with like plus three and john got plus five uh and then like magnus says well i'm going to play right then you also feel kind of stupid you know li...</td>\n",
       "    </tr>\n",
       "    <tr>\n",
       "      <th>4</th>\n",
       "      <td>C-Squared Podcast</td>\n",
       "      <td>1</td>\n",
       "      <td>916</td>\n",
       "      <td>Magnus' WC decision</td>\n",
       "      <td>know you can't uh you can't tell him you have to do something i i guess let me rephrase that fair to let you guys play the tournament first and then tell you the decision well i think he said it in a strange way which was that i'll play against alireza which to me is strange because if you don't want to play world championship match i fully understand you know but did he say that did he actually name him yeah that's kind of what he said um yeah he more he like he didn't say definitively like i won't play against anyone but he was like i probably won't play unless it's frozen right and yeah...</td>\n",
       "    </tr>\n",
       "  </tbody>\n",
       "</table>\n",
       "</div>"
      ],
      "text/plain": [
       "        course_title lesson_num  start_seconds                  topic  \\\n",
       "0  C-Squared Podcast          1              0                  Intro   \n",
       "1  C-Squared Podcast          1            137        Candidates 2018   \n",
       "2  C-Squared Podcast          1            464    Candidates training   \n",
       "3  C-Squared Podcast          1            610  Playing for 2nd place   \n",
       "4  C-Squared Podcast          1            916    Magnus' WC decision   \n",
       "\n",
       "                                                                                                                                                                                                                                                                                                                                                                                                                                                                                                                                                                                                                transcript  \n",
       "0  [Music] welcome everybody to episode one of a chess themed podcast with myself christian kirilla and i'm fighting on caruana so what's up christian well not so much fabi uh it's first of all great um to finally start a podcast the chess podcast i know that um there's a lot of podcasts out there but i wanted to bring our own tune to the mix and i think uh yeah i'm excited about that so that's uh the first thing how about yourself fabian well i'm back in the states after it's been a while at your home it's good to be here it's my first time in uh visiting here and uh yeah it's been an intere...  \n",
       "1  camps look like in general yeah well you mentioned the 2018 cycle uh where we worked together we started with the training before the candidates and for me it's interesting because i've i've played a lot of these candidates tournaments and i'm always doing it a bit differently trying different things trying to improve it but sometimes it goes less or more successfully you never know what will work out i think what we did in 2018 not just for the candidates but also for the world championship because i qualified for that i think what we did then was extremely successful um we we arranged it...  \n",
       "2  going in the candidates like how was the experience yeah i think the preparation was pretty serious it included a bunch of uh camps and preparation devoted to players as i assume i think everyone has the same sort of general approach which is to think about their openings their strategy look at the opponents try to get in shape make sure that you're not you know rusty or blundering things or hallucinating variations uh but there's a lot of nerves and i i felt a lot of nerves before the tournament and i think possibly i you know overworked over trained a bit because it was yeah it was like ...  \n",
       "3  were you just like focused on grabbing first well i was only focused on first but of course there were always these thoughts that well maybe second is enough but you can't play for second like let's say once i had achieved plus three in the tournament and john was plus four and i tried to go and go into like full like risk reverse mode which is still difficult to do but let's say i had gone that mode and and achieved it and like finished second with like plus three and john got plus five uh and then like magnus says well i'm going to play right then you also feel kind of stupid you know li...  \n",
       "4  know you can't uh you can't tell him you have to do something i i guess let me rephrase that fair to let you guys play the tournament first and then tell you the decision well i think he said it in a strange way which was that i'll play against alireza which to me is strange because if you don't want to play world championship match i fully understand you know but did he say that did he actually name him yeah that's kind of what he said um yeah he more he like he didn't say definitively like i won't play against anyone but he was like i probably won't play unless it's frozen right and yeah...  "
      ]
     },
     "execution_count": 15,
     "metadata": {},
     "output_type": "execute_result"
    }
   ],
   "source": [
    "summarization_train_df.head()"
   ]
  },
  {
   "cell_type": "code",
   "execution_count": 16,
   "metadata": {},
   "outputs": [
    {
     "data": {
      "text/plain": [
       "(597, 5)"
      ]
     },
     "execution_count": 16,
     "metadata": {},
     "output_type": "execute_result"
    }
   ],
   "source": [
    "summarization_train_df.shape"
   ]
  },
  {
   "cell_type": "markdown",
   "metadata": {},
   "source": [
    "## Plotting no of characters in topic and summary"
   ]
  },
  {
   "cell_type": "code",
   "execution_count": 24,
   "metadata": {},
   "outputs": [
    {
     "data": {
      "text/plain": [
       "<AxesSubplot: ylabel='Frequency'>"
      ]
     },
     "execution_count": 24,
     "metadata": {},
     "output_type": "execute_result"
    },
    {
     "data": {
      "image/png": "[encoded data removed]",
      "text/plain": [
       "<Figure size 640x480 with 1 Axes>"
      ]
     },
     "metadata": {},
     "output_type": "display_data"
    }
   ],
   "source": [
    "summarization_train_df[\"topic\"].str.len().plot(kind=\"hist\")"
   ]
  },
  {
   "cell_type": "code",
   "execution_count": 27,
   "metadata": {},
   "outputs": [
    {
     "data": {
      "text/plain": [
       "<AxesSubplot: ylabel='Frequency'>"
      ]
     },
     "execution_count": 27,
     "metadata": {},
     "output_type": "execute_result"
    },
    {
     "data": {
      "image/png": "[encoded data removed]",
      "text/plain": [
       "<Figure size 640x480 with 1 Axes>"
      ]
     },
     "metadata": {},
     "output_type": "display_data"
    }
   ],
   "source": [
    "summarization_train_df[\"transcript\"].str.len().plot(kind=\"hist\", logx=True)"
   ]
  },
  {
   "cell_type": "markdown",
   "metadata": {},
   "source": [
    "## Plotting no of words in topic and summary"
   ]
  },
  {
   "cell_type": "code",
   "execution_count": 38,
   "metadata": {},
   "outputs": [
    {
     "data": {
      "image/png": "[encoded data removed]",
      "text/plain": [
       "<Figure size 2000x500 with 2 Axes>"
      ]
     },
     "metadata": {},
     "output_type": "display_data"
    }
   ],
   "source": [
    "fig, (ax1, ax2) = plt.subplots(1, 2, figsize=(20, 5))\n",
    "tweet_len = summarization_train_df[\"topic\"].str.split().map(lambda x: len(x))\n",
    "ax1.hist(tweet_len, color=\"orange\")\n",
    "ax1.set_title(\"Topic\")\n",
    "tweet_len = summarization_train_df[\"transcript\"].str.split().map(lambda x: len(x))\n",
    "ax2.hist(tweet_len, color=\"cyan\")\n",
    "ax2.set_title(\"Summaries\")\n",
    "plt.show()"
   ]
  },
  {
   "cell_type": "markdown",
   "metadata": {},
   "source": [
    "## Blurr learner for training summarization model"
   ]
  },
  {
   "cell_type": "code",
   "execution_count": 17,
   "metadata": {},
   "outputs": [
    {
     "name": "stdout",
     "output_type": "stream",
     "text": [
      "Using GPU #0: Tesla V100-SXM2-16GB\n"
     ]
    }
   ],
   "source": [
    "print(f\"Using GPU #{torch.cuda.current_device()}: {torch.cuda.get_device_name()}\")"
   ]
  },
  {
   "cell_type": "code",
   "execution_count": 18,
   "metadata": {},
   "outputs": [],
   "source": [
    "learn = BlearnerForSummarization.from_data(\n",
    "    summarization_train_df,\n",
    "    \"sshleifer/distilbart-cnn-6-6\",\n",
    "    text_attr=\"transcript\",\n",
    "    summary_attr=\"topic\",\n",
    "    max_length=512,\n",
    "    max_target_length=100,\n",
    "    dblock_splitter=RandomSplitter(),\n",
    "    dl_kwargs={\"bs\": 32},\n",
    ")"
   ]
  },
  {
   "cell_type": "code",
   "execution_count": null,
   "metadata": {},
   "outputs": [
    {
     "data": {
      "text/html": [
       "\n",
       "<style>\n",
       "    /* Turns off some styling */\n",
       "    progress {\n",
       "        /* gets rid of default border in Firefox and Opera. */\n",
       "        border: none;\n",
       "        /* Needs to be in here for Safari polyfill so background images work as expected. */\n",
       "        background-size: auto;\n",
       "    }\n",
       "    progress:not([value]), progress:not([value])::-webkit-progress-bar {\n",
       "        background: repeating-linear-gradient(45deg, #7e7e7e, #7e7e7e 10px, #5c5c5c 10px, #5c5c5c 20px);\n",
       "    }\n",
       "    .progress-bar-interrupted, .progress-bar-interrupted::-webkit-progress-bar {\n",
       "        background: #F44336;\n",
       "    }\n",
       "</style>\n"
      ],
      "text/plain": [
       "<IPython.core.display.HTML object>"
      ]
     },
     "metadata": {},
     "output_type": "display_data"
    },
    {
     "data": {
      "text/html": [
       "\n",
       "    <div>\n",
       "      <progress value='2' class='' max='8' style='width:300px; height:20px; vertical-align: middle;'></progress>\n",
       "      25.00% [2/8 00:21&lt;01:04]\n",
       "    </div>\n",
       "    \n",
       "\n",
       "\n",
       "    <div>\n",
       "      <progress value='4' class='' max='14' style='width:300px; height:20px; vertical-align: middle;'></progress>\n",
       "      28.57% [4/14 00:04&lt;00:10 5.1171]\n",
       "    </div>\n",
       "    "
      ],
      "text/plain": [
       "<IPython.core.display.HTML object>"
      ]
     },
     "metadata": {},
     "output_type": "display_data"
    }
   ],
   "source": [
    "learn.lr_find()"
   ]
  },
  {
   "cell_type": "code",
   "execution_count": 19,
   "metadata": {},
   "outputs": [
    {
     "data": {
      "text/html": [
       "\n",
       "<style>\n",
       "    /* Turns off some styling */\n",
       "    progress {\n",
       "        /* gets rid of default border in Firefox and Opera. */\n",
       "        border: none;\n",
       "        /* Needs to be in here for Safari polyfill so background images work as expected. */\n",
       "        background-size: auto;\n",
       "    }\n",
       "    progress:not([value]), progress:not([value])::-webkit-progress-bar {\n",
       "        background: repeating-linear-gradient(45deg, #7e7e7e, #7e7e7e 10px, #5c5c5c 10px, #5c5c5c 20px);\n",
       "    }\n",
       "    .progress-bar-interrupted, .progress-bar-interrupted::-webkit-progress-bar {\n",
       "        background: #F44336;\n",
       "    }\n",
       "</style>\n"
      ],
      "text/plain": [
       "<IPython.core.display.HTML object>"
      ]
     },
     "metadata": {},
     "output_type": "display_data"
    },
    {
     "data": {
      "text/html": [
       "<table border=\"1\" class=\"dataframe\">\n",
       "  <thead>\n",
       "    <tr style=\"text-align: left;\">\n",
       "      <th>epoch</th>\n",
       "      <th>train_loss</th>\n",
       "      <th>valid_loss</th>\n",
       "      <th>rouge1</th>\n",
       "      <th>rouge2</th>\n",
       "      <th>rougeL</th>\n",
       "      <th>rougeLsum</th>\n",
       "      <th>bertscore_precision</th>\n",
       "      <th>bertscore_recall</th>\n",
       "      <th>bertscore_f1</th>\n",
       "      <th>time</th>\n",
       "    </tr>\n",
       "  </thead>\n",
       "  <tbody>\n",
       "    <tr>\n",
       "      <td>0</td>\n",
       "      <td>5.436864</td>\n",
       "      <td>5.236029</td>\n",
       "      <td>0.056225</td>\n",
       "      <td>0.009987</td>\n",
       "      <td>0.047669</td>\n",
       "      <td>0.051521</td>\n",
       "      <td>0.805305</td>\n",
       "      <td>0.859794</td>\n",
       "      <td>0.831513</td>\n",
       "      <td>00:32</td>\n",
       "    </tr>\n",
       "    <tr>\n",
       "      <td>1</td>\n",
       "      <td>5.134458</td>\n",
       "      <td>4.538479</td>\n",
       "      <td>0.061614</td>\n",
       "      <td>0.011636</td>\n",
       "      <td>0.051242</td>\n",
       "      <td>0.056747</td>\n",
       "      <td>0.807547</td>\n",
       "      <td>0.861833</td>\n",
       "      <td>0.833651</td>\n",
       "      <td>00:25</td>\n",
       "    </tr>\n",
       "    <tr>\n",
       "      <td>2</td>\n",
       "      <td>4.700820</td>\n",
       "      <td>3.919189</td>\n",
       "      <td>0.064631</td>\n",
       "      <td>0.015138</td>\n",
       "      <td>0.055143</td>\n",
       "      <td>0.058895</td>\n",
       "      <td>0.808703</td>\n",
       "      <td>0.862310</td>\n",
       "      <td>0.834489</td>\n",
       "      <td>00:25</td>\n",
       "    </tr>\n",
       "    <tr>\n",
       "      <td>3</td>\n",
       "      <td>4.324979</td>\n",
       "      <td>3.699072</td>\n",
       "      <td>0.062215</td>\n",
       "      <td>0.015581</td>\n",
       "      <td>0.055264</td>\n",
       "      <td>0.058591</td>\n",
       "      <td>0.809870</td>\n",
       "      <td>0.863322</td>\n",
       "      <td>0.835595</td>\n",
       "      <td>00:24</td>\n",
       "    </tr>\n",
       "    <tr>\n",
       "      <td>4</td>\n",
       "      <td>4.002648</td>\n",
       "      <td>3.549267</td>\n",
       "      <td>0.071016</td>\n",
       "      <td>0.019054</td>\n",
       "      <td>0.064074</td>\n",
       "      <td>0.068600</td>\n",
       "      <td>0.811739</td>\n",
       "      <td>0.865430</td>\n",
       "      <td>0.837570</td>\n",
       "      <td>00:24</td>\n",
       "    </tr>\n",
       "    <tr>\n",
       "      <td>5</td>\n",
       "      <td>3.729631</td>\n",
       "      <td>3.467210</td>\n",
       "      <td>0.073558</td>\n",
       "      <td>0.019054</td>\n",
       "      <td>0.065121</td>\n",
       "      <td>0.068618</td>\n",
       "      <td>0.810381</td>\n",
       "      <td>0.865496</td>\n",
       "      <td>0.836819</td>\n",
       "      <td>00:24</td>\n",
       "    </tr>\n",
       "    <tr>\n",
       "      <td>6</td>\n",
       "      <td>3.500593</td>\n",
       "      <td>3.403913</td>\n",
       "      <td>0.076443</td>\n",
       "      <td>0.022376</td>\n",
       "      <td>0.067799</td>\n",
       "      <td>0.073069</td>\n",
       "      <td>0.811572</td>\n",
       "      <td>0.867019</td>\n",
       "      <td>0.838190</td>\n",
       "      <td>00:24</td>\n",
       "    </tr>\n",
       "    <tr>\n",
       "      <td>7</td>\n",
       "      <td>3.293919</td>\n",
       "      <td>3.374657</td>\n",
       "      <td>0.073130</td>\n",
       "      <td>0.019060</td>\n",
       "      <td>0.067624</td>\n",
       "      <td>0.070439</td>\n",
       "      <td>0.811098</td>\n",
       "      <td>0.866646</td>\n",
       "      <td>0.837756</td>\n",
       "      <td>00:24</td>\n",
       "    </tr>\n",
       "    <tr>\n",
       "      <td>8</td>\n",
       "      <td>3.114873</td>\n",
       "      <td>3.356174</td>\n",
       "      <td>0.077777</td>\n",
       "      <td>0.020554</td>\n",
       "      <td>0.070461</td>\n",
       "      <td>0.074889</td>\n",
       "      <td>0.811736</td>\n",
       "      <td>0.866988</td>\n",
       "      <td>0.838249</td>\n",
       "      <td>00:24</td>\n",
       "    </tr>\n",
       "    <tr>\n",
       "      <td>9</td>\n",
       "      <td>2.961774</td>\n",
       "      <td>3.348094</td>\n",
       "      <td>0.082699</td>\n",
       "      <td>0.023341</td>\n",
       "      <td>0.076810</td>\n",
       "      <td>0.078583</td>\n",
       "      <td>0.811163</td>\n",
       "      <td>0.868057</td>\n",
       "      <td>0.838428</td>\n",
       "      <td>00:24</td>\n",
       "    </tr>\n",
       "    <tr>\n",
       "      <td>10</td>\n",
       "      <td>2.828742</td>\n",
       "      <td>3.346555</td>\n",
       "      <td>0.082013</td>\n",
       "      <td>0.021023</td>\n",
       "      <td>0.074389</td>\n",
       "      <td>0.077738</td>\n",
       "      <td>0.811828</td>\n",
       "      <td>0.868246</td>\n",
       "      <td>0.838893</td>\n",
       "      <td>00:24</td>\n",
       "    </tr>\n",
       "    <tr>\n",
       "      <td>11</td>\n",
       "      <td>2.716516</td>\n",
       "      <td>3.341786</td>\n",
       "      <td>0.083524</td>\n",
       "      <td>0.020274</td>\n",
       "      <td>0.075119</td>\n",
       "      <td>0.079317</td>\n",
       "      <td>0.810549</td>\n",
       "      <td>0.869009</td>\n",
       "      <td>0.838547</td>\n",
       "      <td>00:23</td>\n",
       "    </tr>\n",
       "    <tr>\n",
       "      <td>12</td>\n",
       "      <td>2.626458</td>\n",
       "      <td>3.340748</td>\n",
       "      <td>0.081799</td>\n",
       "      <td>0.021210</td>\n",
       "      <td>0.073483</td>\n",
       "      <td>0.077530</td>\n",
       "      <td>0.811205</td>\n",
       "      <td>0.868174</td>\n",
       "      <td>0.838532</td>\n",
       "      <td>00:23</td>\n",
       "    </tr>\n",
       "    <tr>\n",
       "      <td>13</td>\n",
       "      <td>2.556872</td>\n",
       "      <td>3.340600</td>\n",
       "      <td>0.080543</td>\n",
       "      <td>0.019850</td>\n",
       "      <td>0.072583</td>\n",
       "      <td>0.076314</td>\n",
       "      <td>0.811513</td>\n",
       "      <td>0.868525</td>\n",
       "      <td>0.838867</td>\n",
       "      <td>00:24</td>\n",
       "    </tr>\n",
       "    <tr>\n",
       "      <td>14</td>\n",
       "      <td>2.501773</td>\n",
       "      <td>3.340568</td>\n",
       "      <td>0.080599</td>\n",
       "      <td>0.019889</td>\n",
       "      <td>0.072640</td>\n",
       "      <td>0.076358</td>\n",
       "      <td>0.811353</td>\n",
       "      <td>0.868517</td>\n",
       "      <td>0.838776</td>\n",
       "      <td>00:24</td>\n",
       "    </tr>\n",
       "  </tbody>\n",
       "</table>"
      ],
      "text/plain": [
       "<IPython.core.display.HTML object>"
      ]
     },
     "metadata": {},
     "output_type": "display_data"
    }
   ],
   "source": [
    "learn.fit_one_cycle(15, lr_max=1e-5, cbs=[BlearnerForSummarization.get_metrics_cb()])"
   ]
  },
  {
   "cell_type": "code",
   "execution_count": 20,
   "metadata": {},
   "outputs": [
    {
     "data": {
      "text/html": [
       "\n",
       "<style>\n",
       "    /* Turns off some styling */\n",
       "    progress {\n",
       "        /* gets rid of default border in Firefox and Opera. */\n",
       "        border: none;\n",
       "        /* Needs to be in here for Safari polyfill so background images work as expected. */\n",
       "        background-size: auto;\n",
       "    }\n",
       "    progress:not([value]), progress:not([value])::-webkit-progress-bar {\n",
       "        background: repeating-linear-gradient(45deg, #7e7e7e, #7e7e7e 10px, #5c5c5c 10px, #5c5c5c 20px);\n",
       "    }\n",
       "    .progress-bar-interrupted, .progress-bar-interrupted::-webkit-progress-bar {\n",
       "        background: #F44336;\n",
       "    }\n",
       "</style>\n"
      ],
      "text/plain": [
       "<IPython.core.display.HTML object>"
      ]
     },
     "metadata": {},
     "output_type": "display_data"
    },
    {
     "data": {
      "text/html": [],
      "text/plain": [
       "<IPython.core.display.HTML object>"
      ]
     },
     "metadata": {},
     "output_type": "display_data"
    },
    {
     "data": {
      "text/plain": [
       "BaseModelWrapper (Input shape: 32 x 512)\n",
       "============================================================================\n",
       "Layer (type)         Output Shape         Param #    Trainable \n",
       "============================================================================\n",
       "                     32 x 17 x 1024      \n",
       "Embedding                                 51470336   False     \n",
       "Embedding                                 51470336   False     \n",
       "____________________________________________________________________________\n",
       "                     32 x 512 x 1024     \n",
       "BartLearnedPositionalEmbedding                      1050624    False     \n",
       "Linear                                    1049600    False     \n",
       "Linear                                    1049600    False     \n",
       "Linear                                    1049600    False     \n",
       "Linear                                    1049600    False     \n",
       "LayerNorm                                 2048       True      \n",
       "GELUActivation                                                 \n",
       "____________________________________________________________________________\n",
       "                     32 x 512 x 4096     \n",
       "Linear                                    4198400    False     \n",
       "____________________________________________________________________________\n",
       "                     32 x 512 x 1024     \n",
       "Linear                                    4195328    False     \n",
       "LayerNorm                                 2048       True      \n",
       "Linear                                    1049600    False     \n",
       "Linear                                    1049600    False     \n",
       "Linear                                    1049600    False     \n",
       "Linear                                    1049600    False     \n",
       "LayerNorm                                 2048       True      \n",
       "GELUActivation                                                 \n",
       "____________________________________________________________________________\n",
       "                     32 x 512 x 4096     \n",
       "Linear                                    4198400    False     \n",
       "____________________________________________________________________________\n",
       "                     32 x 512 x 1024     \n",
       "Linear                                    4195328    False     \n",
       "LayerNorm                                 2048       True      \n",
       "Linear                                    1049600    False     \n",
       "Linear                                    1049600    False     \n",
       "Linear                                    1049600    False     \n",
       "Linear                                    1049600    False     \n",
       "LayerNorm                                 2048       True      \n",
       "GELUActivation                                                 \n",
       "____________________________________________________________________________\n",
       "                     32 x 512 x 4096     \n",
       "Linear                                    4198400    False     \n",
       "____________________________________________________________________________\n",
       "                     32 x 512 x 1024     \n",
       "Linear                                    4195328    False     \n",
       "LayerNorm                                 2048       True      \n",
       "Linear                                    1049600    False     \n",
       "Linear                                    1049600    False     \n",
       "Linear                                    1049600    False     \n",
       "Linear                                    1049600    False     \n",
       "LayerNorm                                 2048       True      \n",
       "GELUActivation                                                 \n",
       "____________________________________________________________________________\n",
       "                     32 x 512 x 4096     \n",
       "Linear                                    4198400    False     \n",
       "____________________________________________________________________________\n",
       "                     32 x 512 x 1024     \n",
       "Linear                                    4195328    False     \n",
       "LayerNorm                                 2048       True      \n",
       "Linear                                    1049600    False     \n",
       "Linear                                    1049600    False     \n",
       "Linear                                    1049600    False     \n",
       "Linear                                    1049600    False     \n",
       "LayerNorm                                 2048       True      \n",
       "GELUActivation                                                 \n",
       "____________________________________________________________________________\n",
       "                     32 x 512 x 4096     \n",
       "Linear                                    4198400    False     \n",
       "____________________________________________________________________________\n",
       "                     32 x 512 x 1024     \n",
       "Linear                                    4195328    False     \n",
       "LayerNorm                                 2048       True      \n",
       "Linear                                    1049600    False     \n",
       "Linear                                    1049600    False     \n",
       "Linear                                    1049600    False     \n",
       "Linear                                    1049600    False     \n",
       "LayerNorm                                 2048       True      \n",
       "GELUActivation                                                 \n",
       "____________________________________________________________________________\n",
       "                     32 x 512 x 4096     \n",
       "Linear                                    4198400    False     \n",
       "____________________________________________________________________________\n",
       "                     32 x 512 x 1024     \n",
       "Linear                                    4195328    False     \n",
       "LayerNorm                                 2048       True      \n",
       "LayerNorm                                 2048       True      \n",
       "____________________________________________________________________________\n",
       "                     32 x 17 x 1024      \n",
       "Embedding                                 51470336   False     \n",
       "BartLearnedPositionalEmbedding                      1050624    False     \n",
       "Linear                                    1049600    True      \n",
       "Linear                                    1049600    True      \n",
       "Linear                                    1049600    True      \n",
       "Linear                                    1049600    True      \n",
       "GELUActivation                                                 \n",
       "LayerNorm                                 2048       True      \n",
       "Linear                                    1049600    True      \n",
       "Linear                                    1049600    True      \n",
       "Linear                                    1049600    True      \n",
       "Linear                                    1049600    True      \n",
       "LayerNorm                                 2048       True      \n",
       "____________________________________________________________________________\n",
       "                     32 x 17 x 4096      \n",
       "Linear                                    4198400    True      \n",
       "____________________________________________________________________________\n",
       "                     32 x 17 x 1024      \n",
       "Linear                                    4195328    True      \n",
       "LayerNorm                                 2048       True      \n",
       "Linear                                    1049600    True      \n",
       "Linear                                    1049600    True      \n",
       "Linear                                    1049600    True      \n",
       "Linear                                    1049600    True      \n",
       "GELUActivation                                                 \n",
       "LayerNorm                                 2048       True      \n",
       "Linear                                    1049600    True      \n",
       "Linear                                    1049600    True      \n",
       "Linear                                    1049600    True      \n",
       "Linear                                    1049600    True      \n",
       "LayerNorm                                 2048       True      \n",
       "____________________________________________________________________________\n",
       "                     32 x 17 x 4096      \n",
       "Linear                                    4198400    True      \n",
       "____________________________________________________________________________\n",
       "                     32 x 17 x 1024      \n",
       "Linear                                    4195328    True      \n",
       "LayerNorm                                 2048       True      \n",
       "Linear                                    1049600    True      \n",
       "Linear                                    1049600    True      \n",
       "Linear                                    1049600    True      \n",
       "Linear                                    1049600    True      \n",
       "GELUActivation                                                 \n",
       "LayerNorm                                 2048       True      \n",
       "Linear                                    1049600    True      \n",
       "Linear                                    1049600    True      \n",
       "Linear                                    1049600    True      \n",
       "Linear                                    1049600    True      \n",
       "LayerNorm                                 2048       True      \n",
       "____________________________________________________________________________\n",
       "                     32 x 17 x 4096      \n",
       "Linear                                    4198400    True      \n",
       "____________________________________________________________________________\n",
       "                     32 x 17 x 1024      \n",
       "Linear                                    4195328    True      \n",
       "LayerNorm                                 2048       True      \n",
       "Linear                                    1049600    True      \n",
       "Linear                                    1049600    True      \n",
       "Linear                                    1049600    True      \n",
       "Linear                                    1049600    True      \n",
       "GELUActivation                                                 \n",
       "LayerNorm                                 2048       True      \n",
       "Linear                                    1049600    True      \n",
       "Linear                                    1049600    True      \n",
       "Linear                                    1049600    True      \n",
       "Linear                                    1049600    True      \n",
       "LayerNorm                                 2048       True      \n",
       "____________________________________________________________________________\n",
       "                     32 x 17 x 4096      \n",
       "Linear                                    4198400    True      \n",
       "____________________________________________________________________________\n",
       "                     32 x 17 x 1024      \n",
       "Linear                                    4195328    True      \n",
       "LayerNorm                                 2048       True      \n",
       "Linear                                    1049600    True      \n",
       "Linear                                    1049600    True      \n",
       "Linear                                    1049600    True      \n",
       "Linear                                    1049600    True      \n",
       "GELUActivation                                                 \n",
       "LayerNorm                                 2048       True      \n",
       "Linear                                    1049600    True      \n",
       "Linear                                    1049600    True      \n",
       "Linear                                    1049600    True      \n",
       "Linear                                    1049600    True      \n",
       "LayerNorm                                 2048       True      \n",
       "____________________________________________________________________________\n",
       "                     32 x 17 x 4096      \n",
       "Linear                                    4198400    True      \n",
       "____________________________________________________________________________\n",
       "                     32 x 17 x 1024      \n",
       "Linear                                    4195328    True      \n",
       "LayerNorm                                 2048       True      \n",
       "Linear                                    1049600    True      \n",
       "Linear                                    1049600    True      \n",
       "Linear                                    1049600    True      \n",
       "Linear                                    1049600    True      \n",
       "GELUActivation                                                 \n",
       "LayerNorm                                 2048       True      \n",
       "Linear                                    1049600    True      \n",
       "Linear                                    1049600    True      \n",
       "Linear                                    1049600    True      \n",
       "Linear                                    1049600    True      \n",
       "LayerNorm                                 2048       True      \n",
       "____________________________________________________________________________\n",
       "                     32 x 17 x 4096      \n",
       "Linear                                    4198400    True      \n",
       "____________________________________________________________________________\n",
       "                     32 x 17 x 1024      \n",
       "Linear                                    4195328    True      \n",
       "LayerNorm                                 2048       True      \n",
       "LayerNorm                                 2048       True      \n",
       "____________________________________________________________________________\n",
       "                     32 x 17 x 50264     \n",
       "Linear                                    51470336   False     \n",
       "____________________________________________________________________________\n",
       "\n",
       "Total params: 384,344,064\n",
       "Total trainable params: 100,808,704\n",
       "Total non-trainable params: 283,535,360\n",
       "\n",
       "Optimizer used: <function Adam at 0x7f698c88c670>\n",
       "Loss function: FlattenedLoss of CrossEntropyLoss()\n",
       "\n",
       "Model frozen up to parameter group #2\n",
       "\n",
       "Callbacks:\n",
       "  - TrainEvalCallback\n",
       "  - BaseModelCallback\n",
       "  - CastToTensor\n",
       "  - Recorder\n",
       "  - ProgressCallback"
      ]
     },
     "execution_count": 20,
     "metadata": {},
     "output_type": "execute_result"
    }
   ],
   "source": [
    "learn.summary()"
   ]
  },
  {
   "cell_type": "markdown",
   "metadata": {},
   "source": [
    "## Model Export"
   ]
  },
  {
   "cell_type": "code",
   "execution_count": 28,
   "metadata": {},
   "outputs": [],
   "source": [
    "learn.metrics = None\n",
    "learn.export(fname=\"summarization_export.pkl\")"
   ]
  },
  {
   "cell_type": "markdown",
   "metadata": {},
   "source": [
    "## Predictions and taking look at results"
   ]
  },
  {
   "cell_type": "code",
   "execution_count": 21,
   "metadata": {},
   "outputs": [
    {
     "data": {
      "text/html": [
       "\n",
       "<style>\n",
       "    /* Turns off some styling */\n",
       "    progress {\n",
       "        /* gets rid of default border in Firefox and Opera. */\n",
       "        border: none;\n",
       "        /* Needs to be in here for Safari polyfill so background images work as expected. */\n",
       "        background-size: auto;\n",
       "    }\n",
       "    progress:not([value]), progress:not([value])::-webkit-progress-bar {\n",
       "        background: repeating-linear-gradient(45deg, #7e7e7e, #7e7e7e 10px, #5c5c5c 10px, #5c5c5c 20px);\n",
       "    }\n",
       "    .progress-bar-interrupted, .progress-bar-interrupted::-webkit-progress-bar {\n",
       "        background: #F44336;\n",
       "    }\n",
       "</style>\n"
      ],
      "text/plain": [
       "<IPython.core.display.HTML object>"
      ]
     },
     "metadata": {},
     "output_type": "display_data"
    },
    {
     "data": {
      "text/html": [],
      "text/plain": [
       "<IPython.core.display.HTML object>"
      ]
     },
     "metadata": {},
     "output_type": "display_data"
    },
    {
     "data": {
      "text/html": [
       "<table border=\"1\" class=\"dataframe\">\n",
       "  <thead>\n",
       "    <tr style=\"text-align: right;\">\n",
       "      <th></th>\n",
       "      <th>text</th>\n",
       "      <th>target</th>\n",
       "      <th>prediction</th>\n",
       "    </tr>\n",
       "  </thead>\n",
       "  <tbody>\n",
       "    <tr>\n",
       "      <th>0</th>\n",
       "      <td>what are the compute needs for for deep learning i like to kind of break it down into into a basic like you know early development and then scaled out training and evaluation so when we're doing early development we're writing code we're debugging the model we're looking at the results we want to you know quickly do things it'd be nice if we could use things that we're comfortable with like like guise and what could allow us to do it is actually having gpus in our desktop like in a computer we have access to or a compu or a computer we can easily ssh into and for you know rapid experimentation it'd be nice if it had more than one gpu so it could be on-prem could be in the cloud for scaling out your training we're going to want to run some kind of architecture hyperparameter search we will want to train models that just don't really fit on only four gpus and it should be easy to launch experiments on onto this you know compute and review all the results that are getting generated so here it'd be nice to have a cluster of machines could be on-prem could be in the cloud the reason this matters increasingly with each passing gear is because the results that are coming out of deep learning are using more and more compute right so i think we had the slide in the fundamentals lecture but it's you know notable deep learning results versus time versus the petaflops that you know of compute that they used it keeps on going up and you can see this in the transformer models that we discussed last week so jeep you know gpt3 still hasn't been trained by the community right only open ai train that using like microsoft cloud and millions of dollars we still haven't done that but you know google already came out with google switch transformer which is another couple of orders of magnitude larger than that so it's just it's a race to fit bigger and bigger models and run crunch through more and more data so one question we have is do we try to get our own hardware or just go straight to the cloud and to answer that we should look at the gpu basics we should look at the cloud options we should look at the on-prem options and then try to analyze what's going on make a recommendation so the basics of gpus is that basically it's an it's an nvidia game right it's a still really the only provider of good deep learning gpus they're not the fastest that's actually the google tpus tensor processing units which are available on the google cloud</td>\n",
       "      <td>Compute Hardware</td>\n",
       "      <td>[ What are the compute needs for for deep learning? Deep Learning (GPUs, Compute, Computors, Compu, Compulsors, etc. Could be in the cloud for scaling out your training and evaluation. What could be a cluster of machines,  File System (File System) - Building Blocks, Building Block Storage, Data Lake, and Building Block Data Lake (Data Lake, or Lake D Lake) - Storage Benchmarking, Fast File Sides, Fast Storage, and Fast Storage (FTS, NFS),  How to Tunify Hyperparameters? Let's talk about what hyperparameters we actually have available to us in this problem. How to tune your model using atom optimizer and how to tune some of your hyperparameter parameters. What's worth tuning?,  What Is Machine Translation in Depth? (Bi-directional, Bi-directionality, Inference, and Machine Learning? (Machine Learning, Reinforcement Learning, and Inference) (BioDeterioration, Reinforcing, and Translating),  Gradient accumulation ( gradient accumulation) - gradient accumulation (Gradient accumulation) How to train a model with a batch size of 32 images? How do we do it? How does it behave as if it was 64 images? What's the training loop we used,  How to use light to achieve your creative vision? Let's learn the four characteristics of light and how to use soft, hard, soft, intensity and intensity to create a different effect on the subject and how you can change the quality of light from soft to soft. How,  Deep Learning Framework (Tensorflow, Keras, Pytorch, and Pythorgs) Deep Learning Framets (Deteriorflow, TensorFlow, etc. Fast, Fast, Meta Meta Thinking, and Tensorflow (2.0),  Price of the stock (P-E) of all platforms (Price, P-E, Beta, Price, etc. etc. What is the price of the company's stock? (P e) vs the price? (price, volume, price,,  Chess Masters (1919) and Petrosia (1969) The Fisher boom in the Soviet Union was a big deal and Arnie Garcia was a local uh chess master (Garcas) Arnie was very wealthy and supported me going to tournaments he put up monies,  How to solve a problem with a simple model and a simple set of steps to solve it with simple and pragmatic solutions . Building a model with a single hidden layer and normalizing inputs and simplifying the problem itself . Building the model with simple defaults, normalizing,  Roles of Machine Learning Roles: Devops, Data Engineers, Data Scientists, Data Analysts, Prediction Models, and Data Scientists (Roles, Predictions, and Roles, etc. What's the difference between these roles and the different roles?,  Preparation for the candidates in preparation for the final round of the World Chess Tour event. Nepo vs. Richie vs. D ding (Romania U-Tongue, Romania, and Black vs. richie (Rugby),  How I Lost my Queen (Boris baskey, 4 Knight, F6, G6, F8, and 4 Knight to F6 (King's Night to Queen's Bishop 4) I can't really get used to the notation I forgot about H6 and G8,  How to train in a simulator vs a real-world simulation vs training in a simulated simulator. How to learn something useful for the real world by training in simulating your own model of a robot with different colors, colors, shapes, and even if you have variations,  Draw 1-0 Draw 2-1 (Uh-Black, U2, C4, R4, C3, C5, and C4 (U2, R2, D4, D3, D5, C6, C2, etc),  Drawings on the Right Side of the Brain by Betty Edwards (1960s &amp; 1960s) Drawings by Left-handed Hands, Right Hand, Left Hand, Right-handed, Left- Hand (60s, Right Left Hand), Left Hand (50s, 60s),  How to keep up with reading papers? How to read some papers and how to use a tutorial to help you understand what to do when you choose to read a paper . How to use tutorials to help with reading the most important things you need to learn about . How,  FastKaggle module (Paddy Disease Classification, pip, conda, Paddy Disease, etc. Data download, unzip, and uploading it to Kaggle (Coding for Paddy disease) module (Kaggles, pip or conda),  Introduction to Drawing Exercises: Introduction, Introduction, Shading, and Viewer Basic Shading &amp; Viewer Orientation . Next week we'll learn more about shading, 3d perspective, shading, and 3D 3d 3d Shading and 3d Perspective,  Reinforcement Learning (Reinforcement Learning, Unsupervised Learning, and Trigramatic Learning) Machine Learning (Machine Learning, Triggers, and Meta Learning (MLTs, AI, MLTs, ASMLs, and MLTs) 3 categories,  How to expand your vision learner model into a multi-target model with the loss function. How to do this with a single matrix of activations and a single-target set of inputs and targets . How to get the input, the disease, and the variety,  U.S Championship 60 players 16 players vs. Roman Jinji hash Valley (Ruling out 5/6/5/7/7) Tournament takes a month and the bottom 8 gets Point money for every point you get like you get a hundred bucks. Top half Point,  All-in-one training and evaluation solutions for cloud storage and cloud services . Training and evaluation of a notebook server and monitoring the performance of the deployed model in the cloud and training it to do all of the things you need to learn about how to deploy it,  LSTms (LSTNets) LSTNs (Ne recurrent neural networks) LTSN (LTSN) &amp; LSTN (Nets Netsetsets, LTSNs) LSCNs (Tests, Tasks, LSTS),  Training for the 2018 cycle and the 2020 cycle. Training in spain, spain and around halfway through the year . Training in January and January for candidates and then training in January . Training for candidates in January, January, and January 2020. Training for candidate,  Introduction to Michael Markowski's YouTube channel for free art education . Check out the videos you can watch on YouTube for you to view at your leisure and share them with your friends in the link below . Share your videos with friends and send them to your Facebook page,  What subreddit do you think this comes from? What subreddit does you think it is? What is it from? And the answer is it comes from a subreddit that posts automatically generated conversations between GPT2 models (GPT2) What kind of things might this be,  Filmmaker: MovieLens dataset, MovieLens, 100,000 movie ratings . Filmmakers, users, product, product ratings, user id, rating, user ID, timestamp, etc. What is the data you need to add to the table to get,  What to eat when intermittent fasting is what you should eat and when you're not hungry. The real power of intermittent fasting in the morning is through the night and in the early hours of the day . The ability to go from one meal to the next, without being hungry,  Time Series Forecasting the input to your model is time series forecasting right and Sequence Problems (Sequence Problems) The input to a model is a sequence of inputs and the output is a single value of a value of some data point and so how to solve these problems?,  Transformer-based models (Gpt3, Gpt 3, GPT3, &amp; Gpt3) Performance of these models has increased substantially in recent years . Performance of the model is increasing substantially between these order of magnitude improvements in the number of parameters.,  Drawings of the horizon line (Horrific Lines, Horrifying Lines, Cylinders, and Cylinder Lines (Cylinder, Diamonds, and Table Sides, etc. What Do You Know What Is The Horizon Line &amp; The Horrific Line]</td>\n",
       "    </tr>\n",
       "  </tbody>\n",
       "</table>"
      ],
      "text/plain": [
       "<IPython.core.display.HTML object>"
      ]
     },
     "metadata": {},
     "output_type": "display_data"
    }
   ],
   "source": [
    "learn.show_results(learner=learn, target_trunc_at=250)"
   ]
  },
  {
   "cell_type": "code",
   "execution_count": 22,
   "metadata": {},
   "outputs": [],
   "source": [
    "test_article = \"\"\"hey everybody welcome back this week we're going to talk about something a little bit different than we do most weeks most weeks we talk about specific\n",
    "technical aspects of building machine learning powered products but this week we're going to focus on some of the\n",
    "organizational things that you need to do in order to work together on ml-powered products as part of an\n",
    "interdisciplinary team so the the reality of building ml Power Products is that building any product well is really\n",
    "difficult you have to figure out how to hire grade people you need to be able to manage those people and get the best out\n",
    "of them you need to make sure that your team is all working together towards a shared goal you need to make good\n",
    "long-term technical choices manage technical debt over time you need to make sure that you're managing\n",
    "expectations not just of your own team but also of leadership of your organization and you need to be able to make sure\n",
    "that you're working well within the confines of the requirements of the rest of the org that you're understanding\n",
    "those requirements well and communicating back to your progress to the rest of the organization against those requirements\n",
    "but machine learning adds even more additional complexity to this machine learning Talent tends to be very scarce\n",
    "and expensive to attract machine learning teams are not just a\n",
    "single role but today they tend to be pretty interdisciplinary which makes managing them an even bigger challenge\n",
    "machine learning projects often have unclear timelines and there's a high\n",
    "degree of uncertainty to those timelines machine learning itself is moving super fast and machine learning as we've\n",
    "covered before you can think of as like the high interest credit card of technical debt so keeping up with making\n",
    "good long-term decisions and not incurring too much technical debt is especially difficult in ml unlike\n",
    "traditional software ml is so new that in most organizations leadership tends not to be that well educated in it they\n",
    "might not understand some of the core differences between ML and other technology that you're working with machine learning products tend to fail\n",
    "in ways that are really hard for Lay people to understand and so that makes it very difficult to help the rest of\n",
    "the stakeholders in your organization understand what they could really expect from the technology that you're building\n",
    "and what is realistic for us to achieve so throughout the rest rest of this lecture we're going to kind of touch on\n",
    "some of these themes and cover different aspects of this problem of working together to build ml Power Products as\n",
    "an organization so here are the pieces that we're going to cover we're going to talk about different roles that are involved in building ml products we're\n",
    "going to talk about some of the unique aspects involved in hiring ml Talent\n",
    "we're going to talk about organization of teams and how the ml team tends to fit into the rest of the org and some of\n",
    "the pros and cons of different ways of setting that up we'll talk about managing ml teams and\n",
    "ml product management and then lastly we'll talk about some of the design considerations for how to design a\n",
    "product that is well suited to having a good ml model that backs it so let's dive in and talk about rules the most\n",
    "common ml rules that you might hear of are things like ml product manager ml\n",
    "\"\"\""
   ]
  },
  {
   "cell_type": "code",
   "execution_count": 31,
   "metadata": {},
   "outputs": [],
   "source": [
    "inf_learn = load_learner(fname=\"summarization_export.pkl\")"
   ]
  },
  {
   "cell_type": "markdown",
   "metadata": {},
   "source": [
    "**Generation algorithms**\n",
    "\n",
    "1. Beam search\n",
    "2. Greedy search\n",
    "3. Top -p sampling\n",
    "4. Top k sampling"
   ]
  },
  {
   "cell_type": "code",
   "execution_count": 36,
   "metadata": {},
   "outputs": [
    {
     "data": {
      "text/plain": [
       "[{'summary_texts': [' How to Hire the best people and get the best out of the best of your team (MLs, MLs, and MLs) The reality of building a product well is that building any product well in order to be able to manage your team is really difficult',\n",
       "   ' How to Hire the best people and get the best out of the best of your team (MLs, MLs, and MLs) The reality of building a product well is that building any product well in order to be able to manage your team is very difficult',\n",
       "   ' How to Hire the best people and get the best out of the best of your team (MLs, MLs, and MLs) The reality of building a product well is that building any product well in order to be able to manage your team and your team']}]"
      ]
     },
     "execution_count": 36,
     "metadata": {},
     "output_type": "execute_result"
    }
   ],
   "source": [
    "# Greedy\n",
    "learn.predict(test_article, num_return_sequences=3, max_length=100)"
   ]
  },
  {
   "cell_type": "code",
   "execution_count": 37,
   "metadata": {},
   "outputs": [
    {
     "data": {
      "text/plain": [
       "[{'summary_texts': [' How to Hire the best people and get the best out of the people you need to hire and manage your team . Building any product well is reallydifficult and managing ML projects as part of an interdisciplinary team is a big challenge for ML teams and ML teams .',\n",
       "   ' How to Hire the best people and get the best out of the people you need to hire and manage your team . Building any product well is reallydifficult and managing ML projects as part of an interdisciplinary team is a big challenge for ML teams and ML teams',\n",
       "   ' How to Hire the best people and get the best out of the people you need to hire and manage your team . Building any product well is reallydifficult and managing ML projects as part of an interdisciplinary team is a big challenge for ML teams and ML teams.']}]"
      ]
     },
     "execution_count": 37,
     "metadata": {},
     "output_type": "execute_result"
    }
   ],
   "source": [
    "# Beam search\n",
    "learn.predict(test_article, num_return_sequences=3, num_beams=5, early_stopping=True)"
   ]
  },
  {
   "cell_type": "code",
   "execution_count": 34,
   "metadata": {},
   "outputs": [
    {
     "data": {
      "text/plain": [
       "[{'summary_texts': [' Introducing ML and ML (Machine Learning) Lessons & Hire/Hire, and Hire the Best Outgrade (ML) Team (Threatening) and Collaboration (ML/HBR) Learning, and Building Any Product Well (MLP)',\n",
       "   ' What Do You Hire Your Team (ML/Supplier & Hire) & How To Hire ML Talent? (ML-Power Products) What Do We Hire The Team ( ML/Team Hire, ML, ML/Hire/Strategy) /MLP (MLP)',\n",
       "   ' How to Hire the best people and manage the best out of the best teams and the rest of your team . Managing ML and ML projects is a big challenge for many of the people involved in the process of building ML products and managing ML products is really difficult']}]"
      ]
     },
     "execution_count": 34,
     "metadata": {},
     "output_type": "execute_result"
    }
   ],
   "source": [
    "# Top -k sampling\n",
    "learn.predict(test_article, num_return_sequences=3, do_sample=True, max_length=100, top_k=0)"
   ]
  },
  {
   "cell_type": "code",
   "execution_count": 35,
   "metadata": {},
   "outputs": [
    {
     "data": {
      "text/plain": [
       "[{'summary_texts': [' How to Hire and Hire the best people you need to hire in order to build a team of ML-powered products. What is realistic to achieve throughout the rest of this lecture is that building any product well is reallydifficult. How to hire a team',\n",
       "   ' Introduction and Hire & Hire (Hire/Hire, Hire, & Design & Design (ML, and ML) Back to Mail Online: Introduction, Hiring, and Hiring ML Talent (Punish & Design, and Building ML)',\n",
       "   ' What Is ML (Machine Learning) Leadership, Hire & Hire/Hire, and Design & Design (ML/Design, and ML/Design) Back to Mail Online home. Back to the page you came from.com/Manufacturing/Hobby/Design']}]"
      ]
     },
     "execution_count": 35,
     "metadata": {},
     "output_type": "execute_result"
    }
   ],
   "source": [
    "# #Top -p sampling\n",
    "learn.predict(test_article, do_sample=True, max_length=100, top_k=50, top_p=0.95, num_return_sequences=3)"
   ]
  },
  {
   "cell_type": "code",
   "execution_count": 25,
   "metadata": {},
   "outputs": [],
   "source": [
    "test_article1 = \"\"\"hey everybody we're getting ready to start here everyone's click in on putting my shirt on here oh my dress shirt I was always wearing clothes ok and 3 2 1 boom mics on everything we're ready to go welcome ladies and gentlemen back to my studio here in Vancouver Canada my name is Michael Markowski I'm gonna be showing you how to do some drawing today I'm super excited because I think today we're really going to learn a lot about how to take all these different techniques we've been doing over the past three classes so far put them together to make some new drawings that are gonna really excite us and you're I think you're really gonna be surprised by how much you already know I mean based on just what we've learned so far so we're gonna put it all together and to create some new artworks let me see I'm just gonna turn this light on here okay so let me see what are the little housekeeping things I want to get cleared away right at the beginning if you have any drawings you'd like for me to see and to critique and to give you feedback on please send them to my Instagram to my Twitter or Facebook and if you do so please in the comments say tell me where it is so that I can kind of take a look for it and find it and I'll give you some feedback at the end of the episode in about one hour and that'll be a because some because the formal lesson is gonna be about an hour and then at the Rianne there's some time for chat and for asking me all sorts of other random questions that maybe haven't been answered yet so please do that I see there's already a couple of people who've who've uploaded drawing so I'm excited to check those out and to and to help maybe they're already perfect I haven't seen them yet so let's I can't wait to do that other things if you like this video please like the video subscribe hit the notification bell and if you're really really excited and you want to support the channel please send a dollar or $100 or the keys to your boat through the PayPal link in below yeah and my wife's is there following along she says yep Markowski art mark-1 osky art is my links on every social media that I know of and they're all in the description below I digress okay so are you ready to do some drawing you've got your pencils and you've got your erasers I don't get that out here all of this stuff here I'm currently in the \t:52:09 Shading a \"\"\""
   ]
  },
  {
   "cell_type": "code",
   "execution_count": 26,
   "metadata": {},
   "outputs": [
    {
     "data": {
      "text/plain": [
       "[{'summary_texts': [' Introduction to Art Class #1 (Michael Markowski) (Markowski) #1: Introduction: Introduction, Introduction, Discussion, Criticism, Critique, Viewer Comments, etc. Send your feedback to my Instagram, Twitter, Facebook, Twitter or Facebook',\n",
       "   ' Introduction to Art Class #1 (Michael Markowski) (Markowski) #1: Introduction: Introduction, Introduction, Discussion, Criticism, Critique, Viewer Comments, etc. Send your feedback to my Instagram, Twitter, Facebook, Twitter and Facebook',\n",
       "   ' Introduction to Art Class #1 (Michael Markowski) (Markowski) #1: Introduction: Introduction, Introduction, Discussion, Criticism, Critique, Viewer Comments, etc. Send your feedback to my Instagram, Twitter, Facebook, Twitter and Twitter']}]"
      ]
     },
     "execution_count": 26,
     "metadata": {},
     "output_type": "execute_result"
    }
   ],
   "source": [
    "learn.predict(test_article1, num_return_sequences=3)"
   ]
  },
  {
   "cell_type": "code",
   "execution_count": 39,
   "metadata": {},
   "outputs": [
    {
     "data": {
      "text/plain": [
       "[{'summary_texts': [' How to Hire the best people and get the best out of the best of your team (MLs, MLs, and MLs) The reality of building a product well is that building any product well in order to be able to manage your team is really difficult',\n",
       "   ' How to Hire the best people and get the best out of the best of your team (MLs, MLs, and MLs) The reality of building a product well is that building any product well in order to be able to manage your team is very difficult',\n",
       "   ' How to Hire the best people and get the best out of the best of your team (MLs, MLs, and MLs) The reality of building a product well is that building any product well in order to be able to manage your team and your team']}]"
      ]
     },
     "execution_count": 39,
     "metadata": {},
     "output_type": "execute_result"
    }
   ],
   "source": [
    "learn.predict(test_article, num_return_sequences=3, max_length=100)"
   ]
  },
  {
   "cell_type": "code",
   "execution_count": 40,
   "metadata": {},
   "outputs": [
    {
     "data": {
      "text/plain": [
       "[{'summary_texts': [' How to Hire the best people and get the best out of the people you need to hire and manage your team . Building any product well is reallydifficult and managing ML projects as part of an interdisciplinary team is a big challenge for ML teams and ML teams .',\n",
       "   ' How to Hire the best people and get the best out of the people you need to hire and manage your team . Building any product well is reallydifficult and managing ML projects as part of an interdisciplinary team is a big challenge for ML teams and ML teams',\n",
       "   ' How to Hire the best people and get the best out of the people you need to hire and manage your team . Building any product well is reallydifficult and managing ML projects as part of an interdisciplinary team is a big challenge for ML teams and ML teams.']}]"
      ]
     },
     "execution_count": 40,
     "metadata": {},
     "output_type": "execute_result"
    }
   ],
   "source": [
    "# Beam search\n",
    "learn.predict(test_article, num_return_sequences=3, num_beams=5, early_stopping=True)"
   ]
  },
  {
   "cell_type": "code",
   "execution_count": 42,
   "metadata": {},
   "outputs": [
    {
     "data": {
      "text/plain": [
       "[{'summary_texts': [' Introducing ML vs. ML (Conference of Systems, Tools, and Design, and ML (Machine Learning, ML, and Pupilization, and Other Roles) Back to the page you came from this week’s lecture and What Is ML',\n",
       "   ' How To Hire Your Team (ML Teams) Back to Mail Online: Introduction and Hire ML Talent (Hire the best people, managers, etc. etc. Back to the page you came from this week’s lecture (ML/ML/Supplier)',\n",
       "   ' Introduction and Discussion of ML and Hire & Hire #1 (ML, Hire, & Design, ML, and ML/Hire, ML/Design, & ML/ Hire/Design (ML/HIP/ML, etc. What are the key factors involved in hiring ML Teams?']}]"
      ]
     },
     "execution_count": 42,
     "metadata": {},
     "output_type": "execute_result"
    }
   ],
   "source": [
    "# Top -p sampling\n",
    "learn.predict(test_article, do_sample=True, max_length=100, top_k=50, top_p=0.95, num_return_sequences=3)"
   ]
  },
  {
   "cell_type": "code",
   "execution_count": 41,
   "metadata": {},
   "outputs": [
    {
     "data": {
      "text/plain": [
       "[{'summary_texts': [' Yep Markowski Art Class #1 (Markowski Art Markowski) (Doodles, erasers, etc. Shading, Housekeeping, and Housekeeping) (Markowoodles) (2 1 boom mics) (3 1 boom Mics)',\n",
       "   ' How to Draw Art in the Rianne - Michael Markowski Art Markowski Show #1 Osky Art (1/1/2/1 /1/3/1) & #1/4/1 (Markowski/1-1) #1 osky art (3/2)',\n",
       "   ' Introduction #1 (Michael Markowski) Posted by Michael Markowski on Twitter, Instagram, Facebook, Twitter, Twitter and Facebook @Markowski Art Markowski (Markowski) #1/1 (Markowowski) / #1 Osky Art (Mark']}]"
      ]
     },
     "execution_count": 41,
     "metadata": {},
     "output_type": "execute_result"
    }
   ],
   "source": [
    "learn.predict(test_article1, num_return_sequences=3, do_sample=True, max_length=100, top_k=0)"
   ]
  },
  {
   "cell_type": "code",
   "execution_count": 38,
   "metadata": {},
   "outputs": [
    {
     "data": {
      "text/plain": [
       "\"hey everybody we're getting ready to start here everyone's click in on putting my shirt on here oh my dress shirt I was always wearing clothes ok and 3 2 1 boom mics on everything we're ready to go welcome ladies and gentlemen back to my studio here in Vancouver Canada my name is Michael Markowski I'm gonna be showing you how to do some drawing today I'm super excited because I think today we're really going to learn a lot about how to take all these different techniques we've been doing over the past three classes so far put them together to make some new drawings that are gonna really excite us and you're I think you're really gonna be surprised by how much you already know I mean based on just what we've learned so far so we're gonna put it all together and to create some new artworks let me see I'm just gonna turn this light on here okay so let me see what are the little housekeeping things I want to get cleared away right at the beginning if you have any drawings you'd like for me to see and to critique and to give you feedback on please send them to my Instagram to my Twitter or Facebook and if you do so please in the comments say tell me where it is so that I can kind of take a look for it and find it and I'll give you some feedback at the end of the episode in about one hour and that'll be a because some because the formal lesson is gonna be about an hour and then at the Rianne there's some time for chat and for asking me all sorts of other random questions that maybe haven't been answered yet so please do that I see there's already a couple of people who've who've uploaded drawing so I'm excited to check those out and to and to help maybe they're already perfect I haven't seen them yet so let's I can't wait to do that other things if you like this video please like the video subscribe hit the notification bell and if you're really really excited and you want to support the channel please send a dollar or $100 or the keys to your boat through the PayPal link in below yeah and my wife's is there following along she says yep Markowski art mark-1 osky art is my links on every social media that I know of and they're all in the description below I digress okay so are you ready to do some drawing you've got your pencils and you've got your erasers I don't get that out here all of this stuff here I'm currently in the \\t:52:09 Shading a \""
      ]
     },
     "execution_count": 38,
     "metadata": {},
     "output_type": "execute_result"
    }
   ],
   "source": [
    "test_article1"
   ]
  },
  {
   "cell_type": "code",
   "execution_count": null,
   "metadata": {},
   "outputs": [],
   "source": []
  }
 ],
 "metadata": {
  "kernelspec": {
   "display_name": "Python 3 (ipykernel)",
   "language": "python",
   "name": "python3"
  },
  "language_info": {
   "codemirror_mode": {
    "name": "ipython",
    "version": 3
   },
   "file_extension": ".py",
   "mimetype": "text/x-python",
   "name": "python",
   "nbconvert_exporter": "python",
   "pygments_lexer": "ipython3",
   "version": "3.10.6"
  },
  "vscode": {
   "interpreter": {
    "hash": "4c27d0eb0116998fc328b5a00abe6956c11e30aa3cb3ca27ff0ca511f067786d"
   }
  }
 },
 "nbformat": 4,
 "nbformat_minor": 2
}
