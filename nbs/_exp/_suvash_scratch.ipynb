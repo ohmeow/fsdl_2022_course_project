{
 "cells": [
  {
   "cell_type": "code",
   "execution_count": 1,
   "id": "546212c2",
   "metadata": {},
   "outputs": [],
   "source": [
    "from pandas import DataFrame"
   ]
  },
  {
   "cell_type": "code",
   "execution_count": 50,
   "id": "6ac6432b",
   "metadata": {},
   "outputs": [],
   "source": [
    "import pandas as pd\n",
    "import numpy as np"
   ]
  },
  {
   "cell_type": "code",
   "execution_count": 51,
   "id": "c067220f",
   "metadata": {},
   "outputs": [],
   "source": [
    "df = pd.read_csv(\"/home/team_007/fsdl-2022-group-007-app/data/assets/content_summarization_files/SoWuPR5cofw.csv\")"
   ]
  },
  {
   "cell_type": "code",
   "execution_count": 52,
   "id": "aa8b37f8",
   "metadata": {},
   "outputs": [
    {
     "data": {
      "text/html": [
       "<div>\n",
       "<style scoped>\n",
       "    .dataframe tbody tr th:only-of-type {\n",
       "        vertical-align: middle;\n",
       "    }\n",
       "\n",
       "    .dataframe tbody tr th {\n",
       "        vertical-align: top;\n",
       "    }\n",
       "\n",
       "    .dataframe thead th {\n",
       "        text-align: right;\n",
       "    }\n",
       "</style>\n",
       "<table border=\"1\" class=\"dataframe\">\n",
       "  <thead>\n",
       "    <tr style=\"text-align: right;\">\n",
       "      <th></th>\n",
       "      <th>order</th>\n",
       "      <th>start</th>\n",
       "      <th>start_seconds</th>\n",
       "      <th>headline</th>\n",
       "      <th>summary</th>\n",
       "    </tr>\n",
       "  </thead>\n",
       "  <tbody>\n",
       "    <tr>\n",
       "      <th>0</th>\n",
       "      <td>0</td>\n",
       "      <td>00:00:00.000</td>\n",
       "      <td>0</td>\n",
       "      <td>Learn how to</td>\n",
       "      <td>Learn how to solve a basic algebra equation li...</td>\n",
       "    </tr>\n",
       "    <tr>\n",
       "      <th>1</th>\n",
       "      <td>1</td>\n",
       "      <td>00:02:12.580</td>\n",
       "      <td>132</td>\n",
       "      <td>Learn how to</td>\n",
       "      <td>If you want to get a sense of how well you're ...</td>\n",
       "    </tr>\n",
       "    <tr>\n",
       "      <th>2</th>\n",
       "      <td>2</td>\n",
       "      <td>00:03:56.980</td>\n",
       "      <td>236</td>\n",
       "      <td>Move all numbers</td>\n",
       "      <td>The first thing you want to do is to move all ...</td>\n",
       "    </tr>\n",
       "    <tr>\n",
       "      <th>3</th>\n",
       "      <td>3</td>\n",
       "      <td>00:04:09.700</td>\n",
       "      <td>249</td>\n",
       "      <td>How to solve</td>\n",
       "      <td>This is our other formats to solve equations .</td>\n",
       "    </tr>\n",
       "    <tr>\n",
       "      <th>4</th>\n",
       "      <td>4</td>\n",
       "      <td>00:05:29.580</td>\n",
       "      <td>329</td>\n",
       "      <td>2x over</td>\n",
       "      <td>2x over 5 is equivalent to 2fix times x .</td>\n",
       "    </tr>\n",
       "  </tbody>\n",
       "</table>\n",
       "</div>"
      ],
      "text/plain": [
       "   order         start start_seconds          headline  \\\n",
       "0      0  00:00:00.000             0      Learn how to   \n",
       "1      1  00:02:12.580           132      Learn how to   \n",
       "2      2  00:03:56.980           236  Move all numbers   \n",
       "3      3  00:04:09.700           249      How to solve   \n",
       "4      4  00:05:29.580           329           2x over   \n",
       "\n",
       "                                             summary  \n",
       "0  Learn how to solve a basic algebra equation li...  \n",
       "1  If you want to get a sense of how well you're ...  \n",
       "2  The first thing you want to do is to move all ...  \n",
       "3     This is our other formats to solve equations .  \n",
       "4          2x over 5 is equivalent to 2fix times x .  "
      ]
     },
     "execution_count": 52,
     "metadata": {},
     "output_type": "execute_result"
    }
   ],
   "source": [
    "df.rename(\n",
    "    columns={\n",
    "        \"topic_num\": \"order\",\n",
    "        \"timestamp\": \"start\",\n",
    "        \"topic_prediction\": \"headline\",\n",
    "        \"content_highlights\": \"summary\",\n",
    "    },\n",
    "    inplace=True,\n",
    ")\n",
    "df[\"start_seconds\"] = df.elapsed_seconds.apply(lambda x: x[1:-1].split(\",\")[0].split(\".\")[0])\n",
    "df = df[[\"order\", \"start\", \"start_seconds\", \"headline\", \"summary\"]]\n",
    "df.head()"
   ]
  },
  {
   "cell_type": "code",
   "execution_count": 53,
   "id": "da4a383a",
   "metadata": {},
   "outputs": [
    {
     "data": {
      "text/plain": [
       "[{'order': 0,\n",
       "  'start': '00:00:00.000',\n",
       "  'start_seconds': '0',\n",
       "  'headline': 'Learn how to',\n",
       "  'summary': 'Learn how to solve a basic algebra equation like this .'},\n",
       " {'order': 1,\n",
       "  'start': '00:02:12.580',\n",
       "  'start_seconds': '132',\n",
       "  'headline': 'Learn how to',\n",
       "  'summary': \"If you want to get a sense of how well you're doing in math, look at your notes . If you want to get a sense of how well you're doing in math, look at your notes .\"},\n",
       " {'order': 2,\n",
       "  'start': '00:03:56.980',\n",
       "  'start_seconds': '236',\n",
       "  'headline': 'Move all numbers',\n",
       "  'summary': 'The first thing you want to do is to move all numbers to this side of the equation . The first thing you want to do is to move all numbers to this side of the equation and have all variables on this side of the equation .'},\n",
       " {'order': 3,\n",
       "  'start': '00:04:09.700',\n",
       "  'start_seconds': '249',\n",
       "  'headline': 'How to solve',\n",
       "  'summary': 'This is our other formats to solve equations .'},\n",
       " {'order': 4,\n",
       "  'start': '00:05:29.580',\n",
       "  'start_seconds': '329',\n",
       "  'headline': '2x over',\n",
       "  'summary': '2x over 5 is equivalent to 2fix times x .'},\n",
       " {'order': 5,\n",
       "  'start': '00:05:43.380',\n",
       "  'start_seconds': '343',\n",
       "  'headline': 'Number crunching at',\n",
       "  'summary': 'Number crunching at one plus two thirds and then we ended up with two fifths x over here .'},\n",
       " {'order': 6,\n",
       "  'start': '00:06:22.060',\n",
       "  'start_seconds': '382',\n",
       "  'headline': 'LCD: LCD',\n",
       "  'summary': 'Use the LCD to help clear out fractions .'},\n",
       " {'order': 7,\n",
       "  'start': '00:07:59.860',\n",
       "  'start_seconds': '479',\n",
       "  'headline': \"It's\",\n",
       "  'summary': \"I know all of you are like, oh, yeah, it's 15. I know all of you are like, oh, yeah, it's 15. I know all of you are like, oh, yeah, it's 15.\"},\n",
       " {'order': 8,\n",
       "  'start': '00:08:03.300',\n",
       "  'start_seconds': '483',\n",
       "  'headline': 'Learn how to',\n",
       "  'summary': 'Learn how to find the LCD and multiply the entire equation by the LCD .'},\n",
       " {'order': 9,\n",
       "  'start': '00:08:54.580',\n",
       "  'start_seconds': '534',\n",
       "  'headline': 'algebra',\n",
       "  'summary': 'Okay, I can multiply an equation by any number or divide an equation by pretty much any number without hurting the equation .'},\n",
       " {'order': 10,\n",
       "  'start': '00:09:08.540',\n",
       "  'start_seconds': '548',\n",
       "  'headline': \"You're\",\n",
       "  'summary': \"You're not breaking the equation or changing the equation in any form . As long as I do whatever I'm going to do, as long as I do it to everything, then I'm going to be okay .\"},\n",
       " {'order': 11,\n",
       "  'start': '00:09:48.340',\n",
       "  'start_seconds': '588',\n",
       "  'headline': 'How to solve',\n",
       "  'summary': \"You'd rather solve this guy or rather solve this guy? You'd rather solve this guy or rather solve this guy? You'd rather solve this guy or rather solve this guy?\"},\n",
       " {'order': 12,\n",
       "  'start': '00:11:33.940',\n",
       "  'start_seconds': '693',\n",
       "  'headline': 'x is equal',\n",
       "  'summary': 'x is equal to 25 over 6 .'},\n",
       " {'order': 13,\n",
       "  'start': '00:11:40.620',\n",
       "  'start_seconds': '700',\n",
       "  'headline': \"If you'\",\n",
       "  'summary': \"If you've been following me, I always suggest that you don't turn your improper fractions into a mixed number .\"},\n",
       " {'order': 14,\n",
       "  'start': '00:11:48.260',\n",
       "  'start_seconds': '708',\n",
       "  'headline': 'You need to',\n",
       "  'summary': 'You need to know how to write an improper fraction as a mixed number .'},\n",
       " {'order': 15,\n",
       "  'start': '00:12:14.300',\n",
       "  'start_seconds': '734',\n",
       "  'headline': 'Use LCD to',\n",
       "  'summary': \"Use LCD to clear out fractions is excellent when you're doing much more advanced algebra . Use LCD to clear out fractions is useful when you're doing much more advanced algebra .\"},\n",
       " {'order': 16,\n",
       "  'start': '00:13:25.500',\n",
       "  'start_seconds': '805',\n",
       "  'headline': 'If you did',\n",
       "  'summary': \"You know, if you, you know, did this problem a different way and got the right answer, that's fine too .\"},\n",
       " {'order': 17,\n",
       "  'start': '00:13:30.700',\n",
       "  'start_seconds': '810',\n",
       "  'headline': 'Learn how to',\n",
       "  'summary': 'You need to know how to determine what the LCD is of an equation of all the different terms in it and how to clear out the fractions .'},\n",
       " {'order': 18,\n",
       "  'start': '00:14:11.340',\n",
       "  'start_seconds': '851',\n",
       "  'headline': 'I have hundreds',\n",
       "  'summary': \"I have hundreds of videos on my channel that can help you out . If you're struggling in other areas of math, please check out other videos there .\"}]"
      ]
     },
     "execution_count": 53,
     "metadata": {},
     "output_type": "execute_result"
    }
   ],
   "source": [
    "df.to_dict(\"records\")"
   ]
  },
  {
   "cell_type": "code",
   "execution_count": 54,
   "id": "cab440a8",
   "metadata": {},
   "outputs": [
    {
     "ename": "NameError",
     "evalue": "name 'Topic' is not defined",
     "output_type": "error",
     "traceback": [
      "\u001b[0;31m---------------------------------------------------------------------------\u001b[0m",
      "\u001b[0;31mNameError\u001b[0m                                 Traceback (most recent call last)",
      "Cell \u001b[0;32mIn [54], line 1\u001b[0m\n\u001b[0;32m----> 1\u001b[0m [Topic(\u001b[38;5;241m*\u001b[39m\u001b[38;5;241m*\u001b[39mrecord) \u001b[38;5;28;01mfor\u001b[39;00m record \u001b[38;5;129;01min\u001b[39;00m df\u001b[38;5;241m.\u001b[39mto_dict(\u001b[38;5;124m\"\u001b[39m\u001b[38;5;124mrecords\u001b[39m\u001b[38;5;124m\"\u001b[39m)]\n",
      "Cell \u001b[0;32mIn [54], line 1\u001b[0m, in \u001b[0;36m<listcomp>\u001b[0;34m(.0)\u001b[0m\n\u001b[0;32m----> 1\u001b[0m [\u001b[43mTopic\u001b[49m(\u001b[38;5;241m*\u001b[39m\u001b[38;5;241m*\u001b[39mrecord) \u001b[38;5;28;01mfor\u001b[39;00m record \u001b[38;5;129;01min\u001b[39;00m df\u001b[38;5;241m.\u001b[39mto_dict(\u001b[38;5;124m\"\u001b[39m\u001b[38;5;124mrecords\u001b[39m\u001b[38;5;124m\"\u001b[39m)]\n",
      "\u001b[0;31mNameError\u001b[0m: name 'Topic' is not defined"
     ]
    }
   ],
   "source": []
  },
  {
   "cell_type": "code",
   "execution_count": 55,
   "id": "238b903c",
   "metadata": {},
   "outputs": [],
   "source": [
    "from pydantic import BaseModel"
   ]
  },
  {
   "cell_type": "code",
   "execution_count": 58,
   "id": "b393d4d3",
   "metadata": {},
   "outputs": [],
   "source": [
    "class Topic(BaseModel):\n",
    "    order: int\n",
    "    start: str\n",
    "    start_seconds: int\n",
    "    headline: str\n",
    "    summary: str"
   ]
  },
  {
   "cell_type": "code",
   "execution_count": 59,
   "id": "899cbbed",
   "metadata": {},
   "outputs": [],
   "source": [
    "umm = [Topic(**record) for record in df.to_dict(\"records\")]"
   ]
  },
  {
   "cell_type": "code",
   "execution_count": 60,
   "id": "2814aa2b",
   "metadata": {},
   "outputs": [
    {
     "data": {
      "text/plain": [
       "[Topic(order=0, start='00:00:00.000', start_seconds=0, headline='Learn how to', summary='Learn how to solve a basic algebra equation like this .'),\n",
       " Topic(order=1, start='00:02:12.580', start_seconds=132, headline='Learn how to', summary=\"If you want to get a sense of how well you're doing in math, look at your notes . If you want to get a sense of how well you're doing in math, look at your notes .\"),\n",
       " Topic(order=2, start='00:03:56.980', start_seconds=236, headline='Move all numbers', summary='The first thing you want to do is to move all numbers to this side of the equation . The first thing you want to do is to move all numbers to this side of the equation and have all variables on this side of the equation .'),\n",
       " Topic(order=3, start='00:04:09.700', start_seconds=249, headline='How to solve', summary='This is our other formats to solve equations .'),\n",
       " Topic(order=4, start='00:05:29.580', start_seconds=329, headline='2x over', summary='2x over 5 is equivalent to 2fix times x .'),\n",
       " Topic(order=5, start='00:05:43.380', start_seconds=343, headline='Number crunching at', summary='Number crunching at one plus two thirds and then we ended up with two fifths x over here .'),\n",
       " Topic(order=6, start='00:06:22.060', start_seconds=382, headline='LCD: LCD', summary='Use the LCD to help clear out fractions .'),\n",
       " Topic(order=7, start='00:07:59.860', start_seconds=479, headline=\"It's\", summary=\"I know all of you are like, oh, yeah, it's 15. I know all of you are like, oh, yeah, it's 15. I know all of you are like, oh, yeah, it's 15.\"),\n",
       " Topic(order=8, start='00:08:03.300', start_seconds=483, headline='Learn how to', summary='Learn how to find the LCD and multiply the entire equation by the LCD .'),\n",
       " Topic(order=9, start='00:08:54.580', start_seconds=534, headline='algebra', summary='Okay, I can multiply an equation by any number or divide an equation by pretty much any number without hurting the equation .'),\n",
       " Topic(order=10, start='00:09:08.540', start_seconds=548, headline=\"You're\", summary=\"You're not breaking the equation or changing the equation in any form . As long as I do whatever I'm going to do, as long as I do it to everything, then I'm going to be okay .\"),\n",
       " Topic(order=11, start='00:09:48.340', start_seconds=588, headline='How to solve', summary=\"You'd rather solve this guy or rather solve this guy? You'd rather solve this guy or rather solve this guy? You'd rather solve this guy or rather solve this guy?\"),\n",
       " Topic(order=12, start='00:11:33.940', start_seconds=693, headline='x is equal', summary='x is equal to 25 over 6 .'),\n",
       " Topic(order=13, start='00:11:40.620', start_seconds=700, headline=\"If you'\", summary=\"If you've been following me, I always suggest that you don't turn your improper fractions into a mixed number .\"),\n",
       " Topic(order=14, start='00:11:48.260', start_seconds=708, headline='You need to', summary='You need to know how to write an improper fraction as a mixed number .'),\n",
       " Topic(order=15, start='00:12:14.300', start_seconds=734, headline='Use LCD to', summary=\"Use LCD to clear out fractions is excellent when you're doing much more advanced algebra . Use LCD to clear out fractions is useful when you're doing much more advanced algebra .\"),\n",
       " Topic(order=16, start='00:13:25.500', start_seconds=805, headline='If you did', summary=\"You know, if you, you know, did this problem a different way and got the right answer, that's fine too .\"),\n",
       " Topic(order=17, start='00:13:30.700', start_seconds=810, headline='Learn how to', summary='You need to know how to determine what the LCD is of an equation of all the different terms in it and how to clear out the fractions .'),\n",
       " Topic(order=18, start='00:14:11.340', start_seconds=851, headline='I have hundreds', summary=\"I have hundreds of videos on my channel that can help you out . If you're struggling in other areas of math, please check out other videos there .\")]"
      ]
     },
     "execution_count": 60,
     "metadata": {},
     "output_type": "execute_result"
    }
   ],
   "source": [
    "umm"
   ]
  },
  {
   "cell_type": "code",
   "execution_count": null,
   "id": "953cfae2",
   "metadata": {},
   "outputs": [],
   "source": []
  }
 ],
 "metadata": {
  "kernelspec": {
   "display_name": "Python 3 (ipykernel)",
   "language": "python",
   "name": "python3"
  },
  "language_info": {
   "codemirror_mode": {
    "name": "ipython",
    "version": 3
   },
   "file_extension": ".py",
   "mimetype": "text/x-python",
   "name": "python",
   "nbconvert_exporter": "python",
   "pygments_lexer": "ipython3",
   "version": "3.10.6"
  }
 },
 "nbformat": 4,
 "nbformat_minor": 5
}
