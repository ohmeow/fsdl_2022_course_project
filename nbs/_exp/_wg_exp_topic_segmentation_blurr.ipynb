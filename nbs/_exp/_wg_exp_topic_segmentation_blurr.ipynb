{
 "cells": [
  {
   "cell_type": "code",
   "execution_count": 1,
   "metadata": {},
   "outputs": [],
   "source": [
    "%reload_ext autoreload\n",
    "%autoreload 2"
   ]
  },
  {
   "cell_type": "code",
   "execution_count": 2,
   "metadata": {},
   "outputs": [],
   "source": [
    "import ast, os, gc, pdb, random, time\n",
    "\n",
    "from fastai.callback.all import *\n",
    "from fastai.data.block import CategoryBlock, ColReader, ColSplitter, DataBlock, IndexSplitter, RegressionBlock\n",
    "from fastai.imports import *\n",
    "from fastai.layers import SigmoidRange\n",
    "from fastai.learner import *\n",
    "from fastai.losses import CrossEntropyLossFlat, MSELossFlat, LabelSmoothingCrossEntropyFlat\n",
    "from fastai.optimizer import Adam\n",
    "from fastai.metrics import *\n",
    "from fastai.torch_core import *\n",
    "from fastai.torch_imports import *\n",
    "from fastcore.transform import Transform\n",
    "from sklearn.model_selection import train_test_split\n",
    "from torch.utils.checkpoint import checkpoint\n",
    "from transformers import (\n",
    "    AutoConfig,\n",
    "    AutoModelForNextSentencePrediction,\n",
    "    AutoModelForSequenceClassification,\n",
    "    DebertaV2Model,\n",
    "    logging,\n",
    ")\n",
    "from transformers.models.deberta_v2.modeling_deberta_v2 import ContextPooler\n",
    "from transformers.models.deberta_v2.modeling_deberta_v2 import StableDropout\n",
    "\n",
    "from blurr.callbacks import GradientCheckpointing\n",
    "from blurr.text.data.core import TextBlock, BatchTokenizeTransform\n",
    "from blurr.text.modeling.core import BaseModelWrapper, BaseModelCallback, blurr_splitter\n",
    "from blurr.text.utils import get_hf_objects\n",
    "from blurr.utils import PreCalculatedCrossEntropyLoss, PreCalculatedMSELoss, set_seed\n",
    "\n",
    "# silence all the HF warnings\n",
    "warnings.simplefilter(\"ignore\")\n",
    "logging.set_verbosity_error()\n",
    "os.environ[\"TOKENIZERS_PARALLELISM\"] = \"false\""
   ]
  },
  {
   "cell_type": "code",
   "execution_count": 3,
   "metadata": {},
   "outputs": [
    {
     "name": "stdout",
     "output_type": "stream",
     "text": [
      "Using GPU #0: GeForce GTX 1080 Ti\n"
     ]
    }
   ],
   "source": [
    "gpu_num = 0\n",
    "\n",
    "torch.cuda.set_device(gpu_num)\n",
    "print(f\"Using GPU #{torch.cuda.current_device()}: {torch.cuda.get_device_name()}\")"
   ]
  },
  {
   "cell_type": "code",
   "execution_count": 4,
   "metadata": {},
   "outputs": [],
   "source": [
    "random_seed = 2022\n",
    "val_pct = 0.25\n",
    "bsz = 8\n",
    "data_subset_pct = 1.0\n",
    "\n",
    "# HF objects\n",
    "model_checkpoint = \"microsoft/deberta-v3-small\"\n",
    "model_cls = AutoModelForSequenceClassification\n",
    "\n",
    "# model_checkpoint = \"bert-base-uncased\"\n",
    "# model_cls = AutoModelForNextSentencePrediction"
   ]
  },
  {
   "cell_type": "markdown",
   "metadata": {},
   "source": [
    "## Data"
   ]
  },
  {
   "cell_type": "code",
   "execution_count": 5,
   "metadata": {},
   "outputs": [
    {
     "name": "stdout",
     "output_type": "stream",
     "text": [
      "25383\n"
     ]
    },
    {
     "data": {
      "text/html": [
       "<div>\n",
       "<style scoped>\n",
       "    .dataframe tbody tr th:only-of-type {\n",
       "        vertical-align: middle;\n",
       "    }\n",
       "\n",
       "    .dataframe tbody tr th {\n",
       "        vertical-align: top;\n",
       "    }\n",
       "\n",
       "    .dataframe thead th {\n",
       "        text-align: right;\n",
       "    }\n",
       "</style>\n",
       "<table border=\"1\" class=\"dataframe\">\n",
       "  <thead>\n",
       "    <tr style=\"text-align: right;\">\n",
       "      <th></th>\n",
       "      <th>index</th>\n",
       "      <th>course_title</th>\n",
       "      <th>lesson_num</th>\n",
       "      <th>topic</th>\n",
       "      <th>seq</th>\n",
       "      <th>next_seq</th>\n",
       "      <th>is_topic_end</th>\n",
       "      <th>next_topic_begin_seq</th>\n",
       "      <th>other_topic_seqs</th>\n",
       "    </tr>\n",
       "  </thead>\n",
       "  <tbody>\n",
       "    <tr>\n",
       "      <th>0</th>\n",
       "      <td>0</td>\n",
       "      <td>C-Squared Podcast</td>\n",
       "      <td>1</td>\n",
       "      <td>Intro</td>\n",
       "      <td>[Music] welcome everybody to episode one of a</td>\n",
       "      <td>chess themed podcast with myself christian kirilla and i'm fighting on caruana so what's up</td>\n",
       "      <td>False</td>\n",
       "      <td>NaN</td>\n",
       "      <td>[christian well not so much fabi uh it's first of all great um to finally start a, podcast the chess podcast i know that um there's a lot of podcasts out there but, i wanted to bring our own tune to the mix and i think uh yeah i'm, excited about that so that's uh the first thing how about yourself fabian well i'm back in the states after it's, been a while at your home it's good to be here it's my first time in uh visiting here and uh, yeah it's been an interesting few months played a lot of chess which is pretty cool but, also a bit difficult at times my home uh here we are not going to m...</td>\n",
       "    </tr>\n",
       "    <tr>\n",
       "      <th>1</th>\n",
       "      <td>1</td>\n",
       "      <td>C-Squared Podcast</td>\n",
       "      <td>1</td>\n",
       "      <td>Intro</td>\n",
       "      <td>chess themed podcast with myself christian kirilla and i'm fighting on caruana so what's up</td>\n",
       "      <td>christian well not so much fabi uh it's first of all great um to finally start a</td>\n",
       "      <td>False</td>\n",
       "      <td>NaN</td>\n",
       "      <td>[[Music] welcome everybody to episode one of a, podcast the chess podcast i know that um there's a lot of podcasts out there but, i wanted to bring our own tune to the mix and i think uh yeah i'm, excited about that so that's uh the first thing how about yourself fabian well i'm back in the states after it's, been a while at your home it's good to be here it's my first time in uh visiting here and uh, yeah it's been an interesting few months played a lot of chess which is pretty cool but, also a bit difficult at times my home uh here we are not going to mention the location because, those ...</td>\n",
       "    </tr>\n",
       "    <tr>\n",
       "      <th>2</th>\n",
       "      <td>2</td>\n",
       "      <td>C-Squared Podcast</td>\n",
       "      <td>1</td>\n",
       "      <td>Intro</td>\n",
       "      <td>christian well not so much fabi uh it's first of all great um to finally start a</td>\n",
       "      <td>podcast the chess podcast i know that um there's a lot of podcasts out there but</td>\n",
       "      <td>False</td>\n",
       "      <td>NaN</td>\n",
       "      <td>[[Music] welcome everybody to episode one of a, chess themed podcast with myself christian kirilla and i'm fighting on caruana so what's up, i wanted to bring our own tune to the mix and i think uh yeah i'm, excited about that so that's uh the first thing how about yourself fabian well i'm back in the states after it's, been a while at your home it's good to be here it's my first time in uh visiting here and uh, yeah it's been an interesting few months played a lot of chess which is pretty cool but, also a bit difficult at times my home uh here we are not going to mention the location beca...</td>\n",
       "    </tr>\n",
       "    <tr>\n",
       "      <th>3</th>\n",
       "      <td>3</td>\n",
       "      <td>C-Squared Podcast</td>\n",
       "      <td>1</td>\n",
       "      <td>Intro</td>\n",
       "      <td>podcast the chess podcast i know that um there's a lot of podcasts out there but</td>\n",
       "      <td>i wanted to bring our own tune to the mix and i think uh yeah i'm</td>\n",
       "      <td>False</td>\n",
       "      <td>NaN</td>\n",
       "      <td>[[Music] welcome everybody to episode one of a, chess themed podcast with myself christian kirilla and i'm fighting on caruana so what's up, christian well not so much fabi uh it's first of all great um to finally start a, excited about that so that's uh the first thing how about yourself fabian well i'm back in the states after it's, been a while at your home it's good to be here it's my first time in uh visiting here and uh, yeah it's been an interesting few months played a lot of chess which is pretty cool but, also a bit difficult at times my home uh here we are not going to mention th...</td>\n",
       "    </tr>\n",
       "    <tr>\n",
       "      <th>4</th>\n",
       "      <td>4</td>\n",
       "      <td>C-Squared Podcast</td>\n",
       "      <td>1</td>\n",
       "      <td>Intro</td>\n",
       "      <td>i wanted to bring our own tune to the mix and i think uh yeah i'm</td>\n",
       "      <td>excited about that so that's uh the first thing how about yourself fabian well i'm back in the states after it's</td>\n",
       "      <td>False</td>\n",
       "      <td>NaN</td>\n",
       "      <td>[[Music] welcome everybody to episode one of a, chess themed podcast with myself christian kirilla and i'm fighting on caruana so what's up, christian well not so much fabi uh it's first of all great um to finally start a, podcast the chess podcast i know that um there's a lot of podcasts out there but, been a while at your home it's good to be here it's my first time in uh visiting here and uh, yeah it's been an interesting few months played a lot of chess which is pretty cool but, also a bit difficult at times my home uh here we are not going to mention the location because, those uh cra...</td>\n",
       "    </tr>\n",
       "  </tbody>\n",
       "</table>\n",
       "</div>"
      ],
      "text/plain": [
       "   index       course_title lesson_num  topic  \\\n",
       "0      0  C-Squared Podcast          1  Intro   \n",
       "1      1  C-Squared Podcast          1  Intro   \n",
       "2      2  C-Squared Podcast          1  Intro   \n",
       "3      3  C-Squared Podcast          1  Intro   \n",
       "4      4  C-Squared Podcast          1  Intro   \n",
       "\n",
       "                                                                                           seq  \\\n",
       "0                                                [Music] welcome everybody to episode one of a   \n",
       "1  chess themed podcast with myself christian kirilla and i'm fighting on caruana so what's up   \n",
       "2             christian well not so much fabi uh it's first of all great um to finally start a   \n",
       "3             podcast the chess podcast i know that um there's a lot of podcasts out there but   \n",
       "4                            i wanted to bring our own tune to the mix and i think uh yeah i'm   \n",
       "\n",
       "                                                                                                           next_seq  \\\n",
       "0                       chess themed podcast with myself christian kirilla and i'm fighting on caruana so what's up   \n",
       "1                                  christian well not so much fabi uh it's first of all great um to finally start a   \n",
       "2                                  podcast the chess podcast i know that um there's a lot of podcasts out there but   \n",
       "3                                                 i wanted to bring our own tune to the mix and i think uh yeah i'm   \n",
       "4  excited about that so that's uh the first thing how about yourself fabian well i'm back in the states after it's   \n",
       "\n",
       "   is_topic_end next_topic_begin_seq  \\\n",
       "0         False                  NaN   \n",
       "1         False                  NaN   \n",
       "2         False                  NaN   \n",
       "3         False                  NaN   \n",
       "4         False                  NaN   \n",
       "\n",
       "                                                                                                                                                                                                                                                                                                                                                                                                                                                                                                                                                                                                          other_topic_seqs  \n",
       "0  [christian well not so much fabi uh it's first of all great um to finally start a, podcast the chess podcast i know that um there's a lot of podcasts out there but, i wanted to bring our own tune to the mix and i think uh yeah i'm, excited about that so that's uh the first thing how about yourself fabian well i'm back in the states after it's, been a while at your home it's good to be here it's my first time in uh visiting here and uh, yeah it's been an interesting few months played a lot of chess which is pretty cool but, also a bit difficult at times my home uh here we are not going to m...  \n",
       "1  [[Music] welcome everybody to episode one of a, podcast the chess podcast i know that um there's a lot of podcasts out there but, i wanted to bring our own tune to the mix and i think uh yeah i'm, excited about that so that's uh the first thing how about yourself fabian well i'm back in the states after it's, been a while at your home it's good to be here it's my first time in uh visiting here and uh, yeah it's been an interesting few months played a lot of chess which is pretty cool but, also a bit difficult at times my home uh here we are not going to mention the location because, those ...  \n",
       "2  [[Music] welcome everybody to episode one of a, chess themed podcast with myself christian kirilla and i'm fighting on caruana so what's up, i wanted to bring our own tune to the mix and i think uh yeah i'm, excited about that so that's uh the first thing how about yourself fabian well i'm back in the states after it's, been a while at your home it's good to be here it's my first time in uh visiting here and uh, yeah it's been an interesting few months played a lot of chess which is pretty cool but, also a bit difficult at times my home uh here we are not going to mention the location beca...  \n",
       "3  [[Music] welcome everybody to episode one of a, chess themed podcast with myself christian kirilla and i'm fighting on caruana so what's up, christian well not so much fabi uh it's first of all great um to finally start a, excited about that so that's uh the first thing how about yourself fabian well i'm back in the states after it's, been a while at your home it's good to be here it's my first time in uh visiting here and uh, yeah it's been an interesting few months played a lot of chess which is pretty cool but, also a bit difficult at times my home uh here we are not going to mention th...  \n",
       "4  [[Music] welcome everybody to episode one of a, chess themed podcast with myself christian kirilla and i'm fighting on caruana so what's up, christian well not so much fabi uh it's first of all great um to finally start a, podcast the chess podcast i know that um there's a lot of podcasts out there but, been a while at your home it's good to be here it's my first time in uh visiting here and uh, yeah it's been an interesting few months played a lot of chess which is pretty cool but, also a bit difficult at times my home uh here we are not going to mention the location because, those uh cra...  "
      ]
     },
     "execution_count": 5,
     "metadata": {},
     "output_type": "execute_result"
    }
   ],
   "source": [
    "raw_train_df = pd.read_csv(\"../../data/clean/segmentation_train.csv\", index_col=None)\n",
    "raw_train_df[\"other_topic_seqs\"] = raw_train_df[\"other_topic_seqs\"].apply(ast.literal_eval)\n",
    "raw_train_df.reset_index(inplace=True)\n",
    "\n",
    "print(len(raw_train_df))\n",
    "raw_train_df.head()"
   ]
  },
  {
   "cell_type": "code",
   "execution_count": 6,
   "metadata": {},
   "outputs": [
    {
     "data": {
      "text/plain": [
       "\"so to start let's talk about how to address underfitting so how how do we reduce bias and here are some strategies that you\""
      ]
     },
     "execution_count": 6,
     "metadata": {},
     "output_type": "execute_result"
    }
   ],
   "source": [
    "raw_train_df[\"seq\"].sample(n=1).values[0].strip()"
   ]
  },
  {
   "cell_type": "markdown",
   "metadata": {},
   "source": [
    "### Train Eval split\n",
    "\n",
    "For training we need to remove sequences for which there is not a \"next_seq\" (e.g., we are at end of a topic)"
   ]
  },
  {
   "cell_type": "code",
   "execution_count": 7,
   "metadata": {},
   "outputs": [
    {
     "name": "stdout",
     "output_type": "stream",
     "text": [
      "24786\n"
     ]
    }
   ],
   "source": [
    "train_df = raw_train_df[raw_train_df[\"is_topic_end\"] == False].copy()\n",
    "print(len(train_df))"
   ]
  },
  {
   "cell_type": "markdown",
   "metadata": {},
   "source": [
    "Validation set should ideally ***not*** include courses in the training set"
   ]
  },
  {
   "cell_type": "code",
   "execution_count": 8,
   "metadata": {},
   "outputs": [],
   "source": [
    "# if we were just concerned with creating a validation set and nothing else\n",
    "_, val_idxs = train_test_split(range(len(train_df)), test_size=val_pct, random_state=random_seed)\n",
    "\n",
    "\n",
    "# # shuffle dataset - optional subset for faster iteration\n",
    "# train_df = train_df.sample(frac=data_subset_pct, random_state=random_seed).reset_index(drop=True)\n",
    "\n",
    "# courses = train_df[\"course_title\"].unique()\n",
    "\n",
    "# np.random.seed(random_seed)\n",
    "# np.random.shuffle(courses)\n",
    "\n",
    "# val_sz = int(len(courses) * val_pct)\n",
    "# val_courses = courses[:val_sz]\n",
    "\n",
    "# is_val = np.isin(train_df[\"course_title\"], val_courses)\n",
    "\n",
    "# idxs = np.arange(len(train_df))\n",
    "# val_idxs = idxs[is_val]\n",
    "# trn_idxs = idxs[~is_val]"
   ]
  },
  {
   "cell_type": "markdown",
   "metadata": {},
   "source": [
    "## HF objects"
   ]
  },
  {
   "cell_type": "code",
   "execution_count": 9,
   "metadata": {},
   "outputs": [],
   "source": [
    "if random_seed:\n",
    "    set_seed(random_seed)\n",
    "\n",
    "    # need to create configuration object separately because we may be adding new attributes (e.g., cls_dropout)\n",
    "    hf_config = AutoConfig.from_pretrained(model_checkpoint)\n",
    "    hf_config.update({})\n",
    "\n",
    "    hf_arch, hf_config, hf_tokenizer, hf_model = get_hf_objects(\n",
    "        model_checkpoint,\n",
    "        model_cls=model_cls,\n",
    "        config=hf_config,\n",
    "        tokenizer_kwargs={},\n",
    "        model_kwargs={},\n",
    "    )"
   ]
  },
  {
   "cell_type": "markdown",
   "metadata": {},
   "source": [
    "## DataLoaders"
   ]
  },
  {
   "cell_type": "code",
   "execution_count": 10,
   "metadata": {},
   "outputs": [],
   "source": [
    "class SiameseBatchTokenizeTransform(BatchTokenizeTransform):\n",
    "    def __init__(self, use_next_pos_prob=0.75, use_adjacent_neg_prob=0.5, **kwargs):\n",
    "        super().__init__(**kwargs)\n",
    "        self.use_next_pos_prob = use_next_pos_prob\n",
    "        self.use_adjacent_neg_prob = use_adjacent_neg_prob\n",
    "\n",
    "    def encodes(self, samples, return_batch_encoding=False):\n",
    "        # our positive example\n",
    "        pos_ex_idx = 0 if random.uniform(0, 1) < self.use_next_pos_prob else 1\n",
    "        updated_samples1, inputs1 = super().encodes(\n",
    "            [(s[0][pos_ex_idx] if s[0][pos_ex_idx] != \"xxNONExx\" else s[0][0], *s[2:], *s[2:]) for s in samples],\n",
    "            return_batch_encoding=True,\n",
    "        )\n",
    "\n",
    "        # our negative example (sometimes the adjacent will be \"\"; if that is the case use the other topic negative example which is at idx=1)\n",
    "        neg_ex_idx = 0 if random.uniform(0, 1) < self.use_adjacent_neg_prob and pos_ex_idx == 0 else 1\n",
    "        updated_samples2, inputs2 = super().encodes(\n",
    "            [(s[1][neg_ex_idx] if s[1][neg_ex_idx] != \"xxNONExx\" else s[1][1], *s[2:]) for s in samples],\n",
    "            return_batch_encoding=True,\n",
    "        )\n",
    "\n",
    "        # if there are no targets (e.g., when used for inference)\n",
    "        if len(samples[0]) == 2:\n",
    "            return [(inps1[0], inps2[0]) for inps1, inps2 in zip(updated_samples1, updated_samples2)]\n",
    "\n",
    "        return [(inps1[0], inps2[0], inps1[-1]) for inps1, inps2 in zip(updated_samples1, updated_samples2)]"
   ]
  },
  {
   "cell_type": "code",
   "execution_count": 11,
   "metadata": {},
   "outputs": [],
   "source": [
    "def build_pos_inputs(example, tok_sep_token=\"[SEP]\", lower_case=True):\n",
    "    seq_text = example[\"seq\"].strip().lower() if lower_case else example[\"seq\"].strip()\n",
    "    next_seq_text = example[\"next_seq\"].strip().lower() if lower_case else example[\"next_seq\"].strip()\n",
    "\n",
    "    non_adjacent_text = (\n",
    "        random.choice(example[\"other_topic_seqs\"]).strip() if len(example[\"other_topic_seqs\"]) > 0 else None\n",
    "    )\n",
    "    if lower_case and non_adjacent_text:\n",
    "        non_adjacent_text = non_adjacent_text.lower()\n",
    "\n",
    "    if example[\"is_topic_end\"] and example[\"next_topic_begin_seq\"] and non_adjacent_text:\n",
    "        # this is the last sequence in the topic so the only thing that will work here is to pair it with another non-adjacent seq in the same topic\n",
    "        # and therefore we just duplicate it here.\n",
    "        next_topic_begin_seq = (\n",
    "            example[\"next_topic_begin_seq\"].strip().lower() if lower_case else example[\"next_topic_begin_seq\"].strip()\n",
    "        )\n",
    "        inp = (f\"{seq_text}{tok_sep_token}{non_adjacent_text}\", f\"{seq_text}{tok_sep_token}{non_adjacent_text}\")\n",
    "    else:\n",
    "        # the positive pair will be a seq + the next seq -or- the seq + a non-adjacent seq in the same topic\n",
    "        inp = (\n",
    "            f\"{seq_text}{tok_sep_token}{next_seq_text}\",\n",
    "            f\"{seq_text}{tok_sep_token}{non_adjacent_text}\" if non_adjacent_text else \"xxNONExx\",\n",
    "        )\n",
    "\n",
    "    return inp"
   ]
  },
  {
   "cell_type": "code",
   "execution_count": 12,
   "metadata": {},
   "outputs": [],
   "source": [
    "def build_neg_inputs(example, tok_sep_token=\"[SEP]\", lower_case=True):\n",
    "    seq_text = example[\"seq\"].strip()\n",
    "\n",
    "    # if at the last sequence for a topic, set the negative pair = seq + first sequence in next topic,\n",
    "    # else get a sequence that is not adjacent but in same topic\n",
    "    if example[\"is_topic_end\"] and example[\"next_topic_begin_seq\"]:\n",
    "        neg_seq_non_adjacent_text = example[\"next_topic_begin_seq\"].strip()\n",
    "    elif len(example[\"other_topic_seqs\"]) > 0:\n",
    "        neg_seq_non_adjacent_text = random.choice(example[\"other_topic_seqs\"]).strip()\n",
    "    else:\n",
    "        neg_seq_non_adjacent_text = \"xxNONExx\"\n",
    "\n",
    "    # get a sequence that is in an entirely different topic\n",
    "    # option 1: can be in same lesson but different topic or in a different course entirely\n",
    "    # neg_seq_other_topic_text = (\n",
    "    #     train_df[\"seq\"][\n",
    "    #         (train_df[\"course_title\"] != example[\"course_title\"]) | (train_df[\"lesson_num\"] != example[\"lesson_num\"])\n",
    "    #     ]\n",
    "    #     .sample(n=1)\n",
    "    #     .values[0]\n",
    "    #     .strip()\n",
    "    # )\n",
    "\n",
    "    # option 2: sample from a different course entirely\n",
    "    neg_seq_other_topic_text = (\n",
    "        train_df[\"seq\"][(train_df[\"course_title\"] != example[\"course_title\"])].sample(n=1).values[0].strip()\n",
    "    )\n",
    "\n",
    "    if lower_case:\n",
    "        seq_text = seq_text.lower()\n",
    "        neg_seq_non_adjacent_text = neg_seq_non_adjacent_text.lower()\n",
    "        neg_seq_other_topic_text = neg_seq_other_topic_text.lower()\n",
    "\n",
    "    # our SiameseBatchTokenizeTransform will choose which one to use each time the item is fetched\n",
    "    inp = (\n",
    "        f\"{seq_text}{tok_sep_token}{neg_seq_non_adjacent_text}\",\n",
    "        f\"{seq_text}{tok_sep_token}{neg_seq_other_topic_text}\",\n",
    "    )\n",
    "\n",
    "    return inp"
   ]
  },
  {
   "cell_type": "code",
   "execution_count": 13,
   "metadata": {},
   "outputs": [],
   "source": [
    "def build_targets(example):\n",
    "    return 0"
   ]
  },
  {
   "cell_type": "code",
   "execution_count": 14,
   "metadata": {},
   "outputs": [],
   "source": [
    "def get_dls(df, hf_arch, hf_config, hf_tokenizer, hf_model, val_idxs, get_x=None):\n",
    "    # define validation set\n",
    "    splitter = IndexSplitter(val_idxs)\n",
    "\n",
    "    if random_seed:\n",
    "        set_seed(random_seed)\n",
    "\n",
    "    batch_tokenize_tfm = SiameseBatchTokenizeTransform(\n",
    "        use_adjacent_neg_prob=0.75,\n",
    "        hf_arch=hf_arch,\n",
    "        hf_config=hf_config,\n",
    "        hf_tokenizer=hf_tokenizer,\n",
    "        hf_model=hf_model,\n",
    "        include_labels=False,\n",
    "        max_length=True,\n",
    "        truncation=True,\n",
    "        tok_kwargs={},\n",
    "    )\n",
    "\n",
    "    blocks = (TextBlock(batch_tokenize_tfm=batch_tokenize_tfm), noop, CategoryBlock)\n",
    "\n",
    "    get_pos_x = partial(build_pos_inputs, tok_sep_token=hf_tokenizer.sep_token, lower_case=True)\n",
    "    get_neg_x = partial(build_neg_inputs, tok_sep_token=hf_tokenizer.sep_token, lower_case=True)\n",
    "    get_y = partial(build_targets)\n",
    "\n",
    "    dblock = DataBlock(\n",
    "        blocks=blocks,\n",
    "        get_x=[get_pos_x, get_neg_x],\n",
    "        get_y=get_y,\n",
    "        splitter=splitter,\n",
    "        n_inp=2,\n",
    "    )\n",
    "\n",
    "    if random_seed:\n",
    "        set_seed(random_seed)\n",
    "\n",
    "    return dblock.dataloaders(df, bs=bsz, val_bs=bsz * 2)"
   ]
  },
  {
   "cell_type": "code",
   "execution_count": 15,
   "metadata": {},
   "outputs": [],
   "source": [
    "dls = get_dls(train_df, hf_arch, hf_config, hf_tokenizer, hf_model, val_idxs=val_idxs)"
   ]
  },
  {
   "cell_type": "code",
   "execution_count": 16,
   "metadata": {},
   "outputs": [],
   "source": [
    "b = dls.one_batch()"
   ]
  },
  {
   "cell_type": "code",
   "execution_count": 17,
   "metadata": {},
   "outputs": [
    {
     "data": {
      "text/plain": [
       "3"
      ]
     },
     "execution_count": 17,
     "metadata": {},
     "output_type": "execute_result"
    }
   ],
   "source": [
    "len(b)"
   ]
  },
  {
   "cell_type": "code",
   "execution_count": 18,
   "metadata": {},
   "outputs": [
    {
     "data": {
      "text/plain": [
       "\"[CLS] is... i showed my six-year-old daughter, she's like: “what are you doing dad?”, like, i'm coding, “what are you coding?” oh, you know, dog cat classifier. she checks it out and her first question is:[SEP] “can i take your keyboard for a moment”, and she goes to google, and she's like: what is a dog mixed with a cat called. like, there's no such thing as a dog mixed with a cat. anyway, she goes[SEP]\""
      ]
     },
     "execution_count": 18,
     "metadata": {},
     "output_type": "execute_result"
    }
   ],
   "source": [
    "hf_tokenizer.decode(b[0][\"input_ids\"][0])"
   ]
  },
  {
   "cell_type": "code",
   "execution_count": 19,
   "metadata": {},
   "outputs": [
    {
     "data": {
      "text/plain": [
       "\"[CLS] is... i showed my six-year-old daughter, she's like: “what are you doing dad?”, like, i'm coding, “what are you coding?” oh, you know, dog cat classifier. she checks it out and her first question is:[SEP] but running on our own box — classifier. so let's check: dog, so you can[SEP][PAD][PAD][PAD][PAD][PAD]\""
      ]
     },
     "execution_count": 19,
     "metadata": {},
     "output_type": "execute_result"
    }
   ],
   "source": [
    "hf_tokenizer.decode(b[1][\"input_ids\"][0])"
   ]
  },
  {
   "cell_type": "code",
   "execution_count": 20,
   "metadata": {},
   "outputs": [
    {
     "data": {
      "text/plain": [
       "TensorCategory([0, 0, 0, 0, 0, 0, 0, 0], device='cuda:0')"
      ]
     },
     "execution_count": 20,
     "metadata": {},
     "output_type": "execute_result"
    }
   ],
   "source": [
    "b[2]"
   ]
  },
  {
   "cell_type": "markdown",
   "metadata": {},
   "source": [
    "## Models"
   ]
  },
  {
   "cell_type": "code",
   "execution_count": 21,
   "metadata": {},
   "outputs": [],
   "source": [
    "def blurr_splitter_with_head(m: Module):\n",
    "    \"\"\"Simply adds an additional layer group to the classification head\"\"\"\n",
    "    base_param_groups = blurr_splitter(m)\n",
    "\n",
    "    added_groups = L([m for m_name, m in list(m.named_children()) if m_name != \"hf_model\"])\n",
    "    added_param_groups = added_groups.map(params).filter(lambda el: len(el) > 0)\n",
    "\n",
    "    return base_param_groups + added_param_groups\n",
    "\n",
    "\n",
    "def blurr_splitter_on_backbone(m: Module):\n",
    "    \"\"\"Creates two layer groups: One for the backbone and one for the pooler/classification head\"\"\"\n",
    "    root_modules = list(m.named_children())\n",
    "    top_module_name, top_module = root_modules[0]\n",
    "\n",
    "    groups = L(top_module)\n",
    "    groups += L([m for m_name, m in root_modules[1:]])\n",
    "\n",
    "    return groups.map(params).filter(lambda el: len(el) > 0)"
   ]
  },
  {
   "cell_type": "code",
   "execution_count": 22,
   "metadata": {},
   "outputs": [],
   "source": [
    "# TODO: Review PyTorch docs (https://pytorch.org/docs/stable/generated/torch.nn.MarginRankingLoss.html); consider changing\n",
    "def MarginRankingLoss(pos_neg_scores, targs):\n",
    "    margin = 1\n",
    "    p_scores, n_scores = pos_neg_scores\n",
    "\n",
    "    scores = margin - p_scores + n_scores\n",
    "    scores = scores.clamp(min=0)\n",
    "    return scores.mean()"
   ]
  },
  {
   "cell_type": "code",
   "execution_count": 23,
   "metadata": {},
   "outputs": [],
   "source": [
    "def f1_score(inps, targs):\n",
    "    labels = []\n",
    "    all_pos_scores, all_neg_scores = inps[0], inps[1]\n",
    "\n",
    "    for i in range(len(all_pos_scores)):\n",
    "        if all_pos_scores[i] > all_neg_scores[i]:\n",
    "            labels.append(1)\n",
    "        else:\n",
    "            labels.append(0)\n",
    "\n",
    "    return sum(labels) / float(len(all_pos_scores))\n",
    "\n",
    "\n",
    "_f1_score = AvgMetric(f1_score)"
   ]
  },
  {
   "cell_type": "code",
   "execution_count": 24,
   "metadata": {},
   "outputs": [],
   "source": [
    "class TopicSegmentationModelWrapper(BaseModelWrapper):\n",
    "    def __init__(\n",
    "        self,\n",
    "        hf_config,\n",
    "        hf_model,\n",
    "        dropout_cls=nn.Dropout,\n",
    "        p=0.1,\n",
    "        hf_model_kwargs={},\n",
    "    ):\n",
    "        super().__init__(hf_model=hf_model, output_hidden_states=True, hf_model_kwargs=hf_model_kwargs)\n",
    "        store_attr()\n",
    "\n",
    "        self.coherence_prediction_dec = nn.Sequential(\n",
    "            *[\n",
    "                nn.Linear(hf_config.hidden_size, hf_config.hidden_size),\n",
    "                nn.ReLU(),\n",
    "                dropout_cls(p=p),\n",
    "                nn.Linear(hf_config.hidden_size, 2),\n",
    "            ]\n",
    "        )\n",
    "\n",
    "    def forward(self, inputs1, inputs2):\n",
    "        # sequence 1 (pos examples)\n",
    "        inputs1_res = super().forward(inputs1)\n",
    "        pos_scores = inputs1_res.hidden_states[-1][:, 0, :]\n",
    "        pos_scores = self.coherence_prediction_dec(pos_scores)\n",
    "\n",
    "        # sequence 2 (neg examples)\n",
    "        inputs2_res = super().forward(inputs2)\n",
    "        neg_scores = inputs2_res.hidden_states[-1][:, 0, :]\n",
    "        neg_scores = self.coherence_prediction_dec(neg_scores)\n",
    "\n",
    "        return pos_scores[:, 0], neg_scores[:, 0]"
   ]
  },
  {
   "cell_type": "code",
   "execution_count": 25,
   "metadata": {},
   "outputs": [],
   "source": [
    "if random_seed:\n",
    "    set_seed(random_seed)\n",
    "\n",
    "learn_cbs = []\n",
    "fit_cbs = [GradientClip(max_norm=1.0)]\n",
    "\n",
    "blurr_model_wrapper = TopicSegmentationModelWrapper(hf_config=hf_config, hf_model=hf_model)\n",
    "\n",
    "learn = Learner(\n",
    "    dls,\n",
    "    blurr_model_wrapper,\n",
    "    loss_func=MarginRankingLoss,\n",
    "    metrics=[_f1_score],\n",
    "    cbs=learn_cbs,\n",
    "    splitter=blurr_splitter_on_backbone,\n",
    ")\n",
    "\n",
    "learn.create_opt()\n",
    "learn.freeze()\n",
    "learn = learn.to_fp16()"
   ]
  },
  {
   "cell_type": "code",
   "execution_count": 26,
   "metadata": {},
   "outputs": [
    {
     "name": "stdout",
     "output_type": "stream",
     "text": [
      "2\n"
     ]
    }
   ],
   "source": [
    "print(len(learn.opt.param_groups))"
   ]
  },
  {
   "cell_type": "code",
   "execution_count": 27,
   "metadata": {},
   "outputs": [
    {
     "data": {
      "text/html": [
       "\n",
       "<style>\n",
       "    /* Turns off some styling */\n",
       "    progress {\n",
       "        /* gets rid of default border in Firefox and Opera. */\n",
       "        border: none;\n",
       "        /* Needs to be in here for Safari polyfill so background images work as expected. */\n",
       "        background-size: auto;\n",
       "    }\n",
       "    progress:not([value]), progress:not([value])::-webkit-progress-bar {\n",
       "        background: repeating-linear-gradient(45deg, #7e7e7e, #7e7e7e 10px, #5c5c5c 10px, #5c5c5c 20px);\n",
       "    }\n",
       "    .progress-bar-interrupted, .progress-bar-interrupted::-webkit-progress-bar {\n",
       "        background: #F44336;\n",
       "    }\n",
       "</style>\n"
      ],
      "text/plain": [
       "<IPython.core.display.HTML object>"
      ]
     },
     "metadata": {},
     "output_type": "display_data"
    },
    {
     "data": {
      "text/html": [],
      "text/plain": [
       "<IPython.core.display.HTML object>"
      ]
     },
     "metadata": {},
     "output_type": "display_data"
    },
    {
     "data": {
      "text/plain": [
       "SuggestedLRs(minimum=0.0005248074419796466, steep=0.05754399299621582, valley=0.0008317637839354575, slide=0.0010000000474974513)"
      ]
     },
     "execution_count": 27,
     "metadata": {},
     "output_type": "execute_result"
    },
    {
     "data": {
      "image/png": "[encoded data removed]",
      "text/plain": [
       "<Figure size 640x480 with 1 Axes>"
      ]
     },
     "metadata": {},
     "output_type": "display_data"
    }
   ],
   "source": [
    "learn.unfreeze()\n",
    "learn.lr_find(suggest_funcs=[minimum, steep, valley, slide])"
   ]
  },
  {
   "cell_type": "code",
   "execution_count": 28,
   "metadata": {},
   "outputs": [
    {
     "data": {
      "text/html": [
       "\n",
       "<style>\n",
       "    /* Turns off some styling */\n",
       "    progress {\n",
       "        /* gets rid of default border in Firefox and Opera. */\n",
       "        border: none;\n",
       "        /* Needs to be in here for Safari polyfill so background images work as expected. */\n",
       "        background-size: auto;\n",
       "    }\n",
       "    progress:not([value]), progress:not([value])::-webkit-progress-bar {\n",
       "        background: repeating-linear-gradient(45deg, #7e7e7e, #7e7e7e 10px, #5c5c5c 10px, #5c5c5c 20px);\n",
       "    }\n",
       "    .progress-bar-interrupted, .progress-bar-interrupted::-webkit-progress-bar {\n",
       "        background: #F44336;\n",
       "    }\n",
       "</style>\n"
      ],
      "text/plain": [
       "<IPython.core.display.HTML object>"
      ]
     },
     "metadata": {},
     "output_type": "display_data"
    },
    {
     "data": {
      "text/html": [
       "<table border=\"1\" class=\"dataframe\">\n",
       "  <thead>\n",
       "    <tr style=\"text-align: left;\">\n",
       "      <th>epoch</th>\n",
       "      <th>train_loss</th>\n",
       "      <th>valid_loss</th>\n",
       "      <th>f1_score</th>\n",
       "      <th>time</th>\n",
       "    </tr>\n",
       "  </thead>\n",
       "  <tbody>\n",
       "    <tr>\n",
       "      <td>0</td>\n",
       "      <td>0.509273</td>\n",
       "      <td>0.371147</td>\n",
       "      <td>0.849443</td>\n",
       "      <td>05:44</td>\n",
       "    </tr>\n",
       "    <tr>\n",
       "      <td>1</td>\n",
       "      <td>0.312491</td>\n",
       "      <td>0.306344</td>\n",
       "      <td>0.878328</td>\n",
       "      <td>05:47</td>\n",
       "    </tr>\n",
       "    <tr>\n",
       "      <td>2</td>\n",
       "      <td>0.377234</td>\n",
       "      <td>0.253131</td>\n",
       "      <td>0.897531</td>\n",
       "      <td>05:44</td>\n",
       "    </tr>\n",
       "    <tr>\n",
       "      <td>3</td>\n",
       "      <td>0.261739</td>\n",
       "      <td>0.252422</td>\n",
       "      <td>0.900274</td>\n",
       "      <td>05:51</td>\n",
       "    </tr>\n",
       "  </tbody>\n",
       "</table>"
      ],
      "text/plain": [
       "<IPython.core.display.HTML object>"
      ]
     },
     "metadata": {},
     "output_type": "display_data"
    }
   ],
   "source": [
    "if random_seed:\n",
    "    set_seed(random_seed)\n",
    "\n",
    "learn.fit_one_cycle(4, slice(1e-5, 1e-3), cbs=fit_cbs)"
   ]
  },
  {
   "cell_type": "code",
   "execution_count": 29,
   "metadata": {},
   "outputs": [
    {
     "data": {
      "text/plain": [
       "((#5) ['epoch','train_loss','valid_loss','f1_score','time'],\n",
       " [(#3) [0.5092725157737732,0.3711467683315277,0.8494432790059706],\n",
       "  (#3) [0.31249114871025085,0.30634400248527527,0.8783282233338713],\n",
       "  (#3) [0.37723371386528015,0.253131240606308,0.8975310634177828],\n",
       "  (#3) [0.26173877716064453,0.2524218261241913,0.9002743262869131]])"
      ]
     },
     "execution_count": 29,
     "metadata": {},
     "output_type": "execute_result"
    }
   ],
   "source": [
    "r = learn.recorder\n",
    "r.metric_names, r.values"
   ]
  },
  {
   "cell_type": "code",
   "execution_count": 30,
   "metadata": {},
   "outputs": [],
   "source": [
    "learn.export(\"topic_segmentation_learner.pkl\")"
   ]
  },
  {
   "cell_type": "markdown",
   "metadata": {},
   "source": [
    "## Inference"
   ]
  },
  {
   "cell_type": "code",
   "execution_count": 231,
   "metadata": {},
   "outputs": [
    {
     "data": {
      "text/plain": [
       "['C-Squared Podcast',\n",
       " 'Full Stack Deep Learning - Spring 2021',\n",
       " 'ali - how to start a business',\n",
       " 'cc - how to invest in stocks',\n",
       " 'dr berg - adrenal body type',\n",
       " 'dr berg - cereal vid',\n",
       " 'dr berg - diabetes myth',\n",
       " 'dr berg - how to fast',\n",
       " 'dr berg - what happens when you fast',\n",
       " 'fast.ai 2022 - Part 1',\n",
       " 'markowskyart - begginer drawing course',\n",
       " 'parker - learn photography']"
      ]
     },
     "execution_count": 231,
     "metadata": {},
     "output_type": "execute_result"
    }
   ],
   "source": [
    "raw_train_df.course_title.unique().tolist()"
   ]
  },
  {
   "cell_type": "code",
   "execution_count": 466,
   "metadata": {},
   "outputs": [],
   "source": [
    "# val_course_title = random.choice(train_df.iloc[val_idxs][\"course_title\"].unique().tolist())\n",
    "# val_course_title\n",
    "\n",
    "val_course_title = \"Full Stack Deep Learning - Spring 2021\"\n",
    "val_lesson_num = \"3\""
   ]
  },
  {
   "cell_type": "code",
   "execution_count": 467,
   "metadata": {},
   "outputs": [
    {
     "name": "stdout",
     "output_type": "stream",
     "text": [
      "627\n"
     ]
    },
    {
     "data": {
      "text/html": [
       "<div>\n",
       "<style scoped>\n",
       "    .dataframe tbody tr th:only-of-type {\n",
       "        vertical-align: middle;\n",
       "    }\n",
       "\n",
       "    .dataframe tbody tr th {\n",
       "        vertical-align: top;\n",
       "    }\n",
       "\n",
       "    .dataframe thead th {\n",
       "        text-align: right;\n",
       "    }\n",
       "</style>\n",
       "<table border=\"1\" class=\"dataframe\">\n",
       "  <thead>\n",
       "    <tr style=\"text-align: right;\">\n",
       "      <th></th>\n",
       "      <th>level_0</th>\n",
       "      <th>index</th>\n",
       "      <th>course_title</th>\n",
       "      <th>lesson_num</th>\n",
       "      <th>topic</th>\n",
       "      <th>seq</th>\n",
       "      <th>next_seq</th>\n",
       "      <th>is_topic_end</th>\n",
       "      <th>next_topic_begin_seq</th>\n",
       "      <th>other_topic_seqs</th>\n",
       "    </tr>\n",
       "  </thead>\n",
       "  <tbody>\n",
       "    <tr>\n",
       "      <th>0</th>\n",
       "      <td>2613</td>\n",
       "      <td>2613</td>\n",
       "      <td>Full Stack Deep Learning - Spring 2021</td>\n",
       "      <td>3</td>\n",
       "      <td>Introduction</td>\n",
       "      <td>okay so so let's dive in and talk about recurrent neural networks um and so recurrent neural networks at a</td>\n",
       "      <td>high level um this is sort of like an analog in some sense for convolutional neural networks</td>\n",
       "      <td>False</td>\n",
       "      <td>NaN</td>\n",
       "      <td>[uh for sequence data um and you know that idea of being similar right that we're going to try to exploit some structure, about the data that's coming into the model um in this case the fact that the data is coming in in the sequence to build a more efficient, neural net architecture um hang on a second, all right so what we're going to cover today um first we'll talk about sequence problems and just what are some of the types of, problems you can solve with these architectures then we'll talk about recurrent neural networks which are the main family of, architectures we'll be talking abou...</td>\n",
       "    </tr>\n",
       "    <tr>\n",
       "      <th>1</th>\n",
       "      <td>2614</td>\n",
       "      <td>2614</td>\n",
       "      <td>Full Stack Deep Learning - Spring 2021</td>\n",
       "      <td>3</td>\n",
       "      <td>Introduction</td>\n",
       "      <td>high level um this is sort of like an analog in some sense for convolutional neural networks</td>\n",
       "      <td>uh for sequence data um and you know that idea of being similar right that we're going to try to exploit some structure</td>\n",
       "      <td>False</td>\n",
       "      <td>NaN</td>\n",
       "      <td>[okay so so let's dive in and talk about recurrent neural networks um and so recurrent neural networks at a, about the data that's coming into the model um in this case the fact that the data is coming in in the sequence to build a more efficient, neural net architecture um hang on a second, all right so what we're going to cover today um first we'll talk about sequence problems and just what are some of the types of, problems you can solve with these architectures then we'll talk about recurrent neural networks which are the main family of, architectures we'll be talking about today and w...</td>\n",
       "    </tr>\n",
       "    <tr>\n",
       "      <th>2</th>\n",
       "      <td>2615</td>\n",
       "      <td>2615</td>\n",
       "      <td>Full Stack Deep Learning - Spring 2021</td>\n",
       "      <td>3</td>\n",
       "      <td>Introduction</td>\n",
       "      <td>uh for sequence data um and you know that idea of being similar right that we're going to try to exploit some structure</td>\n",
       "      <td>about the data that's coming into the model um in this case the fact that the data is coming in in the sequence to build a more efficient</td>\n",
       "      <td>False</td>\n",
       "      <td>NaN</td>\n",
       "      <td>[okay so so let's dive in and talk about recurrent neural networks um and so recurrent neural networks at a, high level um this is sort of like an analog in some sense for convolutional neural networks, neural net architecture um hang on a second, all right so what we're going to cover today um first we'll talk about sequence problems and just what are some of the types of, problems you can solve with these architectures then we'll talk about recurrent neural networks which are the main family of, architectures we'll be talking about today and we'll talk about some of the problems with rec...</td>\n",
       "    </tr>\n",
       "    <tr>\n",
       "      <th>3</th>\n",
       "      <td>2616</td>\n",
       "      <td>2616</td>\n",
       "      <td>Full Stack Deep Learning - Spring 2021</td>\n",
       "      <td>3</td>\n",
       "      <td>Introduction</td>\n",
       "      <td>about the data that's coming into the model um in this case the fact that the data is coming in in the sequence to build a more efficient</td>\n",
       "      <td>neural net architecture um hang on a second</td>\n",
       "      <td>False</td>\n",
       "      <td>NaN</td>\n",
       "      <td>[okay so so let's dive in and talk about recurrent neural networks um and so recurrent neural networks at a, high level um this is sort of like an analog in some sense for convolutional neural networks, uh for sequence data um and you know that idea of being similar right that we're going to try to exploit some structure, all right so what we're going to cover today um first we'll talk about sequence problems and just what are some of the types of, problems you can solve with these architectures then we'll talk about recurrent neural networks which are the main family of, architectures we'...</td>\n",
       "    </tr>\n",
       "    <tr>\n",
       "      <th>4</th>\n",
       "      <td>2617</td>\n",
       "      <td>2617</td>\n",
       "      <td>Full Stack Deep Learning - Spring 2021</td>\n",
       "      <td>3</td>\n",
       "      <td>Introduction</td>\n",
       "      <td>neural net architecture um hang on a second</td>\n",
       "      <td>all right so what we're going to cover today um first we'll talk about sequence problems and just what are some of the types of</td>\n",
       "      <td>False</td>\n",
       "      <td>NaN</td>\n",
       "      <td>[okay so so let's dive in and talk about recurrent neural networks um and so recurrent neural networks at a, high level um this is sort of like an analog in some sense for convolutional neural networks, uh for sequence data um and you know that idea of being similar right that we're going to try to exploit some structure, about the data that's coming into the model um in this case the fact that the data is coming in in the sequence to build a more efficient, problems you can solve with these architectures then we'll talk about recurrent neural networks which are the main family of, archite...</td>\n",
       "    </tr>\n",
       "  </tbody>\n",
       "</table>\n",
       "</div>"
      ],
      "text/plain": [
       "   level_0  index                            course_title lesson_num  \\\n",
       "0     2613   2613  Full Stack Deep Learning - Spring 2021          3   \n",
       "1     2614   2614  Full Stack Deep Learning - Spring 2021          3   \n",
       "2     2615   2615  Full Stack Deep Learning - Spring 2021          3   \n",
       "3     2616   2616  Full Stack Deep Learning - Spring 2021          3   \n",
       "4     2617   2617  Full Stack Deep Learning - Spring 2021          3   \n",
       "\n",
       "          topic  \\\n",
       "0  Introduction   \n",
       "1  Introduction   \n",
       "2  Introduction   \n",
       "3  Introduction   \n",
       "4  Introduction   \n",
       "\n",
       "                                                                                                                                         seq  \\\n",
       "0                                 okay so so let's dive in and talk about recurrent neural networks um and so recurrent neural networks at a   \n",
       "1                                               high level um this is sort of like an analog in some sense for convolutional neural networks   \n",
       "2                    uh for sequence data um and you know that idea of being similar right that we're going to try to exploit some structure   \n",
       "3  about the data that's coming into the model um in this case the fact that the data is coming in in the sequence to build a more efficient   \n",
       "4                                                                                                neural net architecture um hang on a second   \n",
       "\n",
       "                                                                                                                                    next_seq  \\\n",
       "0                                               high level um this is sort of like an analog in some sense for convolutional neural networks   \n",
       "1                    uh for sequence data um and you know that idea of being similar right that we're going to try to exploit some structure   \n",
       "2  about the data that's coming into the model um in this case the fact that the data is coming in in the sequence to build a more efficient   \n",
       "3                                                                                                neural net architecture um hang on a second   \n",
       "4            all right so what we're going to cover today um first we'll talk about sequence problems and just what are some of the types of   \n",
       "\n",
       "   is_topic_end next_topic_begin_seq  \\\n",
       "0         False                  NaN   \n",
       "1         False                  NaN   \n",
       "2         False                  NaN   \n",
       "3         False                  NaN   \n",
       "4         False                  NaN   \n",
       "\n",
       "                                                                                                                                                                                                                                                                                                                                                                                                                                                                                                                                                                                                          other_topic_seqs  \n",
       "0  [uh for sequence data um and you know that idea of being similar right that we're going to try to exploit some structure, about the data that's coming into the model um in this case the fact that the data is coming in in the sequence to build a more efficient, neural net architecture um hang on a second, all right so what we're going to cover today um first we'll talk about sequence problems and just what are some of the types of, problems you can solve with these architectures then we'll talk about recurrent neural networks which are the main family of, architectures we'll be talking abou...  \n",
       "1  [okay so so let's dive in and talk about recurrent neural networks um and so recurrent neural networks at a, about the data that's coming into the model um in this case the fact that the data is coming in in the sequence to build a more efficient, neural net architecture um hang on a second, all right so what we're going to cover today um first we'll talk about sequence problems and just what are some of the types of, problems you can solve with these architectures then we'll talk about recurrent neural networks which are the main family of, architectures we'll be talking about today and w...  \n",
       "2  [okay so so let's dive in and talk about recurrent neural networks um and so recurrent neural networks at a, high level um this is sort of like an analog in some sense for convolutional neural networks, neural net architecture um hang on a second, all right so what we're going to cover today um first we'll talk about sequence problems and just what are some of the types of, problems you can solve with these architectures then we'll talk about recurrent neural networks which are the main family of, architectures we'll be talking about today and we'll talk about some of the problems with rec...  \n",
       "3  [okay so so let's dive in and talk about recurrent neural networks um and so recurrent neural networks at a, high level um this is sort of like an analog in some sense for convolutional neural networks, uh for sequence data um and you know that idea of being similar right that we're going to try to exploit some structure, all right so what we're going to cover today um first we'll talk about sequence problems and just what are some of the types of, problems you can solve with these architectures then we'll talk about recurrent neural networks which are the main family of, architectures we'...  \n",
       "4  [okay so so let's dive in and talk about recurrent neural networks um and so recurrent neural networks at a, high level um this is sort of like an analog in some sense for convolutional neural networks, uh for sequence data um and you know that idea of being similar right that we're going to try to exploit some structure, about the data that's coming into the model um in this case the fact that the data is coming in in the sequence to build a more efficient, problems you can solve with these architectures then we'll talk about recurrent neural networks which are the main family of, archite...  "
      ]
     },
     "execution_count": 467,
     "metadata": {},
     "output_type": "execute_result"
    }
   ],
   "source": [
    "inf_df = raw_train_df[\n",
    "    (raw_train_df[\"course_title\"] == val_course_title) & (raw_train_df[\"lesson_num\"] == val_lesson_num)\n",
    "].copy()\n",
    "inf_df.reset_index(inplace=True)\n",
    "\n",
    "print(len(inf_df))\n",
    "inf_df.head()"
   ]
  },
  {
   "cell_type": "code",
   "execution_count": 468,
   "metadata": {},
   "outputs": [],
   "source": [
    "# inf_df.tail()"
   ]
  },
  {
   "cell_type": "code",
   "execution_count": 469,
   "metadata": {},
   "outputs": [],
   "source": [
    "inf_df.drop(inf_df.index[-1], inplace=True)"
   ]
  },
  {
   "cell_type": "code",
   "execution_count": 518,
   "metadata": {},
   "outputs": [],
   "source": [
    "inf_learner = load_learner(\"topic_segmentation_learner.pkl\")\n",
    "inf_dl = inf_learner.dls.test_dl(inf_df)"
   ]
  },
  {
   "cell_type": "code",
   "execution_count": 551,
   "metadata": {},
   "outputs": [
    {
     "name": "stdout",
     "output_type": "stream",
     "text": [
      "[CLS] okay so so let's dive in and talk about recurrent neural networks um and so recurrent neural networks at a[SEP] high level um this is sort of like an analog in some sense for convolutional neural networks[SEP][PAD][PAD][PAD][PAD][PAD][PAD][PAD][PAD][PAD][PAD][PAD][PAD][PAD][PAD][PAD][PAD][PAD]\n",
      "[CLS] okay so so let's dive in and talk about recurrent neural networks um and so recurrent neural networks at a[SEP] about the data that's coming into the model um in this case the fact that the data is coming in in the sequence to build a more efficient[SEP][PAD][PAD][PAD][PAD][PAD][PAD][PAD][PAD][PAD][PAD][PAD]\n",
      "---\n",
      "[CLS] high level um this is sort of like an analog in some sense for convolutional neural networks[SEP] uh for sequence data um and you know that idea of being similar right that we're going to try to exploit some structure[SEP][PAD][PAD][PAD][PAD][PAD][PAD][PAD][PAD][PAD][PAD][PAD][PAD][PAD][PAD]\n",
      "[CLS] high level um this is sort of like an analog in some sense for convolutional neural networks[SEP] and some of the solutions that people have come up with to address those problems then we'll do a case study on machine[SEP][PAD][PAD][PAD][PAD][PAD][PAD][PAD][PAD][PAD][PAD][PAD][PAD][PAD][PAD][PAD][PAD][PAD][PAD][PAD][PAD][PAD]\n",
      "---\n",
      "[CLS] uh for sequence data um and you know that idea of being similar right that we're going to try to exploit some structure[SEP] about the data that's coming into the model um in this case the fact that the data is coming in in the sequence to build a more efficient[SEP][PAD]\n",
      "[CLS] uh for sequence data um and you know that idea of being similar right that we're going to try to exploit some structure[SEP] non-recurrent models for sequences and then next week will be all about that[SEP][PAD][PAD][PAD][PAD][PAD][PAD][PAD][PAD][PAD][PAD][PAD][PAD][PAD][PAD][PAD][PAD][PAD][PAD][PAD][PAD][PAD][PAD]\n",
      "---\n",
      "16\n",
      "SequenceClassifierOutput(loss=None, logits=tensor([[-0.4366, -0.1417],\n",
      "        [-0.4271, -0.1475],\n",
      "        [-0.4123, -0.1624],\n",
      "        [-0.4265, -0.1510],\n",
      "        [-0.4049, -0.1701],\n",
      "        [-0.4335, -0.1413],\n",
      "        [-0.4363, -0.1375],\n",
      "        [-0.4323, -0.1407],\n",
      "        [-0.4342, -0.1440],\n",
      "        [-0.4384, -0.1436],\n",
      "        [-0.4023, -0.1776],\n",
      "        [-0.4216, -0.1437],\n",
      "        [-0.4275, -0.1583],\n",
      "        [-0.4092, -0.1675],\n",
      "        [-0.3925, -0.1741],\n",
      "        [-0.4354, -0.1445]], grad_fn=<AddmmBackward0>), hidden_states=None, attentions=None)\n",
      "[0.39254504442214966, 0.39482900500297546, 0.39835336804389954, 0.3949670195579529, 0.40013569593429565, 0.39329278469085693, 0.392618864774704, 0.39358094334602356, 0.39312970638275146, 0.3921283781528473, 0.400749534368515, 0.39613351225852966, 0.39472562074661255, 0.3991153836250305, 0.4031241834163666, 0.39284834265708923]\n"
     ]
    }
   ],
   "source": [
    "for idx, b in enumerate(inf_dl):\n",
    "    print(hf_tokenizer.decode(b[0][\"input_ids\"][0]))\n",
    "    print(hf_tokenizer.decode(b[1][\"input_ids\"][0]))\n",
    "    print(\"---\")\n",
    "    print(hf_tokenizer.decode(b[0][\"input_ids\"][1]))\n",
    "    print(hf_tokenizer.decode(b[1][\"input_ids\"][1]))\n",
    "    print(\"---\")\n",
    "    print(hf_tokenizer.decode(b[0][\"input_ids\"][2]))\n",
    "    print(hf_tokenizer.decode(b[1][\"input_ids\"][2]))\n",
    "    print(\"---\")\n",
    "    print(len(b[0][\"input_ids\"]))\n",
    "\n",
    "    scores = inf_learner.model.hf_model(b[0][\"input_ids\"], attention_mask=b[0][\"attention_mask\"])\n",
    "    print(scores)\n",
    "    print(torch.sigmoid(scores[0][:, 0]).detach().cpu().numpy().tolist())\n",
    "    if idx == 0:\n",
    "        break"
   ]
  },
  {
   "cell_type": "code",
   "execution_count": null,
   "metadata": {},
   "outputs": [],
   "source": [
    "preds, _ = inf_learner.get_preds(dl=inf_dl)"
   ]
  },
  {
   "cell_type": "code",
   "execution_count": 471,
   "metadata": {},
   "outputs": [
    {
     "name": "stdout",
     "output_type": "stream",
     "text": [
      "2 626 626\n",
      "tensor([4.0073, 3.5035, 1.9720, 3.1689, 1.2264])\n",
      "tensor([-0.8434,  1.0984, -1.3691,  0.2587, -0.8578])\n"
     ]
    }
   ],
   "source": [
    "print(len(preds), len(preds[0]), len(preds[1]))\n",
    "print(preds[0][:5])\n",
    "print(preds[1][:5])"
   ]
  },
  {
   "cell_type": "code",
   "execution_count": 500,
   "metadata": {},
   "outputs": [],
   "source": [
    "import statistics, segeval\n",
    "from sklearn.metrics import mean_absolute_error, f1_score, recall_score, precision_score"
   ]
  },
  {
   "cell_type": "code",
   "execution_count": 473,
   "metadata": {},
   "outputs": [
    {
     "name": "stdout",
     "output_type": "stream",
     "text": [
      "626\n",
      "[0.9821426272392273, 0.9707868695259094, 0.8778219819068909, 0.9596469402313232, 0.7731872200965881, 0.9886969327926636, 0.9900349974632263, 0.9908639788627625, 0.98637855052948, 0.9772564172744751]\n"
     ]
    }
   ],
   "source": [
    "scores = torch.sigmoid(preds[0]).detach().cpu().numpy().tolist()\n",
    "\n",
    "print(len(scores))\n",
    "print(scores[:10])"
   ]
  },
  {
   "cell_type": "code",
   "execution_count": 479,
   "metadata": {},
   "outputs": [
    {
     "name": "stdout",
     "output_type": "stream",
     "text": [
      "0.8121584195036667 0.2311856467795268\n"
     ]
    },
    {
     "data": {
      "text/plain": [
       "0.789039854825714"
      ]
     },
     "execution_count": 479,
     "metadata": {},
     "output_type": "execute_result"
    }
   ],
   "source": [
    "scores_np = np.array(scores)\n",
    "print(scores_np.mean(), scores_np.std())\n",
    "\n",
    "scores_np.mean() - (0.1 * scores_np.std())"
   ]
  },
  {
   "cell_type": "code",
   "execution_count": 480,
   "metadata": {},
   "outputs": [],
   "source": [
    "def depth_score_cal(scores):\n",
    "    output_scores = []\n",
    "    for i in range(len(scores)):\n",
    "        lflag = scores[i]\n",
    "        rflag = scores[i]\n",
    "        if i == 0:\n",
    "            hl = scores[i]\n",
    "            for r in range(i + 1, len(scores)):\n",
    "                if rflag <= scores[r]:\n",
    "                    rflag = scores[r]\n",
    "                else:\n",
    "                    break\n",
    "        elif i == len(scores):\n",
    "            hr = scores[i]\n",
    "            for l in range(i - 1, -1, -1):\n",
    "                if lflag <= scores[l]:\n",
    "                    lflag = scores[l]\n",
    "                else:\n",
    "                    break\n",
    "        else:\n",
    "            for r in range(i + 1, len(scores)):\n",
    "                if rflag <= scores[r]:\n",
    "                    rflag = scores[r]\n",
    "                else:\n",
    "                    break\n",
    "            for l in range(i - 1, -1, -1):\n",
    "                if lflag <= scores[l]:\n",
    "                    lflag = scores[l]\n",
    "                else:\n",
    "                    break\n",
    "        depth_score = 0.5 * (lflag + rflag - 2 * scores[i])\n",
    "        output_scores.append(depth_score)\n",
    "\n",
    "    return output_scores"
   ]
  },
  {
   "cell_type": "code",
   "execution_count": 481,
   "metadata": {},
   "outputs": [
    {
     "name": "stdout",
     "output_type": "stream",
     "text": [
      "626\n",
      "[0.0, 0.0056778788566589355, 0.0930728018283844, 0.0, 0.2020682394504547, 0.0010835230350494385, 0.0004144906997680664, 0.0, 0.0022427141666412354, 0.006803780794143677]\n"
     ]
    }
   ],
   "source": [
    "depth_scores = depth_score_cal(scores)\n",
    "\n",
    "print(len(depth_scores))\n",
    "print(depth_scores[:10])"
   ]
  },
  {
   "cell_type": "code",
   "execution_count": 482,
   "metadata": {},
   "outputs": [
    {
     "data": {
      "text/plain": [
       "(0.09908506499168972, 0.1667738593307448, 0.02781352015607105)"
      ]
     },
     "execution_count": 482,
     "metadata": {},
     "output_type": "execute_result"
    }
   ],
   "source": [
    "depth_scores_np = np.array(depth_scores)\n",
    "depth_scores_np.mean(), depth_scores_np.std(), depth_scores_np.var()"
   ]
  },
  {
   "cell_type": "code",
   "execution_count": 516,
   "metadata": {},
   "outputs": [
    {
     "name": "stdout",
     "output_type": "stream",
     "text": [
      "0.08239434248236713\n"
     ]
    }
   ],
   "source": [
    "threshold = sum(depth_scores) / (len(depth_scores)) - 0.1 * statistics.stdev(depth_scores)\n",
    "print(threshold)\n",
    "\n",
    "# TODO: A higher threshold seems better in every case; explore a different calculation than the above\n",
    "# threshold = 0.755 # 0.755"
   ]
  },
  {
   "cell_type": "code",
   "execution_count": 503,
   "metadata": {},
   "outputs": [],
   "source": [
    "# c = 0\n",
    "# pick_num = 3\n",
    "# score_wd = 0\n",
    "# score_mae = 0\n",
    "# score_f1 = 0\n",
    "# score_pk = 0\n",
    "# dp_var = []"
   ]
  },
  {
   "cell_type": "code",
   "execution_count": 504,
   "metadata": {},
   "outputs": [],
   "source": [
    "dp_var = [statistics.stdev(depth_scores)]\n",
    "\n",
    "boundary_indice = []\n",
    "\n",
    "seg_p_labels = [0] * (len(depth_scores))\n",
    "\n",
    "# TODO: I'm pretty sure we should start with a 1\n",
    "seg_p_labels[0] = 1"
   ]
  },
  {
   "cell_type": "code",
   "execution_count": 505,
   "metadata": {},
   "outputs": [],
   "source": [
    "for i in range(len(depth_scores)):\n",
    "    if depth_scores[i] > threshold:\n",
    "        boundary_indice.append(i)"
   ]
  },
  {
   "cell_type": "code",
   "execution_count": 506,
   "metadata": {},
   "outputs": [],
   "source": [
    "for i in boundary_indice:\n",
    "    seg_p_labels[i] = 1"
   ]
  },
  {
   "cell_type": "code",
   "execution_count": 507,
   "metadata": {},
   "outputs": [
    {
     "name": "stdout",
     "output_type": "stream",
     "text": [
      "626\n",
      "[1, 0, 0, 0, 0, 0, 0, 0, 0, 0, 0, 0, 0, 0, 0, 0, 0, 0, 0, 0]\n"
     ]
    }
   ],
   "source": [
    "print(len(seg_p_labels))\n",
    "print(seg_p_labels[:20])"
   ]
  },
  {
   "cell_type": "code",
   "execution_count": 508,
   "metadata": {},
   "outputs": [],
   "source": [
    "tmp = 0\n",
    "seg_p = []\n",
    "for idx, fake in enumerate(seg_p_labels):\n",
    "    if fake == 1 and idx != 0:\n",
    "        # tmp += 1\n",
    "        seg_p.append(tmp)\n",
    "        tmp = 1\n",
    "    else:\n",
    "        tmp += 1\n",
    "seg_p.append(tmp)"
   ]
  },
  {
   "cell_type": "code",
   "execution_count": 509,
   "metadata": {},
   "outputs": [
    {
     "name": "stdout",
     "output_type": "stream",
     "text": [
      "3\n",
      "[327, 209, 90]\n",
      "626\n"
     ]
    }
   ],
   "source": [
    "total = 0\n",
    "for el in seg_p:\n",
    "    total += el\n",
    "\n",
    "print(len(seg_p))\n",
    "print(seg_p)\n",
    "print(total)"
   ]
  },
  {
   "cell_type": "code",
   "execution_count": 510,
   "metadata": {},
   "outputs": [],
   "source": [
    "seg_r_labels = []\n",
    "seg_r = []\n",
    "tmp = 1\n",
    "\n",
    "for r_idx, r in inf_df.iterrows():\n",
    "    current_topic = r[\"topic\"]\n",
    "    if r_idx == 0:\n",
    "        last_seen_topic = r[\"topic\"]\n",
    "\n",
    "    if last_seen_topic != current_topic:\n",
    "        last_seen_topic = current_topic\n",
    "        seg_r_labels.append(1)\n",
    "        seg_r.append(tmp)\n",
    "        tmp = 1\n",
    "    else:\n",
    "        seg_r_labels.append(0 if r_idx != 0 else 1)\n",
    "        tmp += 1 if r_idx != 0 else 0\n",
    "\n",
    "seg_r.append(tmp)"
   ]
  },
  {
   "cell_type": "markdown",
   "metadata": {},
   "source": [
    "Calculate window_dff (WD) and PK"
   ]
  },
  {
   "cell_type": "code",
   "execution_count": 511,
   "metadata": {},
   "outputs": [
    {
     "name": "stdout",
     "output_type": "stream",
     "text": [
      "9\n",
      "[15, 48, 147, 55, 60, 119, 52, 26, 104]\n",
      "[15, 48, 147, 55, 60, 119, 52, 26, 104]\n",
      "\n",
      "626\n",
      "[1, 0, 0, 0, 0, 0, 0, 0, 0, 0, 0, 0, 0, 0, 0, 1, 0, 0, 0, 0]\n",
      "[0, 0, 0, 0, 0, 0, 0, 0, 0, 0, 0, 0, 0, 0, 0, 0, 0, 0, 0, 0]\n"
     ]
    }
   ],
   "source": [
    "print(len(seg_r))\n",
    "print(seg_r[:20])\n",
    "print(seg_r[-20:])\n",
    "print(\"\")\n",
    "print(len(seg_r_labels))\n",
    "print(seg_r_labels[:20])\n",
    "print(seg_r_labels[-20:])"
   ]
  },
  {
   "cell_type": "code",
   "execution_count": 512,
   "metadata": {},
   "outputs": [
    {
     "name": "stdout",
     "output_type": "stream",
     "text": [
      "9 3\n",
      "0.3604060913705583756345177665\n",
      "0.3604060913705583756345177665\n"
     ]
    }
   ],
   "source": [
    "print(len(seg_r), len(seg_p))\n",
    "\n",
    "score_wd = segeval.window_diff(seg_p, seg_r)\n",
    "print(score_wd)\n",
    "\n",
    "score_pk = segeval.pk(seg_p, seg_r)\n",
    "print(score_pk)"
   ]
  },
  {
   "cell_type": "markdown",
   "metadata": {},
   "source": [
    "Calculate MAE and F1"
   ]
  },
  {
   "cell_type": "code",
   "execution_count": 513,
   "metadata": {},
   "outputs": [
    {
     "name": "stdout",
     "output_type": "stream",
     "text": [
      "626 626\n",
      "[1, 0, 0, 0, 0, 0, 0, 0, 0, 0, 0, 0, 0, 0, 0, 1, 0, 0, 0, 0]\n",
      "[1, 0, 0, 0, 0, 0, 0, 0, 0, 0, 0, 0, 0, 0, 0, 0, 0, 0, 0, 0]\n",
      "\n",
      "[0, 0, 0, 0, 0, 0, 0, 0, 0, 0, 0, 0, 0, 0, 0, 0, 0, 0, 0, 0]\n",
      "[0, 0, 0, 0, 0, 0, 0, 0, 0, 0, 0, 0, 0, 0, 0, 0, 0, 0, 0, 0]\n"
     ]
    }
   ],
   "source": [
    "print(len(seg_r_labels), len(seg_p_labels))\n",
    "print(seg_r_labels[:20])\n",
    "print(seg_p_labels[:20])\n",
    "print(\"\")\n",
    "print(seg_r_labels[-20:])\n",
    "print(seg_p_labels[-20:])"
   ]
  },
  {
   "cell_type": "code",
   "execution_count": 514,
   "metadata": {},
   "outputs": [
    {
     "name": "stdout",
     "output_type": "stream",
     "text": [
      "626 626\n",
      "10\n",
      "0.5793010752688172\n",
      "0.6602461209202782\n",
      "0.5539348100126058\n"
     ]
    }
   ],
   "source": [
    "print(len(seg_r_labels), len(seg_p_labels))\n",
    "\n",
    "score_mae = sum(list(map(abs, np.array(seg_r_labels) - np.array(seg_p_labels))))\n",
    "print(score_mae)\n",
    "\n",
    "print(f1_score(seg_r_labels, seg_p_labels, average=\"macro\"))\n",
    "print(precision_score(seg_r_labels, seg_p_labels, average=\"macro\"))\n",
    "print(recall_score(seg_r_labels, seg_p_labels, average=\"macro\"))"
   ]
  },
  {
   "cell_type": "code",
   "execution_count": 515,
   "metadata": {},
   "outputs": [
    {
     "data": {
      "text/plain": [
       "[0, 327, 536]"
      ]
     },
     "execution_count": 515,
     "metadata": {},
     "output_type": "execute_result"
    }
   ],
   "source": [
    "seg_idxs = [seg_idx for seg_idx, v in enumerate(seg_p_labels) if v == 1]\n",
    "seg_idxs"
   ]
  },
  {
   "cell_type": "code",
   "execution_count": 498,
   "metadata": {},
   "outputs": [
    {
     "data": {
      "text/html": [
       "<div>\n",
       "<style scoped>\n",
       "    .dataframe tbody tr th:only-of-type {\n",
       "        vertical-align: middle;\n",
       "    }\n",
       "\n",
       "    .dataframe tbody tr th {\n",
       "        vertical-align: top;\n",
       "    }\n",
       "\n",
       "    .dataframe thead th {\n",
       "        text-align: right;\n",
       "    }\n",
       "</style>\n",
       "<table border=\"1\" class=\"dataframe\">\n",
       "  <thead>\n",
       "    <tr style=\"text-align: right;\">\n",
       "      <th></th>\n",
       "      <th>level_0</th>\n",
       "      <th>index</th>\n",
       "      <th>course_title</th>\n",
       "      <th>lesson_num</th>\n",
       "      <th>topic</th>\n",
       "      <th>seq</th>\n",
       "      <th>next_seq</th>\n",
       "      <th>is_topic_end</th>\n",
       "      <th>next_topic_begin_seq</th>\n",
       "      <th>other_topic_seqs</th>\n",
       "    </tr>\n",
       "  </thead>\n",
       "  <tbody>\n",
       "    <tr>\n",
       "      <th>0</th>\n",
       "      <td>2613</td>\n",
       "      <td>2613</td>\n",
       "      <td>Full Stack Deep Learning - Spring 2021</td>\n",
       "      <td>3</td>\n",
       "      <td>Introduction</td>\n",
       "      <td>okay so so let's dive in and talk about recurrent neural networks um and so recurrent neural networks at a</td>\n",
       "      <td>high level um this is sort of like an analog in some sense for convolutional neural networks</td>\n",
       "      <td>False</td>\n",
       "      <td>NaN</td>\n",
       "      <td>[uh for sequence data um and you know that idea of being similar right that we're going to try to exploit some structure, about the data that's coming into the model um in this case the fact that the data is coming in in the sequence to build a more efficient, neural net architecture um hang on a second, all right so what we're going to cover today um first we'll talk about sequence problems and just what are some of the types of, problems you can solve with these architectures then we'll talk about recurrent neural networks which are the main family of, architectures we'll be talking abou...</td>\n",
       "    </tr>\n",
       "    <tr>\n",
       "      <th>327</th>\n",
       "      <td>2940</td>\n",
       "      <td>2940</td>\n",
       "      <td>Full Stack Deep Learning - Spring 2021</td>\n",
       "      <td>3</td>\n",
       "      <td>Bidirectionality and Attention from Google's Neural Machine Translation</td>\n",
       "      <td>from back in 2016. so at one point this was running in production at google um i highly doubt that it is anymore um</td>\n",
       "      <td>but it's it's worth knowing about anyway [Music] so um one one thing i want to talk about</td>\n",
       "      <td>False</td>\n",
       "      <td>NaN</td>\n",
       "      <td>[about machine translation and we're gonna introduce two ideas um one is by bi-directionality, and the other is attention so these are sort of the big ideas to take away from this section and um this is all from this one paper, is just in general if you're like reading machine learning application papers, what what are the questions that you might want to ask yourself to understand what's going on these papers um so here here are some questions i, think are worth asking one is just like first of all what is the problem that they're trying to solve so what are they using the neural, network...</td>\n",
       "    </tr>\n",
       "  </tbody>\n",
       "</table>\n",
       "</div>"
      ],
      "text/plain": [
       "     level_0  index                            course_title lesson_num  \\\n",
       "0       2613   2613  Full Stack Deep Learning - Spring 2021          3   \n",
       "327     2940   2940  Full Stack Deep Learning - Spring 2021          3   \n",
       "\n",
       "                                                                       topic  \\\n",
       "0                                                               Introduction   \n",
       "327  Bidirectionality and Attention from Google's Neural Machine Translation   \n",
       "\n",
       "                                                                                                                     seq  \\\n",
       "0             okay so so let's dive in and talk about recurrent neural networks um and so recurrent neural networks at a   \n",
       "327  from back in 2016. so at one point this was running in production at google um i highly doubt that it is anymore um   \n",
       "\n",
       "                                                                                         next_seq  \\\n",
       "0    high level um this is sort of like an analog in some sense for convolutional neural networks   \n",
       "327     but it's it's worth knowing about anyway [Music] so um one one thing i want to talk about   \n",
       "\n",
       "     is_topic_end next_topic_begin_seq  \\\n",
       "0           False                  NaN   \n",
       "327         False                  NaN   \n",
       "\n",
       "                                                                                                                                                                                                                                                                                                                                                                                                                                                                                                                                                                                                            other_topic_seqs  \n",
       "0    [uh for sequence data um and you know that idea of being similar right that we're going to try to exploit some structure, about the data that's coming into the model um in this case the fact that the data is coming in in the sequence to build a more efficient, neural net architecture um hang on a second, all right so what we're going to cover today um first we'll talk about sequence problems and just what are some of the types of, problems you can solve with these architectures then we'll talk about recurrent neural networks which are the main family of, architectures we'll be talking abou...  \n",
       "327  [about machine translation and we're gonna introduce two ideas um one is by bi-directionality, and the other is attention so these are sort of the big ideas to take away from this section and um this is all from this one paper, is just in general if you're like reading machine learning application papers, what what are the questions that you might want to ask yourself to understand what's going on these papers um so here here are some questions i, think are worth asking one is just like first of all what is the problem that they're trying to solve so what are they using the neural, network...  "
      ]
     },
     "execution_count": 498,
     "metadata": {},
     "output_type": "execute_result"
    }
   ],
   "source": [
    "inf_df.iloc[seg_idxs]"
   ]
  },
  {
   "cell_type": "code",
   "execution_count": null,
   "metadata": {},
   "outputs": [],
   "source": []
  }
 ],
 "metadata": {
  "kernelspec": {
   "display_name": "Python 3.9.13 ('fsdl_2022_course_project')",
   "language": "python",
   "name": "python3"
  },
  "language_info": {
   "codemirror_mode": {
    "name": "ipython",
    "version": 3
   },
   "file_extension": ".py",
   "mimetype": "text/x-python",
   "name": "python",
   "nbconvert_exporter": "python",
   "pygments_lexer": "ipython3",
   "version": "3.9.13"
  },
  "orig_nbformat": 4,
  "vscode": {
   "interpreter": {
    "hash": "4c27d0eb0116998fc328b5a00abe6956c11e30aa3cb3ca27ff0ca511f067786d"
   }
  }
 },
 "nbformat": 4,
 "nbformat_minor": 2
}
