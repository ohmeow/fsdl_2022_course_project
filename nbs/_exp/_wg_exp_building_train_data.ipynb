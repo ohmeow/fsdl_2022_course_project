{
 "cells": [
  {
   "cell_type": "code",
   "execution_count": 1,
   "metadata": {},
   "outputs": [],
   "source": [
    "import datetime\n",
    "\n",
    "import pandas as pd"
   ]
  },
  {
   "cell_type": "code",
   "execution_count": 2,
   "metadata": {},
   "outputs": [],
   "source": [
    "sheets_d = pd.read_excel(\"../../data/raw/fsdl_2022_project_transcripts.xlsx\", sheet_name=[\"lesson_topics\", \"lesson_transcripts\"])\n",
    "topics_df, transcripts_df = [v for k,v in sheets_d.items()]\n",
    "\n",
    "topics_df.drop(columns=\"video_url\", inplace=True)\n",
    "transcripts_df.drop(columns=\"video_url\", inplace=True)\n",
    "\n",
    "topics_df[\"timestamp\"] = topics_df[\"timestamp\"].astype(str)\n",
    "transcripts_df[\"timestamp\"] = transcripts_df[\"timestamp\"].astype(str)"
   ]
  },
  {
   "cell_type": "code",
   "execution_count": 3,
   "metadata": {},
   "outputs": [
    {
     "name": "stdout",
     "output_type": "stream",
     "text": [
      "397\n"
     ]
    },
    {
     "data": {
      "text/html": [
       "<div>\n",
       "<style scoped>\n",
       "    .dataframe tbody tr th:only-of-type {\n",
       "        vertical-align: middle;\n",
       "    }\n",
       "\n",
       "    .dataframe tbody tr th {\n",
       "        vertical-align: top;\n",
       "    }\n",
       "\n",
       "    .dataframe thead th {\n",
       "        text-align: right;\n",
       "    }\n",
       "</style>\n",
       "<table border=\"1\" class=\"dataframe\">\n",
       "  <thead>\n",
       "    <tr style=\"text-align: right;\">\n",
       "      <th></th>\n",
       "      <th>course_title</th>\n",
       "      <th>lesson_num</th>\n",
       "      <th>timestamp</th>\n",
       "      <th>topic</th>\n",
       "    </tr>\n",
       "  </thead>\n",
       "  <tbody>\n",
       "    <tr>\n",
       "      <th>0</th>\n",
       "      <td>fast.ai 2022 - Part 1</td>\n",
       "      <td>2</td>\n",
       "      <td>00:00:00</td>\n",
       "      <td>Introduction</td>\n",
       "    </tr>\n",
       "    <tr>\n",
       "      <th>1</th>\n",
       "      <td>fast.ai 2022 - Part 1</td>\n",
       "      <td>2</td>\n",
       "      <td>00:00:55</td>\n",
       "      <td>Reminder to use the fastai book as a companion...</td>\n",
       "    </tr>\n",
       "    <tr>\n",
       "      <th>2</th>\n",
       "      <td>fast.ai 2022 - Part 1</td>\n",
       "      <td>2</td>\n",
       "      <td>00:02:06</td>\n",
       "      <td>aiquizzes.com for quizzes on the book</td>\n",
       "    </tr>\n",
       "    <tr>\n",
       "      <th>3</th>\n",
       "      <td>fast.ai 2022 - Part 1</td>\n",
       "      <td>2</td>\n",
       "      <td>00:02:36</td>\n",
       "      <td>Reminder to use fastai forums for links, noteb...</td>\n",
       "    </tr>\n",
       "    <tr>\n",
       "      <th>4</th>\n",
       "      <td>fast.ai 2022 - Part 1</td>\n",
       "      <td>2</td>\n",
       "      <td>00:03:42</td>\n",
       "      <td>How to efficiently read the forum with summari...</td>\n",
       "    </tr>\n",
       "  </tbody>\n",
       "</table>\n",
       "</div>"
      ],
      "text/plain": [
       "            course_title lesson_num timestamp  \\\n",
       "0  fast.ai 2022 - Part 1          2  00:00:00   \n",
       "1  fast.ai 2022 - Part 1          2  00:00:55   \n",
       "2  fast.ai 2022 - Part 1          2  00:02:06   \n",
       "3  fast.ai 2022 - Part 1          2  00:02:36   \n",
       "4  fast.ai 2022 - Part 1          2  00:03:42   \n",
       "\n",
       "                                               topic  \n",
       "0                                       Introduction  \n",
       "1  Reminder to use the fastai book as a companion...  \n",
       "2              aiquizzes.com for quizzes on the book  \n",
       "3  Reminder to use fastai forums for links, noteb...  \n",
       "4  How to efficiently read the forum with summari...  "
      ]
     },
     "execution_count": 3,
     "metadata": {},
     "output_type": "execute_result"
    }
   ],
   "source": [
    "print(len(topics_df))\n",
    "\n",
    "topics_df.head()"
   ]
  },
  {
   "cell_type": "code",
   "execution_count": 4,
   "metadata": {},
   "outputs": [
    {
     "name": "stdout",
     "output_type": "stream",
     "text": [
      "14791\n"
     ]
    },
    {
     "data": {
      "text/html": [
       "<div>\n",
       "<style scoped>\n",
       "    .dataframe tbody tr th:only-of-type {\n",
       "        vertical-align: middle;\n",
       "    }\n",
       "\n",
       "    .dataframe tbody tr th {\n",
       "        vertical-align: top;\n",
       "    }\n",
       "\n",
       "    .dataframe thead th {\n",
       "        text-align: right;\n",
       "    }\n",
       "</style>\n",
       "<table border=\"1\" class=\"dataframe\">\n",
       "  <thead>\n",
       "    <tr style=\"text-align: right;\">\n",
       "      <th></th>\n",
       "      <th>course_title</th>\n",
       "      <th>lesson_num</th>\n",
       "      <th>timestamp</th>\n",
       "      <th>transcript</th>\n",
       "    </tr>\n",
       "  </thead>\n",
       "  <tbody>\n",
       "    <tr>\n",
       "      <th>0</th>\n",
       "      <td>fast.ai 2022 - Part 1</td>\n",
       "      <td>2</td>\n",
       "      <td>00:00:00</td>\n",
       "      <td>Hi everybody. Welcome to lesson two. Thanks fo...</td>\n",
       "    </tr>\n",
       "    <tr>\n",
       "      <th>1</th>\n",
       "      <td>fast.ai 2022 - Part 1</td>\n",
       "      <td>2</td>\n",
       "      <td>00:00:08</td>\n",
       "      <td>we had a bit of an “administrative issue” at o...</td>\n",
       "    </tr>\n",
       "    <tr>\n",
       "      <th>2</th>\n",
       "      <td>fast.ai 2022 - Part 1</td>\n",
       "      <td>2</td>\n",
       "      <td>00:00:14</td>\n",
       "      <td>doing this from the study at home. so sorry ab...</td>\n",
       "    </tr>\n",
       "    <tr>\n",
       "      <th>3</th>\n",
       "      <td>fast.ai 2022 - Part 1</td>\n",
       "      <td>2</td>\n",
       "      <td>00:00:25</td>\n",
       "      <td>I'm actually really really pumped about this l...</td>\n",
       "    </tr>\n",
       "    <tr>\n",
       "      <th>4</th>\n",
       "      <td>fast.ai 2022 - Part 1</td>\n",
       "      <td>2</td>\n",
       "      <td>00:00:32</td>\n",
       "      <td>were like in the very early days, because we'r...</td>\n",
       "    </tr>\n",
       "  </tbody>\n",
       "</table>\n",
       "</div>"
      ],
      "text/plain": [
       "            course_title lesson_num timestamp  \\\n",
       "0  fast.ai 2022 - Part 1          2  00:00:00   \n",
       "1  fast.ai 2022 - Part 1          2  00:00:08   \n",
       "2  fast.ai 2022 - Part 1          2  00:00:14   \n",
       "3  fast.ai 2022 - Part 1          2  00:00:25   \n",
       "4  fast.ai 2022 - Part 1          2  00:00:32   \n",
       "\n",
       "                                          transcript  \n",
       "0  Hi everybody. Welcome to lesson two. Thanks fo...  \n",
       "1  we had a bit of an “administrative issue” at o...  \n",
       "2  doing this from the study at home. so sorry ab...  \n",
       "3  I'm actually really really pumped about this l...  \n",
       "4  were like in the very early days, because we'r...  "
      ]
     },
     "execution_count": 4,
     "metadata": {},
     "output_type": "execute_result"
    }
   ],
   "source": [
    "print(len(transcripts_df))\n",
    "\n",
    "transcripts_df.head()"
   ]
  },
  {
   "cell_type": "markdown",
   "metadata": {},
   "source": [
    "Define a utility function for converting durations to total_seconds"
   ]
  },
  {
   "cell_type": "code",
   "execution_count": 5,
   "metadata": {},
   "outputs": [],
   "source": [
    "def convert_duration_to_seconds(v):\n",
    "    hrs, mins, secs = v.split(\":\")\n",
    "    return ( 60 * 60 * int(hrs)) + (60 * int(mins)) + int(secs)"
   ]
  },
  {
   "cell_type": "markdown",
   "metadata": {},
   "source": [
    "Define the start/end boundaries (in seconds) for each topic in each lesson"
   ]
  },
  {
   "cell_type": "code",
   "execution_count": 6,
   "metadata": {},
   "outputs": [],
   "source": [
    "topics_df[\"start_seconds\"] = topics_df[\"timestamp\"].apply(convert_duration_to_seconds)\n",
    "topics_df[\"end_seconds\"] = topics_df.groupby(by=[\"course_title\", \"lesson_num\"])[\"start_seconds\"].shift(-1, fill_value=100000)"
   ]
  },
  {
   "cell_type": "code",
   "execution_count": 7,
   "metadata": {},
   "outputs": [
    {
     "data": {
      "text/html": [
       "<div>\n",
       "<style scoped>\n",
       "    .dataframe tbody tr th:only-of-type {\n",
       "        vertical-align: middle;\n",
       "    }\n",
       "\n",
       "    .dataframe tbody tr th {\n",
       "        vertical-align: top;\n",
       "    }\n",
       "\n",
       "    .dataframe thead th {\n",
       "        text-align: right;\n",
       "    }\n",
       "</style>\n",
       "<table border=\"1\" class=\"dataframe\">\n",
       "  <thead>\n",
       "    <tr style=\"text-align: right;\">\n",
       "      <th></th>\n",
       "      <th>course_title</th>\n",
       "      <th>lesson_num</th>\n",
       "      <th>timestamp</th>\n",
       "      <th>topic</th>\n",
       "      <th>start_seconds</th>\n",
       "      <th>end_seconds</th>\n",
       "    </tr>\n",
       "  </thead>\n",
       "  <tbody>\n",
       "    <tr>\n",
       "      <th>392</th>\n",
       "      <td>Full Stack Deep Learning - Spring 2021</td>\n",
       "      <td>13</td>\n",
       "      <td>00:02:44</td>\n",
       "      <td>ML Roles</td>\n",
       "      <td>164</td>\n",
       "      <td>675</td>\n",
       "    </tr>\n",
       "    <tr>\n",
       "      <th>393</th>\n",
       "      <td>Full Stack Deep Learning - Spring 2021</td>\n",
       "      <td>13</td>\n",
       "      <td>00:11:15</td>\n",
       "      <td>ML Organizations</td>\n",
       "      <td>675</td>\n",
       "      <td>1730</td>\n",
       "    </tr>\n",
       "    <tr>\n",
       "      <th>394</th>\n",
       "      <td>Full Stack Deep Learning - Spring 2021</td>\n",
       "      <td>13</td>\n",
       "      <td>00:28:50</td>\n",
       "      <td>Managing ML Teams</td>\n",
       "      <td>1730</td>\n",
       "      <td>2477</td>\n",
       "    </tr>\n",
       "    <tr>\n",
       "      <th>395</th>\n",
       "      <td>Full Stack Deep Learning - Spring 2021</td>\n",
       "      <td>13</td>\n",
       "      <td>00:41:17</td>\n",
       "      <td>Hiring ML Engineers (Or Getting Hired)</td>\n",
       "      <td>2477</td>\n",
       "      <td>3414</td>\n",
       "    </tr>\n",
       "    <tr>\n",
       "      <th>396</th>\n",
       "      <td>Full Stack Deep Learning - Spring 2021</td>\n",
       "      <td>13</td>\n",
       "      <td>00:56:54</td>\n",
       "      <td>Conclusion</td>\n",
       "      <td>3414</td>\n",
       "      <td>100000</td>\n",
       "    </tr>\n",
       "  </tbody>\n",
       "</table>\n",
       "</div>"
      ],
      "text/plain": [
       "                               course_title lesson_num timestamp  \\\n",
       "392  Full Stack Deep Learning - Spring 2021         13  00:02:44   \n",
       "393  Full Stack Deep Learning - Spring 2021         13  00:11:15   \n",
       "394  Full Stack Deep Learning - Spring 2021         13  00:28:50   \n",
       "395  Full Stack Deep Learning - Spring 2021         13  00:41:17   \n",
       "396  Full Stack Deep Learning - Spring 2021         13  00:56:54   \n",
       "\n",
       "                                      topic  start_seconds  end_seconds  \n",
       "392                                ML Roles            164          675  \n",
       "393                        ML Organizations            675         1730  \n",
       "394                       Managing ML Teams           1730         2477  \n",
       "395  Hiring ML Engineers (Or Getting Hired)           2477         3414  \n",
       "396                              Conclusion           3414       100000  "
      ]
     },
     "execution_count": 7,
     "metadata": {},
     "output_type": "execute_result"
    }
   ],
   "source": [
    "topics_df.tail()"
   ]
  },
  {
   "cell_type": "markdown",
   "metadata": {},
   "source": [
    "Define the total number of elapsed seconds at each timestamp in the transcripts dataset"
   ]
  },
  {
   "cell_type": "code",
   "execution_count": 8,
   "metadata": {},
   "outputs": [],
   "source": [
    "transcripts_df[\"elapsed_seconds\"] = transcripts_df[\"timestamp\"].apply(convert_duration_to_seconds)"
   ]
  },
  {
   "cell_type": "code",
   "execution_count": 9,
   "metadata": {},
   "outputs": [
    {
     "data": {
      "text/html": [
       "<div>\n",
       "<style scoped>\n",
       "    .dataframe tbody tr th:only-of-type {\n",
       "        vertical-align: middle;\n",
       "    }\n",
       "\n",
       "    .dataframe tbody tr th {\n",
       "        vertical-align: top;\n",
       "    }\n",
       "\n",
       "    .dataframe thead th {\n",
       "        text-align: right;\n",
       "    }\n",
       "</style>\n",
       "<table border=\"1\" class=\"dataframe\">\n",
       "  <thead>\n",
       "    <tr style=\"text-align: right;\">\n",
       "      <th></th>\n",
       "      <th>course_title</th>\n",
       "      <th>lesson_num</th>\n",
       "      <th>timestamp</th>\n",
       "      <th>transcript</th>\n",
       "      <th>elapsed_seconds</th>\n",
       "    </tr>\n",
       "  </thead>\n",
       "  <tbody>\n",
       "    <tr>\n",
       "      <th>0</th>\n",
       "      <td>fast.ai 2022 - Part 1</td>\n",
       "      <td>2</td>\n",
       "      <td>00:00:00</td>\n",
       "      <td>Hi everybody. Welcome to lesson two. Thanks fo...</td>\n",
       "      <td>0</td>\n",
       "    </tr>\n",
       "    <tr>\n",
       "      <th>1</th>\n",
       "      <td>fast.ai 2022 - Part 1</td>\n",
       "      <td>2</td>\n",
       "      <td>00:00:08</td>\n",
       "      <td>we had a bit of an “administrative issue” at o...</td>\n",
       "      <td>8</td>\n",
       "    </tr>\n",
       "    <tr>\n",
       "      <th>2</th>\n",
       "      <td>fast.ai 2022 - Part 1</td>\n",
       "      <td>2</td>\n",
       "      <td>00:00:14</td>\n",
       "      <td>doing this from the study at home. so sorry ab...</td>\n",
       "      <td>14</td>\n",
       "    </tr>\n",
       "    <tr>\n",
       "      <th>3</th>\n",
       "      <td>fast.ai 2022 - Part 1</td>\n",
       "      <td>2</td>\n",
       "      <td>00:00:25</td>\n",
       "      <td>I'm actually really really pumped about this l...</td>\n",
       "      <td>25</td>\n",
       "    </tr>\n",
       "    <tr>\n",
       "      <th>4</th>\n",
       "      <td>fast.ai 2022 - Part 1</td>\n",
       "      <td>2</td>\n",
       "      <td>00:00:32</td>\n",
       "      <td>were like in the very early days, because we'r...</td>\n",
       "      <td>32</td>\n",
       "    </tr>\n",
       "  </tbody>\n",
       "</table>\n",
       "</div>"
      ],
      "text/plain": [
       "            course_title lesson_num timestamp  \\\n",
       "0  fast.ai 2022 - Part 1          2  00:00:00   \n",
       "1  fast.ai 2022 - Part 1          2  00:00:08   \n",
       "2  fast.ai 2022 - Part 1          2  00:00:14   \n",
       "3  fast.ai 2022 - Part 1          2  00:00:25   \n",
       "4  fast.ai 2022 - Part 1          2  00:00:32   \n",
       "\n",
       "                                          transcript  elapsed_seconds  \n",
       "0  Hi everybody. Welcome to lesson two. Thanks fo...                0  \n",
       "1  we had a bit of an “administrative issue” at o...                8  \n",
       "2  doing this from the study at home. so sorry ab...               14  \n",
       "3  I'm actually really really pumped about this l...               25  \n",
       "4  were like in the very early days, because we'r...               32  "
      ]
     },
     "execution_count": 9,
     "metadata": {},
     "output_type": "execute_result"
    }
   ],
   "source": [
    "transcripts_df.head()"
   ]
  },
  {
   "cell_type": "markdown",
   "metadata": {},
   "source": [
    "Build our training data.  \n",
    "\n",
    "This should be usable for both segmentation and summarization tasks"
   ]
  },
  {
   "cell_type": "code",
   "execution_count": 18,
   "metadata": {},
   "outputs": [
    {
     "data": {
      "text/plain": [
       "264993"
      ]
     },
     "execution_count": 18,
     "metadata": {},
     "output_type": "execute_result"
    }
   ],
   "source": [
    "merged_df = topics_df[[\"course_title\", \"lesson_num\", \"topic\", \"start_seconds\", \"end_seconds\"]].merge(transcripts_df, on=[\"course_title\", \"lesson_num\"])\n",
    "len(merged_df)"
   ]
  },
  {
   "cell_type": "markdown",
   "metadata": {},
   "source": [
    "Keep only the merged records where the transcript lies inbetween the start/end of the topic"
   ]
  },
  {
   "cell_type": "code",
   "execution_count": 19,
   "metadata": {},
   "outputs": [],
   "source": [
    "merged_df = merged_df[(merged_df.elapsed_seconds >= merged_df.start_seconds) & (merged_df.elapsed_seconds < merged_df.end_seconds)]"
   ]
  },
  {
   "cell_type": "code",
   "execution_count": 20,
   "metadata": {},
   "outputs": [
    {
     "data": {
      "text/html": [
       "<div>\n",
       "<style scoped>\n",
       "    .dataframe tbody tr th:only-of-type {\n",
       "        vertical-align: middle;\n",
       "    }\n",
       "\n",
       "    .dataframe tbody tr th {\n",
       "        vertical-align: top;\n",
       "    }\n",
       "\n",
       "    .dataframe thead th {\n",
       "        text-align: right;\n",
       "    }\n",
       "</style>\n",
       "<table border=\"1\" class=\"dataframe\">\n",
       "  <thead>\n",
       "    <tr style=\"text-align: right;\">\n",
       "      <th></th>\n",
       "      <th>course_title</th>\n",
       "      <th>lesson_num</th>\n",
       "      <th>topic</th>\n",
       "      <th>start_seconds</th>\n",
       "      <th>end_seconds</th>\n",
       "      <th>timestamp</th>\n",
       "      <th>transcript</th>\n",
       "      <th>elapsed_seconds</th>\n",
       "    </tr>\n",
       "  </thead>\n",
       "  <tbody>\n",
       "    <tr>\n",
       "      <th>0</th>\n",
       "      <td>fast.ai 2022 - Part 1</td>\n",
       "      <td>2</td>\n",
       "      <td>Introduction</td>\n",
       "      <td>0</td>\n",
       "      <td>55</td>\n",
       "      <td>00:00:00</td>\n",
       "      <td>Hi everybody. Welcome to lesson two. Thanks fo...</td>\n",
       "      <td>0</td>\n",
       "    </tr>\n",
       "    <tr>\n",
       "      <th>1</th>\n",
       "      <td>fast.ai 2022 - Part 1</td>\n",
       "      <td>2</td>\n",
       "      <td>Introduction</td>\n",
       "      <td>0</td>\n",
       "      <td>55</td>\n",
       "      <td>00:00:08</td>\n",
       "      <td>we had a bit of an “administrative issue” at o...</td>\n",
       "      <td>8</td>\n",
       "    </tr>\n",
       "    <tr>\n",
       "      <th>2</th>\n",
       "      <td>fast.ai 2022 - Part 1</td>\n",
       "      <td>2</td>\n",
       "      <td>Introduction</td>\n",
       "      <td>0</td>\n",
       "      <td>55</td>\n",
       "      <td>00:00:14</td>\n",
       "      <td>doing this from the study at home. so sorry ab...</td>\n",
       "      <td>14</td>\n",
       "    </tr>\n",
       "    <tr>\n",
       "      <th>3</th>\n",
       "      <td>fast.ai 2022 - Part 1</td>\n",
       "      <td>2</td>\n",
       "      <td>Introduction</td>\n",
       "      <td>0</td>\n",
       "      <td>55</td>\n",
       "      <td>00:00:25</td>\n",
       "      <td>I'm actually really really pumped about this l...</td>\n",
       "      <td>25</td>\n",
       "    </tr>\n",
       "    <tr>\n",
       "      <th>4</th>\n",
       "      <td>fast.ai 2022 - Part 1</td>\n",
       "      <td>2</td>\n",
       "      <td>Introduction</td>\n",
       "      <td>0</td>\n",
       "      <td>55</td>\n",
       "      <td>00:00:32</td>\n",
       "      <td>were like in the very early days, because we'r...</td>\n",
       "      <td>32</td>\n",
       "    </tr>\n",
       "  </tbody>\n",
       "</table>\n",
       "</div>"
      ],
      "text/plain": [
       "            course_title lesson_num         topic  start_seconds  end_seconds  \\\n",
       "0  fast.ai 2022 - Part 1          2  Introduction              0           55   \n",
       "1  fast.ai 2022 - Part 1          2  Introduction              0           55   \n",
       "2  fast.ai 2022 - Part 1          2  Introduction              0           55   \n",
       "3  fast.ai 2022 - Part 1          2  Introduction              0           55   \n",
       "4  fast.ai 2022 - Part 1          2  Introduction              0           55   \n",
       "\n",
       "  timestamp                                         transcript  \\\n",
       "0  00:00:00  Hi everybody. Welcome to lesson two. Thanks fo...   \n",
       "1  00:00:08  we had a bit of an “administrative issue” at o...   \n",
       "2  00:00:14  doing this from the study at home. so sorry ab...   \n",
       "3  00:00:25  I'm actually really really pumped about this l...   \n",
       "4  00:00:32  were like in the very early days, because we'r...   \n",
       "\n",
       "   elapsed_seconds  \n",
       "0                0  \n",
       "1                8  \n",
       "2               14  \n",
       "3               25  \n",
       "4               32  "
      ]
     },
     "execution_count": 20,
     "metadata": {},
     "output_type": "execute_result"
    }
   ],
   "source": [
    "merged_df.head()"
   ]
  },
  {
   "cell_type": "markdown",
   "metadata": {},
   "source": [
    "For both segmentation and summarization tasks, we'll need to group the transcripts by course + lesson + topic"
   ]
  },
  {
   "cell_type": "code",
   "execution_count": 24,
   "metadata": {},
   "outputs": [],
   "source": [
    "train_df = merged_df[[\"course_title\", \"lesson_num\", \"topic\", \"transcript\", \"start_seconds\"]].groupby(by=[\"course_title\", \"lesson_num\", \"start_seconds\", \"topic\"]).agg(list).reset_index()\n",
    "\n",
    "train_df.sort_values(by=[\"course_title\", \"lesson_num\", \"start_seconds\"], inplace=True)"
   ]
  },
  {
   "cell_type": "code",
   "execution_count": 26,
   "metadata": {},
   "outputs": [
    {
     "data": {
      "text/html": [
       "<div>\n",
       "<style scoped>\n",
       "    .dataframe tbody tr th:only-of-type {\n",
       "        vertical-align: middle;\n",
       "    }\n",
       "\n",
       "    .dataframe tbody tr th {\n",
       "        vertical-align: top;\n",
       "    }\n",
       "\n",
       "    .dataframe thead th {\n",
       "        text-align: right;\n",
       "    }\n",
       "</style>\n",
       "<table border=\"1\" class=\"dataframe\">\n",
       "  <thead>\n",
       "    <tr style=\"text-align: right;\">\n",
       "      <th></th>\n",
       "      <th>course_title</th>\n",
       "      <th>lesson_num</th>\n",
       "      <th>start_seconds</th>\n",
       "      <th>topic</th>\n",
       "      <th>transcript</th>\n",
       "    </tr>\n",
       "  </thead>\n",
       "  <tbody>\n",
       "    <tr>\n",
       "      <th>0</th>\n",
       "      <td>Full Stack Deep Learning - Spring 2021</td>\n",
       "      <td>1</td>\n",
       "      <td>0</td>\n",
       "      <td>Intro</td>\n",
       "      <td>[so josh talked about why we're doing, this co...</td>\n",
       "    </tr>\n",
       "    <tr>\n",
       "      <th>1</th>\n",
       "      <td>Full Stack Deep Learning - Spring 2021</td>\n",
       "      <td>1</td>\n",
       "      <td>85</td>\n",
       "      <td>Neural Networks</td>\n",
       "      <td>[so let's kick it off with neural, networks, u...</td>\n",
       "    </tr>\n",
       "    <tr>\n",
       "      <th>2</th>\n",
       "      <td>Full Stack Deep Learning - Spring 2021</td>\n",
       "      <td>1</td>\n",
       "      <td>408</td>\n",
       "      <td>Universality</td>\n",
       "      <td>[is universality which is, you know this neura...</td>\n",
       "    </tr>\n",
       "    <tr>\n",
       "      <th>3</th>\n",
       "      <td>Full Stack Deep Learning - Spring 2021</td>\n",
       "      <td>1</td>\n",
       "      <td>528</td>\n",
       "      <td>Learning Problems</td>\n",
       "      <td>[networks for, well we do for machine learning...</td>\n",
       "    </tr>\n",
       "    <tr>\n",
       "      <th>4</th>\n",
       "      <td>Full Stack Deep Learning - Spring 2021</td>\n",
       "      <td>1</td>\n",
       "      <td>977</td>\n",
       "      <td>Empirical Risk Minimization / Loss Functions</td>\n",
       "      <td>[um what's known as risk minimization and, the...</td>\n",
       "    </tr>\n",
       "  </tbody>\n",
       "</table>\n",
       "</div>"
      ],
      "text/plain": [
       "                             course_title lesson_num  start_seconds  \\\n",
       "0  Full Stack Deep Learning - Spring 2021          1              0   \n",
       "1  Full Stack Deep Learning - Spring 2021          1             85   \n",
       "2  Full Stack Deep Learning - Spring 2021          1            408   \n",
       "3  Full Stack Deep Learning - Spring 2021          1            528   \n",
       "4  Full Stack Deep Learning - Spring 2021          1            977   \n",
       "\n",
       "                                          topic  \\\n",
       "0                                         Intro   \n",
       "1                               Neural Networks   \n",
       "2                                  Universality   \n",
       "3                             Learning Problems   \n",
       "4  Empirical Risk Minimization / Loss Functions   \n",
       "\n",
       "                                          transcript  \n",
       "0  [so josh talked about why we're doing, this co...  \n",
       "1  [so let's kick it off with neural, networks, u...  \n",
       "2  [is universality which is, you know this neura...  \n",
       "3  [networks for, well we do for machine learning...  \n",
       "4  [um what's known as risk minimization and, the...  "
      ]
     },
     "execution_count": 26,
     "metadata": {},
     "output_type": "execute_result"
    }
   ],
   "source": [
    "train_df.head()"
   ]
  },
  {
   "cell_type": "markdown",
   "metadata": {},
   "source": [
    "QA to training set"
   ]
  },
  {
   "cell_type": "code",
   "execution_count": 28,
   "metadata": {},
   "outputs": [
    {
     "data": {
      "text/plain": [
       "[\"Welcome to Practical Deep Learning for coders, lesson one. This is version five of this course, and it's the first new one we've done in two years.\",\n",
       " \"So, we've got a lot of cool things to cover! It's amazing how much has changed.\",\n",
       " 'Here is an xkcd from the end of 2015.']"
      ]
     },
     "execution_count": 28,
     "metadata": {},
     "output_type": "execute_result"
    }
   ],
   "source": [
    "train_df[train_df[\"course_title\"] == \"fast.ai 2022 - Part 1\"].iloc[0].transcript"
   ]
  },
  {
   "cell_type": "code",
   "execution_count": null,
   "metadata": {},
   "outputs": [],
   "source": []
  }
 ],
 "metadata": {
  "kernelspec": {
   "display_name": "Python 3.9.13 ('fsdl_2022_course_project')",
   "language": "python",
   "name": "python3"
  },
  "language_info": {
   "codemirror_mode": {
    "name": "ipython",
    "version": 3
   },
   "file_extension": ".py",
   "mimetype": "text/x-python",
   "name": "python",
   "nbconvert_exporter": "python",
   "pygments_lexer": "ipython3",
   "version": "3.9.13"
  },
  "orig_nbformat": 4,
  "vscode": {
   "interpreter": {
    "hash": "4c27d0eb0116998fc328b5a00abe6956c11e30aa3cb3ca27ff0ca511f067786d"
   }
  }
 },
 "nbformat": 4,
 "nbformat_minor": 2
}
