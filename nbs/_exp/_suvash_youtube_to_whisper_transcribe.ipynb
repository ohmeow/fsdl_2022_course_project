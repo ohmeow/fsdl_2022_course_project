{
 "cells": [
  {
   "cell_type": "markdown",
   "id": "ee8cf162-c809-4418-94e9-b13a7d3bd80d",
   "metadata": {},
   "source": [
    "## Set the youtube URL"
   ]
  },
  {
   "cell_type": "code",
   "execution_count": 1,
   "id": "4194c95e-95fd-4b68-b612-18f7d1d03f48",
   "metadata": {},
   "outputs": [],
   "source": [
    "YT_ID = \"Jsz4E2iNXUA\""
   ]
  },
  {
   "cell_type": "code",
   "execution_count": 2,
   "id": "5f18c1a8-0d86-4f29-9a19-b930425325d7",
   "metadata": {},
   "outputs": [],
   "source": [
    "YT_URL = f\"https://www.youtube.com/watch?v={YT_ID}\"\n",
    "EMBED_URL = f\"https://www.youtube.com/embed/{YT_ID}\""
   ]
  },
  {
   "cell_type": "markdown",
   "id": "4ff09c39-c0f2-42f7-b9da-570b9c5d4a91",
   "metadata": {
    "tags": []
   },
   "source": [
    "## Download video"
   ]
  },
  {
   "cell_type": "code",
   "execution_count": 3,
   "id": "373eeb3c-edbf-4b09-8cdc-004b7a180f68",
   "metadata": {},
   "outputs": [],
   "source": [
    "from pathlib import Path"
   ]
  },
  {
   "cell_type": "code",
   "execution_count": 4,
   "id": "79222bdb-3e8e-4c5c-bbcc-ccef42074098",
   "metadata": {},
   "outputs": [],
   "source": [
    "from pytube import YouTube"
   ]
  },
  {
   "cell_type": "code",
   "execution_count": 5,
   "id": "fcd2fd81-efbd-48bb-bf8f-f2437534038d",
   "metadata": {},
   "outputs": [],
   "source": [
    "def fetch_youtube_audio(url: str, fetch_path: Path) -> Path:\n",
    "    ext = \"mp4\"\n",
    "    order = \"abr\"\n",
    "\n",
    "    yt = YouTube(url)\n",
    "    yt.check_availability()\n",
    "\n",
    "    filename = f\"{yt.video_id}.{ext}\"\n",
    "    download_path = fetch_path / filename\n",
    "\n",
    "    audio_streams = yt.streams.filter(only_audio=True, file_extension=ext).order_by(order).desc()\n",
    "    # download it\n",
    "    audio_streams.first().download(filename=download_path, skip_existing=True)\n",
    "\n",
    "    return download_path"
   ]
  },
  {
   "cell_type": "code",
   "execution_count": 6,
   "id": "b9f4a34f-70ab-4e58-b94e-fadd9b5e1143",
   "metadata": {},
   "outputs": [],
   "source": [
    "audio_files_path = Path(\"./audio_files\")\n",
    "audio_files_path.mkdir(exist_ok=True)"
   ]
  },
  {
   "cell_type": "code",
   "execution_count": 7,
   "id": "2be4949e-0882-46e7-91f6-37242ad6a8f2",
   "metadata": {},
   "outputs": [
    {
     "data": {
      "text/plain": [
       "PosixPath('audio_files/Jsz4E2iNXUA.mp4')"
      ]
     },
     "execution_count": 7,
     "metadata": {},
     "output_type": "execute_result"
    }
   ],
   "source": [
    "downloaded_audio_file = fetch_youtube_audio(YT_URL, audio_files_path)\n",
    "downloaded_audio_file"
   ]
  },
  {
   "cell_type": "markdown",
   "id": "d546520a-1716-40b5-91dc-733e252c3b53",
   "metadata": {
    "tags": []
   },
   "source": [
    "## Transcribe with Whisper"
   ]
  },
  {
   "cell_type": "code",
   "execution_count": 9,
   "id": "781a9da5-98f0-430e-9c55-0141334c6398",
   "metadata": {},
   "outputs": [],
   "source": [
    "# apt update && apt install git ffmpeg --yes"
   ]
  },
  {
   "cell_type": "code",
   "execution_count": 10,
   "id": "34a7e03e-92ea-44f5-b86f-9e0c55d16c27",
   "metadata": {},
   "outputs": [],
   "source": [
    "import os\n",
    "import csv"
   ]
  },
  {
   "cell_type": "code",
   "execution_count": 11,
   "id": "243d7dbc-5636-4848-97e0-8738b301b35c",
   "metadata": {},
   "outputs": [],
   "source": [
    "import torch\n",
    "import whisper\n",
    "from whisper.utils import write_vtt"
   ]
  },
  {
   "cell_type": "code",
   "execution_count": 12,
   "id": "3508effc-2a27-4ffc-859c-5b75750f07dd",
   "metadata": {},
   "outputs": [],
   "source": [
    "torch_device = \"cuda\" if torch.cuda.is_available() else \"cpu\""
   ]
  },
  {
   "cell_type": "code",
   "execution_count": 13,
   "id": "ab6bfb9e-4525-4732-a952-ff9986ea3404",
   "metadata": {},
   "outputs": [
    {
     "data": {
      "text/plain": [
       "['tiny.en',\n",
       " 'tiny',\n",
       " 'base.en',\n",
       " 'base',\n",
       " 'small.en',\n",
       " 'small',\n",
       " 'medium.en',\n",
       " 'medium',\n",
       " 'large']"
      ]
     },
     "execution_count": 13,
     "metadata": {},
     "output_type": "execute_result"
    }
   ],
   "source": [
    "whisper.available_models()"
   ]
  },
  {
   "cell_type": "code",
   "execution_count": 15,
   "id": "a2aa72ce-feef-44dd-885d-43e7bd8bd2d6",
   "metadata": {},
   "outputs": [],
   "source": [
    "WHISPER_HOME = \"../../models\""
   ]
  },
  {
   "cell_type": "code",
   "execution_count": 16,
   "id": "d5a4f6de-5e0a-447e-92cd-892513b72a2b",
   "metadata": {},
   "outputs": [],
   "source": [
    "WHISPER_MODEL_NAME = \"base\""
   ]
  },
  {
   "cell_type": "code",
   "execution_count": 17,
   "id": "0695de3d-bbdf-47e5-9c98-f249f8f5b189",
   "metadata": {},
   "outputs": [
    {
     "name": "stderr",
     "output_type": "stream",
     "text": [
      "100%|███████████████████████████████████████| 139M/139M [00:11<00:00, 12.5MiB/s]\n"
     ]
    }
   ],
   "source": [
    "WHISPER_MODEL = whisper.load_model(WHISPER_MODEL_NAME, device=torch_device, download_root=WHISPER_HOME)"
   ]
  },
  {
   "cell_type": "code",
   "execution_count": 18,
   "id": "bcafbf26-880e-490b-a78a-6299ab07f3b4",
   "metadata": {},
   "outputs": [],
   "source": [
    "def transcribe_audio_to_vtt(audio_path: Path, transcribe_path: Path, model=WHISPER_MODEL) -> Path:\n",
    "    stem = audio_path.stem\n",
    "    ext = \"vtt\"\n",
    "\n",
    "    filename = f\"{audio_path.stem}.{ext}\"\n",
    "    vtt_path = transcribe_path / filename\n",
    "\n",
    "    fields = [\"start\", \"end\", \"text\"]\n",
    "\n",
    "    result = model.transcribe(str(audio_path))\n",
    "    segments = result[\"segments\"]\n",
    "\n",
    "    with open(vtt_path, \"w\", encoding=\"utf-8\") as vtt:\n",
    "        write_vtt(segments, file=vtt)\n",
    "\n",
    "    return vtt_path"
   ]
  },
  {
   "cell_type": "code",
   "execution_count": 19,
   "id": "673dd885-5d45-4163-b8a7-f4d00b47501f",
   "metadata": {},
   "outputs": [],
   "source": [
    "transcription_files_path = Path(\"./transcription_files\")\n",
    "transcription_files_path.mkdir(exist_ok=True)"
   ]
  },
  {
   "cell_type": "code",
   "execution_count": 21,
   "id": "c7c45548-a799-4a86-8923-cfd8a3f5b5fe",
   "metadata": {},
   "outputs": [
    {
     "data": {
      "text/plain": [
       "PosixPath('transcription_files/Jsz4E2iNXUA.vtt')"
      ]
     },
     "execution_count": 21,
     "metadata": {},
     "output_type": "execute_result"
    }
   ],
   "source": [
    "transcription_file = transcribe_audio_to_vtt(downloaded_audio_file, transcription_files_path)\n",
    "transcription_file"
   ]
  },
  {
   "cell_type": "markdown",
   "id": "ee0e6242-3c25-4bcc-88f6-6205a1c01881",
   "metadata": {
    "tags": []
   },
   "source": [
    "## Render the transcription"
   ]
  },
  {
   "cell_type": "code",
   "execution_count": 22,
   "id": "b5819e7b-1d50-41a6-8331-80687357585d",
   "metadata": {},
   "outputs": [],
   "source": [
    "import webvtt"
   ]
  },
  {
   "cell_type": "code",
   "execution_count": 23,
   "id": "7b24c398-e3fb-488c-9f41-c7ad3e3d50d2",
   "metadata": {},
   "outputs": [],
   "source": [
    "from IPython.display import IFrame"
   ]
  },
  {
   "cell_type": "code",
   "execution_count": 24,
   "id": "70064d07-3853-4842-be1b-d41551fc44aa",
   "metadata": {},
   "outputs": [
    {
     "data": {
      "text/html": [
       "\n",
       "        <iframe\n",
       "            width=\"800\"\n",
       "            height=\"450\"\n",
       "            src=\"https://www.youtube.com/embed/Jsz4E2iNXUA\"\n",
       "            frameborder=\"0\"\n",
       "            allowfullscreen\n",
       "            \n",
       "        ></iframe>\n",
       "        "
      ],
      "text/plain": [
       "<IPython.lib.display.IFrame at 0x7f007df1b250>"
      ]
     },
     "execution_count": 24,
     "metadata": {},
     "output_type": "execute_result"
    }
   ],
   "source": [
    "IFrame(EMBED_URL, width=800, height=450)"
   ]
  },
  {
   "cell_type": "code",
   "execution_count": 25,
   "id": "e83b9a6e-5708-4470-bd7f-ace473f36253",
   "metadata": {},
   "outputs": [
    {
     "name": "stdout",
     "output_type": "stream",
     "text": [
      "00:09:01.400 00:09:04.520 and translation tasks for more information on maybe\n",
      "00:09:04.520 00:09:08.560 data sets that you want to play with.\n",
      "00:09:08.560 00:09:12.640 So let's go ahead and start looking at how\n",
      "00:09:12.640 00:09:16.800 do we actually build a summarization or a translation model?\n",
      "00:09:16.800 00:09:18.640 And how do we use it?\n",
      "00:09:18.640 00:09:22.360 And as usual, we start with asking the question, which\n",
      "00:09:22.360 00:09:25.920 is what's a good data set to look at.\n",
      "00:09:25.920 00:09:27.960 And in particular, when we're doing this,\n",
      "00:09:27.960 00:09:31.640 we're doing a text to text task.\n",
      "00:09:31.640 00:09:34.520 And so we want to look for data sets\n",
      "00:09:34.520 00:09:37.240 where we have our inputs as a text\n",
      "00:09:37.240 00:09:42.600 and our labels as the text that we want to generate or predict.\n",
      "00:09:42.600 00:09:47.040 And this is actually, I think the sequence of sequence bits\n",
      "00:09:47.040 00:09:49.280 in particular summarization are the things\n",
      "00:09:49.280 00:09:50.640 that I really enjoy working with.\n",
      "00:09:50.640 00:09:53.760 Because it's just kind of amazing to build these things\n",
      "00:09:53.760 00:09:59.600 and be able to summarize a big chunk of text into something\n",
      "00:09:59.600 00:10:00.640 meaningful.\n",
      "00:10:00.640 00:10:03.960 And for summarization, I've really spent a lot of time.\n",
      "00:10:03.960 00:10:07.160 And I'm usually working with an English\n",
      "00:10:07.160 00:10:12.440 corpus in my work life, and the CNN Daily Mail Data\n",
      "00:10:12.440 00:10:17.240 Set has always been a good one to work with.\n",
      "00:10:17.240 00:10:19.720 It's basically got its inputs or articles,\n",
      "00:10:19.720 00:10:23.200 and its targets are highlights from the article.\n",
      "00:10:23.200 00:10:26.520 There's another data set that's presented in the course,\n",
      "00:10:26.520 00:10:28.360 which is interesting, because it actually just\n",
      "00:10:28.360 00:10:30.200 uses Amazon reviews.\n",
      "00:10:30.200 00:10:32.360 And it uses the title of the review\n",
      "00:10:32.360 00:10:35.080 as the summary you want to predict.\n",
      "00:10:35.080 00:10:40.840 And the body of the review as the context.\n",
      "00:10:40.840 00:10:43.120 And definitely one thing to know\n",
      "00:10:43.120 00:10:46.920 is if you're actually building a summarization model,\n",
      "00:10:46.920 00:10:51.920 you really want to understand your particular data set.\n",
      "00:10:51.920 00:10:56.160 And especially you want to look at the length of the summaries.\n",
      "00:10:56.160 00:10:59.200 So at the CNN Daily Mail, the summaries\n",
      "00:10:59.200 00:11:01.400 are multiple highlights.\n",
      "00:11:01.400 00:11:03.400 So they're like one sentence highlights\n",
      "00:11:03.400 00:11:05.120 all concatenated together.\n",
      "00:11:05.120 00:11:07.720 But if you're working with the data set\n",
      "00:11:07.720 00:11:13.480 where the summaries are just like themes or very succinct,\n"
     ]
    }
   ],
   "source": [
    "for caption in webvtt.read(transcription_file)[160:200]:\n",
    "    print(caption.start, caption.end, caption.text)"
   ]
  },
  {
   "cell_type": "code",
   "execution_count": null,
   "id": "0154fecf-e342-4cb1-ab47-276dd200c4e4",
   "metadata": {},
   "outputs": [],
   "source": []
  }
 ],
 "metadata": {
  "kernelspec": {
   "display_name": "Python 3.9.13 ('fsdl_2022_course_project')",
   "language": "python",
   "name": "python3"
  },
  "language_info": {
   "codemirror_mode": {
    "name": "ipython",
    "version": 3
   },
   "file_extension": ".py",
   "mimetype": "text/x-python",
   "name": "python",
   "nbconvert_exporter": "python",
   "pygments_lexer": "ipython3",
   "version": "3.9.13"
  },
  "vscode": {
   "interpreter": {
    "hash": "4c27d0eb0116998fc328b5a00abe6956c11e30aa3cb3ca27ff0ca511f067786d"
   }
  }
 },
 "nbformat": 4,
 "nbformat_minor": 5
}
