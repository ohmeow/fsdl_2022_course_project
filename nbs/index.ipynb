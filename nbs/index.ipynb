{
 "cells": [
  {
   "cell_type": "code",
   "execution_count": null,
   "metadata": {},
   "outputs": [],
   "source": [
    "#|hide\n",
    "%reload_ext autoreload\n",
    "%autoreload 2"
   ]
  },
  {
   "cell_type": "code",
   "execution_count": null,
   "metadata": {},
   "outputs": [],
   "source": [
    "#| hide\n",
    "from course_copilot.utils import *"
   ]
  },
  {
   "cell_type": "markdown",
   "metadata": {},
   "source": [
    "# fsdl_2022_course_project\n",
    "\n",
    "> Course Co-pilot helps course creators create lesson summaries and chapter markers using ML"
   ]
  },
  {
   "cell_type": "markdown",
   "metadata": {},
   "source": [
    "## Install"
   ]
  },
  {
   "cell_type": "markdown",
   "metadata": {},
   "source": [
    "```sh\n",
    "pip install course_copilot\n",
    "```"
   ]
  },
  {
   "cell_type": "markdown",
   "metadata": {},
   "source": [
    "## Setting up your development environment\n",
    "\n",
    "Please take some time reading up on nbdev ... how it works, [directives](https://nbdev.fast.ai/explanations/directives.html), etc... by checking out [the walk-thrus](https://nbdev.fast.ai/tutorials/tutorial.html) and [tutorials](https://nbdev.fast.ai/tutorials/) on the nbdev [website](https://nbdev.fast.ai/)"
   ]
  },
  {
   "cell_type": "markdown",
   "metadata": {},
   "source": [
    "## Step 1: Create conda environment\n",
    "\n",
    "After cloning the repo, create a conda environment. This will install nbdev alongside other libraries likely required for this project.\n",
    "\n",
    "`mamba env create -f environment.yml`\n",
    "\n",
    "\n",
    "## Step 2: Install Quarto:\n",
    "\n",
    "`nbdev_install_quarto`\n",
    "\n",
    "\n",
    "## Step 3: Install hooks \n",
    "\n",
    "`nbdev_install_hooks`\n",
    "\n",
    "\n",
    "## Step 4: Add pre-commit hooks (optional)\n",
    "If using VSCode, you can install pre-commit hooks “to catch and fix uncleaned and unexported notebooks” before pushing to get.  See the instructions in the nbdev documentation if you want to use this feature. https://nbdev.fast.ai/tutorials/pre_commit.html\n",
    "\n",
    "\n",
    "## Step 5: Install our library\n",
    "\n",
    "`pip install -e '.[dev]'`"
   ]
  }
 ],
 "metadata": {
  "kernelspec": {
   "display_name": "Python 3.9.13 ('fsdl_2022_course_project')",
   "language": "python",
   "name": "python3"
  }
 },
 "nbformat": 4,
 "nbformat_minor": 4
}
