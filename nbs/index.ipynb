{
 "cells": [
  {
   "cell_type": "code",
   "execution_count": null,
   "metadata": {},
   "outputs": [],
   "source": [
    "# |hide\n",
    "%reload_ext autoreload\n",
    "%autoreload 2"
   ]
  },
  {
   "cell_type": "code",
   "execution_count": null,
   "metadata": {},
   "outputs": [],
   "source": [
    "# | hide\n",
    "from course_copilot.utils import *"
   ]
  },
  {
   "cell_type": "markdown",
   "metadata": {},
   "source": [
    "# fsdl_2022_course_project\n",
    "\n",
    "> Course Co-pilot helps course creators create lesson summaries and chapter markers using ML.\n",
    "\n",
    "\n",
    "\n",
    "Our project is to create an augmented ML approach course creators can use to streamline the generation of lecture summaries and chapter markers based on lesson videos.\n",
    "\n",
    "![image](https://user-images.githubusercontent.com/24592806/195798582-4ef1cd04-24d9-427e-bb0f-3fbb41e1a0e3.png)\n",
    "\n",
    "The basic workflow is:\n",
    "- User opens a link to a YouTube video lecture in our application and asks Course Co-Pilot to process it\n",
    "- User can view status of requests via the “Get Predictions” button.\n",
    "- User can view predicted topic boundaries, headlines, & content summaries for processed videos.\n",
    "\n",
    "## Why\n",
    "\n",
    "\n",
    "In our own experience, we have noticed that such content either doesn’t get done, is time consuming, and/or requires work from outside parties. In particular, we noted in the below courses we’ve been a part of:\n",
    "\n",
    "1. Fast.ai course - During the course students manually create [youtube chapter markers](https://forums.fast.ai/t/help-wanted-youtube-chapter-markers/96306), [lesson transcripts](https://forums.fast.ai/t/help-wanted-transcriptions/96307), and summaries on the forums.\n",
    "\n",
    "2. FSDL course - The chapter markers and [lesson notes](https://fullstackdeeplearning.com/course/2022/lecture-2-development-infrastructure-and-tooling/) are later created manually and then shared on the FSDL website usually 1 week after the each lesson.\n"
   ]
  },
  {
   "cell_type": "markdown",
   "metadata": {},
   "source": [
    "## Future Plans\n",
    "\n",
    "- Improve quality of training data\n",
    "- Allow users to save their corrected headlines and summaries\n",
    "- Add ability for users to update topic spans\n",
    "- Implement data flywheel\n",
    "- Implement chapter marker and quarto export features\n",
    "- Add authentication/authorization"
   ]
  },
  {
   "cell_type": "markdown",
   "metadata": {},
   "source": [
    "## Install"
   ]
  },
  {
   "cell_type": "markdown",
   "metadata": {},
   "source": [
    "```sh\n",
    "pip install course_copilot\n",
    "```"
   ]
  },
  {
   "cell_type": "markdown",
   "metadata": {},
   "source": [
    "## Setting up your development environment\n",
    "\n",
    "Please take some time reading up on nbdev ... how it works, [directives](https://nbdev.fast.ai/explanations/directives.html), etc... by checking out [the walk-thrus](https://nbdev.fast.ai/tutorials/tutorial.html) and [tutorials](https://nbdev.fast.ai/tutorials/) on the nbdev [website](https://nbdev.fast.ai/)"
   ]
  },
  {
   "cell_type": "markdown",
   "metadata": {},
   "source": [
    "## Step 1: Create conda environment\n",
    "\n",
    "After cloning the repo, create a conda environment. This will install nbdev alongside other libraries likely required for this project.\n",
    "\n",
    "`mamba env create -f environment.yml`\n",
    "\n",
    "\n",
    "## Step 2: Install Quarto:\n",
    "\n",
    "`nbdev_install_quarto`\n",
    "\n",
    "\n",
    "## Step 3: Install hooks \n",
    "\n",
    "`nbdev_install_hooks`\n",
    "\n",
    "\n",
    "## Step 4: Add pre-commit hooks (optional)\n",
    "If using VSCode, you can install pre-commit hooks “to catch and fix uncleaned and unexported notebooks” before pushing to get.  See the instructions in the nbdev documentation if you want to use this feature. https://nbdev.fast.ai/tutorials/pre_commit.html\n",
    "\n",
    "\n",
    "## Step 5: Install our library\n",
    "\n",
    "`pip install -e '.[dev]'`"
   ]
  }
 ],
 "metadata": {
  "kernelspec": {
   "display_name": "Python 3 (ipykernel)",
   "language": "python",
   "name": "python3"
  }
 },
 "nbformat": 4,
 "nbformat_minor": 4
}
