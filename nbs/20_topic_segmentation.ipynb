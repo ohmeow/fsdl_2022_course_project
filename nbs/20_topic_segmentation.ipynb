{
 "cells": [
  {
   "cell_type": "code",
   "execution_count": null,
   "metadata": {},
   "outputs": [],
   "source": [
    "# |default_exp topic_segmentation\n",
    "# |default_cls_lvl 3"
   ]
  },
  {
   "cell_type": "code",
   "execution_count": null,
   "metadata": {},
   "outputs": [],
   "source": [
    "# |hide\n",
    "%reload_ext autoreload\n",
    "%autoreload 2"
   ]
  },
  {
   "cell_type": "markdown",
   "metadata": {},
   "source": [
    "# topic_segmentation\n",
    "\n",
    "Training, saving, and tuning code for building topic segmentation model(s) that can predict where new topics begin given a transcript (e.g. rows of duration and text)"
   ]
  },
  {
   "cell_type": "code",
   "execution_count": null,
   "metadata": {},
   "outputs": [],
   "source": [
    "# |export\n",
    "from __future__ import annotations\n",
    "\n",
    "import ast, os, gc, random, time\n",
    "\n",
    "from dotenv import load_dotenv\n",
    "from fastai.callback.all import *\n",
    "from fastai.callback.wandb import *\n",
    "from fastai.data.block import CategoryBlock, ColReader, ColSplitter, DataBlock, IndexSplitter, RegressionBlock\n",
    "from fastai.imports import *\n",
    "from fastai.layers import SigmoidRange\n",
    "from fastai.learner import *\n",
    "from fastai.losses import CrossEntropyLossFlat, MSELossFlat, LabelSmoothingCrossEntropyFlat\n",
    "from fastai.optimizer import Adam\n",
    "from fastai.metrics import *\n",
    "from fastai.torch_core import *\n",
    "from fastai.torch_imports import *\n",
    "from fastcore.transform import Transform\n",
    "import optuna\n",
    "from optuna.integration.fastaiv2 import FastAIPruningCallback\n",
    "from optuna.integration.wandb import WeightsAndBiasesCallback\n",
    "import segeval\n",
    "from sklearn.metrics import mean_absolute_error, f1_score, recall_score, precision_score, fbeta_score\n",
    "from sklearn.model_selection import train_test_split\n",
    "import statistics\n",
    "from torch.utils.checkpoint import checkpoint\n",
    "from transformers import (\n",
    "    AutoConfig,\n",
    "    AutoModelForNextSentencePrediction,\n",
    "    AutoModelForSequenceClassification,\n",
    "    DebertaV2Model,\n",
    "    logging as hf_logging,\n",
    ")\n",
    "from transformers.models.deberta_v2.modeling_deberta_v2 import ContextPooler\n",
    "from transformers.models.deberta_v2.modeling_deberta_v2 import StableDropout\n",
    "import wandb\n",
    "\n",
    "from blurr.callbacks import GradientCheckpointing\n",
    "from blurr.text.data.core import TextBlock, BatchTokenizeTransform, first_blurr_tfm\n",
    "from blurr.text.modeling.core import BaseModelWrapper, BaseModelCallback, blurr_splitter\n",
    "from blurr.text.utils import get_hf_objects\n",
    "from blurr.utils import PreCalculatedCrossEntropyLoss, PreCalculatedMSELoss, set_seed\n",
    "\n",
    "from course_copilot import preprocessing, training, utils"
   ]
  },
  {
   "cell_type": "code",
   "execution_count": null,
   "metadata": {},
   "outputs": [],
   "source": [
    "# | hide\n",
    "import pdb\n",
    "\n",
    "from fastcore.test import *\n",
    "import nbdev\n",
    "\n",
    "from blurr.utils import print_versions"
   ]
  },
  {
   "cell_type": "code",
   "execution_count": null,
   "metadata": {},
   "outputs": [
    {
     "data": {
      "text/plain": [
       "True"
      ]
     },
     "execution_count": null,
     "metadata": {},
     "output_type": "execute_result"
    }
   ],
   "source": [
    "# |export\n",
    "# silence all the HF warnings and load environment variables\n",
    "warnings.simplefilter(\"ignore\")\n",
    "hf_logging.set_verbosity_error()\n",
    "\n",
    "load_dotenv()"
   ]
  },
  {
   "cell_type": "code",
   "execution_count": null,
   "metadata": {},
   "outputs": [
    {
     "name": "stdout",
     "output_type": "stream",
     "text": [
      "What we're running with at the time this documentation was generated:\n",
      "torch: 1.12.1+cu102\n",
      "fastai: 2.7.9\n",
      "transformers: 4.22.0\n"
     ]
    }
   ],
   "source": [
    "# | echo: false\n",
    "os.environ[\"TOKENIZERS_PARALLELISM\"] = \"false\"\n",
    "print(\"What we're running with at the time this documentation was generated:\")\n",
    "print_versions(\"torch fastai transformers\")"
   ]
  },
  {
   "cell_type": "code",
   "execution_count": null,
   "metadata": {},
   "outputs": [
    {
     "name": "stdout",
     "output_type": "stream",
     "text": [
      "Using GPU #1: GeForce GTX 1080 Ti\n"
     ]
    }
   ],
   "source": [
    "# |hide\n",
    "# |cuda\n",
    "torch.cuda.set_device(1)\n",
    "print(f\"Using GPU #{torch.cuda.current_device()}: {torch.cuda.get_device_name()}\")"
   ]
  },
  {
   "cell_type": "markdown",
   "metadata": {},
   "source": [
    "## Configuration"
   ]
  },
  {
   "cell_type": "code",
   "execution_count": null,
   "metadata": {},
   "outputs": [
    {
     "name": "stdout",
     "output_type": "stream",
     "text": [
      "course-copilot-ml\n",
      "course-copilot\n"
     ]
    }
   ],
   "source": [
    "print(os.environ[\"WANDB_PROJECT_NAME\"])\n",
    "print(os.environ[\"WANDB_TEAM\"])"
   ]
  },
  {
   "cell_type": "code",
   "execution_count": null,
   "metadata": {},
   "outputs": [],
   "source": [
    "# | export\n",
    "class TopicSegmentationConfig(training.TrainConfig):\n",
    "    \"\"\"A 'training.Config' object training and tuning our segmentation models. Uses fastai and huggingface defaults by default\"\"\"\n",
    "\n",
    "    # huggingface objects\n",
    "    hf_model_cls = AutoModelForSequenceClassification\n",
    "    hf_model_checkpoint = \"microsoft/deberta-v3-small\"\n",
    "    hf_config_kwargs = {\"num_labels\": 2}\n",
    "    hf_tokenizer_kwargs = {}\n",
    "    new_special_tokens = None\n",
    "    hf_model_kwargs = {}\n",
    "\n",
    "    # datablock/dataloaders\n",
    "    use_next_pos_prob = 0.75\n",
    "    use_adjacent_neg_prob = 0.5\n",
    "    max_length = True\n",
    "    lower_case = True\n",
    "    truncation_strategy = True\n",
    "    include_labels = False\n",
    "    tok_kwargs = {}\n",
    "    batch_size = 8\n",
    "    accum = None\n",
    "\n",
    "    # learner\n",
    "    custom_model_kwargs = {\"p\": 0.1, \"dropout_cls\": nn.Dropout}\n",
    "    include_gradient_checkpointing = False\n",
    "    one_cycle_moms_start = 0.8\n",
    "    one_cycle_moms_min = 0.7\n",
    "    one_cycle_moms_end = 0.8\n",
    "    adam_beta2 = 0.99\n",
    "    adam_eps = 1e-7\n",
    "    weight_decay = 0.0\n",
    "    max_grad_norm = None\n",
    "    save_best_model = True\n",
    "    use_fp16 = True\n",
    "\n",
    "    # training\n",
    "    n_frozen_epochs = 0\n",
    "    frozen_lr = 0\n",
    "    n_unfrozen_epochs = 4\n",
    "    unfrozen_lr_min = 1e-5\n",
    "    unfrozen_lr_max = 1e-3"
   ]
  },
  {
   "cell_type": "code",
   "execution_count": null,
   "metadata": {},
   "outputs": [],
   "source": [
    "class ExampleCFG(TopicSegmentationConfig):\n",
    "    training_subset = 0.25\n",
    "    n_frozen_epochs = 0\n",
    "    n_unfrozen_epochs = 1"
   ]
  },
  {
   "cell_type": "code",
   "execution_count": null,
   "metadata": {},
   "outputs": [
    {
     "data": {
      "text/plain": [
       "['accum: None',\n",
       " 'adam_beta2: 0.99',\n",
       " 'adam_eps: 1e-07',\n",
       " 'batch_size: 8',\n",
       " \"custom_model_kwargs: {'p': 0.1, 'dropout_cls': <class 'torch.nn.modules.dropout.Dropout'>}\"]"
      ]
     },
     "execution_count": null,
     "metadata": {},
     "output_type": "execute_result"
    }
   ],
   "source": [
    "[f\"{k}: {v}\" for k, v in training.get_train_config_props(ExampleCFG).items()][:5]"
   ]
  },
  {
   "cell_type": "markdown",
   "metadata": {},
   "source": [
    "## Data"
   ]
  },
  {
   "cell_type": "code",
   "execution_count": null,
   "metadata": {},
   "outputs": [],
   "source": [
    "# | export\n",
    "def _get_training_data(cfg: TopicSegmentationConfig, data_dir=\"data\", on_the_fly=False, split_type=\"cross_validation\"):\n",
    "    if on_the_fly:\n",
    "        raw_train_df, _ = preprocessing.preprocess_data(\n",
    "            ds=\"train\", data_path=data_dir, return_file=True, save_file=False\n",
    "        )\n",
    "    else:\n",
    "        raw_train_df = pd.read_csv(f\"{data_dir}/clean/segmentation_train.csv\", index_col=None)\n",
    "\n",
    "    raw_train_df[\"other_topic_seqs\"] = raw_train_df[\"other_topic_seqs\"].apply(ast.literal_eval)\n",
    "    raw_train_df.reset_index(inplace=True)\n",
    "\n",
    "    # for training we need to remove sequences for which there is not a \"next_seq\" (e.g., we are at end of a topic)\n",
    "    train_df = raw_train_df[raw_train_df[\"is_topic_end\"] == False].copy()\n",
    "\n",
    "    train_df = train_df.sample(frac=cfg.training_subset, random_state=cfg.random_seed).reset_index(drop=True)\n",
    "\n",
    "    if split_type == \"cross_validation\":\n",
    "        courses = train_df[\"course_title\"].unique()\n",
    "        np.random.seed(cfg.random_seed)\n",
    "        np.random.shuffle(courses)\n",
    "\n",
    "        val_sz = int(len(courses) * cfg.val_pct)\n",
    "        val_courses = courses[:val_sz]\n",
    "\n",
    "        is_val = np.isin(train_df[\"course_title\"], val_courses)\n",
    "\n",
    "        idxs = np.arange(len(train_df))\n",
    "        val_idxs = idxs[is_val]\n",
    "        trn_idxs = idxs[~is_val]\n",
    "\n",
    "        return train_df.copy(), trn_idxs, val_idxs, raw_train_df.copy()\n",
    "    else:\n",
    "        raise NotImplementedError()"
   ]
  },
  {
   "cell_type": "code",
   "execution_count": null,
   "metadata": {},
   "outputs": [],
   "source": [
    "train_df, trn_idxs, val_idxs, raw_train_df = _get_training_data(\n",
    "    ExampleCFG, data_dir=\"../data\", on_the_fly=False, split_type=\"cross_validation\"\n",
    ")"
   ]
  },
  {
   "cell_type": "code",
   "execution_count": null,
   "metadata": {},
   "outputs": [
    {
     "name": "stdout",
     "output_type": "stream",
     "text": [
      "6196\n",
      "4981 1215\n"
     ]
    },
    {
     "data": {
      "text/html": [
       "<div>\n",
       "<style scoped>\n",
       "    .dataframe tbody tr th:only-of-type {\n",
       "        vertical-align: middle;\n",
       "    }\n",
       "\n",
       "    .dataframe tbody tr th {\n",
       "        vertical-align: top;\n",
       "    }\n",
       "\n",
       "    .dataframe thead th {\n",
       "        text-align: right;\n",
       "    }\n",
       "</style>\n",
       "<table border=\"1\" class=\"dataframe\">\n",
       "  <thead>\n",
       "    <tr style=\"text-align: right;\">\n",
       "      <th></th>\n",
       "      <th>index</th>\n",
       "      <th>course_title</th>\n",
       "      <th>lesson_num</th>\n",
       "      <th>topic</th>\n",
       "      <th>seq</th>\n",
       "      <th>prev_seq</th>\n",
       "      <th>next_seq</th>\n",
       "      <th>is_topic_end</th>\n",
       "      <th>next_topic_begin_seq</th>\n",
       "      <th>other_topic_seqs</th>\n",
       "    </tr>\n",
       "  </thead>\n",
       "  <tbody>\n",
       "    <tr>\n",
       "      <th>0</th>\n",
       "      <td>23538</td>\n",
       "      <td>parker - learn photography</td>\n",
       "      <td>1</td>\n",
       "      <td>Apertures Deep Dive</td>\n",
       "      <td>particular the detroit tigers so their wedding day was in that area</td>\n",
       "      <td>and if you recognize this letter d you know that's from detroit and in</td>\n",
       "      <td>and we were near the detroit tiger stadium if i had completely blurred out</td>\n",
       "      <td>False</td>\n",
       "      <td>NaN</td>\n",
       "      <td>[you fully understand how they work and how they can alter your final image now previously i demonstrated that the, larger the aperture the more the background is blurred out when it comes to the area in focus this is referred to, as the depth of field so the depth of field is the zone within a photo that, appears sharp and in focus when focusing on your subject that is considered the point of focus beyond that, how much appears in focus corresponds to the depth of field so here are two more, images and the amount of the depth of field in one is greater than the other, the first image i ca...</td>\n",
       "    </tr>\n",
       "    <tr>\n",
       "      <th>1</th>\n",
       "      <td>6466</td>\n",
       "      <td>Full Stack Deep Learning - Spring 2021</td>\n",
       "      <td>9</td>\n",
       "      <td>Long Term Ethical Problems in AI</td>\n",
       "      <td>we basically need robots in order to have a functioning economy in the next few decades</td>\n",
       "      <td>brilliant person and this article which i recommend you click on talks about how</td>\n",
       "      <td>an interesting spin on this worry though is ai not necessarily replacing human labor</td>\n",
       "      <td>False</td>\n",
       "      <td>NaN</td>\n",
       "      <td>[a.i so the first i think a lot of people's minds go to autonomous weapons and maybe they go into a place that, is a little easy to dismiss as maybe far-fetched not realistic we don't have to worry about it it's just a movie, but of course as the saying goes the future is already here it's just not evenly distributed so, israel apparently has autonomous robo snipers on their borders today and just, i think last weekend or something there was an article about the new york city police deploying, the boston dynamics spot robot which actually anyone can buy now i think it's only like, 60 000 o...</td>\n",
       "    </tr>\n",
       "  </tbody>\n",
       "</table>\n",
       "</div>"
      ],
      "text/plain": [
       "   index                            course_title lesson_num  \\\n",
       "0  23538              parker - learn photography          1   \n",
       "1   6466  Full Stack Deep Learning - Spring 2021          9   \n",
       "\n",
       "                              topic  \\\n",
       "0               Apertures Deep Dive   \n",
       "1  Long Term Ethical Problems in AI   \n",
       "\n",
       "                                                                                       seq  \\\n",
       "0                      particular the detroit tigers so their wedding day was in that area   \n",
       "1  we basically need robots in order to have a functioning economy in the next few decades   \n",
       "\n",
       "                                                                           prev_seq  \\\n",
       "0            and if you recognize this letter d you know that's from detroit and in   \n",
       "1  brilliant person and this article which i recommend you click on talks about how   \n",
       "\n",
       "                                                                               next_seq  \\\n",
       "0            and we were near the detroit tiger stadium if i had completely blurred out   \n",
       "1  an interesting spin on this worry though is ai not necessarily replacing human labor   \n",
       "\n",
       "   is_topic_end next_topic_begin_seq  \\\n",
       "0         False                  NaN   \n",
       "1         False                  NaN   \n",
       "\n",
       "                                                                                                                                                                                                                                                                                                                                                                                                                                                                                                                                                                                                          other_topic_seqs  \n",
       "0  [you fully understand how they work and how they can alter your final image now previously i demonstrated that the, larger the aperture the more the background is blurred out when it comes to the area in focus this is referred to, as the depth of field so the depth of field is the zone within a photo that, appears sharp and in focus when focusing on your subject that is considered the point of focus beyond that, how much appears in focus corresponds to the depth of field so here are two more, images and the amount of the depth of field in one is greater than the other, the first image i ca...  \n",
       "1  [a.i so the first i think a lot of people's minds go to autonomous weapons and maybe they go into a place that, is a little easy to dismiss as maybe far-fetched not realistic we don't have to worry about it it's just a movie, but of course as the saying goes the future is already here it's just not evenly distributed so, israel apparently has autonomous robo snipers on their borders today and just, i think last weekend or something there was an article about the new york city police deploying, the boston dynamics spot robot which actually anyone can buy now i think it's only like, 60 000 o...  "
      ]
     },
     "execution_count": null,
     "metadata": {},
     "output_type": "execute_result"
    }
   ],
   "source": [
    "print(len(train_df))\n",
    "print(len(trn_idxs), len(val_idxs))\n",
    "train_df.head(2)"
   ]
  },
  {
   "cell_type": "markdown",
   "metadata": {},
   "source": [
    "## Hugging Face `transformers` objects"
   ]
  },
  {
   "cell_type": "code",
   "execution_count": null,
   "metadata": {},
   "outputs": [],
   "source": [
    "# | export\n",
    "def _get_task_hf_objects(cfg: TopicSegmentationConfig):\n",
    "    # if 'only_seed_splits' = True, then we only care about reproducibility insofar as the training and\n",
    "    # validation sets go\n",
    "    if cfg.random_seed and not cfg.only_seed_splits:\n",
    "        set_seed(cfg.random_seed)\n",
    "\n",
    "    # need to create configuration object separately because we may be adding new attributes (e.g., cls_dropout)\n",
    "    hf_config = AutoConfig.from_pretrained(cfg.hf_model_checkpoint)\n",
    "    hf_config.update(cfg.hf_config_kwargs)\n",
    "\n",
    "    hf_arch, hf_config, hf_tokenizer, hf_model = get_hf_objects(\n",
    "        cfg.hf_model_checkpoint,\n",
    "        model_cls=cfg.hf_model_cls,\n",
    "        config=hf_config,\n",
    "        tokenizer_kwargs=cfg.hf_tokenizer_kwargs,\n",
    "        model_kwargs=cfg.hf_model_kwargs,\n",
    "    )\n",
    "\n",
    "    if cfg.new_special_tokens:\n",
    "        # After adding the new tokens, we need to resize the embedding matrix in the model and initialize the weights\n",
    "        hf_tokenizer.add_special_tokens({\"additional_special_tokens\": cfg.new_special_tokens})\n",
    "        hf_model.resize_token_embeddings(len(hf_tokenizer))\n",
    "\n",
    "        with torch.no_grad():\n",
    "            emb_size = hf_model.config.to_dict().get(\"embedding_size\", hf_model.config.hidden_size)\n",
    "            hf_model.get_input_embeddings().weight[-len(hf_tokenizer), :] = torch.zeros([emb_size])\n",
    "\n",
    "    return hf_arch, hf_config, hf_tokenizer, hf_model"
   ]
  },
  {
   "cell_type": "code",
   "execution_count": null,
   "metadata": {},
   "outputs": [],
   "source": [
    "hf_arch, hf_config, hf_tokenizer, hf_model = _get_task_hf_objects(ExampleCFG)"
   ]
  },
  {
   "cell_type": "markdown",
   "metadata": {},
   "source": [
    "## `DataLoaders`"
   ]
  },
  {
   "cell_type": "code",
   "execution_count": null,
   "metadata": {},
   "outputs": [],
   "source": [
    "# | export\n",
    "def _build_pos_inputs(example, cfg: TopicSegmentationConfig, hf_tokenizer_sep_token=\"[SEP]\"):\n",
    "    seq_text = example[\"seq\"].strip().lower() if cfg.lower_case else example[\"seq\"].strip()\n",
    "    next_seq_text = example[\"next_seq\"].strip().lower() if cfg.lower_case else example[\"next_seq\"].strip()\n",
    "\n",
    "    non_adjacent_text = (\n",
    "        random.choice(example[\"other_topic_seqs\"]).strip() if len(example[\"other_topic_seqs\"]) > 0 else None\n",
    "    )\n",
    "    if cfg.lower_case and non_adjacent_text:\n",
    "        non_adjacent_text = non_adjacent_text.lower()\n",
    "\n",
    "    if example[\"is_topic_end\"] and example[\"next_topic_begin_seq\"] and non_adjacent_text:\n",
    "        # this is the last sequence in the topic so the only thing that will work here is to pair it with another non-adjacent seq in the same topic\n",
    "        # and therefore we just duplicate it here.\n",
    "        next_topic_begin_seq = (\n",
    "            example[\"next_topic_begin_seq\"].strip().lower()\n",
    "            if cfg.lower_case\n",
    "            else example[\"next_topic_begin_seq\"].strip()\n",
    "        )\n",
    "        inp = (\n",
    "            f\"{seq_text}{hf_tokenizer_sep_token}{non_adjacent_text}\",\n",
    "            f\"{seq_text}{hf_tokenizer_sep_token}{non_adjacent_text}\",\n",
    "        )\n",
    "    else:\n",
    "        # the positive pair will be a seq + the next seq -or- the seq + a non-adjacent seq in the same topic\n",
    "        inp = (\n",
    "            f\"{seq_text}{hf_tokenizer_sep_token}{next_seq_text}\",\n",
    "            f\"{seq_text}{hf_tokenizer_sep_token}{non_adjacent_text}\" if non_adjacent_text else \"xxNONExx\",\n",
    "        )\n",
    "\n",
    "    return inp"
   ]
  },
  {
   "cell_type": "code",
   "execution_count": null,
   "metadata": {},
   "outputs": [],
   "source": [
    "# | export\n",
    "def _build_neg_inputs(example, cfg: TopicSegmentationConfig, hf_tokenizer_sep_token=\"[SEP]\", df=None):\n",
    "    seq_text = example[\"seq\"].strip()\n",
    "\n",
    "    # if at the last sequence for a topic, set the negative pair = seq + first sequence in next topic,\n",
    "    # else get a sequence that is not adjacent but in same topic\n",
    "    if example[\"is_topic_end\"] and example[\"next_topic_begin_seq\"]:\n",
    "        neg_seq_non_adjacent_text = example[\"next_topic_begin_seq\"].strip()\n",
    "    elif len(example[\"other_topic_seqs\"]) > 0:\n",
    "        neg_seq_non_adjacent_text = random.choice(example[\"other_topic_seqs\"]).strip()\n",
    "    else:\n",
    "        neg_seq_non_adjacent_text = \"xxNONExx\"\n",
    "\n",
    "    # get a sequence that is in an entirely different topic\n",
    "    # option 1: can be in same lesson but different topic or in a different course entirely\n",
    "    # neg_seq_other_topic_text = (\n",
    "    #     df[\"seq\"][\n",
    "    #         (df[\"course_title\"] != example[\"course_title\"]) | (df[\"lesson_num\"] != example[\"lesson_num\"])\n",
    "    #     ]\n",
    "    #     .sample(n=1)\n",
    "    #     .values[0]\n",
    "    #     .strip()\n",
    "    # )\n",
    "\n",
    "    # option 2: sample from a different course entirely\n",
    "    neg_seq_other_topic_text = df[\"seq\"][(df[\"course_title\"] != example[\"course_title\"])].sample(n=1).values[0].strip()\n",
    "\n",
    "    if cfg.lower_case:\n",
    "        seq_text = seq_text.lower()\n",
    "        neg_seq_non_adjacent_text = neg_seq_non_adjacent_text.lower()\n",
    "        neg_seq_other_topic_text = neg_seq_other_topic_text.lower()\n",
    "\n",
    "    # our SiameseBatchTokenizeTransform will choose which one to use each time the item is fetched\n",
    "    inp = (\n",
    "        f\"{seq_text}{hf_tokenizer_sep_token}{neg_seq_non_adjacent_text}\",\n",
    "        f\"{seq_text}{hf_tokenizer_sep_token}{neg_seq_other_topic_text}\",\n",
    "    )\n",
    "\n",
    "    return inp"
   ]
  },
  {
   "cell_type": "code",
   "execution_count": null,
   "metadata": {},
   "outputs": [],
   "source": [
    "# | export\n",
    "def _build_targets(example):\n",
    "    return 0"
   ]
  },
  {
   "cell_type": "code",
   "execution_count": null,
   "metadata": {},
   "outputs": [],
   "source": [
    "# | export\n",
    "class SiameseBatchTokenizeTransform(BatchTokenizeTransform):\n",
    "    def __init__(self, use_next_pos_prob=0.75, use_adjacent_neg_prob=0.5, **kwargs):\n",
    "        super().__init__(**kwargs)\n",
    "        self.use_next_pos_prob = use_next_pos_prob\n",
    "        self.use_adjacent_neg_prob = use_adjacent_neg_prob\n",
    "\n",
    "    def encodes(self, samples, return_batch_encoding=False):\n",
    "        # our positive example\n",
    "        pos_ex_idx = 0 if random.uniform(0, 1) < self.use_next_pos_prob else 1\n",
    "        updated_samples1, inputs1 = super().encodes(\n",
    "            [(s[0][pos_ex_idx] if s[0][pos_ex_idx] != \"xxNONExx\" else s[0][0], *s[2:], *s[2:]) for s in samples],\n",
    "            return_batch_encoding=True,\n",
    "        )\n",
    "\n",
    "        # our negative example (sometimes the adjacent will be \"\"; if that is the case use the other topic negative example which is at idx=1)\n",
    "        neg_ex_idx = 0 if random.uniform(0, 1) < self.use_adjacent_neg_prob and pos_ex_idx == 0 else 1\n",
    "        updated_samples2, inputs2 = super().encodes(\n",
    "            [(s[1][neg_ex_idx] if s[1][neg_ex_idx] != \"xxNONExx\" else s[1][1], *s[2:]) for s in samples],\n",
    "            return_batch_encoding=True,\n",
    "        )\n",
    "\n",
    "        # if there are no targets (e.g., when used for inference)\n",
    "        if len(samples[0]) == 2:\n",
    "            return [(inps1[0], inps2[0]) for inps1, inps2 in zip(updated_samples1, updated_samples2)]\n",
    "\n",
    "        return [(inps1[0], inps2[0], inps1[-1]) for inps1, inps2 in zip(updated_samples1, updated_samples2)]"
   ]
  },
  {
   "cell_type": "code",
   "execution_count": null,
   "metadata": {},
   "outputs": [],
   "source": [
    "# | export\n",
    "def _get_dls(cfg: TopicSegmentationConfig, df, hf_arch, hf_config, hf_tokenizer, hf_model, val_idxs_or_fold):\n",
    "    # define validation set\n",
    "    if isinstance(val_idxs_or_fold, int):\n",
    "        df[\"is_valid\"] = df[\"k_fold\"] == val_idxs_or_fold\n",
    "        splitter = ColSplitter()\n",
    "    else:\n",
    "        splitter = IndexSplitter(val_idxs_or_fold)\n",
    "\n",
    "    if cfg.random_seed:\n",
    "        set_seed(cfg.random_seed)\n",
    "\n",
    "    batch_tokenize_tfm = SiameseBatchTokenizeTransform(\n",
    "        use_next_pos_prob=cfg.use_next_pos_prob,\n",
    "        use_adjacent_neg_prob=cfg.use_adjacent_neg_prob,\n",
    "        hf_arch=hf_arch,\n",
    "        hf_config=hf_config,\n",
    "        hf_tokenizer=hf_tokenizer,\n",
    "        hf_model=hf_model,\n",
    "        include_labels=cfg.include_labels,\n",
    "        max_length=cfg.max_length,\n",
    "        truncation=cfg.truncation_strategy,\n",
    "        tok_kwargs=cfg.tok_kwargs,\n",
    "    )\n",
    "\n",
    "    blocks = (TextBlock(batch_tokenize_tfm=batch_tokenize_tfm), noop, CategoryBlock)\n",
    "\n",
    "    get_pos_x = partial(_build_pos_inputs, cfg=cfg, hf_tokenizer_sep_token=hf_tokenizer.sep_token)\n",
    "    get_neg_x = partial(_build_neg_inputs, cfg=cfg, hf_tokenizer_sep_token=hf_tokenizer.sep_token, df=df)\n",
    "    get_y = partial(_build_targets)\n",
    "\n",
    "    dblock = DataBlock(\n",
    "        blocks=blocks,\n",
    "        get_x=[get_pos_x, get_neg_x],\n",
    "        get_y=get_y,\n",
    "        splitter=splitter,\n",
    "        n_inp=2,\n",
    "    )\n",
    "\n",
    "    if cfg.random_seed:\n",
    "        set_seed(cfg.random_seed)\n",
    "\n",
    "    bsz = cfg.batch_size if cfg.accum is None else cfg.batch_size // cfg.accum\n",
    "    return dblock.dataloaders(df, bs=bsz, val_bs=bsz * 2)"
   ]
  },
  {
   "cell_type": "code",
   "execution_count": null,
   "metadata": {},
   "outputs": [],
   "source": [
    "dls = _get_dls(ExampleCFG, train_df, hf_arch, hf_config, hf_tokenizer, hf_model, val_idxs_or_fold=val_idxs)"
   ]
  },
  {
   "cell_type": "code",
   "execution_count": null,
   "metadata": {},
   "outputs": [
    {
     "name": "stdout",
     "output_type": "stream",
     "text": [
      "3\n",
      "\n",
      "[CLS] of three of them so, you know, you kind of... this is the idea, right?, as if somebody says to you: “i like this movie, this movie, this movie” and you're like: “oh, they like those movies too” what[SEP] other movies do you like? and they'll say: “oh, how about this?” there's a chance, good chance, that you're going to like the same thing. that's the basis of collaborative filtering, okay, it's...[SEP]\n",
      "\n",
      "[CLS] of three of them so, you know, you kind of... this is the idea, right?, as if somebody says to you: “i like this movie, this movie, this movie” and you're like: “oh, they like those movies too” what[SEP] you're going to be really hungry and[SEP][PAD][PAD][PAD][PAD][PAD][PAD][PAD][PAD][PAD][PAD][PAD][PAD][PAD][PAD][PAD][PAD]\n",
      "\n",
      "TensorCategory([0, 0, 0, 0, 0, 0, 0, 0], device='cuda:1')\n"
     ]
    }
   ],
   "source": [
    "b = dls.one_batch()\n",
    "print(len(b))\n",
    "print(\"\")\n",
    "print(hf_tokenizer.decode(b[0][\"input_ids\"][0]))\n",
    "print(\"\")\n",
    "print(hf_tokenizer.decode(b[1][\"input_ids\"][0]))\n",
    "print(\"\")\n",
    "print(b[2])"
   ]
  },
  {
   "cell_type": "markdown",
   "metadata": {},
   "source": [
    "## Models"
   ]
  },
  {
   "cell_type": "code",
   "execution_count": null,
   "metadata": {},
   "outputs": [],
   "source": [
    "# | export\n",
    "def blurr_splitter_with_head(m: Module):\n",
    "    \"\"\"Simply adds an additional layer group to the classification head\"\"\"\n",
    "    base_param_groups = blurr_splitter(m)\n",
    "\n",
    "    added_groups = L([m for m_name, m in list(m.named_children()) if m_name != \"hf_model\"])\n",
    "    added_param_groups = added_groups.map(params).filter(lambda el: len(el) > 0)\n",
    "\n",
    "    return base_param_groups + added_param_groups\n",
    "\n",
    "\n",
    "def blurr_splitter_on_backbone(m: Module):\n",
    "    \"\"\"Creates two layer groups: One for the backbone and one for the pooler/classification head\"\"\"\n",
    "    root_modules = list(m.named_children())\n",
    "    top_module_name, top_module = root_modules[0]\n",
    "\n",
    "    groups = L(top_module)\n",
    "    groups += L([m for m_name, m in root_modules[1:]])\n",
    "\n",
    "    return groups.map(params).filter(lambda el: len(el) > 0)"
   ]
  },
  {
   "cell_type": "code",
   "execution_count": null,
   "metadata": {},
   "outputs": [],
   "source": [
    "# | export\n",
    "# TODO: Review PyTorch docs (https://pytorch.org/docs/stable/generated/torch.nn.MarginRankingLoss.html); consider changing\n",
    "def MarginRankingLoss(pos_neg_scores, targs):\n",
    "    margin = 1\n",
    "    p_scores, n_scores = pos_neg_scores\n",
    "\n",
    "    scores = margin - p_scores + n_scores\n",
    "    scores = scores.clamp(min=0)\n",
    "    return scores.mean()"
   ]
  },
  {
   "cell_type": "code",
   "execution_count": null,
   "metadata": {},
   "outputs": [],
   "source": [
    "# | export\n",
    "def topic_seg_f1_score(inps, targs):\n",
    "    labels = []\n",
    "    all_pos_scores, all_neg_scores = inps[0], inps[1]\n",
    "\n",
    "    for i in range(len(all_pos_scores)):\n",
    "        if all_pos_scores[i] > all_neg_scores[i]:\n",
    "            labels.append(1)\n",
    "        else:\n",
    "            labels.append(0)\n",
    "\n",
    "    return sum(labels) / float(len(all_pos_scores))\n",
    "\n",
    "\n",
    "_topic_seg_f1_score = AvgMetric(topic_seg_f1_score)"
   ]
  },
  {
   "cell_type": "code",
   "execution_count": null,
   "metadata": {},
   "outputs": [],
   "source": [
    "# | export\n",
    "class TopicSegmentationModelWrapper(BaseModelWrapper):\n",
    "    def __init__(\n",
    "        self,\n",
    "        hf_config,\n",
    "        hf_model,\n",
    "        dropout_cls=nn.Dropout,\n",
    "        p=0.1,\n",
    "        hf_model_kwargs={},\n",
    "    ):\n",
    "        super().__init__(hf_model=hf_model, output_hidden_states=True, hf_model_kwargs=hf_model_kwargs)\n",
    "        store_attr()\n",
    "\n",
    "        self.coherence_prediction_dec = nn.Sequential(\n",
    "            *[\n",
    "                nn.Linear(hf_config.hidden_size, hf_config.hidden_size),\n",
    "                nn.ReLU(),\n",
    "                dropout_cls(p=p),\n",
    "                nn.Linear(hf_config.hidden_size, 2),\n",
    "            ]\n",
    "        )\n",
    "\n",
    "    def forward(self, inputs1, inputs2):\n",
    "        # sequence 1 (pos examples)\n",
    "        inputs1_res = super().forward(inputs1)\n",
    "        pos_scores = inputs1_res.hidden_states[-1][:, 0, :]\n",
    "        pos_scores = self.coherence_prediction_dec(pos_scores)\n",
    "\n",
    "        # sequence 2 (neg examples)\n",
    "        inputs2_res = super().forward(inputs2)\n",
    "        neg_scores = inputs2_res.hidden_states[-1][:, 0, :]\n",
    "        neg_scores = self.coherence_prediction_dec(neg_scores)\n",
    "\n",
    "        return pos_scores[:, 0], neg_scores[:, 0]"
   ]
  },
  {
   "cell_type": "markdown",
   "metadata": {},
   "source": [
    "## `Learner`"
   ]
  },
  {
   "cell_type": "code",
   "execution_count": null,
   "metadata": {},
   "outputs": [],
   "source": [
    "# | export\n",
    "def _get_learner(cfg: TopicSegmentationConfig, dls, hf_config, hf_model, learner_path=\".\"):\n",
    "\n",
    "    if cfg.random_seed and not cfg.only_seed_splits:\n",
    "        set_seed(cfg.random_seed)\n",
    "\n",
    "    learn_cbs = []\n",
    "    if cfg.accum is not None:\n",
    "        learn_cbs.append(GradientAccumulation(cfg.batch_size))\n",
    "\n",
    "    blurr_model_wrapper = TopicSegmentationModelWrapper(\n",
    "        hf_config=hf_config, hf_model=hf_model, **cfg.custom_model_kwargs\n",
    "    )\n",
    "\n",
    "    learn = Learner(\n",
    "        dls,\n",
    "        blurr_model_wrapper,\n",
    "        model_dir=learner_path,\n",
    "        opt_func=partial(Adam, sqr_mom=cfg.adam_beta2, eps=cfg.adam_eps, wd=cfg.weight_decay),\n",
    "        moms=(cfg.one_cycle_moms_start, cfg.one_cycle_moms_min, cfg.one_cycle_moms_end),\n",
    "        loss_func=PreCalculatedCrossEntropyLoss() if cfg.include_labels else MarginRankingLoss,\n",
    "        metrics=[topic_seg_f1_score],\n",
    "        cbs=learn_cbs,\n",
    "        splitter=blurr_splitter_on_backbone,\n",
    "    )\n",
    "\n",
    "    learn.create_opt()\n",
    "    learn.freeze()\n",
    "\n",
    "    if cfg.use_fp16:\n",
    "        learn = learn.to_fp16()\n",
    "\n",
    "    return learn"
   ]
  },
  {
   "cell_type": "code",
   "execution_count": null,
   "metadata": {},
   "outputs": [],
   "source": [
    "learn = _get_learner(cfg=ExampleCFG, dls=dls, hf_config=hf_config, hf_model=hf_model, learner_path=\"../models\")\n",
    "\n",
    "fit_cbs = []\n",
    "if ExampleCFG.max_grad_norm:\n",
    "    fit_cbs.append(GradientClip(max_norm=ExampleCFG.max_grad_norm))\n",
    "\n",
    "if ExampleCFG.include_gradient_checkpointing:\n",
    "    fit_cbs.append(GradientCheckpointing())\n",
    "\n",
    "if ExampleCFG.save_best_model:\n",
    "    fit_cbs.append(\n",
    "        SaveModelCallback(\n",
    "            monitor=\"valid_loss\",\n",
    "            comp=np.less,\n",
    "            fname=f\"temp_best_f1_topic_segmentation\",\n",
    "            reset_on_fit=False,\n",
    "        )\n",
    "    )"
   ]
  },
  {
   "cell_type": "code",
   "execution_count": null,
   "metadata": {},
   "outputs": [
    {
     "name": "stdout",
     "output_type": "stream",
     "text": [
      "2\n"
     ]
    }
   ],
   "source": [
    "print(len(learn.opt.param_groups))"
   ]
  },
  {
   "cell_type": "code",
   "execution_count": null,
   "metadata": {},
   "outputs": [],
   "source": [
    "# learn.unfreeze()\n",
    "# learn.summary()"
   ]
  },
  {
   "cell_type": "code",
   "execution_count": null,
   "metadata": {},
   "outputs": [
    {
     "data": {
      "text/html": [
       "\n",
       "<style>\n",
       "    /* Turns off some styling */\n",
       "    progress {\n",
       "        /* gets rid of default border in Firefox and Opera. */\n",
       "        border: none;\n",
       "        /* Needs to be in here for Safari polyfill so background images work as expected. */\n",
       "        background-size: auto;\n",
       "    }\n",
       "    progress:not([value]), progress:not([value])::-webkit-progress-bar {\n",
       "        background: repeating-linear-gradient(45deg, #7e7e7e, #7e7e7e 10px, #5c5c5c 10px, #5c5c5c 20px);\n",
       "    }\n",
       "    .progress-bar-interrupted, .progress-bar-interrupted::-webkit-progress-bar {\n",
       "        background: #F44336;\n",
       "    }\n",
       "</style>\n"
      ],
      "text/plain": [
       "<IPython.core.display.HTML object>"
      ]
     },
     "metadata": {},
     "output_type": "display_data"
    },
    {
     "data": {
      "text/html": [],
      "text/plain": [
       "<IPython.core.display.HTML object>"
      ]
     },
     "metadata": {},
     "output_type": "display_data"
    },
    {
     "data": {
      "text/plain": [
       "SuggestedLRs(minimum=1.0964781722577755e-07, steep=0.005248074419796467, valley=0.00013182566908653826, slide=0.0014454397605732083)"
      ]
     },
     "execution_count": null,
     "metadata": {},
     "output_type": "execute_result"
    },
    {
     "data": {
      "image/png": "[encoded data removed]",
      "text/plain": [
       "<Figure size 640x480 with 1 Axes>"
      ]
     },
     "metadata": {},
     "output_type": "display_data"
    }
   ],
   "source": [
    "learn.unfreeze()\n",
    "learn.lr_find(suggest_funcs=[minimum, steep, valley, slide])"
   ]
  },
  {
   "cell_type": "code",
   "execution_count": null,
   "metadata": {},
   "outputs": [
    {
     "data": {
      "text/html": [
       "\n",
       "<style>\n",
       "    /* Turns off some styling */\n",
       "    progress {\n",
       "        /* gets rid of default border in Firefox and Opera. */\n",
       "        border: none;\n",
       "        /* Needs to be in here for Safari polyfill so background images work as expected. */\n",
       "        background-size: auto;\n",
       "    }\n",
       "    progress:not([value]), progress:not([value])::-webkit-progress-bar {\n",
       "        background: repeating-linear-gradient(45deg, #7e7e7e, #7e7e7e 10px, #5c5c5c 10px, #5c5c5c 20px);\n",
       "    }\n",
       "    .progress-bar-interrupted, .progress-bar-interrupted::-webkit-progress-bar {\n",
       "        background: #F44336;\n",
       "    }\n",
       "</style>\n"
      ],
      "text/plain": [
       "<IPython.core.display.HTML object>"
      ]
     },
     "metadata": {},
     "output_type": "display_data"
    },
    {
     "data": {
      "text/html": [
       "<table border=\"1\" class=\"dataframe\">\n",
       "  <thead>\n",
       "    <tr style=\"text-align: left;\">\n",
       "      <th>epoch</th>\n",
       "      <th>train_loss</th>\n",
       "      <th>valid_loss</th>\n",
       "      <th>topic_seg_f1_score</th>\n",
       "      <th>time</th>\n",
       "    </tr>\n",
       "  </thead>\n",
       "  <tbody>\n",
       "    <tr>\n",
       "      <td>0</td>\n",
       "      <td>0.450055</td>\n",
       "      <td>0.631638</td>\n",
       "      <td>0.744033</td>\n",
       "      <td>01:25</td>\n",
       "    </tr>\n",
       "  </tbody>\n",
       "</table>"
      ],
      "text/plain": [
       "<IPython.core.display.HTML object>"
      ]
     },
     "metadata": {},
     "output_type": "display_data"
    },
    {
     "name": "stdout",
     "output_type": "stream",
     "text": [
      "Better model found at epoch 0 with valid_loss value: 0.6316375732421875.\n"
     ]
    }
   ],
   "source": [
    "if ExampleCFG.random_seed:\n",
    "    set_seed(ExampleCFG.random_seed)\n",
    "\n",
    "learn.fit_one_cycle(1, slice(1e-5, 1e-3), cbs=fit_cbs)"
   ]
  },
  {
   "cell_type": "code",
   "execution_count": null,
   "metadata": {},
   "outputs": [
    {
     "data": {
      "text/plain": [
       "['accum: None',\n",
       " 'adam_beta2: 0.99',\n",
       " 'adam_eps: 1e-07',\n",
       " 'batch_size: 8',\n",
       " \"custom_model_kwargs: {'p': 0.1, 'dropout_cls': <class 'torch.nn.modules.dropout.Dropout'>}\"]"
      ]
     },
     "execution_count": null,
     "metadata": {},
     "output_type": "execute_result"
    }
   ],
   "source": [
    "[f\"{k}: {v}\" for k, v in training.get_train_config_props(ExampleCFG).items()][:5]"
   ]
  },
  {
   "cell_type": "code",
   "execution_count": null,
   "metadata": {},
   "outputs": [
    {
     "data": {
      "image/png": "[encoded data removed]",
      "text/plain": [
       "<Figure size 640x480 with 1 Axes>"
      ]
     },
     "metadata": {},
     "output_type": "display_data"
    }
   ],
   "source": [
    "learn.recorder.plot_loss()"
   ]
  },
  {
   "cell_type": "code",
   "execution_count": null,
   "metadata": {},
   "outputs": [
    {
     "data": {
      "text/plain": [
       "((#5) ['epoch','train_loss','valid_loss','topic_seg_f1_score','time'],\n",
       " [(#3) [0.45005515217781067,0.6316375732421875,0.7440329218106996]])"
      ]
     },
     "execution_count": null,
     "metadata": {},
     "output_type": "execute_result"
    }
   ],
   "source": [
    "learn.recorder.metric_names, learn.recorder.values"
   ]
  },
  {
   "cell_type": "code",
   "execution_count": null,
   "metadata": {},
   "outputs": [],
   "source": [
    "learn.export(\"../models/test_topic_segmentation.pkl\")"
   ]
  },
  {
   "cell_type": "markdown",
   "metadata": {},
   "source": [
    "## Validation"
   ]
  },
  {
   "cell_type": "code",
   "execution_count": null,
   "metadata": {},
   "outputs": [],
   "source": [
    "# | export\n",
    "def depth_score_cal(scores):\n",
    "    output_scores = []\n",
    "    for i in range(len(scores)):\n",
    "        lflag = scores[i]\n",
    "        rflag = scores[i]\n",
    "        if i == 0:\n",
    "            hl = scores[i]\n",
    "            for r in range(i + 1, len(scores)):\n",
    "                if rflag <= scores[r]:\n",
    "                    rflag = scores[r]\n",
    "                else:\n",
    "                    break\n",
    "        elif i == len(scores):\n",
    "            hr = scores[i]\n",
    "            for l in range(i - 1, -1, -1):\n",
    "                if lflag <= scores[l]:\n",
    "                    lflag = scores[l]\n",
    "                else:\n",
    "                    break\n",
    "        else:\n",
    "            for r in range(i + 1, len(scores)):\n",
    "                if rflag <= scores[r]:\n",
    "                    rflag = scores[r]\n",
    "                else:\n",
    "                    break\n",
    "            for l in range(i - 1, -1, -1):\n",
    "                if lflag <= scores[l]:\n",
    "                    lflag = scores[l]\n",
    "                else:\n",
    "                    break\n",
    "        depth_score = 0.5 * (lflag + rflag - 2 * scores[i])\n",
    "        output_scores.append(depth_score)\n",
    "\n",
    "    return output_scores"
   ]
  },
  {
   "cell_type": "code",
   "execution_count": null,
   "metadata": {},
   "outputs": [],
   "source": [
    "# | export\n",
    "def _get_validation_preds(\n",
    "    hf_model, hf_tokenizer, val_df, val_course_titles, batch_size=16, threshold_std_coeff=1.0, verbose=False\n",
    "):\n",
    "    hf_model.eval()\n",
    "\n",
    "    if verbose:\n",
    "        print(f\"Getting predictions for validatation set ...\")\n",
    "\n",
    "    val_results = []\n",
    "    for ct in val_course_titles:\n",
    "        for ln in val_df[val_df[\"course_title\"] == ct][\"lesson_num\"].unique().tolist():\n",
    "            inf_df = raw_train_df[(raw_train_df[\"course_title\"] == ct) & (raw_train_df[\"lesson_num\"] == ln)].copy()\n",
    "            inf_df.reset_index(inplace=True)\n",
    "\n",
    "            if verbose:\n",
    "                print(f\"processing {ct}: {ln}\")\n",
    "\n",
    "            # gather sequence pairs\n",
    "            seq_pairs = L()\n",
    "            for i in range(len(inf_df) - 1):\n",
    "                seq_a = inf_df.iloc[i][\"seq\"].strip().lower()\n",
    "                seq_b = inf_df.iloc[i + 1][\"seq\"].strip().lower()\n",
    "\n",
    "                seq_pairs.append((seq_a, seq_b))\n",
    "\n",
    "            # score sequence pairs\n",
    "            scores = []\n",
    "            for i in range(0, len(seq_pairs), batch_size):\n",
    "                # print(i)\n",
    "                batch = seq_pairs[i : i + batch_size]\n",
    "                inputs = hf_tokenizer(\n",
    "                    list(batch.itemgot(0)), list(batch.itemgot(1)), padding=True, max_length=True, return_tensors=\"pt\"\n",
    "                ).to(hf_model.device)\n",
    "\n",
    "                batch_scores = hf_model(**inputs)\n",
    "                scores += batch_scores[0][:, 0].detach().cpu()[:, None]\n",
    "\n",
    "            scores = torch.sigmoid(torch.concat(scores)).numpy().tolist()\n",
    "\n",
    "            # calculate depth_scores\n",
    "            depth_scores = depth_score_cal(scores)\n",
    "            threshold = sum(depth_scores) / (len(depth_scores)) + (statistics.stdev(depth_scores) * threshold_std_coeff)\n",
    "\n",
    "            # calculate reference (target) topics and count of sequences in each\n",
    "            # seg_r_labels = reference beginning of new topic\n",
    "            # seg_r = # of sequences in each reference topic\n",
    "            seg_r_labels = []\n",
    "            seg_r = []\n",
    "            tmp = 1\n",
    "\n",
    "            for r_idx, r in inf_df.iterrows():\n",
    "                current_topic = r[\"topic\"]\n",
    "                if r_idx == 0:\n",
    "                    last_seen_topic = r[\"topic\"]\n",
    "\n",
    "                if last_seen_topic != current_topic:\n",
    "                    last_seen_topic = current_topic\n",
    "                    seg_r_labels.append(1)\n",
    "                    seg_r.append(tmp)\n",
    "                    tmp = 1\n",
    "                else:\n",
    "                    seg_r_labels.append(0)\n",
    "                    tmp += 1 if r_idx != 0 else 0\n",
    "\n",
    "            seg_r.append(tmp)\n",
    "\n",
    "            # seg_p_labels = predicted beginning of new topic\n",
    "            # seg_p = # of sequences in each predicted topic\n",
    "\n",
    "            # we add 1 in here to compensate for lopping off the last sequence (which we do cuz it has no next_seq to pair with)\n",
    "            # default everything to 0\n",
    "            seg_p_labels = [0] * (len(depth_scores) + 1)\n",
    "\n",
    "            # loop thru `depth_scores`, if any > threshold mark them as a boundary (beginning of a new topic) and then update `seg_p_labels`\n",
    "            boundary_idxs = []\n",
    "            for i in range(len(depth_scores)):\n",
    "                if depth_scores[i] > threshold:\n",
    "                    boundary_idxs.append(i)\n",
    "\n",
    "            for i in boundary_idxs:\n",
    "                seg_p_labels[i] = 1\n",
    "\n",
    "            tmp = 0\n",
    "            seg_p = []\n",
    "            for idx, is_beg_topic in enumerate(seg_p_labels):\n",
    "                if is_beg_topic == 1 and idx != 0:\n",
    "                    # tmp += 1\n",
    "                    seg_p.append(tmp)\n",
    "                    tmp = 1\n",
    "                else:\n",
    "                    tmp += 1\n",
    "\n",
    "            seg_p.append(tmp)\n",
    "\n",
    "            seg_idxs = [seg_idx for seg_idx, v in enumerate(seg_p_labels) if v == 1 or seg_idx == 0]\n",
    "            inf_df[\"depth_score\"] = depth_scores + [None]\n",
    "            inf_df[\"threshold\"] = threshold\n",
    "            inf_df[\"pred_start\"] = False\n",
    "            inf_df.loc[seg_idxs, \"pred_start\"] = True\n",
    "\n",
    "            val_results.append(inf_df)\n",
    "\n",
    "    return pd.concat(val_results)"
   ]
  },
  {
   "cell_type": "code",
   "execution_count": null,
   "metadata": {},
   "outputs": [
    {
     "name": "stdout",
     "output_type": "stream",
     "text": [
      "4628\n"
     ]
    },
    {
     "data": {
      "text/html": [
       "<div>\n",
       "<style scoped>\n",
       "    .dataframe tbody tr th:only-of-type {\n",
       "        vertical-align: middle;\n",
       "    }\n",
       "\n",
       "    .dataframe tbody tr th {\n",
       "        vertical-align: top;\n",
       "    }\n",
       "\n",
       "    .dataframe thead th {\n",
       "        text-align: right;\n",
       "    }\n",
       "</style>\n",
       "<table border=\"1\" class=\"dataframe\">\n",
       "  <thead>\n",
       "    <tr style=\"text-align: right;\">\n",
       "      <th></th>\n",
       "      <th>level_0</th>\n",
       "      <th>index</th>\n",
       "      <th>course_title</th>\n",
       "      <th>lesson_num</th>\n",
       "      <th>topic</th>\n",
       "      <th>seq</th>\n",
       "      <th>prev_seq</th>\n",
       "      <th>next_seq</th>\n",
       "      <th>is_topic_end</th>\n",
       "      <th>next_topic_begin_seq</th>\n",
       "      <th>other_topic_seqs</th>\n",
       "      <th>depth_score</th>\n",
       "      <th>threshold</th>\n",
       "      <th>pred_start</th>\n",
       "    </tr>\n",
       "  </thead>\n",
       "  <tbody>\n",
       "    <tr>\n",
       "      <th>0</th>\n",
       "      <td>19012</td>\n",
       "      <td>19012</td>\n",
       "      <td>markowskyart - begginer drawing course</td>\n",
       "      <td>1</td>\n",
       "      <td>Introduction</td>\n",
       "      <td>okay here we are welcome everybody wherever you are here on planet Earth</td>\n",
       "      <td>xxBEGIN_TOPICxx</td>\n",
       "      <td>I'm welcoming you into my studio here in Vancouver British Columbia Canada my</td>\n",
       "      <td>False</td>\n",
       "      <td>NaN</td>\n",
       "      <td>[name is Michael Markowski and I'm gonna be your drawing instructor for the next, hour or month depending on how many classes you decide to watch so it's, really exciting that there's I see 50 people who are watching right now which is really exciting to have a nice big, audience worth of people and I don't know how many comments have been pouring in here I was looking at a few of those, right started and people from a lot of people from British Columbia and it's great also to see a bunch of people who, have taken classes with me in the past so I guess that might mean I'm possibly, have do...</td>\n",
       "      <td>0.002908</td>\n",
       "      <td>0.003428</td>\n",
       "      <td>True</td>\n",
       "    </tr>\n",
       "    <tr>\n",
       "      <th>1</th>\n",
       "      <td>19013</td>\n",
       "      <td>19013</td>\n",
       "      <td>markowskyart - begginer drawing course</td>\n",
       "      <td>1</td>\n",
       "      <td>Introduction</td>\n",
       "      <td>I'm welcoming you into my studio here in Vancouver British Columbia Canada my</td>\n",
       "      <td>okay here we are welcome everybody wherever you are here on planet Earth</td>\n",
       "      <td>name is Michael Markowski and I'm gonna be your drawing instructor for the next</td>\n",
       "      <td>False</td>\n",
       "      <td>NaN</td>\n",
       "      <td>[okay here we are welcome everybody wherever you are here on planet Earth, hour or month depending on how many classes you decide to watch so it's, really exciting that there's I see 50 people who are watching right now which is really exciting to have a nice big, audience worth of people and I don't know how many comments have been pouring in here I was looking at a few of those, right started and people from a lot of people from British Columbia and it's great also to see a bunch of people who, have taken classes with me in the past so I guess that might mean I'm possibly, have done some...</td>\n",
       "      <td>0.002847</td>\n",
       "      <td>0.003428</td>\n",
       "      <td>False</td>\n",
       "    </tr>\n",
       "    <tr>\n",
       "      <th>2</th>\n",
       "      <td>19014</td>\n",
       "      <td>19014</td>\n",
       "      <td>markowskyart - begginer drawing course</td>\n",
       "      <td>1</td>\n",
       "      <td>Introduction</td>\n",
       "      <td>name is Michael Markowski and I'm gonna be your drawing instructor for the next</td>\n",
       "      <td>I'm welcoming you into my studio here in Vancouver British Columbia Canada my</td>\n",
       "      <td>hour or month depending on how many classes you decide to watch so it's</td>\n",
       "      <td>False</td>\n",
       "      <td>NaN</td>\n",
       "      <td>[okay here we are welcome everybody wherever you are here on planet Earth, I'm welcoming you into my studio here in Vancouver British Columbia Canada my, really exciting that there's I see 50 people who are watching right now which is really exciting to have a nice big, audience worth of people and I don't know how many comments have been pouring in here I was looking at a few of those, right started and people from a lot of people from British Columbia and it's great also to see a bunch of people who, have taken classes with me in the past so I guess that might mean I'm possibly, have don...</td>\n",
       "      <td>0.001542</td>\n",
       "      <td>0.003428</td>\n",
       "      <td>False</td>\n",
       "    </tr>\n",
       "    <tr>\n",
       "      <th>3</th>\n",
       "      <td>19015</td>\n",
       "      <td>19015</td>\n",
       "      <td>markowskyart - begginer drawing course</td>\n",
       "      <td>1</td>\n",
       "      <td>Introduction</td>\n",
       "      <td>hour or month depending on how many classes you decide to watch so it's</td>\n",
       "      <td>name is Michael Markowski and I'm gonna be your drawing instructor for the next</td>\n",
       "      <td>really exciting that there's I see 50 people who are watching right now which is really exciting to have a nice big</td>\n",
       "      <td>False</td>\n",
       "      <td>NaN</td>\n",
       "      <td>[okay here we are welcome everybody wherever you are here on planet Earth, I'm welcoming you into my studio here in Vancouver British Columbia Canada my, name is Michael Markowski and I'm gonna be your drawing instructor for the next, audience worth of people and I don't know how many comments have been pouring in here I was looking at a few of those, right started and people from a lot of people from British Columbia and it's great also to see a bunch of people who, have taken classes with me in the past so I guess that might mean I'm possibly, have done something right in the past and pe...</td>\n",
       "      <td>0.000000</td>\n",
       "      <td>0.003428</td>\n",
       "      <td>False</td>\n",
       "    </tr>\n",
       "    <tr>\n",
       "      <th>4</th>\n",
       "      <td>19016</td>\n",
       "      <td>19016</td>\n",
       "      <td>markowskyart - begginer drawing course</td>\n",
       "      <td>1</td>\n",
       "      <td>Introduction</td>\n",
       "      <td>really exciting that there's I see 50 people who are watching right now which is really exciting to have a nice big</td>\n",
       "      <td>hour or month depending on how many classes you decide to watch so it's</td>\n",
       "      <td>audience worth of people and I don't know how many comments have been pouring in here I was looking at a few of those</td>\n",
       "      <td>False</td>\n",
       "      <td>NaN</td>\n",
       "      <td>[okay here we are welcome everybody wherever you are here on planet Earth, I'm welcoming you into my studio here in Vancouver British Columbia Canada my, name is Michael Markowski and I'm gonna be your drawing instructor for the next, hour or month depending on how many classes you decide to watch so it's, right started and people from a lot of people from British Columbia and it's great also to see a bunch of people who, have taken classes with me in the past so I guess that might mean I'm possibly, have done something right in the past and people who've taken my photography, classes and ...</td>\n",
       "      <td>0.004443</td>\n",
       "      <td>0.003428</td>\n",
       "      <td>True</td>\n",
       "    </tr>\n",
       "  </tbody>\n",
       "</table>\n",
       "</div>"
      ],
      "text/plain": [
       "   level_0  index                            course_title lesson_num  \\\n",
       "0    19012  19012  markowskyart - begginer drawing course          1   \n",
       "1    19013  19013  markowskyart - begginer drawing course          1   \n",
       "2    19014  19014  markowskyart - begginer drawing course          1   \n",
       "3    19015  19015  markowskyart - begginer drawing course          1   \n",
       "4    19016  19016  markowskyart - begginer drawing course          1   \n",
       "\n",
       "          topic  \\\n",
       "0  Introduction   \n",
       "1  Introduction   \n",
       "2  Introduction   \n",
       "3  Introduction   \n",
       "4  Introduction   \n",
       "\n",
       "                                                                                                                   seq  \\\n",
       "0                                             okay here we are welcome everybody wherever you are here on planet Earth   \n",
       "1                                        I'm welcoming you into my studio here in Vancouver British Columbia Canada my   \n",
       "2                                      name is Michael Markowski and I'm gonna be your drawing instructor for the next   \n",
       "3                                              hour or month depending on how many classes you decide to watch so it's   \n",
       "4  really exciting that there's I see 50 people who are watching right now which is really exciting to have a nice big   \n",
       "\n",
       "                                                                          prev_seq  \\\n",
       "0                                                                  xxBEGIN_TOPICxx   \n",
       "1         okay here we are welcome everybody wherever you are here on planet Earth   \n",
       "2    I'm welcoming you into my studio here in Vancouver British Columbia Canada my   \n",
       "3  name is Michael Markowski and I'm gonna be your drawing instructor for the next   \n",
       "4          hour or month depending on how many classes you decide to watch so it's   \n",
       "\n",
       "                                                                                                                next_seq  \\\n",
       "0                                          I'm welcoming you into my studio here in Vancouver British Columbia Canada my   \n",
       "1                                        name is Michael Markowski and I'm gonna be your drawing instructor for the next   \n",
       "2                                                hour or month depending on how many classes you decide to watch so it's   \n",
       "3    really exciting that there's I see 50 people who are watching right now which is really exciting to have a nice big   \n",
       "4  audience worth of people and I don't know how many comments have been pouring in here I was looking at a few of those   \n",
       "\n",
       "   is_topic_end next_topic_begin_seq  \\\n",
       "0         False                  NaN   \n",
       "1         False                  NaN   \n",
       "2         False                  NaN   \n",
       "3         False                  NaN   \n",
       "4         False                  NaN   \n",
       "\n",
       "                                                                                                                                                                                                                                                                                                                                                                                                                                                                                                                                                                                                          other_topic_seqs  \\\n",
       "0  [name is Michael Markowski and I'm gonna be your drawing instructor for the next, hour or month depending on how many classes you decide to watch so it's, really exciting that there's I see 50 people who are watching right now which is really exciting to have a nice big, audience worth of people and I don't know how many comments have been pouring in here I was looking at a few of those, right started and people from a lot of people from British Columbia and it's great also to see a bunch of people who, have taken classes with me in the past so I guess that might mean I'm possibly, have do...   \n",
       "1  [okay here we are welcome everybody wherever you are here on planet Earth, hour or month depending on how many classes you decide to watch so it's, really exciting that there's I see 50 people who are watching right now which is really exciting to have a nice big, audience worth of people and I don't know how many comments have been pouring in here I was looking at a few of those, right started and people from a lot of people from British Columbia and it's great also to see a bunch of people who, have taken classes with me in the past so I guess that might mean I'm possibly, have done some...   \n",
       "2  [okay here we are welcome everybody wherever you are here on planet Earth, I'm welcoming you into my studio here in Vancouver British Columbia Canada my, really exciting that there's I see 50 people who are watching right now which is really exciting to have a nice big, audience worth of people and I don't know how many comments have been pouring in here I was looking at a few of those, right started and people from a lot of people from British Columbia and it's great also to see a bunch of people who, have taken classes with me in the past so I guess that might mean I'm possibly, have don...   \n",
       "3  [okay here we are welcome everybody wherever you are here on planet Earth, I'm welcoming you into my studio here in Vancouver British Columbia Canada my, name is Michael Markowski and I'm gonna be your drawing instructor for the next, audience worth of people and I don't know how many comments have been pouring in here I was looking at a few of those, right started and people from a lot of people from British Columbia and it's great also to see a bunch of people who, have taken classes with me in the past so I guess that might mean I'm possibly, have done something right in the past and pe...   \n",
       "4  [okay here we are welcome everybody wherever you are here on planet Earth, I'm welcoming you into my studio here in Vancouver British Columbia Canada my, name is Michael Markowski and I'm gonna be your drawing instructor for the next, hour or month depending on how many classes you decide to watch so it's, right started and people from a lot of people from British Columbia and it's great also to see a bunch of people who, have taken classes with me in the past so I guess that might mean I'm possibly, have done something right in the past and people who've taken my photography, classes and ...   \n",
       "\n",
       "   depth_score  threshold  pred_start  \n",
       "0     0.002908   0.003428        True  \n",
       "1     0.002847   0.003428       False  \n",
       "2     0.001542   0.003428       False  \n",
       "3     0.000000   0.003428       False  \n",
       "4     0.004443   0.003428        True  "
      ]
     },
     "execution_count": null,
     "metadata": {},
     "output_type": "execute_result"
    }
   ],
   "source": [
    "val_course_titles = train_df.iloc[val_idxs][\"course_title\"].unique().tolist()\n",
    "preds_df = _get_validation_preds(\n",
    "    hf_model,\n",
    "    hf_tokenizer,\n",
    "    raw_train_df,\n",
    "    val_course_titles[:2],\n",
    "    batch_size=16,\n",
    "    threshold_std_coeff=1.0,\n",
    ")\n",
    "\n",
    "print(len(preds_df))\n",
    "preds_df.head()"
   ]
  },
  {
   "cell_type": "markdown",
   "metadata": {},
   "source": [
    "## Inference"
   ]
  },
  {
   "cell_type": "code",
   "execution_count": null,
   "metadata": {},
   "outputs": [],
   "source": [
    "# | export\n",
    "def _get_preds(inf_learner, data, threshold_std_coeff=1.5):\n",
    "    batch_tok_transform = first_blurr_tfm(inf_learner.dls)\n",
    "    batch_size = inf_learner.dls.bs\n",
    "\n",
    "    inf_hf_model = inf_learner.model.hf_model.eval()\n",
    "    inf_hf_tokenizer = batch_tok_transform.hf_tokenizer\n",
    "\n",
    "    # build seq + next_seq pairs\n",
    "    seq_pairs = L()\n",
    "    for i in range(len(data) - 1):\n",
    "        seq_a = data.iloc[i][\"transcript\"].strip().lower()\n",
    "        seq_b = data.iloc[i + 1][\"transcript\"].strip().lower()\n",
    "\n",
    "        seq_pairs.append((seq_a, seq_b))\n",
    "\n",
    "    # get predictions from just the HF model for the `seq_pairs` above\n",
    "    scores = []\n",
    "    for i in range(0, len(seq_pairs), batch_size):\n",
    "        # print(i)\n",
    "        batch = seq_pairs[i : i + batch_size]\n",
    "        inputs = inf_hf_tokenizer(\n",
    "            list(batch.itemgot(0)), list(batch.itemgot(1)), padding=True, max_length=True, return_tensors=\"pt\"\n",
    "        ).to(inf_hf_model.device)\n",
    "\n",
    "        batch_scores = inf_learner.model.hf_model(**inputs)\n",
    "        scores += batch_scores[0][:, 0].detach().cpu()[:, None]\n",
    "\n",
    "    # take the sigmoid so range is between 0 and 1 for each value\n",
    "    scores = torch.sigmoid(torch.concat(scores)).numpy().tolist()\n",
    "\n",
    "    depth_scores = depth_score_cal(scores)\n",
    "\n",
    "    # `threshold_std_coeff` defines a `threshold` based on `depth_score` where any sequence pair with a score > threshold will be\n",
    "    # predicted as a start of a new topic (The paper/code does this differently but the results are abysmal. The std coefficient\n",
    "    # should be tuned to optimize for F1, F2, or whatever\n",
    "    threshold = sum(depth_scores) / (len(depth_scores)) + (statistics.stdev(depth_scores) * threshold_std_coeff)\n",
    "\n",
    "    # get predicted topic starts\n",
    "    # seg_p_labels = predicted beginning of new topic | seg_p = # of sequences in each predicted topic\n",
    "\n",
    "    # we add 1 in here to compensate for lopping off the last sequence (which we do cuz it has no next_seq to pair with)\n",
    "    # default everything to 0\n",
    "    seg_p_labels = [0] * (len(depth_scores) + 1)\n",
    "\n",
    "    # loop thru `depth_scores`, if any > threshold mark them as a boundary (beginning of a new topic) and then update `seg_p_labels`\n",
    "    boundary_idxs = []\n",
    "    for i in range(len(depth_scores)):\n",
    "        if depth_scores[i] > threshold:\n",
    "            boundary_idxs.append(i)\n",
    "\n",
    "    for i in boundary_idxs:\n",
    "        seg_p_labels[i] = 1\n",
    "\n",
    "    tmp = 0\n",
    "    seg_p = []\n",
    "    for idx, is_beg_topic in enumerate(seg_p_labels):\n",
    "        if is_beg_topic == 1 and idx != 0:\n",
    "            # tmp += 1\n",
    "            seg_p.append(tmp)\n",
    "            tmp = 1\n",
    "        else:\n",
    "            tmp += 1\n",
    "\n",
    "    seg_p.append(tmp)\n",
    "\n",
    "    # update inference dataset with depth_score for each row as well as the threshold used and whether it is start of a topic\n",
    "    seg_idxs = [seg_idx for seg_idx, v in enumerate(seg_p_labels) if v == 1 or seg_idx == 0]\n",
    "    data[\"depth_score\"] = depth_scores + [None]\n",
    "    data[\"threshold\"] = threshold\n",
    "    data[\"pred_start\"] = False\n",
    "    data.loc[seg_idxs, \"pred_start\"] = True\n",
    "\n",
    "    # return the updated inference dataset and the topic start indices\n",
    "    return data, seg_idxs"
   ]
  },
  {
   "cell_type": "code",
   "execution_count": null,
   "metadata": {},
   "outputs": [
    {
     "name": "stdout",
     "output_type": "stream",
     "text": [
      "709\n"
     ]
    },
    {
     "data": {
      "text/html": [
       "<div>\n",
       "<style scoped>\n",
       "    .dataframe tbody tr th:only-of-type {\n",
       "        vertical-align: middle;\n",
       "    }\n",
       "\n",
       "    .dataframe tbody tr th {\n",
       "        vertical-align: top;\n",
       "    }\n",
       "\n",
       "    .dataframe thead th {\n",
       "        text-align: right;\n",
       "    }\n",
       "</style>\n",
       "<table border=\"1\" class=\"dataframe\">\n",
       "  <thead>\n",
       "    <tr style=\"text-align: right;\">\n",
       "      <th></th>\n",
       "      <th>index</th>\n",
       "      <th>course_title</th>\n",
       "      <th>lesson_num</th>\n",
       "      <th>topic</th>\n",
       "      <th>seq</th>\n",
       "      <th>prev_seq</th>\n",
       "      <th>next_seq</th>\n",
       "      <th>is_topic_end</th>\n",
       "      <th>next_topic_begin_seq</th>\n",
       "      <th>other_topic_seqs</th>\n",
       "      <th>transcript</th>\n",
       "    </tr>\n",
       "  </thead>\n",
       "  <tbody>\n",
       "    <tr>\n",
       "      <th>0</th>\n",
       "      <td>15307</td>\n",
       "      <td>fast.ai 2022 - Part 1</td>\n",
       "      <td>4</td>\n",
       "      <td>Using Huggingface</td>\n",
       "      <td>Hi everybody, and welcome to Practical Deep Learning for Coders Lesson Four, which I think</td>\n",
       "      <td>xxBEGIN_TOPICxx</td>\n",
       "      <td>is the lesson that a lot of the regulars in the community have been most excited about,</td>\n",
       "      <td>False</td>\n",
       "      <td>NaN</td>\n",
       "      <td>[\"because it's where we're gonna get some totally new material — totally new topic, we've\", \"never covered before. We're going to cover natural language processing (NLP), and you'll\", \"find there, there is indeed a chapter about that in the book, but we're going to do it in a totally different way to how it's done in the book. In the book we do NLP using the\", 'fast.ai library, using recurrent neural networks (RNNs).', \"Today we're going to do something else, which is we're going to do Transformers, and we're\", \"not even going to use the fast.ai library at all in fact. So, what we're going...</td>\n",
       "      <td>Hi everybody, and welcome to Practical Deep Learning for Coders Lesson Four, which I think</td>\n",
       "    </tr>\n",
       "    <tr>\n",
       "      <th>1</th>\n",
       "      <td>15308</td>\n",
       "      <td>fast.ai 2022 - Part 1</td>\n",
       "      <td>4</td>\n",
       "      <td>Using Huggingface</td>\n",
       "      <td>is the lesson that a lot of the regulars in the community have been most excited about,</td>\n",
       "      <td>Hi everybody, and welcome to Practical Deep Learning for Coders Lesson Four, which I think</td>\n",
       "      <td>because it's where we're gonna get some totally new material — totally new topic, we've</td>\n",
       "      <td>False</td>\n",
       "      <td>NaN</td>\n",
       "      <td>['Hi everybody, and welcome to Practical Deep Learning for Coders Lesson Four, which I think', \"never covered before. We're going to cover natural language processing (NLP), and you'll\", \"find there, there is indeed a chapter about that in the book, but we're going to do it in a totally different way to how it's done in the book. In the book we do NLP using the\", 'fast.ai library, using recurrent neural networks (RNNs).', \"Today we're going to do something else, which is we're going to do Transformers, and we're\", \"not even going to use the fast.ai library at all in fact. So, what we're go...</td>\n",
       "      <td>is the lesson that a lot of the regulars in the community have been most excited about,</td>\n",
       "    </tr>\n",
       "  </tbody>\n",
       "</table>\n",
       "</div>"
      ],
      "text/plain": [
       "   index           course_title lesson_num              topic  \\\n",
       "0  15307  fast.ai 2022 - Part 1          4  Using Huggingface   \n",
       "1  15308  fast.ai 2022 - Part 1          4  Using Huggingface   \n",
       "\n",
       "                                                                                          seq  \\\n",
       "0  Hi everybody, and welcome to Practical Deep Learning for Coders Lesson Four, which I think   \n",
       "1     is the lesson that a lot of the regulars in the community have been most excited about,   \n",
       "\n",
       "                                                                                     prev_seq  \\\n",
       "0                                                                             xxBEGIN_TOPICxx   \n",
       "1  Hi everybody, and welcome to Practical Deep Learning for Coders Lesson Four, which I think   \n",
       "\n",
       "                                                                                  next_seq  \\\n",
       "0  is the lesson that a lot of the regulars in the community have been most excited about,   \n",
       "1  because it's where we're gonna get some totally new material — totally new topic, we've   \n",
       "\n",
       "   is_topic_end next_topic_begin_seq  \\\n",
       "0         False                  NaN   \n",
       "1         False                  NaN   \n",
       "\n",
       "                                                                                                                                                                                                                                                                                                                                                                                                                                                                                                                                                                                                          other_topic_seqs  \\\n",
       "0  [\"because it's where we're gonna get some totally new material — totally new topic, we've\", \"never covered before. We're going to cover natural language processing (NLP), and you'll\", \"find there, there is indeed a chapter about that in the book, but we're going to do it in a totally different way to how it's done in the book. In the book we do NLP using the\", 'fast.ai library, using recurrent neural networks (RNNs).', \"Today we're going to do something else, which is we're going to do Transformers, and we're\", \"not even going to use the fast.ai library at all in fact. So, what we're going...   \n",
       "1  ['Hi everybody, and welcome to Practical Deep Learning for Coders Lesson Four, which I think', \"never covered before. We're going to cover natural language processing (NLP), and you'll\", \"find there, there is indeed a chapter about that in the book, but we're going to do it in a totally different way to how it's done in the book. In the book we do NLP using the\", 'fast.ai library, using recurrent neural networks (RNNs).', \"Today we're going to do something else, which is we're going to do Transformers, and we're\", \"not even going to use the fast.ai library at all in fact. So, what we're go...   \n",
       "\n",
       "                                                                                   transcript  \n",
       "0  Hi everybody, and welcome to Practical Deep Learning for Coders Lesson Four, which I think  \n",
       "1     is the lesson that a lot of the regulars in the community have been most excited about,  "
      ]
     },
     "execution_count": null,
     "metadata": {},
     "output_type": "execute_result"
    }
   ],
   "source": [
    "raw_train_df = pd.read_csv(f\"../data/clean/segmentation_train.csv\", index_col=None)\n",
    "\n",
    "val_course_title = \"fast.ai 2022 - Part 1\"\n",
    "val_lesson_num = \"4\"\n",
    "\n",
    "inf_df = raw_train_df[\n",
    "    (raw_train_df[\"course_title\"] == val_course_title) & (raw_train_df[\"lesson_num\"] == val_lesson_num)\n",
    "].copy()\n",
    "inf_df[\"transcript\"] = inf_df[\"seq\"]\n",
    "inf_df.reset_index(inplace=True)\n",
    "\n",
    "print(len(inf_df))\n",
    "inf_df.head(2)"
   ]
  },
  {
   "cell_type": "code",
   "execution_count": null,
   "metadata": {},
   "outputs": [
    {
     "name": "stdout",
     "output_type": "stream",
     "text": [
      "[0, 7, 10, 16, 19, 24, 31, 37, 41, 54]\n",
      "709\n"
     ]
    },
    {
     "data": {
      "text/html": [
       "<div>\n",
       "<style scoped>\n",
       "    .dataframe tbody tr th:only-of-type {\n",
       "        vertical-align: middle;\n",
       "    }\n",
       "\n",
       "    .dataframe tbody tr th {\n",
       "        vertical-align: top;\n",
       "    }\n",
       "\n",
       "    .dataframe thead th {\n",
       "        text-align: right;\n",
       "    }\n",
       "</style>\n",
       "<table border=\"1\" class=\"dataframe\">\n",
       "  <thead>\n",
       "    <tr style=\"text-align: right;\">\n",
       "      <th></th>\n",
       "      <th>index</th>\n",
       "      <th>course_title</th>\n",
       "      <th>lesson_num</th>\n",
       "      <th>topic</th>\n",
       "      <th>seq</th>\n",
       "      <th>prev_seq</th>\n",
       "      <th>next_seq</th>\n",
       "      <th>is_topic_end</th>\n",
       "      <th>next_topic_begin_seq</th>\n",
       "      <th>other_topic_seqs</th>\n",
       "      <th>transcript</th>\n",
       "      <th>depth_score</th>\n",
       "      <th>threshold</th>\n",
       "      <th>pred_start</th>\n",
       "    </tr>\n",
       "  </thead>\n",
       "  <tbody>\n",
       "    <tr>\n",
       "      <th>0</th>\n",
       "      <td>15307</td>\n",
       "      <td>fast.ai 2022 - Part 1</td>\n",
       "      <td>4</td>\n",
       "      <td>Using Huggingface</td>\n",
       "      <td>Hi everybody, and welcome to Practical Deep Learning for Coders Lesson Four, which I think</td>\n",
       "      <td>xxBEGIN_TOPICxx</td>\n",
       "      <td>is the lesson that a lot of the regulars in the community have been most excited about,</td>\n",
       "      <td>False</td>\n",
       "      <td>NaN</td>\n",
       "      <td>[\"because it's where we're gonna get some totally new material — totally new topic, we've\", \"never covered before. We're going to cover natural language processing (NLP), and you'll\", \"find there, there is indeed a chapter about that in the book, but we're going to do it in a totally different way to how it's done in the book. In the book we do NLP using the\", 'fast.ai library, using recurrent neural networks (RNNs).', \"Today we're going to do something else, which is we're going to do Transformers, and we're\", \"not even going to use the fast.ai library at all in fact. So, what we're going...</td>\n",
       "      <td>Hi everybody, and welcome to Practical Deep Learning for Coders Lesson Four, which I think</td>\n",
       "      <td>0.000564</td>\n",
       "      <td>0.002313</td>\n",
       "      <td>True</td>\n",
       "    </tr>\n",
       "    <tr>\n",
       "      <th>1</th>\n",
       "      <td>15308</td>\n",
       "      <td>fast.ai 2022 - Part 1</td>\n",
       "      <td>4</td>\n",
       "      <td>Using Huggingface</td>\n",
       "      <td>is the lesson that a lot of the regulars in the community have been most excited about,</td>\n",
       "      <td>Hi everybody, and welcome to Practical Deep Learning for Coders Lesson Four, which I think</td>\n",
       "      <td>because it's where we're gonna get some totally new material — totally new topic, we've</td>\n",
       "      <td>False</td>\n",
       "      <td>NaN</td>\n",
       "      <td>['Hi everybody, and welcome to Practical Deep Learning for Coders Lesson Four, which I think', \"never covered before. We're going to cover natural language processing (NLP), and you'll\", \"find there, there is indeed a chapter about that in the book, but we're going to do it in a totally different way to how it's done in the book. In the book we do NLP using the\", 'fast.ai library, using recurrent neural networks (RNNs).', \"Today we're going to do something else, which is we're going to do Transformers, and we're\", \"not even going to use the fast.ai library at all in fact. So, what we're go...</td>\n",
       "      <td>is the lesson that a lot of the regulars in the community have been most excited about,</td>\n",
       "      <td>0.000381</td>\n",
       "      <td>0.002313</td>\n",
       "      <td>False</td>\n",
       "    </tr>\n",
       "    <tr>\n",
       "      <th>2</th>\n",
       "      <td>15309</td>\n",
       "      <td>fast.ai 2022 - Part 1</td>\n",
       "      <td>4</td>\n",
       "      <td>Using Huggingface</td>\n",
       "      <td>because it's where we're gonna get some totally new material — totally new topic, we've</td>\n",
       "      <td>is the lesson that a lot of the regulars in the community have been most excited about,</td>\n",
       "      <td>never covered before. We're going to cover natural language processing (NLP), and you'll</td>\n",
       "      <td>False</td>\n",
       "      <td>NaN</td>\n",
       "      <td>['Hi everybody, and welcome to Practical Deep Learning for Coders Lesson Four, which I think', 'is the lesson that a lot of the regulars in the community have been most excited about,', \"find there, there is indeed a chapter about that in the book, but we're going to do it in a totally different way to how it's done in the book. In the book we do NLP using the\", 'fast.ai library, using recurrent neural networks (RNNs).', \"Today we're going to do something else, which is we're going to do Transformers, and we're\", \"not even going to use the fast.ai library at all in fact. So, what we're goi...</td>\n",
       "      <td>because it's where we're gonna get some totally new material — totally new topic, we've</td>\n",
       "      <td>0.000000</td>\n",
       "      <td>0.002313</td>\n",
       "      <td>False</td>\n",
       "    </tr>\n",
       "    <tr>\n",
       "      <th>3</th>\n",
       "      <td>15310</td>\n",
       "      <td>fast.ai 2022 - Part 1</td>\n",
       "      <td>4</td>\n",
       "      <td>Using Huggingface</td>\n",
       "      <td>never covered before. We're going to cover natural language processing (NLP), and you'll</td>\n",
       "      <td>because it's where we're gonna get some totally new material — totally new topic, we've</td>\n",
       "      <td>find there, there is indeed a chapter about that in the book, but we're going to do it in a totally different way to how it's done in the book. In the book we do NLP using the</td>\n",
       "      <td>False</td>\n",
       "      <td>NaN</td>\n",
       "      <td>['Hi everybody, and welcome to Practical Deep Learning for Coders Lesson Four, which I think', 'is the lesson that a lot of the regulars in the community have been most excited about,', \"because it's where we're gonna get some totally new material — totally new topic, we've\", 'fast.ai library, using recurrent neural networks (RNNs).', \"Today we're going to do something else, which is we're going to do Transformers, and we're\", \"not even going to use the fast.ai library at all in fact. So, what we're going to be\", \"doing today is we're going to be fine-tuning a pre-trained NLP model using a...</td>\n",
       "      <td>never covered before. We're going to cover natural language processing (NLP), and you'll</td>\n",
       "      <td>0.002053</td>\n",
       "      <td>0.002313</td>\n",
       "      <td>False</td>\n",
       "    </tr>\n",
       "    <tr>\n",
       "      <th>4</th>\n",
       "      <td>15311</td>\n",
       "      <td>fast.ai 2022 - Part 1</td>\n",
       "      <td>4</td>\n",
       "      <td>Using Huggingface</td>\n",
       "      <td>find there, there is indeed a chapter about that in the book, but we're going to do it in a totally different way to how it's done in the book. In the book we do NLP using the</td>\n",
       "      <td>never covered before. We're going to cover natural language processing (NLP), and you'll</td>\n",
       "      <td>fast.ai library, using recurrent neural networks (RNNs).</td>\n",
       "      <td>False</td>\n",
       "      <td>NaN</td>\n",
       "      <td>['Hi everybody, and welcome to Practical Deep Learning for Coders Lesson Four, which I think', 'is the lesson that a lot of the regulars in the community have been most excited about,', \"because it's where we're gonna get some totally new material — totally new topic, we've\", \"never covered before. We're going to cover natural language processing (NLP), and you'll\", \"Today we're going to do something else, which is we're going to do Transformers, and we're\", \"not even going to use the fast.ai library at all in fact. So, what we're going to be\", \"doing today is we're going to be fine-tuning...</td>\n",
       "      <td>find there, there is indeed a chapter about that in the book, but we're going to do it in a totally different way to how it's done in the book. In the book we do NLP using the</td>\n",
       "      <td>0.000442</td>\n",
       "      <td>0.002313</td>\n",
       "      <td>False</td>\n",
       "    </tr>\n",
       "  </tbody>\n",
       "</table>\n",
       "</div>"
      ],
      "text/plain": [
       "   index           course_title lesson_num              topic  \\\n",
       "0  15307  fast.ai 2022 - Part 1          4  Using Huggingface   \n",
       "1  15308  fast.ai 2022 - Part 1          4  Using Huggingface   \n",
       "2  15309  fast.ai 2022 - Part 1          4  Using Huggingface   \n",
       "3  15310  fast.ai 2022 - Part 1          4  Using Huggingface   \n",
       "4  15311  fast.ai 2022 - Part 1          4  Using Huggingface   \n",
       "\n",
       "                                                                                                                                                                               seq  \\\n",
       "0                                                                                       Hi everybody, and welcome to Practical Deep Learning for Coders Lesson Four, which I think   \n",
       "1                                                                                          is the lesson that a lot of the regulars in the community have been most excited about,   \n",
       "2                                                                                          because it's where we're gonna get some totally new material — totally new topic, we've   \n",
       "3                                                                                         never covered before. We're going to cover natural language processing (NLP), and you'll   \n",
       "4  find there, there is indeed a chapter about that in the book, but we're going to do it in a totally different way to how it's done in the book. In the book we do NLP using the   \n",
       "\n",
       "                                                                                     prev_seq  \\\n",
       "0                                                                             xxBEGIN_TOPICxx   \n",
       "1  Hi everybody, and welcome to Practical Deep Learning for Coders Lesson Four, which I think   \n",
       "2     is the lesson that a lot of the regulars in the community have been most excited about,   \n",
       "3     because it's where we're gonna get some totally new material — totally new topic, we've   \n",
       "4    never covered before. We're going to cover natural language processing (NLP), and you'll   \n",
       "\n",
       "                                                                                                                                                                          next_seq  \\\n",
       "0                                                                                          is the lesson that a lot of the regulars in the community have been most excited about,   \n",
       "1                                                                                          because it's where we're gonna get some totally new material — totally new topic, we've   \n",
       "2                                                                                         never covered before. We're going to cover natural language processing (NLP), and you'll   \n",
       "3  find there, there is indeed a chapter about that in the book, but we're going to do it in a totally different way to how it's done in the book. In the book we do NLP using the   \n",
       "4                                                                                                                         fast.ai library, using recurrent neural networks (RNNs).   \n",
       "\n",
       "   is_topic_end next_topic_begin_seq  \\\n",
       "0         False                  NaN   \n",
       "1         False                  NaN   \n",
       "2         False                  NaN   \n",
       "3         False                  NaN   \n",
       "4         False                  NaN   \n",
       "\n",
       "                                                                                                                                                                                                                                                                                                                                                                                                                                                                                                                                                                                                          other_topic_seqs  \\\n",
       "0  [\"because it's where we're gonna get some totally new material — totally new topic, we've\", \"never covered before. We're going to cover natural language processing (NLP), and you'll\", \"find there, there is indeed a chapter about that in the book, but we're going to do it in a totally different way to how it's done in the book. In the book we do NLP using the\", 'fast.ai library, using recurrent neural networks (RNNs).', \"Today we're going to do something else, which is we're going to do Transformers, and we're\", \"not even going to use the fast.ai library at all in fact. So, what we're going...   \n",
       "1  ['Hi everybody, and welcome to Practical Deep Learning for Coders Lesson Four, which I think', \"never covered before. We're going to cover natural language processing (NLP), and you'll\", \"find there, there is indeed a chapter about that in the book, but we're going to do it in a totally different way to how it's done in the book. In the book we do NLP using the\", 'fast.ai library, using recurrent neural networks (RNNs).', \"Today we're going to do something else, which is we're going to do Transformers, and we're\", \"not even going to use the fast.ai library at all in fact. So, what we're go...   \n",
       "2  ['Hi everybody, and welcome to Practical Deep Learning for Coders Lesson Four, which I think', 'is the lesson that a lot of the regulars in the community have been most excited about,', \"find there, there is indeed a chapter about that in the book, but we're going to do it in a totally different way to how it's done in the book. In the book we do NLP using the\", 'fast.ai library, using recurrent neural networks (RNNs).', \"Today we're going to do something else, which is we're going to do Transformers, and we're\", \"not even going to use the fast.ai library at all in fact. So, what we're goi...   \n",
       "3  ['Hi everybody, and welcome to Practical Deep Learning for Coders Lesson Four, which I think', 'is the lesson that a lot of the regulars in the community have been most excited about,', \"because it's where we're gonna get some totally new material — totally new topic, we've\", 'fast.ai library, using recurrent neural networks (RNNs).', \"Today we're going to do something else, which is we're going to do Transformers, and we're\", \"not even going to use the fast.ai library at all in fact. So, what we're going to be\", \"doing today is we're going to be fine-tuning a pre-trained NLP model using a...   \n",
       "4  ['Hi everybody, and welcome to Practical Deep Learning for Coders Lesson Four, which I think', 'is the lesson that a lot of the regulars in the community have been most excited about,', \"because it's where we're gonna get some totally new material — totally new topic, we've\", \"never covered before. We're going to cover natural language processing (NLP), and you'll\", \"Today we're going to do something else, which is we're going to do Transformers, and we're\", \"not even going to use the fast.ai library at all in fact. So, what we're going to be\", \"doing today is we're going to be fine-tuning...   \n",
       "\n",
       "                                                                                                                                                                        transcript  \\\n",
       "0                                                                                       Hi everybody, and welcome to Practical Deep Learning for Coders Lesson Four, which I think   \n",
       "1                                                                                          is the lesson that a lot of the regulars in the community have been most excited about,   \n",
       "2                                                                                          because it's where we're gonna get some totally new material — totally new topic, we've   \n",
       "3                                                                                         never covered before. We're going to cover natural language processing (NLP), and you'll   \n",
       "4  find there, there is indeed a chapter about that in the book, but we're going to do it in a totally different way to how it's done in the book. In the book we do NLP using the   \n",
       "\n",
       "   depth_score  threshold  pred_start  \n",
       "0     0.000564   0.002313        True  \n",
       "1     0.000381   0.002313       False  \n",
       "2     0.000000   0.002313       False  \n",
       "3     0.002053   0.002313       False  \n",
       "4     0.000442   0.002313       False  "
      ]
     },
     "execution_count": null,
     "metadata": {},
     "output_type": "execute_result"
    }
   ],
   "source": [
    "preds_df, seg_idxs = _get_preds(learn, inf_df, threshold_std_coeff=1.0)\n",
    "\n",
    "print(seg_idxs[:10])\n",
    "print(len(preds_df))\n",
    "preds_df.head()"
   ]
  },
  {
   "cell_type": "code",
   "execution_count": null,
   "metadata": {},
   "outputs": [],
   "source": [
    "try:\n",
    "    del learn\n",
    "    gc.collect()\n",
    "    torch.cuda.empty_cache()\n",
    "except:\n",
    "    pass"
   ]
  },
  {
   "cell_type": "markdown",
   "metadata": {},
   "source": [
    "## Model Trainer"
   ]
  },
  {
   "cell_type": "code",
   "execution_count": null,
   "metadata": {},
   "outputs": [],
   "source": [
    "# | export\n",
    "class TopicSegmentationModelTrainer(training.ModelTrainer):\n",
    "    def __init__(\n",
    "        self,\n",
    "        experiment_name,\n",
    "        train_config: TopicSegmentationConfig,\n",
    "        data_path=\"data\",\n",
    "        model_output_path=\"models\",\n",
    "        log_output_path=\"logs\",\n",
    "        log_preds=False,\n",
    "        log_n_preds=None,\n",
    "        use_wandb=False,\n",
    "        verbose=False,\n",
    "        **kwargs,\n",
    "    ):\n",
    "        super().__init__(\n",
    "            experiment_name=experiment_name,\n",
    "            train_config=train_config,\n",
    "            data_path=data_path,\n",
    "            model_output_path=model_output_path,\n",
    "            log_output_path=log_output_path,\n",
    "            log_preds=log_preds,\n",
    "            log_n_preds=log_n_preds,\n",
    "            use_wandb=use_wandb,\n",
    "            verbose=verbose,\n",
    "            **kwargs,\n",
    "        )\n",
    "\n",
    "    def get_training_data(self, on_the_fly=False, split_type=\"cross_validation\"):\n",
    "        return _get_training_data(\n",
    "            cfg=self.train_config, data_dir=self.data_path, on_the_fly=on_the_fly, split_type=split_type\n",
    "        )\n",
    "\n",
    "    def load_learner_or_model(self, model_learner_fpath: str | Path = None, device=\"cpu\", mode=\"eval\"):\n",
    "        if model_learner_fpath is None:\n",
    "            model_learner_fpath = f\"{self.model_output_path}/{self.experiment_name}.pkl\"\n",
    "\n",
    "        learn = load_learner(model_learner_fpath, cpu=device == \"cpu\")\n",
    "        learn.model = learn.model.to(device)\n",
    "        learn.dls = learn.dls.to(device)\n",
    "\n",
    "        if mode == \"eval\":\n",
    "            learn.model = learn.model.eval()\n",
    "        else:\n",
    "            learn.model = learn.model.train()\n",
    "\n",
    "        return learn"
   ]
  },
  {
   "cell_type": "markdown",
   "metadata": {},
   "source": [
    "### `train`"
   ]
  },
  {
   "cell_type": "code",
   "execution_count": null,
   "metadata": {},
   "outputs": [],
   "source": [
    "# | export\n",
    "@patch\n",
    "def train(self: TopicSegmentationModelTrainer, trial: optuna.Trial = None):\n",
    "    # timing\n",
    "    start = time.time()\n",
    "\n",
    "    yyyymmddHm = datetime.today().strftime(\"%Y%m%d_%H%m\")\n",
    "    seed = self.train_config.random_seed\n",
    "\n",
    "    if self.verbose:\n",
    "        print(f\"Experiment: {self.experiment_name}\")\n",
    "        print(f\"Training config: f{self.get_train_config_props()}\")\n",
    "\n",
    "    # --- step 1: get our TRAINING DATA ---\n",
    "    if self.verbose:\n",
    "        print(\"Preparing training data ...\")\n",
    "\n",
    "    df, trn_idxs, val_idxs, raw_df = self.get_training_data()\n",
    "\n",
    "    # --- step 2: get our HF OBJECTS ---\n",
    "    if self.verbose:\n",
    "        print(\"Building HF objects ...\")\n",
    "\n",
    "    hf_arch, hf_config, hf_tokenizer, hf_model = _get_task_hf_objects(self.train_config)\n",
    "\n",
    "    # --- step 3: DATALOADERS ---\n",
    "    if self.verbose:\n",
    "        print(\"Building DataLoaders ...\")\n",
    "\n",
    "    dls = _get_dls(self.train_config, df, hf_arch, hf_config, hf_tokenizer, hf_model, val_idxs_or_fold=val_idxs)\n",
    "\n",
    "    # --- step 4: LEARNER ---\n",
    "    if self.verbose:\n",
    "        print(\"Building Learner ...\")\n",
    "\n",
    "    learn = _get_learner(self.train_config, dls, hf_config, hf_model, learner_path=self.model_output_path)\n",
    "\n",
    "    # add any learner callbacks req. by the `ModelTrainer`\n",
    "    if self.use_wandb:\n",
    "        learn.add_cb(WandbCallback(log_preds=False))\n",
    "\n",
    "    if trial is not None:\n",
    "        learn.add_cb(FastAIPruningCallback(trial, monitor=\"valid_loss\"))\n",
    "\n",
    "    # add any fit callbacks req. by the `ModelTrainer`\n",
    "    fit_cbs = []\n",
    "    if self.train_config.max_grad_norm:\n",
    "        fit_cbs.append(GradientClip(max_norm=self.train_config.max_grad_norm))\n",
    "\n",
    "    if self.train_config.include_gradient_checkpointing:\n",
    "        fit_cbs.append(GradientCheckpointing())\n",
    "\n",
    "    if self.train_config.save_best_model:\n",
    "        fit_cbs.append(\n",
    "            SaveModelCallback(\n",
    "                monitor=\"valid_loss\",\n",
    "                comp=np.less,\n",
    "                fname=f\"temp_best_f1_{self.experiment_name}\",\n",
    "                reset_on_fit=False,\n",
    "            )\n",
    "        )\n",
    "\n",
    "    # --- step 4: TRAIN ---\n",
    "    if self.verbose:\n",
    "        print(\"Training ...\")\n",
    "\n",
    "    if self.train_config.n_frozen_epochs > 0:\n",
    "        if self.train_config.random_seed and not self.train_config.only_seed_splits:\n",
    "            set_seed(self.train_config.random_seed)\n",
    "\n",
    "        learn.fit_one_cycle(self.train_config.n_frozen_epochs, lr_max=self.train_config.frozen_lr, cbs=fit_cbs)\n",
    "\n",
    "    if self.train_config.n_unfrozen_epochs > 0:\n",
    "        learn.unfreeze()\n",
    "\n",
    "        if self.train_config.random_seed and not self.train_config.only_seed_splits:\n",
    "            set_seed(self.train_config.random_seed)\n",
    "\n",
    "        learn.fit_one_cycle(\n",
    "            self.train_config.n_unfrozen_epochs,\n",
    "            lr_max=slice(self.train_config.unfrozen_lr_min, self.train_config.unfrozen_lr_max),\n",
    "            cbs=fit_cbs,\n",
    "        )\n",
    "\n",
    "    end = time.time()\n",
    "\n",
    "    # --- step 5: LOG RESULTS ---\n",
    "    if self.verbose:\n",
    "        print(\"Logging results ...\")\n",
    "\n",
    "    # 5a: log high level results (metrics, loss, training configuration)\n",
    "    res = learn.validate()\n",
    "\n",
    "    train_config_df = pd.DataFrame(\n",
    "        [self.get_train_config_props()], columns=[k for k in self.get_train_config_props().keys()]\n",
    "    )\n",
    "    metrics_df = pd.DataFrame([res], columns=learn.recorder.metric_names[2:-1])\n",
    "\n",
    "    results_df = pd.concat([train_config_df, metrics_df], axis=1)\n",
    "    results_df[\"time\"] = end - start\n",
    "    results_df.to_csv(f\"{self.log_output_path}/{self.experiment_name}_{yyyymmddHm}_results.csv\", index=None)\n",
    "\n",
    "    # 5b: log actual predictions for the validation set\n",
    "    if self.log_preds:\n",
    "        val_course_titles = df.iloc[val_idxs][\"course_title\"].unique().tolist()\n",
    "        preds_df = _get_validation_preds(\n",
    "            hf_model,\n",
    "            hf_tokenizer,\n",
    "            raw_df,\n",
    "            val_course_titles[: self.log_n_preds],\n",
    "            batch_size=learn.dls[1].bs,\n",
    "            threshold_std_coeff=1.0,\n",
    "            verbose=self.verbose,\n",
    "        )\n",
    "        preds_df.to_csv(f\"{self.log_output_path}/{self.experiment_name}_{yyyymmddHm}_preds.csv\", index=None)\n",
    "\n",
    "        if self.use_wandb:\n",
    "            wandb.run.summary[\"valid_loss\"] = results_df.iloc[0][\"valid_loss\"]\n",
    "            wandb.run.summary[\"topic_seg_f1_score\"] = results_df.iloc[0][\"topic_seg_f1_score\"]\n",
    "\n",
    "            table = wandb.Table(data=preds_df)\n",
    "            wandb.log({\"Prediction_Samples\": table})\n",
    "\n",
    "            wandb.run.summary[\"state\"] = \"completed\"\n",
    "\n",
    "    # --- step 5: SAVE MODEL (except when tuning) ---\n",
    "    if trial is None:\n",
    "        if self.verbose:\n",
    "            print(\"Saving model ...\")\n",
    "\n",
    "        learn.export(self.model_output_path / f\"{self.experiment_name}.pkl\")\n",
    "\n",
    "    # clean up\n",
    "    super(self.__class__, self).train()\n",
    "\n",
    "    del learn, dls, hf_model, hf_tokenizer, hf_config\n",
    "    torch.cuda.empty_cache()\n",
    "    gc.collect()\n",
    "\n",
    "    if self.verbose:\n",
    "        print(\"End training\")\n",
    "\n",
    "    return results_df, raw_df, df, val_idxs"
   ]
  },
  {
   "cell_type": "markdown",
   "metadata": {},
   "source": [
    "Example training code"
   ]
  },
  {
   "cell_type": "code",
   "execution_count": null,
   "metadata": {},
   "outputs": [
    {
     "data": {
      "text/html": [
       "wandb version 0.13.4 is available!  To upgrade, please run:\n",
       " $ pip install wandb --upgrade"
      ],
      "text/plain": [
       "<IPython.core.display.HTML object>"
      ]
     },
     "metadata": {},
     "output_type": "display_data"
    },
    {
     "data": {
      "text/html": [
       "Tracking run with wandb version 0.13.3"
      ],
      "text/plain": [
       "<IPython.core.display.HTML object>"
      ]
     },
     "metadata": {},
     "output_type": "display_data"
    },
    {
     "data": {
      "text/html": [
       "Run data is saved locally in <code>../logs/wandb/run-20221006_105951-h2cecvx2</code>"
      ],
      "text/plain": [
       "<IPython.core.display.HTML object>"
      ]
     },
     "metadata": {},
     "output_type": "display_data"
    },
    {
     "data": {
      "text/html": [
       "Syncing run <strong><a href=\"https://wandb.ai/course-copilot/course-copilot-ml/runs/h2cecvx2\" target=\"_blank\">rich-capybara-33</a></strong> to <a href=\"https://wandb.ai/course-copilot/course-copilot-ml\" target=\"_blank\">Weights & Biases</a> (<a href=\"https://wandb.me/run\" target=\"_blank\">docs</a>)<br/>"
      ],
      "text/plain": [
       "<IPython.core.display.HTML object>"
      ]
     },
     "metadata": {},
     "output_type": "display_data"
    },
    {
     "name": "stdout",
     "output_type": "stream",
     "text": [
      "Experiment: test_topic_segmentation\n",
      "Training config: f{'accum': None, 'adam_beta2': 0.99, 'adam_eps': 1e-07, 'batch_size': 8, 'custom_model_kwargs': {'p': 0.1, 'dropout_cls': <class 'torch.nn.modules.dropout.Dropout'>}, 'frozen_lr': 0, 'hf_config_kwargs': {'num_labels': 2}, 'hf_model_checkpoint': 'microsoft/deberta-v3-small', 'hf_model_cls': 'AutoModelForSequenceClassification', 'hf_model_kwargs': {}, 'hf_tokenizer_kwargs': {}, 'include_gradient_checkpointing': False, 'include_labels': False, 'lower_case': True, 'max_grad_norm': None, 'max_length': True, 'n_frozen_epochs': 0, 'n_unfrozen_epochs': 1, 'new_special_tokens': None, 'one_cycle_moms_end': 0.8, 'one_cycle_moms_min': 0.7, 'one_cycle_moms_start': 0.8, 'only_seed_splits': True, 'preprocess_strategy': None, 'random_seed': 2022, 'save_best_model': True, 'tok_kwargs': {}, 'training_subset': 0.25, 'truncation_strategy': True, 'unfrozen_lr_max': 0.001, 'unfrozen_lr_min': 1e-05, 'use_adjacent_neg_prob': 0.5, 'use_fp16': True, 'use_next_pos_prob': 0.75, 'val_pct': 0.25, 'weight_decay': 0.0}\n",
      "Preparing training data ...\n",
      "Building HF objects ...\n",
      "Building DataLoaders ...\n",
      "Building Learner ...\n",
      "Training ...\n",
      "Could not gather input dimensions\n"
     ]
    },
    {
     "data": {
      "text/html": [
       "\n",
       "<style>\n",
       "    /* Turns off some styling */\n",
       "    progress {\n",
       "        /* gets rid of default border in Firefox and Opera. */\n",
       "        border: none;\n",
       "        /* Needs to be in here for Safari polyfill so background images work as expected. */\n",
       "        background-size: auto;\n",
       "    }\n",
       "    progress:not([value]), progress:not([value])::-webkit-progress-bar {\n",
       "        background: repeating-linear-gradient(45deg, #7e7e7e, #7e7e7e 10px, #5c5c5c 10px, #5c5c5c 20px);\n",
       "    }\n",
       "    .progress-bar-interrupted, .progress-bar-interrupted::-webkit-progress-bar {\n",
       "        background: #F44336;\n",
       "    }\n",
       "</style>\n"
      ],
      "text/plain": [
       "<IPython.core.display.HTML object>"
      ]
     },
     "metadata": {},
     "output_type": "display_data"
    },
    {
     "data": {
      "text/html": [
       "<table border=\"1\" class=\"dataframe\">\n",
       "  <thead>\n",
       "    <tr style=\"text-align: left;\">\n",
       "      <th>epoch</th>\n",
       "      <th>train_loss</th>\n",
       "      <th>valid_loss</th>\n",
       "      <th>topic_seg_f1_score</th>\n",
       "      <th>time</th>\n",
       "    </tr>\n",
       "  </thead>\n",
       "  <tbody>\n",
       "    <tr>\n",
       "      <td>0</td>\n",
       "      <td>0.448788</td>\n",
       "      <td>0.587102</td>\n",
       "      <td>0.753086</td>\n",
       "      <td>01:25</td>\n",
       "    </tr>\n",
       "  </tbody>\n",
       "</table>"
      ],
      "text/plain": [
       "<IPython.core.display.HTML object>"
      ]
     },
     "metadata": {},
     "output_type": "display_data"
    },
    {
     "name": "stdout",
     "output_type": "stream",
     "text": [
      "Better model found at epoch 0 with valid_loss value: 0.5871024131774902.\n",
      "Logging results ...\n",
      "Could not gather input dimensions\n"
     ]
    },
    {
     "data": {
      "text/html": [
       "\n",
       "<style>\n",
       "    /* Turns off some styling */\n",
       "    progress {\n",
       "        /* gets rid of default border in Firefox and Opera. */\n",
       "        border: none;\n",
       "        /* Needs to be in here for Safari polyfill so background images work as expected. */\n",
       "        background-size: auto;\n",
       "    }\n",
       "    progress:not([value]), progress:not([value])::-webkit-progress-bar {\n",
       "        background: repeating-linear-gradient(45deg, #7e7e7e, #7e7e7e 10px, #5c5c5c 10px, #5c5c5c 20px);\n",
       "    }\n",
       "    .progress-bar-interrupted, .progress-bar-interrupted::-webkit-progress-bar {\n",
       "        background: #F44336;\n",
       "    }\n",
       "</style>\n"
      ],
      "text/plain": [
       "<IPython.core.display.HTML object>"
      ]
     },
     "metadata": {},
     "output_type": "display_data"
    },
    {
     "data": {
      "text/html": [],
      "text/plain": [
       "<IPython.core.display.HTML object>"
      ]
     },
     "metadata": {},
     "output_type": "display_data"
    },
    {
     "name": "stdout",
     "output_type": "stream",
     "text": [
      "Getting predictions for validatation set ...\n",
      "processing markowskyart - begginer drawing course: 1\n",
      "processing markowskyart - begginer drawing course: 2\n",
      "processing markowskyart - begginer drawing course: 3\n",
      "processing markowskyart - begginer drawing course: 4\n",
      "processing markowskyart - begginer drawing course: 5\n",
      "processing cc - how to invest in stocks: 1\n",
      "Saving model ...\n"
     ]
    },
    {
     "data": {
      "text/html": [
       "Waiting for W&B process to finish... <strong style=\"color:green\">(success).</strong>"
      ],
      "text/plain": [
       "<IPython.core.display.HTML object>"
      ]
     },
     "metadata": {},
     "output_type": "display_data"
    },
    {
     "data": {
      "application/vnd.jupyter.widget-view+json": {
       "model_id": "0576fd9cc65e4f13a2eabf307ef81cce",
       "version_major": 2,
       "version_minor": 0
      },
      "text/plain": [
       "VBox(children=(Label(value='150.823 MB of 151.624 MB uploaded (0.000 MB deduped)\\r'), FloatProgress(value=0.99…"
      ]
     },
     "metadata": {},
     "output_type": "display_data"
    },
    {
     "data": {
      "text/html": [
       "<style>\n",
       "    table.wandb td:nth-child(1) { padding: 0 10px; text-align: left ; width: auto;} td:nth-child(2) {text-align: left ; width: 100%}\n",
       "    .wandb-row { display: flex; flex-direction: row; flex-wrap: wrap; justify-content: flex-start; width: 100% }\n",
       "    .wandb-col { display: flex; flex-direction: column; flex-basis: 100%; flex: 1; padding: 10px; }\n",
       "    </style>\n",
       "<div class=\"wandb-row\"><div class=\"wandb-col\"><h3>Run history:</h3><br/><table class=\"wandb\"><tr><td>epoch</td><td>▁▁▁▁▂▂▂▂▂▃▃▃▃▃▃▄▄▄▄▄▄▅▅▅▅▅▆▆▆▆▆▇▇▇▇▇▇███</td></tr><tr><td>eps_0</td><td>▁▁▁▁▁▁▁▁▁▁▁▁▁▁▁▁▁▁▁▁▁▁▁▁▁▁▁▁▁▁▁▁▁▁▁▁▁▁▁▁</td></tr><tr><td>eps_1</td><td>▁▁▁▁▁▁▁▁▁▁▁▁▁▁▁▁▁▁▁▁▁▁▁▁▁▁▁▁▁▁▁▁▁▁▁▁▁▁▁▁</td></tr><tr><td>lr_0</td><td>▁▁▂▃▄▅▆▇▇██████▇▇▇▇▆▆▆▆▅▅▄▄▄▃▃▃▂▂▂▂▁▁▁▁▁</td></tr><tr><td>lr_1</td><td>▁▁▂▃▄▅▆▇▇██████▇▇▇▇▆▆▆▆▅▅▄▄▄▃▃▃▂▂▂▂▁▁▁▁▁</td></tr><tr><td>mom_0</td><td>██▇▇▆▄▃▂▂▁▁▁▁▁▁▂▂▂▂▃▃▃▃▄▄▅▅▅▆▆▆▇▇▇▇█████</td></tr><tr><td>mom_1</td><td>██▇▇▆▄▃▂▂▁▁▁▁▁▁▂▂▂▂▃▃▃▃▄▄▅▅▅▆▆▆▇▇▇▇█████</td></tr><tr><td>raw_loss</td><td>▆▆▆▇▇▆▅▃▇▂▄▄▇▃▃▄▃█▁▃▃▂▄▇▄▂▃▂▄▂▂▁▃▄▃▅▁▄▅▂</td></tr><tr><td>sqr_mom_0</td><td>▁▁▁▁▁▁▁▁▁▁▁▁▁▁▁▁▁▁▁▁▁▁▁▁▁▁▁▁▁▁▁▁▁▁▁▁▁▁▁▁</td></tr><tr><td>sqr_mom_1</td><td>▁▁▁▁▁▁▁▁▁▁▁▁▁▁▁▁▁▁▁▁▁▁▁▁▁▁▁▁▁▁▁▁▁▁▁▁▁▁▁▁</td></tr><tr><td>topic_seg_f1_score</td><td>▁</td></tr><tr><td>train_loss</td><td>█████▇▇▇▆▅▅▄▄▃▃▃▃▃▃▂▂▂▂▂▂▂▂▂▂▂▂▁▁▂▂▁▁▁▂▂</td></tr><tr><td>train_samples_per_sec</td><td>▃▁▂▄▅▄▆▆▂▆▄██▄▃▆▄▄▃▃▅▃▅▃▄▄▄▃▆▃▄▅▆▃▄▅▃▄▄▄</td></tr><tr><td>valid_loss</td><td>▁</td></tr><tr><td>wd_0</td><td>▁▁▁▁▁▁▁▁▁▁▁▁▁▁▁▁▁▁▁▁▁▁▁▁▁▁▁▁▁▁▁▁▁▁▁▁▁▁▁▁</td></tr><tr><td>wd_1</td><td>▁▁▁▁▁▁▁▁▁▁▁▁▁▁▁▁▁▁▁▁▁▁▁▁▁▁▁▁▁▁▁▁▁▁▁▁▁▁▁▁</td></tr></table><br/></div><div class=\"wandb-col\"><h3>Run summary:</h3><br/><table class=\"wandb\"><tr><td>epoch</td><td>1</td></tr><tr><td>eps_0</td><td>0.0</td></tr><tr><td>eps_1</td><td>0.0</td></tr><tr><td>lr_0</td><td>0.0</td></tr><tr><td>lr_1</td><td>0.0</td></tr><tr><td>mom_0</td><td>0.8</td></tr><tr><td>mom_1</td><td>0.8</td></tr><tr><td>raw_loss</td><td>0.08313</td></tr><tr><td>sqr_mom_0</td><td>0.99</td></tr><tr><td>sqr_mom_1</td><td>0.99</td></tr><tr><td>state</td><td>completed</td></tr><tr><td>topic_seg_f1_score</td><td>0.73745</td></tr><tr><td>train_loss</td><td>0.44879</td></tr><tr><td>train_samples_per_sec</td><td>25.20584</td></tr><tr><td>valid_loss</td><td>0.61668</td></tr><tr><td>wd_0</td><td>0.0</td></tr><tr><td>wd_1</td><td>0.0</td></tr></table><br/></div></div>"
      ],
      "text/plain": [
       "<IPython.core.display.HTML object>"
      ]
     },
     "metadata": {},
     "output_type": "display_data"
    },
    {
     "data": {
      "text/html": [
       "Synced <strong style=\"color:#cdcd00\">rich-capybara-33</strong>: <a href=\"https://wandb.ai/course-copilot/course-copilot-ml/runs/h2cecvx2\" target=\"_blank\">https://wandb.ai/course-copilot/course-copilot-ml/runs/h2cecvx2</a><br/>Synced 6 W&B file(s), 1 media file(s), 1 artifact file(s) and 0 other file(s)"
      ],
      "text/plain": [
       "<IPython.core.display.HTML object>"
      ]
     },
     "metadata": {},
     "output_type": "display_data"
    },
    {
     "data": {
      "text/html": [
       "Find logs at: <code>../logs/wandb/run-20221006_105951-h2cecvx2/logs</code>"
      ],
      "text/plain": [
       "<IPython.core.display.HTML object>"
      ]
     },
     "metadata": {},
     "output_type": "display_data"
    },
    {
     "name": "stdout",
     "output_type": "stream",
     "text": [
      "End training\n"
     ]
    },
    {
     "data": {
      "text/html": [
       "<div>\n",
       "<style scoped>\n",
       "    .dataframe tbody tr th:only-of-type {\n",
       "        vertical-align: middle;\n",
       "    }\n",
       "\n",
       "    .dataframe tbody tr th {\n",
       "        vertical-align: top;\n",
       "    }\n",
       "\n",
       "    .dataframe thead th {\n",
       "        text-align: right;\n",
       "    }\n",
       "</style>\n",
       "<table border=\"1\" class=\"dataframe\">\n",
       "  <thead>\n",
       "    <tr style=\"text-align: right;\">\n",
       "      <th></th>\n",
       "      <th>accum</th>\n",
       "      <th>adam_beta2</th>\n",
       "      <th>adam_eps</th>\n",
       "      <th>batch_size</th>\n",
       "      <th>custom_model_kwargs</th>\n",
       "      <th>frozen_lr</th>\n",
       "      <th>hf_config_kwargs</th>\n",
       "      <th>hf_model_checkpoint</th>\n",
       "      <th>hf_model_cls</th>\n",
       "      <th>hf_model_kwargs</th>\n",
       "      <th>...</th>\n",
       "      <th>unfrozen_lr_max</th>\n",
       "      <th>unfrozen_lr_min</th>\n",
       "      <th>use_adjacent_neg_prob</th>\n",
       "      <th>use_fp16</th>\n",
       "      <th>use_next_pos_prob</th>\n",
       "      <th>val_pct</th>\n",
       "      <th>weight_decay</th>\n",
       "      <th>valid_loss</th>\n",
       "      <th>topic_seg_f1_score</th>\n",
       "      <th>time</th>\n",
       "    </tr>\n",
       "  </thead>\n",
       "  <tbody>\n",
       "    <tr>\n",
       "      <th>0</th>\n",
       "      <td>None</td>\n",
       "      <td>0.99</td>\n",
       "      <td>1.000000e-07</td>\n",
       "      <td>8</td>\n",
       "      <td>{'p': 0.1, 'dropout_cls': &lt;class 'torch.nn.modules.dropout.Dropout'&gt;}</td>\n",
       "      <td>0</td>\n",
       "      <td>{'num_labels': 2}</td>\n",
       "      <td>microsoft/deberta-v3-small</td>\n",
       "      <td>AutoModelForSequenceClassification</td>\n",
       "      <td>{}</td>\n",
       "      <td>...</td>\n",
       "      <td>0.001</td>\n",
       "      <td>0.00001</td>\n",
       "      <td>0.5</td>\n",
       "      <td>True</td>\n",
       "      <td>0.75</td>\n",
       "      <td>0.25</td>\n",
       "      <td>0.0</td>\n",
       "      <td>0.616677</td>\n",
       "      <td>0.737449</td>\n",
       "      <td>106.180219</td>\n",
       "    </tr>\n",
       "  </tbody>\n",
       "</table>\n",
       "<p>1 rows × 39 columns</p>\n",
       "</div>"
      ],
      "text/plain": [
       "  accum  adam_beta2      adam_eps  batch_size  \\\n",
       "0  None        0.99  1.000000e-07           8   \n",
       "\n",
       "                                                     custom_model_kwargs  \\\n",
       "0  {'p': 0.1, 'dropout_cls': <class 'torch.nn.modules.dropout.Dropout'>}   \n",
       "\n",
       "   frozen_lr   hf_config_kwargs         hf_model_checkpoint  \\\n",
       "0          0  {'num_labels': 2}  microsoft/deberta-v3-small   \n",
       "\n",
       "                         hf_model_cls hf_model_kwargs  ... unfrozen_lr_max  \\\n",
       "0  AutoModelForSequenceClassification              {}  ...           0.001   \n",
       "\n",
       "   unfrozen_lr_min  use_adjacent_neg_prob  use_fp16 use_next_pos_prob  \\\n",
       "0          0.00001                    0.5      True              0.75   \n",
       "\n",
       "   val_pct  weight_decay  valid_loss topic_seg_f1_score        time  \n",
       "0     0.25           0.0    0.616677           0.737449  106.180219  \n",
       "\n",
       "[1 rows x 39 columns]"
      ]
     },
     "execution_count": null,
     "metadata": {},
     "output_type": "execute_result"
    }
   ],
   "source": [
    "trainer = TopicSegmentationModelTrainer(\n",
    "    experiment_name=\"test_topic_segmentation\",\n",
    "    train_config=ExampleCFG,\n",
    "    data_path=\"../data\",\n",
    "    model_output_path=\"../models\",\n",
    "    log_output_path=\"../logs\",\n",
    "    log_preds=True,\n",
    "    log_n_preds=2,\n",
    "    use_wandb=True,\n",
    "    verbose=True,\n",
    ")\n",
    "\n",
    "results_df, raw_df, train_df, train_val_idxs = trainer.train()\n",
    "results_df.head()"
   ]
  },
  {
   "cell_type": "markdown",
   "metadata": {},
   "source": [
    "### `get_preds`"
   ]
  },
  {
   "cell_type": "code",
   "execution_count": null,
   "metadata": {},
   "outputs": [],
   "source": [
    "# | export\n",
    "@patch\n",
    "def get_preds(self: TopicSegmentationModelTrainer, model_or_learner, data, **kwargs):\n",
    "    threshold_std_coeff = kwargs.get(\"threshold_std_coeff\", 1.0)\n",
    "\n",
    "    preds_df, pred_seg_idxs = _get_preds(model_or_learner, data, threshold_std_coeff=threshold_std_coeff)\n",
    "    return preds_df, pred_seg_idxs"
   ]
  },
  {
   "cell_type": "markdown",
   "metadata": {},
   "source": [
    "Example inference code"
   ]
  },
  {
   "cell_type": "code",
   "execution_count": null,
   "metadata": {},
   "outputs": [
    {
     "name": "stdout",
     "output_type": "stream",
     "text": [
      "[0, 12, 22, 27, 34, 38, 39, 53, 57, 62]\n"
     ]
    },
    {
     "data": {
      "text/html": [
       "<div>\n",
       "<style scoped>\n",
       "    .dataframe tbody tr th:only-of-type {\n",
       "        vertical-align: middle;\n",
       "    }\n",
       "\n",
       "    .dataframe tbody tr th {\n",
       "        vertical-align: top;\n",
       "    }\n",
       "\n",
       "    .dataframe thead th {\n",
       "        text-align: right;\n",
       "    }\n",
       "</style>\n",
       "<table border=\"1\" class=\"dataframe\">\n",
       "  <thead>\n",
       "    <tr style=\"text-align: right;\">\n",
       "      <th></th>\n",
       "      <th>topic</th>\n",
       "      <th>transcript</th>\n",
       "      <th>depth_score</th>\n",
       "      <th>threshold</th>\n",
       "      <th>pred_start</th>\n",
       "    </tr>\n",
       "  </thead>\n",
       "  <tbody>\n",
       "    <tr>\n",
       "      <th>0</th>\n",
       "      <td>Using Huggingface</td>\n",
       "      <td>Hi everybody, and welcome to Practical Deep Learning for Coders Lesson Four, which I think</td>\n",
       "      <td>0.001647</td>\n",
       "      <td>0.001863</td>\n",
       "      <td>True</td>\n",
       "    </tr>\n",
       "    <tr>\n",
       "      <th>1</th>\n",
       "      <td>Using Huggingface</td>\n",
       "      <td>is the lesson that a lot of the regulars in the community have been most excited about,</td>\n",
       "      <td>0.000853</td>\n",
       "      <td>0.001863</td>\n",
       "      <td>False</td>\n",
       "    </tr>\n",
       "    <tr>\n",
       "      <th>2</th>\n",
       "      <td>Using Huggingface</td>\n",
       "      <td>because it's where we're gonna get some totally new material — totally new topic, we've</td>\n",
       "      <td>0.000000</td>\n",
       "      <td>0.001863</td>\n",
       "      <td>False</td>\n",
       "    </tr>\n",
       "    <tr>\n",
       "      <th>3</th>\n",
       "      <td>Using Huggingface</td>\n",
       "      <td>never covered before. We're going to cover natural language processing (NLP), and you'll</td>\n",
       "      <td>0.001023</td>\n",
       "      <td>0.001863</td>\n",
       "      <td>False</td>\n",
       "    </tr>\n",
       "    <tr>\n",
       "      <th>4</th>\n",
       "      <td>Using Huggingface</td>\n",
       "      <td>find there, there is indeed a chapter about that in the book, but we're going to do it in a totally different way to how it's done in the book. In the book we do NLP using the</td>\n",
       "      <td>0.000000</td>\n",
       "      <td>0.001863</td>\n",
       "      <td>False</td>\n",
       "    </tr>\n",
       "  </tbody>\n",
       "</table>\n",
       "</div>"
      ],
      "text/plain": [
       "               topic  \\\n",
       "0  Using Huggingface   \n",
       "1  Using Huggingface   \n",
       "2  Using Huggingface   \n",
       "3  Using Huggingface   \n",
       "4  Using Huggingface   \n",
       "\n",
       "                                                                                                                                                                        transcript  \\\n",
       "0                                                                                       Hi everybody, and welcome to Practical Deep Learning for Coders Lesson Four, which I think   \n",
       "1                                                                                          is the lesson that a lot of the regulars in the community have been most excited about,   \n",
       "2                                                                                          because it's where we're gonna get some totally new material — totally new topic, we've   \n",
       "3                                                                                         never covered before. We're going to cover natural language processing (NLP), and you'll   \n",
       "4  find there, there is indeed a chapter about that in the book, but we're going to do it in a totally different way to how it's done in the book. In the book we do NLP using the   \n",
       "\n",
       "   depth_score  threshold  pred_start  \n",
       "0     0.001647   0.001863        True  \n",
       "1     0.000853   0.001863       False  \n",
       "2     0.000000   0.001863       False  \n",
       "3     0.001023   0.001863       False  \n",
       "4     0.000000   0.001863       False  "
      ]
     },
     "execution_count": null,
     "metadata": {},
     "output_type": "execute_result"
    }
   ],
   "source": [
    "trainer = TopicSegmentationModelTrainer(\n",
    "    \"test_topic_segmentation\", ExampleCFG, \"../data\", \"../models\", \"../logs\", verbose=True\n",
    ")\n",
    "# results_df, train_df, val_idxs = trainer.train()\n",
    "inf_learn = trainer.load_learner_or_model(device=\"cpu\")\n",
    "preds_df, pred_topic_idxs = trainer.get_preds(inf_learn, inf_df[[\"topic\", \"transcript\"]].copy())\n",
    "\n",
    "# cleanup resources\n",
    "del inf_learn\n",
    "torch.cuda.empty_cache()\n",
    "gc.collect()\n",
    "\n",
    "# shows final results\n",
    "print(pred_topic_idxs[:10])\n",
    "preds_df.head()"
   ]
  },
  {
   "cell_type": "markdown",
   "metadata": {},
   "source": [
    "### `tune`"
   ]
  },
  {
   "cell_type": "code",
   "execution_count": null,
   "metadata": {},
   "outputs": [],
   "source": [
    "# TODO"
   ]
  },
  {
   "cell_type": "markdown",
   "metadata": {},
   "source": [
    "### `tune_threshold`"
   ]
  },
  {
   "cell_type": "code",
   "execution_count": null,
   "metadata": {},
   "outputs": [],
   "source": [
    "# TODO"
   ]
  },
  {
   "cell_type": "markdown",
   "metadata": {},
   "source": [
    "## Export -"
   ]
  },
  {
   "cell_type": "code",
   "execution_count": null,
   "metadata": {},
   "outputs": [],
   "source": [
    "# | hide\n",
    "nbdev.nbdev_export()"
   ]
  },
  {
   "cell_type": "code",
   "execution_count": null,
   "metadata": {},
   "outputs": [],
   "source": []
  }
 ],
 "metadata": {
  "kernelspec": {
   "display_name": "Python 3.9.13 ('fsdl_2022_course_project')",
   "language": "python",
   "name": "python3"
  }
 },
 "nbformat": 4,
 "nbformat_minor": 2
}
