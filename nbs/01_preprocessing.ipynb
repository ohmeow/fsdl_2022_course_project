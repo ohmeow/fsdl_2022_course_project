{
 "cells": [
  {
   "cell_type": "code",
   "execution_count": null,
   "metadata": {},
   "outputs": [],
   "source": [
    "# |default_exp preprocessing\n",
    "# |default_cls_lvl 3"
   ]
  },
  {
   "cell_type": "code",
   "execution_count": null,
   "metadata": {},
   "outputs": [],
   "source": [
    "# |hide\n",
    "%reload_ext autoreload\n",
    "%autoreload 2"
   ]
  },
  {
   "cell_type": "markdown",
   "metadata": {},
   "source": [
    "# preprocessing\n",
    "\n",
    "Classes and methods for turning our raw datasets into appropriately formatted training data for both segmentation and summarization tasks"
   ]
  },
  {
   "cell_type": "code",
   "execution_count": null,
   "metadata": {},
   "outputs": [],
   "source": [
    "# |export\n",
    "from __future__ import annotations\n",
    "\n",
    "import argparse, datetime\n",
    "from pathlib import Path\n",
    "\n",
    "import pandas as pd\n",
    "\n",
    "from course_copilot import utils"
   ]
  },
  {
   "cell_type": "code",
   "execution_count": null,
   "metadata": {},
   "outputs": [],
   "source": [
    "# | hide\n",
    "import pdb\n",
    "\n",
    "from IPython.display import display\n",
    "\n",
    "from fastcore.test import *\n",
    "from nbdev.showdoc import show_doc"
   ]
  },
  {
   "cell_type": "markdown",
   "metadata": {},
   "source": [
    "## Utility methods"
   ]
  },
  {
   "cell_type": "code",
   "execution_count": null,
   "metadata": {},
   "outputs": [],
   "source": [
    "# |export\n",
    "def convert_duration_to_seconds(\n",
    "    # A duration/iterval with the format of \"hh:mm:ss\"\n",
    "    v: str,\n",
    ") -> int:  # The total number of seconds\n",
    "\n",
    "    hrs, mins, secs = v.split(\":\")\n",
    "    return (60 * 60 * int(hrs)) + (60 * int(mins)) + int(secs)"
   ]
  },
  {
   "cell_type": "code",
   "execution_count": null,
   "metadata": {},
   "outputs": [],
   "source": [
    "# |export\n",
    "def build_train_df(\n",
    "    # The path to the data dir\n",
    "    data_path: str\n",
    "    | Path = \"../data/\",\n",
    ") -> pd.DataFrame:  # A preprocessed DataFrame suitable for both segmentation and summarization training\n",
    "\n",
    "    sheets_d = pd.read_excel(\n",
    "        Path(data_path) / \"raw/fsdl_2022_project_transcripts.xlsx\", sheet_name=[\"lesson_topics\", \"lesson_transcripts\"]\n",
    "    )\n",
    "    topics_df, transcripts_df = [v for k, v in sheets_d.items()]\n",
    "\n",
    "    topics_df.drop(columns=\"video_url\", inplace=True)\n",
    "    transcripts_df.drop(columns=\"video_url\", inplace=True)\n",
    "\n",
    "    topics_df[\"timestamp\"] = topics_df[\"timestamp\"].astype(str)\n",
    "    transcripts_df[\"timestamp\"] = transcripts_df[\"timestamp\"].astype(str)\n",
    "\n",
    "    # define the start/end boundaries (in seconds) for each topic in each lesson\n",
    "    topics_df[\"start_seconds\"] = topics_df[\"timestamp\"].apply(convert_duration_to_seconds)\n",
    "    topics_df[\"end_seconds\"] = topics_df.groupby(by=[\"course_title\", \"lesson_num\"])[\"start_seconds\"].shift(\n",
    "        -1, fill_value=100000\n",
    "    )\n",
    "\n",
    "    # define the total number of elapsed seconds at each timestamp in the transcripts dataset\n",
    "    transcripts_df[\"elapsed_seconds\"] = transcripts_df[\"timestamp\"].apply(convert_duration_to_seconds)\n",
    "\n",
    "    # build our training data\n",
    "    merged_df = topics_df[[\"course_title\", \"lesson_num\", \"topic\", \"start_seconds\", \"end_seconds\"]].merge(\n",
    "        transcripts_df, on=[\"course_title\", \"lesson_num\"]\n",
    "    )\n",
    "\n",
    "    # keep only the merged records where the transcript lies inbetween the start/end of the topic\n",
    "    merged_df = merged_df[\n",
    "        (merged_df.elapsed_seconds >= merged_df.start_seconds) & (merged_df.elapsed_seconds < merged_df.end_seconds)\n",
    "    ]\n",
    "\n",
    "    # for both segmentation and summarization tasks, we'll need to group the transcripts by course + lesson + topic\n",
    "    train_df = (\n",
    "        merged_df[[\"course_title\", \"lesson_num\", \"topic\", \"transcript\", \"start_seconds\"]]\n",
    "        .groupby(by=[\"course_title\", \"lesson_num\", \"start_seconds\", \"topic\"])\n",
    "        .agg(list)\n",
    "        .reset_index()\n",
    "    )\n",
    "\n",
    "    train_df.sort_values(by=[\"course_title\", \"lesson_num\", \"start_seconds\"], inplace=True)\n",
    "\n",
    "    return train_df"
   ]
  },
  {
   "cell_type": "code",
   "execution_count": null,
   "metadata": {},
   "outputs": [],
   "source": [
    "# |export\n",
    "def build_segmentation_train_df(\n",
    "    # The preprocess training DataFrame\n",
    "    train_df: pd.DataFrame,\n",
    ") -> pd.DataFrame:  # A preprocessed DataFrame for segmentation training\n",
    "    \"\"\"\n",
    "    For segmentation, we want to create a dataset of seq, seq +1 examples, but also include the ability to gather negative samples\n",
    "    from either sequences in that topic or not\n",
    "    \"\"\"\n",
    "    seg_train_df = train_df.copy()\n",
    "\n",
    "    seg_examples = []\n",
    "\n",
    "    for example_idx, example in seg_train_df.iterrows():\n",
    "        for seq_idx, seq in enumerate(example[\"transcript\"]):\n",
    "            if len(example[\"transcript\"]) > (seq_idx + 1):\n",
    "                seg_examples.append(\n",
    "                    {\n",
    "                        \"course_title\": example[\"course_title\"],\n",
    "                        \"lesson_num\": example[\"lesson_num\"],\n",
    "                        \"topic\": example[\"topic\"],\n",
    "                        \"seq\": str(seq),\n",
    "                        \"next_seq\": str(example[\"transcript\"][seq_idx + 1]),\n",
    "                        \"other_topic_seqs\": [\n",
    "                            str(txt) for i, txt in enumerate(example[\"transcript\"]) if i != seq_idx and i != seq_idx + 1\n",
    "                        ],\n",
    "                    }\n",
    "                )\n",
    "\n",
    "    seg_train_df = pd.DataFrame(seg_examples)\n",
    "    return seg_train_df"
   ]
  },
  {
   "cell_type": "code",
   "execution_count": null,
   "metadata": {},
   "outputs": [],
   "source": [
    "# |export\n",
    "def build_summarization_train_df(\n",
    "    # The preprocess training DataFrame\n",
    "    train_df: pd.DataFrame,\n",
    ") -> pd.DataFrame:  # A preprocessed DataFrame for summarization training\n",
    "    \"\"\"For summarization, we want to concatenate all the sequences in a topic and use the resulting string to predict the topic\"\"\"\n",
    "    summarization_train_df = train_df.copy()\n",
    "\n",
    "    summarization_train_df[\"transcript\"] = summarization_train_df[\"transcript\"].apply(\n",
    "        lambda v: \" \".join([str(seq) for seq in v])\n",
    "    )\n",
    "    return summarization_train_df"
   ]
  },
  {
   "cell_type": "markdown",
   "metadata": {},
   "source": [
    "## Preprocessing"
   ]
  },
  {
   "cell_type": "code",
   "execution_count": null,
   "metadata": {},
   "outputs": [],
   "source": [
    "# |export\n",
    "def preprocess_data(\n",
    "    # What dataset do we want to preprocess in the data/raw folder\n",
    "    ds: str = \"train\",\n",
    "    # The path to the data folder\n",
    "    data_path: str | Path = \"../data/\",\n",
    "    # Determines whether or not we save the cleaned Dataframes to data/clean\n",
    "    return_file: bool = True,\n",
    "    # Determines whether or not we return the cleaned Dataframes\n",
    "    save_file: bool = False,\n",
    "):\n",
    "    is_train = ds == \"train\"\n",
    "\n",
    "    train_df = build_train_df(data_path)\n",
    "    segmentation_train_df = build_segmentation_train_df(train_df)\n",
    "    summarization_train_df = build_summarization_train_df(train_df)\n",
    "\n",
    "    # preprocessing that should only be applied to the training data\n",
    "    if is_train:\n",
    "        pass\n",
    "\n",
    "    # save/return the preprocessed data\n",
    "    if save_file:\n",
    "        (Path(data_path) / \"clean\").mkdir(exist_ok=True)\n",
    "        segmentation_train_df.to_csv((Path(data_path) / \"clean\") / f\"segmentation_{ds}.csv\", index=False)\n",
    "        summarization_train_df.to_csv((Path(data_path) / \"clean\") / f\"summarization_{ds}.csv\", index=False)\n",
    "\n",
    "    if return_file:\n",
    "        return segmentation_train_df, summarization_train_df"
   ]
  },
  {
   "cell_type": "code",
   "execution_count": null,
   "metadata": {},
   "outputs": [
    {
     "data": {
      "text/plain": [
       "(14394, 397)"
      ]
     },
     "execution_count": null,
     "metadata": {},
     "output_type": "execute_result"
    }
   ],
   "source": [
    "segmentation_train_df, summarization_train_df = preprocess_data(\"train\", save_file=True)\n",
    "\n",
    "len(segmentation_train_df), len(summarization_train_df)"
   ]
  },
  {
   "cell_type": "code",
   "execution_count": null,
   "metadata": {},
   "outputs": [
    {
     "data": {
      "text/html": [
       "<div>\n",
       "<style scoped>\n",
       "    .dataframe tbody tr th:only-of-type {\n",
       "        vertical-align: middle;\n",
       "    }\n",
       "\n",
       "    .dataframe tbody tr th {\n",
       "        vertical-align: top;\n",
       "    }\n",
       "\n",
       "    .dataframe thead th {\n",
       "        text-align: right;\n",
       "    }\n",
       "</style>\n",
       "<table border=\"1\" class=\"dataframe\">\n",
       "  <thead>\n",
       "    <tr style=\"text-align: right;\">\n",
       "      <th></th>\n",
       "      <th>course_title</th>\n",
       "      <th>lesson_num</th>\n",
       "      <th>topic</th>\n",
       "      <th>seq</th>\n",
       "      <th>next_seq</th>\n",
       "      <th>other_topic_seqs</th>\n",
       "    </tr>\n",
       "  </thead>\n",
       "  <tbody>\n",
       "    <tr>\n",
       "      <th>0</th>\n",
       "      <td>Full Stack Deep Learning - Spring 2021</td>\n",
       "      <td>1</td>\n",
       "      <td>Intro</td>\n",
       "      <td>so josh talked about why we're doing</td>\n",
       "      <td>this course</td>\n",
       "      <td>[and what's coming up this is the first, lectu...</td>\n",
       "    </tr>\n",
       "    <tr>\n",
       "      <th>1</th>\n",
       "      <td>Full Stack Deep Learning - Spring 2021</td>\n",
       "      <td>1</td>\n",
       "      <td>Intro</td>\n",
       "      <td>this course</td>\n",
       "      <td>and what's coming up this is the first</td>\n",
       "      <td>[so josh talked about why we're doing, lecture...</td>\n",
       "    </tr>\n",
       "    <tr>\n",
       "      <th>2</th>\n",
       "      <td>Full Stack Deep Learning - Spring 2021</td>\n",
       "      <td>1</td>\n",
       "      <td>Intro</td>\n",
       "      <td>and what's coming up this is the first</td>\n",
       "      <td>lecture</td>\n",
       "      <td>[so josh talked about why we're doing, this co...</td>\n",
       "    </tr>\n",
       "    <tr>\n",
       "      <th>3</th>\n",
       "      <td>Full Stack Deep Learning - Spring 2021</td>\n",
       "      <td>1</td>\n",
       "      <td>Intro</td>\n",
       "      <td>lecture</td>\n",
       "      <td>deep learning fundamentals that actually</td>\n",
       "      <td>[so josh talked about why we're doing, this co...</td>\n",
       "    </tr>\n",
       "    <tr>\n",
       "      <th>4</th>\n",
       "      <td>Full Stack Deep Learning - Spring 2021</td>\n",
       "      <td>1</td>\n",
       "      <td>Intro</td>\n",
       "      <td>deep learning fundamentals that actually</td>\n",
       "      <td>has the i guess the content</td>\n",
       "      <td>[so josh talked about why we're doing, this co...</td>\n",
       "    </tr>\n",
       "  </tbody>\n",
       "</table>\n",
       "</div>"
      ],
      "text/plain": [
       "                             course_title lesson_num  topic  \\\n",
       "0  Full Stack Deep Learning - Spring 2021          1  Intro   \n",
       "1  Full Stack Deep Learning - Spring 2021          1  Intro   \n",
       "2  Full Stack Deep Learning - Spring 2021          1  Intro   \n",
       "3  Full Stack Deep Learning - Spring 2021          1  Intro   \n",
       "4  Full Stack Deep Learning - Spring 2021          1  Intro   \n",
       "\n",
       "                                        seq  \\\n",
       "0      so josh talked about why we're doing   \n",
       "1                               this course   \n",
       "2    and what's coming up this is the first   \n",
       "3                                   lecture   \n",
       "4  deep learning fundamentals that actually   \n",
       "\n",
       "                                   next_seq  \\\n",
       "0                               this course   \n",
       "1    and what's coming up this is the first   \n",
       "2                                   lecture   \n",
       "3  deep learning fundamentals that actually   \n",
       "4               has the i guess the content   \n",
       "\n",
       "                                    other_topic_seqs  \n",
       "0  [and what's coming up this is the first, lectu...  \n",
       "1  [so josh talked about why we're doing, lecture...  \n",
       "2  [so josh talked about why we're doing, this co...  \n",
       "3  [so josh talked about why we're doing, this co...  \n",
       "4  [so josh talked about why we're doing, this co...  "
      ]
     },
     "execution_count": null,
     "metadata": {},
     "output_type": "execute_result"
    }
   ],
   "source": [
    "segmentation_train_df.head()"
   ]
  },
  {
   "cell_type": "code",
   "execution_count": null,
   "metadata": {},
   "outputs": [
    {
     "data": {
      "text/html": [
       "<div>\n",
       "<style scoped>\n",
       "    .dataframe tbody tr th:only-of-type {\n",
       "        vertical-align: middle;\n",
       "    }\n",
       "\n",
       "    .dataframe tbody tr th {\n",
       "        vertical-align: top;\n",
       "    }\n",
       "\n",
       "    .dataframe thead th {\n",
       "        text-align: right;\n",
       "    }\n",
       "</style>\n",
       "<table border=\"1\" class=\"dataframe\">\n",
       "  <thead>\n",
       "    <tr style=\"text-align: right;\">\n",
       "      <th></th>\n",
       "      <th>course_title</th>\n",
       "      <th>lesson_num</th>\n",
       "      <th>start_seconds</th>\n",
       "      <th>topic</th>\n",
       "      <th>transcript</th>\n",
       "    </tr>\n",
       "  </thead>\n",
       "  <tbody>\n",
       "    <tr>\n",
       "      <th>0</th>\n",
       "      <td>Full Stack Deep Learning - Spring 2021</td>\n",
       "      <td>1</td>\n",
       "      <td>0</td>\n",
       "      <td>Intro</td>\n",
       "      <td>so josh talked about why we're doing this cour...</td>\n",
       "    </tr>\n",
       "    <tr>\n",
       "      <th>1</th>\n",
       "      <td>Full Stack Deep Learning - Spring 2021</td>\n",
       "      <td>1</td>\n",
       "      <td>85</td>\n",
       "      <td>Neural Networks</td>\n",
       "      <td>so let's kick it off with neural networks um a...</td>\n",
       "    </tr>\n",
       "    <tr>\n",
       "      <th>2</th>\n",
       "      <td>Full Stack Deep Learning - Spring 2021</td>\n",
       "      <td>1</td>\n",
       "      <td>408</td>\n",
       "      <td>Universality</td>\n",
       "      <td>is universality which is you know this neural ...</td>\n",
       "    </tr>\n",
       "    <tr>\n",
       "      <th>3</th>\n",
       "      <td>Full Stack Deep Learning - Spring 2021</td>\n",
       "      <td>1</td>\n",
       "      <td>528</td>\n",
       "      <td>Learning Problems</td>\n",
       "      <td>networks for well we do for machine learning w...</td>\n",
       "    </tr>\n",
       "    <tr>\n",
       "      <th>4</th>\n",
       "      <td>Full Stack Deep Learning - Spring 2021</td>\n",
       "      <td>1</td>\n",
       "      <td>977</td>\n",
       "      <td>Empirical Risk Minimization / Loss Functions</td>\n",
       "      <td>um what's known as risk minimization and the c...</td>\n",
       "    </tr>\n",
       "  </tbody>\n",
       "</table>\n",
       "</div>"
      ],
      "text/plain": [
       "                             course_title lesson_num  start_seconds  \\\n",
       "0  Full Stack Deep Learning - Spring 2021          1              0   \n",
       "1  Full Stack Deep Learning - Spring 2021          1             85   \n",
       "2  Full Stack Deep Learning - Spring 2021          1            408   \n",
       "3  Full Stack Deep Learning - Spring 2021          1            528   \n",
       "4  Full Stack Deep Learning - Spring 2021          1            977   \n",
       "\n",
       "                                          topic  \\\n",
       "0                                         Intro   \n",
       "1                               Neural Networks   \n",
       "2                                  Universality   \n",
       "3                             Learning Problems   \n",
       "4  Empirical Risk Minimization / Loss Functions   \n",
       "\n",
       "                                          transcript  \n",
       "0  so josh talked about why we're doing this cour...  \n",
       "1  so let's kick it off with neural networks um a...  \n",
       "2  is universality which is you know this neural ...  \n",
       "3  networks for well we do for machine learning w...  \n",
       "4  um what's known as risk minimization and the c...  "
      ]
     },
     "execution_count": null,
     "metadata": {},
     "output_type": "execute_result"
    }
   ],
   "source": [
    "summarization_train_df.head()"
   ]
  },
  {
   "cell_type": "code",
   "execution_count": null,
   "metadata": {},
   "outputs": [],
   "source": [
    "# TODO\n",
    "# segmentation_test_df,  summarization_test_df = preprocess_data(\"test\", save_file=True)"
   ]
  },
  {
   "cell_type": "code",
   "execution_count": null,
   "metadata": {},
   "outputs": [],
   "source": [
    "# | export\n",
    "if __name__ == \"__main__\" and utils.run_env == \"script\":\n",
    "    # instantiate argparser\n",
    "    parser = argparse.ArgumentParser()\n",
    "\n",
    "    # define args\n",
    "    parser.add_argument(\"--ds\", type=str, default=\"train\")\n",
    "    parser.add_argument(\"--data_path\", type=str, default=\"./data\")\n",
    "    args = parser.parse_args()\n",
    "\n",
    "    preprocess_data(\n",
    "        ds=args.ds,\n",
    "        data_path=args.data_path,\n",
    "        return_file=False,\n",
    "        save_file=True,\n",
    "    )"
   ]
  },
  {
   "cell_type": "markdown",
   "metadata": {},
   "source": [
    "## Export -"
   ]
  },
  {
   "cell_type": "code",
   "execution_count": null,
   "metadata": {},
   "outputs": [],
   "source": [
    "# | hide\n",
    "import nbdev\n",
    "\n",
    "nbdev.nbdev_export()"
   ]
  },
  {
   "cell_type": "code",
   "execution_count": null,
   "metadata": {},
   "outputs": [],
   "source": []
  }
 ],
 "metadata": {
  "kernelspec": {
   "display_name": "Python 3.9.13 ('fsdl_2022_course_project')",
   "language": "python",
   "name": "python3"
  }
 },
 "nbformat": 4,
 "nbformat_minor": 2
}
