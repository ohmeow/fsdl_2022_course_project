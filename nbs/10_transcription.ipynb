{
 "cells": [
  {
   "cell_type": "code",
   "execution_count": null,
   "metadata": {},
   "outputs": [],
   "source": [
    "# |default_exp transcription\n",
    "# |default_cls_lvl 3"
   ]
  },
  {
   "cell_type": "code",
   "execution_count": null,
   "metadata": {},
   "outputs": [],
   "source": [
    "# |hide\n",
    "%reload_ext autoreload\n",
    "%autoreload 2"
   ]
  },
  {
   "cell_type": "markdown",
   "metadata": {},
   "source": [
    "# transcription\n",
    "\n",
    "Classes and methods for transcribing video/audio into text"
   ]
  },
  {
   "cell_type": "code",
   "execution_count": null,
   "metadata": {},
   "outputs": [],
   "source": [
    "# |export\n",
    "from __future__ import annotations\n",
    "\n",
    "import csv, os\n",
    "from pathlib import Path\n",
    "\n",
    "import pandas as pd\n",
    "from pytube import YouTube\n",
    "import torch\n",
    "import webvtt\n",
    "import whisper\n",
    "from whisper.utils import write_vtt\n",
    "\n",
    "from course_copilot import utils\n",
    "from course_copilot.preprocessing import convert_duration_to_seconds"
   ]
  },
  {
   "cell_type": "code",
   "execution_count": null,
   "metadata": {},
   "outputs": [],
   "source": [
    "# | hide\n",
    "import pdb\n",
    "\n",
    "from fastcore.test import *\n",
    "import nbdev\n",
    "\n",
    "from blurr.utils import print_versions"
   ]
  },
  {
   "cell_type": "markdown",
   "metadata": {},
   "source": [
    "## Video download"
   ]
  },
  {
   "cell_type": "code",
   "execution_count": null,
   "metadata": {},
   "outputs": [],
   "source": [
    "# | export\n",
    "def fetch_youtube_audio(yt_id: str, audio_files_fpath: Path = Path(\"./transcription/audio_files\")) -> Path:\n",
    "    ext = \"mp4\"\n",
    "    order = \"abr\"\n",
    "\n",
    "    yt = YouTube(f\"https://www.youtube.com/watch?v={yt_id}\")\n",
    "    yt.check_availability()\n",
    "\n",
    "    filename = f\"{yt.video_id}.{ext}\"\n",
    "\n",
    "    audio_files_fpath.mkdir(exist_ok=True, parents=True)\n",
    "    download_path = audio_files_fpath / filename\n",
    "\n",
    "    audio_streams = yt.streams.filter(only_audio=True, file_extension=ext).order_by(order).desc()\n",
    "\n",
    "    # download it\n",
    "    audio_streams.first().download(filename=download_path, skip_existing=True)\n",
    "    return download_path"
   ]
  },
  {
   "cell_type": "code",
   "execution_count": null,
   "metadata": {},
   "outputs": [
    {
     "data": {
      "text/plain": [
       "Path('../transcription/audio_files/Jsz4E2iNXUA.mp4')"
      ]
     },
     "execution_count": null,
     "metadata": {},
     "output_type": "execute_result"
    }
   ],
   "source": [
    "youtube_id = \"Jsz4E2iNXUA\"\n",
    "\n",
    "audio_fpath = fetch_youtube_audio(youtube_id, Path(\"../transcription/audio_files\"))\n",
    "audio_fpath"
   ]
  },
  {
   "cell_type": "markdown",
   "metadata": {},
   "source": [
    "## Whisper transcription"
   ]
  },
  {
   "cell_type": "code",
   "execution_count": null,
   "metadata": {},
   "outputs": [],
   "source": [
    "# | export\n",
    "def fetch_transcription(\n",
    "    audio_fpath: Path,\n",
    "    transcription_fpath: Path = Path(\"./transcription/transcriptions\"),\n",
    "    model_fpath: Path = Path(\"./transcription/models\"),\n",
    "    model_checkptoint: str = \"base\",\n",
    "    device=\"cpu\",\n",
    "):\n",
    "\n",
    "    transcription_fpath.mkdir(exist_ok=True, parents=True)\n",
    "    model_fpath.mkdir(exist_ok=True, parents=True)\n",
    "\n",
    "    torch_device = device if torch.cuda.is_available() and device != \"cpu\" else \"cpu\"\n",
    "    model = whisper.load_model(model_checkptoint, device=torch_device, download_root=model_fpath)\n",
    "\n",
    "    stem = audio_fpath.stem\n",
    "    ext = \"vtt\"\n",
    "\n",
    "    filename = f\"{audio_fpath.stem}.{ext}\"\n",
    "    vtt_path = transcription_fpath / filename\n",
    "\n",
    "    fields = [\"start\", \"end\", \"text\"]\n",
    "\n",
    "    result = model.transcribe(str(audio_fpath))\n",
    "    segments = result[\"segments\"]\n",
    "\n",
    "    with open(vtt_path, \"w\", encoding=\"utf-8\") as vtt:\n",
    "        write_vtt(segments, file=vtt)\n",
    "\n",
    "    return vtt_path"
   ]
  },
  {
   "cell_type": "code",
   "execution_count": null,
   "metadata": {},
   "outputs": [
    {
     "data": {
      "text/plain": [
       "Path('../transcription/transcriptions/Jsz4E2iNXUA.vtt')"
      ]
     },
     "execution_count": null,
     "metadata": {},
     "output_type": "execute_result"
    }
   ],
   "source": [
    "transcription_fpath = fetch_transcription(\n",
    "    audio_fpath, Path(\"../transcription/transcriptions\"), Path(\"../transcription/models\"), device=\"cuda\"\n",
    ")\n",
    "transcription_fpath"
   ]
  },
  {
   "cell_type": "markdown",
   "metadata": {},
   "source": [
    "## Transcription rendering"
   ]
  },
  {
   "cell_type": "code",
   "execution_count": null,
   "metadata": {},
   "outputs": [],
   "source": [
    "# | export\n",
    "def transcription_to_df(transcription_fpath):\n",
    "    transcription_d = []\n",
    "    for caption in webvtt.read(transcription_fpath):\n",
    "        transcription_d.append({\"timestamp\": caption.start, \"transcript\": caption.text})\n",
    "\n",
    "    df = pd.DataFrame(transcription_d)\n",
    "    df[\"timestamp\"] = df[\"timestamp\"].astype(str)\n",
    "    df.insert(0, \"elapsed_seconds\", df[\"timestamp\"].apply(convert_duration_to_seconds))\n",
    "\n",
    "    return df"
   ]
  },
  {
   "cell_type": "code",
   "execution_count": null,
   "metadata": {},
   "outputs": [
    {
     "data": {
      "text/html": [
       "<div>\n",
       "<style scoped>\n",
       "    .dataframe tbody tr th:only-of-type {\n",
       "        vertical-align: middle;\n",
       "    }\n",
       "\n",
       "    .dataframe tbody tr th {\n",
       "        vertical-align: top;\n",
       "    }\n",
       "\n",
       "    .dataframe thead th {\n",
       "        text-align: right;\n",
       "    }\n",
       "</style>\n",
       "<table border=\"1\" class=\"dataframe\">\n",
       "  <thead>\n",
       "    <tr style=\"text-align: right;\">\n",
       "      <th></th>\n",
       "      <th>elapsed_seconds</th>\n",
       "      <th>timestamp</th>\n",
       "      <th>transcript</th>\n",
       "    </tr>\n",
       "  </thead>\n",
       "  <tbody>\n",
       "    <tr>\n",
       "      <th>0</th>\n",
       "      <td>0.00</td>\n",
       "      <td>00:00:00.000</td>\n",
       "      <td>Let me make sure everything is as it should be.</td>\n",
       "    </tr>\n",
       "    <tr>\n",
       "      <th>1</th>\n",
       "      <td>3.56</td>\n",
       "      <td>00:00:03.560</td>\n",
       "      <td>I'm always fascinated by the fact that people are waiting.</td>\n",
       "    </tr>\n",
       "    <tr>\n",
       "      <th>2</th>\n",
       "      <td>6.72</td>\n",
       "      <td>00:00:06.720</td>\n",
       "      <td>It's like it's it's so surprising that people are like on here</td>\n",
       "    </tr>\n",
       "    <tr>\n",
       "      <th>3</th>\n",
       "      <td>12.70</td>\n",
       "      <td>00:00:12.700</td>\n",
       "      <td>sometimes early for you.</td>\n",
       "    </tr>\n",
       "    <tr>\n",
       "      <th>4</th>\n",
       "      <td>14.12</td>\n",
       "      <td>00:00:14.120</td>\n",
       "      <td>It makes sense for my session.</td>\n",
       "    </tr>\n",
       "  </tbody>\n",
       "</table>\n",
       "</div>"
      ],
      "text/plain": [
       "   elapsed_seconds     timestamp  \\\n",
       "0             0.00  00:00:00.000   \n",
       "1             3.56  00:00:03.560   \n",
       "2             6.72  00:00:06.720   \n",
       "3            12.70  00:00:12.700   \n",
       "4            14.12  00:00:14.120   \n",
       "\n",
       "                                                       transcript  \n",
       "0                 Let me make sure everything is as it should be.  \n",
       "1      I'm always fascinated by the fact that people are waiting.  \n",
       "2  It's like it's it's so surprising that people are like on here  \n",
       "3                                        sometimes early for you.  \n",
       "4                                  It makes sense for my session.  "
      ]
     },
     "execution_count": null,
     "metadata": {},
     "output_type": "execute_result"
    }
   ],
   "source": [
    "df = transcription_to_df(transcription_fpath)\n",
    "df.head()"
   ]
  },
  {
   "cell_type": "markdown",
   "metadata": {},
   "source": [
    "## Export -"
   ]
  },
  {
   "cell_type": "code",
   "execution_count": null,
   "metadata": {},
   "outputs": [],
   "source": [
    "# | hide\n",
    "nbdev.nbdev_export()"
   ]
  },
  {
   "cell_type": "code",
   "execution_count": null,
   "metadata": {},
   "outputs": [],
   "source": []
  }
 ],
 "metadata": {
  "kernelspec": {
   "display_name": "Python 3.9.13 ('fsdl_2022_course_project')",
   "language": "python",
   "name": "python3"
  }
 },
 "nbformat": 4,
 "nbformat_minor": 2
}
