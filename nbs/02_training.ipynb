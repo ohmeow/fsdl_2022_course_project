{
 "cells": [
  {
   "cell_type": "code",
   "execution_count": null,
   "metadata": {},
   "outputs": [],
   "source": [
    "# |default_exp training\n",
    "# |default_cls_lvl 3"
   ]
  },
  {
   "cell_type": "code",
   "execution_count": null,
   "metadata": {},
   "outputs": [],
   "source": [
    "# |hide\n",
    "%reload_ext autoreload\n",
    "%autoreload 2"
   ]
  },
  {
   "cell_type": "markdown",
   "metadata": {},
   "source": [
    "# training\n",
    "\n",
    "Classes and methods for uniformly training, saving, and tuning our topic segmentation and summarization models. "
   ]
  },
  {
   "cell_type": "code",
   "execution_count": null,
   "metadata": {},
   "outputs": [],
   "source": [
    "# |export\n",
    "from __future__ import annotations\n",
    "\n",
    "import abc, inspect, os\n",
    "from pathlib import Path\n",
    "import random\n",
    "\n",
    "from dotenv import load_dotenv\n",
    "import optuna\n",
    "import wandb\n",
    "\n",
    "from course_copilot import utils"
   ]
  },
  {
   "cell_type": "code",
   "execution_count": null,
   "metadata": {},
   "outputs": [],
   "source": [
    "# | hide\n",
    "import pdb\n",
    "\n",
    "from fastcore.test import *\n",
    "import nbdev\n",
    "\n",
    "from blurr.utils import print_versions"
   ]
  },
  {
   "cell_type": "code",
   "execution_count": null,
   "metadata": {},
   "outputs": [
    {
     "name": "stdout",
     "output_type": "stream",
     "text": [
      "What we're running with at the time this documentation was generated:\n",
      "torch: 1.12.1+cu102\n",
      "fastai: 2.7.9\n",
      "transformers: 4.22.0\n",
      "blurr: 1.0.5\n"
     ]
    }
   ],
   "source": [
    "# | echo: false\n",
    "os.environ[\"TOKENIZERS_PARALLELISM\"] = \"false\"\n",
    "print(\"What we're running with at the time this documentation was generated:\")\n",
    "print_versions(\"torch fastai transformers blurr\")"
   ]
  },
  {
   "cell_type": "markdown",
   "metadata": {},
   "source": [
    "## Configuration"
   ]
  },
  {
   "cell_type": "code",
   "execution_count": null,
   "metadata": {},
   "outputs": [],
   "source": [
    "# | export\n",
    "load_dotenv()\n",
    "\n",
    "\n",
    "class TrainConfig:\n",
    "    training_subset = 1\n",
    "    val_pct = 0.25\n",
    "    random_seed = 2022\n",
    "    only_seed_splits = True\n",
    "    preprocess_strategy = None"
   ]
  },
  {
   "cell_type": "code",
   "execution_count": null,
   "metadata": {},
   "outputs": [],
   "source": [
    "# | export\n",
    "def get_train_config_props(cfg: TrainConfig):\n",
    "    log_params = {k: v if not callable(v) else v.__name__ for k, v in inspect.getmembers(cfg) if not k.startswith(\"__\")}\n",
    "    return log_params"
   ]
  },
  {
   "cell_type": "code",
   "execution_count": null,
   "metadata": {},
   "outputs": [
    {
     "data": {
      "text/plain": [
       "{'only_seed_splits': True,\n",
       " 'preprocess_strategy': None,\n",
       " 'random_seed': 2022,\n",
       " 'training_subset': 1,\n",
       " 'val_pct': 0.25}"
      ]
     },
     "execution_count": null,
     "metadata": {},
     "output_type": "execute_result"
    }
   ],
   "source": [
    "get_train_config_props(TrainConfig)"
   ]
  },
  {
   "cell_type": "markdown",
   "metadata": {},
   "source": [
    "## Model Trainer"
   ]
  },
  {
   "cell_type": "code",
   "execution_count": null,
   "metadata": {},
   "outputs": [],
   "source": [
    "# | export\n",
    "class ModelTrainer(abc.ABC):\n",
    "    def __init__(\n",
    "        self,\n",
    "        experiment_name,\n",
    "        train_config: TrainConfig,\n",
    "        data_path=\"data\",\n",
    "        model_output_path=\"models\",\n",
    "        log_output_path=\"logs\",\n",
    "        log_preds=False,\n",
    "        log_n_preds=None,\n",
    "        use_wandb=False,\n",
    "        verbose=False,\n",
    "        **kwargs,\n",
    "    ):\n",
    "        self.experiment_name = experiment_name\n",
    "        self.train_config = train_config\n",
    "\n",
    "        self.data_path = Path(data_path)\n",
    "\n",
    "        self.model_output_path = Path(model_output_path)\n",
    "        self.model_output_path.mkdir(parents=True, exist_ok=True)\n",
    "\n",
    "        self.log_output_path = Path(log_output_path)\n",
    "        self.log_output_path.mkdir(parents=True, exist_ok=True)\n",
    "        self.log_preds = log_preds\n",
    "        self.log_n_preds = log_n_preds\n",
    "        self.use_wandb = use_wandb\n",
    "\n",
    "        self.verbose = verbose\n",
    "\n",
    "        if self.use_wandb:\n",
    "            wandb.login()\n",
    "            wandb.init(\n",
    "                project=os.environ[\"WANDB_PROJECT_NAME\"],\n",
    "                entity=os.environ[\"WANDB_TEAM\"],\n",
    "                group=self.experiment_name,\n",
    "                config=get_train_config_props(self.train_config),\n",
    "                dir=self.log_output_path,\n",
    "                reinit=True,\n",
    "            )\n",
    "\n",
    "    @abc.abstractmethod\n",
    "    def get_training_data(self, on_the_fly=False, split_type=\"cross_validation\"):\n",
    "        pass\n",
    "\n",
    "    def train(self, trial: optuna.Trial = None):\n",
    "        if self.use_wandb:\n",
    "            wandb.finish(quiet=not self.verbose)\n",
    "\n",
    "    def get_preds(self, model_or_learner, data, **kwargs):\n",
    "        raise NotImplementedError()\n",
    "\n",
    "    def tune(self):\n",
    "        raise NotImplementedError()\n",
    "\n",
    "    def load_learner_or_model(self, model_learner_fpath: str | Path = None, device=\"cpu\", mode=\"eval\"):\n",
    "        raise NotImplementedError()\n",
    "\n",
    "    def get_train_config_props(self):\n",
    "        return get_train_config_props(self.train_config)"
   ]
  },
  {
   "cell_type": "markdown",
   "metadata": {},
   "source": [
    "## Export -"
   ]
  },
  {
   "cell_type": "code",
   "execution_count": null,
   "metadata": {},
   "outputs": [],
   "source": [
    "# | hide\n",
    "nbdev.nbdev_export()"
   ]
  },
  {
   "cell_type": "code",
   "execution_count": null,
   "metadata": {},
   "outputs": [],
   "source": []
  }
 ],
 "metadata": {
  "kernelspec": {
   "display_name": "Python 3.9.13 ('fsdl_2022_course_project')",
   "language": "python",
   "name": "python3"
  }
 },
 "nbformat": 4,
 "nbformat_minor": 2
}
